{
  "cells": [
    {
      "cell_type": "markdown",
      "metadata": {
        "tags": []
      },
      "source": [
        "## Example: upload [`pytorch.ipynb`](./pytorch.ipynb) to the `scverse-ml-workshop-2024` TileDB-Cloud namespace.\n",
        "\n",
        "Requires `.tiledb-cloud-token` to exist, and contain a valid access token ([docs](https://docs.tiledb.com/cloud/how-to/account/create-api-tokens))."
      ]
    },
    {
      "cell_type": "code",
      "execution_count": 1,
      "metadata": {
        "tags": []
      },
      "outputs": [],
      "source": [
        "from tiledb import cloud\n",
        "from tiledb.cloud import client\n",
        "\n",
        "token = open('.tiledb-cloud-token').read().strip()\n",
        "cloud.login(token=token)"
      ]
    },
    {
      "cell_type": "markdown",
      "metadata": {
        "editable": true,
        "slideshow": {
          "slide_type": ""
        },
        "tags": []
      },
      "source": [
        "[Papermill](https://papermill.readthedocs.io/en/latest/) params:"
      ]
    },
    {
      "cell_type": "code",
      "execution_count": 2,
      "metadata": {
        "editable": true,
        "slideshow": {
          "slide_type": ""
        },
        "tags": [
          "parameters"
        ]
      },
      "outputs": [],
      "source": [
        "src = 'pytorch.ipynb'                   # local path to notebook to upload\n",
        "dst = 'pytorch-test.ipynb'              # destination notebook name\n",
        "delete = False                          # if True, delete the notebook after uploading (verify that upload and delete work as expected)\n",
        "namespace = 'scverse-ml-workshop-2024'\n",
        "credential_name = 'rw-test'"
      ]
    },
    {
      "cell_type": "code",
      "execution_count": 3,
      "metadata": {
        "editable": true,
        "scrolled": true,
        "slideshow": {
          "slide_type": ""
        },
        "tags": []
      },
      "outputs": [
        {
          "data": {
            "text/plain": [
              "{'allowed_actions': ['delete',\n",
              "                     'edit',\n",
              "                     'write',\n",
              "                     'read',\n",
              "                     'create',\n",
              "                     'read_array_logs',\n",
              "                     'edit_monetization',\n",
              "                     'read_array_info',\n",
              "                     'read_array_schema',\n",
              "                     'edit_organization',\n",
              "                     'read_namespace_logs',\n",
              "                     'read_job_logs',\n",
              "                     'run_job',\n",
              "                     'run_notebook',\n",
              "                     'read_array_info'],\n",
              " 'asset_locations': {'arrays': None,\n",
              "                     'files': None,\n",
              "                     'groups': None,\n",
              "                     'ml_models': None,\n",
              "                     'notebooks': None,\n",
              "                     'task_graphs': None,\n",
              "                     'udfs': None},\n",
              " 'assume_role_arn': None,\n",
              " 'created_at': datetime.datetime(2024, 8, 22, 17, 8, tzinfo=tzutc()),\n",
              " 'default_s3_path': 's3://tiledb-rw-us-west-2/scverse',\n",
              " 'default_s3_path_credentials_name': 'ss-test',\n",
              " 'description': '# TileDB Cloud namespace for the 2024 SCVerse Conference '\n",
              "                'Workshop given by CZI and TileDB\\n'\n",
              "                '\\n'\n",
              "                '## Resources\\n'\n",
              "                '\\n'\n",
              "                '* [CELLxGENE Discover '\n",
              "                'Census](https://chanzuckerberg.github.io/cellxgene-census/) \\n'\n",
              "                '* [TileDB Cloud](https://tiledb.com/products/tiledb-cloud/)\\n'\n",
              "                '* [TileDB SOMA](https://tiledb.com/data-types/single-cell/)\\n'\n",
              "                '\\n'\n",
              "                '## Contacts\\n'\n",
              "                '\\n'\n",
              "                '* Max Lombardo (CZI) '\n",
              "                '[mlombardo@chanzuckerberg.com](mailto:mlombardo@chanzuckerberg.com)\\n'\n",
              "                '* Ryan Williams (TileDB) '\n",
              "                '[ryan.williams@tiledb.com](mailto:ryan.williams@tiledb.com)\\n'\n",
              "                '* Spencer Seale (TileDB) '\n",
              "                '[spencer.seale@tiledb.com](mailto:spencer.seale@tiledb.com)',\n",
              " 'enabled_features': None,\n",
              " 'id': '66cf06fb-446e-4eeb-bb5f-e27e252c1736',\n",
              " 'logo': 'data:image/png;base64,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',\n",
              " 'name': 'scverse-ml-workshop-2024',\n",
              " 'num_of_arrays': 4.0,\n",
              " 'role': 'admin',\n",
              " 'stripe_connect': None,\n",
              " 'unpaid_subscription': None,\n",
              " 'updated_at': datetime.datetime(2024, 8, 29, 16, 51, 28, tzinfo=tzutc()),\n",
              " 'users': None}"
            ]
          },
          "execution_count": 3,
          "metadata": {},
          "output_type": "execute_result"
        }
      ],
      "source": [
        "orgs = client.organizations()\n",
        "[org] = [ org for org in orgs if org.name == namespace ]\n",
        "org"
      ]
    },
    {
      "cell_type": "code",
      "execution_count": 4,
      "metadata": {
        "editable": true,
        "slideshow": {
          "slide_type": ""
        },
        "tags": []
      },
      "outputs": [
        {
          "data": {
            "text/plain": [
              "'tiledb://scverse-ml-workshop-2024/pytorch-test.ipynb'"
            ]
          },
          "execution_count": 4,
          "metadata": {},
          "output_type": "execute_result"
        }
      ],
      "source": [
        "cloud.upload_notebook_from_file(\n",
        "    src,\n",
        "    array_name=dst,\n",
        "    namespace=namespace,\n",
        "    storage_credential_name=credential_name,\n",
        ")"
      ]
    },
    {
      "cell_type": "code",
      "execution_count": 5,
      "metadata": {
        "editable": true,
        "slideshow": {
          "slide_type": ""
        },
        "tags": []
      },
      "outputs": [
        {
          "name": "stdout",
          "output_type": "stream",
          "text": [
            "pytorch-test.ipynb\n",
            "cshl-rw\n",
            "pytorch-ryan-williams-tiledb-com\n",
            "pytorch-rw\n",
            "pytorch-ml\n"
          ]
        }
      ],
      "source": [
        "arrs1 = client.list_arrays(namespace=namespace).arrays\n",
        "print('\\n'.join([ arr.name for arr in arrs1 ]))"
      ]
    },
    {
      "cell_type": "code",
      "execution_count": 6,
      "metadata": {
        "editable": true,
        "slideshow": {
          "slide_type": ""
        },
        "tags": []
      },
      "outputs": [
        {
          "data": {
            "text/plain": [
              "{'access_credentials_name': 'rw-test',\n",
              " 'allowed_actions': ['edit',\n",
              "                     'read',\n",
              "                     'read_array_info',\n",
              "                     'read_array_logs',\n",
              "                     'read_array_schema',\n",
              "                     'write'],\n",
              " 'created_at': datetime.datetime(2024, 8, 30, 15, 21, 22, tzinfo=tzutc()),\n",
              " 'description': None,\n",
              " 'file_properties': None,\n",
              " 'file_type': 'notebook',\n",
              " 'id': '6794276b-10df-441f-a90c-a26339acc0d1',\n",
              " 'is_favorite': None,\n",
              " 'last_accessed': datetime.datetime(2024, 8, 30, 15, 21, 26, tzinfo=tzutc()),\n",
              " 'license_id': None,\n",
              " 'license_text': None,\n",
              " 'logo': None,\n",
              " 'name': 'pytorch-test.ipynb',\n",
              " 'namespace': 'scverse-ml-workshop-2024',\n",
              " 'namespace_subscribed': None,\n",
              " 'pricing': None,\n",
              " 'public_share': False,\n",
              " 'read_only': False,\n",
              " 'share_count': None,\n",
              " 'size': 19942.0,\n",
              " 'subscriptions': None,\n",
              " 'tags': None,\n",
              " 'tiledb_uri': 'tiledb://scverse-ml-workshop-2024/6794276b-10df-441f-a90c-a26339acc0d1',\n",
              " 'type': 'dense',\n",
              " 'uri': 's3://tiledb-rw/pytorch-test.ipynb'}"
            ]
          },
          "execution_count": 6,
          "metadata": {},
          "output_type": "execute_result"
        }
      ],
      "source": [
        "[arr] = [ arr for arr in arrs1 if arr.name == dst ]\n",
        "arr"
      ]
    },
    {
      "cell_type": "code",
      "execution_count": 7,
      "metadata": {
        "editable": true,
        "slideshow": {
          "slide_type": ""
        },
        "tags": []
      },
      "outputs": [],
      "source": [
        "if delete:\n",
        "    cloud.array.delete_array(arr.tiledb_uri)\n",
        "    arrs2 = client.list_arrays(namespace=namespace).arrays\n",
        "    print('\\n'.join([ arr.name for arr in arrs2 ]))"
      ]
    }
  ],
  "metadata": {
    "kernelspec": {
      "display_name": "Python 3 (ipykernel)",
      "language": "python",
      "name": "python3"
    },
    "language_info": {
      "codemirror_mode": {
        "name": "ipython",
        "version": 3
      },
      "file_extension": ".py",
      "mimetype": "text/x-python",
      "name": "python",
      "nbconvert_exporter": "python",
      "pygments_lexer": "ipython3",
      "version": "3.11.8"
    }
  },
  "nbformat": 4,
  "nbformat_minor": 5
}