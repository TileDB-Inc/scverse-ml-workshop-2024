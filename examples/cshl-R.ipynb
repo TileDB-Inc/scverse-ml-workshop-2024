{
 "cells": [
  {
   "cell_type": "markdown",
   "metadata": {
    "id": "pzxiMjjkjzPN"
   },
   "source": [
    "# CELLxGENE Discover Census Workshop - CSHL Single-Cell Analysis 2023\n",
    "\n",
    "This notebook is a step-by-step walkthrough of the CELLxGENE Discover Census Workshop at CSHL's Single-Cell Analysis, 2023.\n",
    "\n",
    "Original notebook: [colab.research.google.com/drive/158f6Ggl5MRxtnxC9Q01TjJMbkIPQxcim](https://colab.research.google.com/drive/158f6Ggl5MRxtnxC9Q01TjJMbkIPQxcim)\n",
    "\n",
    "## License\n",
    "\n",
    "MIT License\n",
    "\n",
    "Copyright (c) 2022-2023 Chan Zuckerberg Initiative Foundation.\n",
    "\n",
    "Permission is hereby granted, free of charge, to any person obtaining a copy\n",
    "of this software and associated documentation files (the \"Software\"), to deal\n",
    "in the Software without restriction, including without limitation the rights\n",
    "to use, copy, modify, merge, publish, distribute, sublicense, and/or sell\n",
    "copies of the Software, and to permit persons to whom the Software is\n",
    "furnished to do so, subject to the following conditions:\n",
    "\n",
    "The above copyright notice and this permission notice shall be included in all\n",
    "copies or substantial portions of the Software.\n",
    "\n",
    "THE SOFTWARE IS PROVIDED \"AS IS\", WITHOUT WARRANTY OF ANY KIND, EXPRESS OR\n",
    "IMPLIED, INCLUDING BUT NOT LIMITED TO THE WARRANTIES OF MERCHANTABILITY,\n",
    "FITNESS FOR A PARTICULAR PURPOSE AND NONINFRINGEMENT. IN NO EVENT SHALL THE\n",
    "AUTHORS OR COPYRIGHT HOLDERS BE LIABLE FOR ANY CLAIM, DAMAGES OR OTHER\n",
    "LIABILITY, WHETHER IN AN ACTION OF CONTRACT, TORT OR OTHERWISE, ARISING FROM,\n",
    "OUT OF OR IN CONNECTION WITH THE SOFTWARE OR THE USE OR OTHER DEALINGS IN THE\n",
    "SOFTWARE.\n",
    "\n",
    "## Workshop\n",
    "\n",
    "### Installation\n",
    "\n",
    "To install the Census API on your laptop you should follow the [installation instructions](https://chanzuckerberg.github.io/cellxgene-census/cellxgene_census_docsite_installation.html) in the documentation site."
   ]
  },
  {
   "cell_type": "markdown",
   "metadata": {
    "id": "fxGSU7epkxsh"
   },
   "source": [
    "### Census Hello World\n",
    "\n",
    "Let's load the necessary libraries"
   ]
  },
  {
   "cell_type": "code",
   "execution_count": 1,
   "metadata": {
    "colab": {
     "base_uri": "https://localhost:8080/",
     "height": 106
    },
    "id": "_gp2Dbem5RWW",
    "outputId": "ec029ce0-7a8c-464e-e0ab-66bb116169fe"
   },
   "outputs": [],
   "source": [
    "library(\"tiledb\")\n",
    "library(\"cellxgene.census\")\n",
    "library(\"tiledbsoma\")"
   ]
  },
  {
   "cell_type": "markdown",
   "metadata": {
    "id": "NeDC_Qfh5RWa"
   },
   "source": [
    "Let's also set some configuration settings for SOMA. This allows us to set the size of data we stream at any given time, as this will be relevant when we cover SOMA iterators."
   ]
  },
  {
   "cell_type": "code",
   "execution_count": 2,
   "metadata": {
    "id": "At3lyWvp5RWa"
   },
   "outputs": [],
   "source": [
    "# Default: 1GB\n",
    "# TileDB-Cloud can run default, but recommended for workshop is 10MB\n",
    "\n",
    "# 10MB\n",
    "py.init_buffer_bytes <- 0.01 * 1024**3\n",
    "# 10MB\n",
    "soma.init_buffer_bytes <- 0.01 * 1024**3\n",
    "\n",
    "ctx = new_SOMATileDBContext_for_census(\n",
    "  py.init_buffer_bytes = py.init_buffer_bytes,\n",
    "  soma.init_buffer_bytes  = soma.init_buffer_bytes,\n",
    ")"
   ]
  },
  {
   "cell_type": "markdown",
   "metadata": {},
   "source": [
    "Workaround [census#1261](https://github.com/chanzuckerberg/cellxgene-census/issues/1261):"
   ]
  },
  {
   "cell_type": "code",
   "execution_count": 3,
   "metadata": {},
   "outputs": [],
   "source": [
    "Sys.setenv(AWS_DEFAULT_REGION = \"us-west-2\")"
   ]
  },
  {
   "cell_type": "markdown",
   "metadata": {
    "id": "OaSArkVI5RWb"
   },
   "source": [
    "#### Finding Census versions available\n",
    "\n",
    "Let's first take a look at the data releases available in S3. There are two types of releases:\n",
    "- **Long-term supported (LTS) data releases** published every six months to be available for up to 5 years.\n",
    "- **Weekly releases** to be available for up to 6 weeks.\n",
    "\n",
    "To see a list of all available releases and their version aliases, we can do the following"
   ]
  },
  {
   "cell_type": "code",
   "execution_count": 4,
   "metadata": {
    "id": "JZrbzKNu5RWb",
    "outputId": "e80a7396-5c44-412d-bf6d-46e1542a2b19"
   },
   "outputs": [
    {
     "data": {
      "text/html": [
       "<table class=\"dataframe\">\n",
       "<caption>A data.frame: 12 × 11</caption>\n",
       "<thead>\n",
       "\t<tr><th></th><th scope=col>release_date</th><th scope=col>release_build</th><th scope=col>soma.uri</th><th scope=col>soma.relative_uri</th><th scope=col>soma.s3_region</th><th scope=col>h5ads.uri</th><th scope=col>h5ads.relative_uri</th><th scope=col>h5ads.s3_region</th><th scope=col>do_not_delete</th><th scope=col>lts</th><th scope=col>alias</th></tr>\n",
       "\t<tr><th></th><th scope=col>&lt;chr&gt;</th><th scope=col>&lt;chr&gt;</th><th scope=col>&lt;chr&gt;</th><th scope=col>&lt;chr&gt;</th><th scope=col>&lt;chr&gt;</th><th scope=col>&lt;chr&gt;</th><th scope=col>&lt;chr&gt;</th><th scope=col>&lt;chr&gt;</th><th scope=col>&lt;lgl&gt;</th><th scope=col>&lt;lgl&gt;</th><th scope=col>&lt;chr&gt;</th></tr>\n",
       "</thead>\n",
       "<tbody>\n",
       "\t<tr><th scope=row>stable</th><td></td><td>2024-07-01</td><td>s3://cellxgene-census-public-us-west-2/cell-census/2024-07-01/soma/</td><td>/cell-census/2024-07-01/soma/</td><td>us-west-2</td><td>s3://cellxgene-census-public-us-west-2/cell-census/2024-07-01/h5ads/</td><td>/cell-census/2024-07-01/h5ads/</td><td>us-west-2</td><td> TRUE</td><td>TRUE</td><td>stable</td></tr>\n",
       "\t<tr><th scope=row>latest</th><td></td><td>2024-09-02</td><td>s3://cellxgene-census-public-us-west-2/cell-census/2024-09-02/soma/</td><td>/cell-census/2024-09-02/soma/</td><td>us-west-2</td><td>s3://cellxgene-census-public-us-west-2/cell-census/2024-09-02/h5ads/</td><td>/cell-census/2024-09-02/h5ads/</td><td>us-west-2</td><td>FALSE</td><td>  NA</td><td>latest</td></tr>\n",
       "\t<tr><th scope=row>2023-05-15</th><td></td><td>2023-05-15</td><td>s3://cellxgene-census-public-us-west-2/cell-census/2023-05-15/soma/</td><td>/cell-census/2023-05-15/soma/</td><td>us-west-2</td><td>s3://cellxgene-census-public-us-west-2/cell-census/2023-05-15/h5ads/</td><td>/cell-census/2023-05-15/h5ads/</td><td>us-west-2</td><td> TRUE</td><td>TRUE</td><td>      </td></tr>\n",
       "\t<tr><th scope=row>2023-07-25</th><td></td><td>2023-07-25</td><td>s3://cellxgene-census-public-us-west-2/cell-census/2023-07-25/soma/</td><td>/cell-census/2023-07-25/soma/</td><td>us-west-2</td><td>s3://cellxgene-census-public-us-west-2/cell-census/2023-07-25/h5ads/</td><td>/cell-census/2023-07-25/h5ads/</td><td>us-west-2</td><td> TRUE</td><td>TRUE</td><td>      </td></tr>\n",
       "\t<tr><th scope=row>2023-12-15</th><td></td><td>2023-12-15</td><td>s3://cellxgene-census-public-us-west-2/cell-census/2023-12-15/soma/</td><td>/cell-census/2023-12-15/soma/</td><td>us-west-2</td><td>s3://cellxgene-census-public-us-west-2/cell-census/2023-12-15/h5ads/</td><td>/cell-census/2023-12-15/h5ads/</td><td>us-west-2</td><td> TRUE</td><td>TRUE</td><td>      </td></tr>\n",
       "\t<tr><th scope=row>2024-05-20</th><td></td><td>2024-05-20</td><td>s3://cellxgene-census-public-us-west-2/cell-census/2024-05-20/soma/</td><td>/cell-census/2024-05-20/soma/</td><td>us-west-2</td><td>s3://cellxgene-census-public-us-west-2/cell-census/2024-05-20/h5ads/</td><td>/cell-census/2024-05-20/h5ads/</td><td>us-west-2</td><td> TRUE</td><td>  NA</td><td>      </td></tr>\n",
       "\t<tr><th scope=row>2024-07-01</th><td></td><td>2024-07-01</td><td>s3://cellxgene-census-public-us-west-2/cell-census/2024-07-01/soma/</td><td>/cell-census/2024-07-01/soma/</td><td>us-west-2</td><td>s3://cellxgene-census-public-us-west-2/cell-census/2024-07-01/h5ads/</td><td>/cell-census/2024-07-01/h5ads/</td><td>us-west-2</td><td> TRUE</td><td>TRUE</td><td>      </td></tr>\n",
       "\t<tr><th scope=row>2024-08-05</th><td></td><td>2024-08-05</td><td>s3://cellxgene-census-public-us-west-2/cell-census/2024-08-05/soma/</td><td>/cell-census/2024-08-05/soma/</td><td>us-west-2</td><td>s3://cellxgene-census-public-us-west-2/cell-census/2024-08-05/h5ads/</td><td>/cell-census/2024-08-05/h5ads/</td><td>us-west-2</td><td>FALSE</td><td>  NA</td><td>      </td></tr>\n",
       "\t<tr><th scope=row>2024-08-12</th><td></td><td>2024-08-12</td><td>s3://cellxgene-census-public-us-west-2/cell-census/2024-08-12/soma/</td><td>/cell-census/2024-08-12/soma/</td><td>us-west-2</td><td>s3://cellxgene-census-public-us-west-2/cell-census/2024-08-12/h5ads/</td><td>/cell-census/2024-08-12/h5ads/</td><td>us-west-2</td><td>FALSE</td><td>  NA</td><td>      </td></tr>\n",
       "\t<tr><th scope=row>2024-08-19</th><td></td><td>2024-08-19</td><td>s3://cellxgene-census-public-us-west-2/cell-census/2024-08-19/soma/</td><td>/cell-census/2024-08-19/soma/</td><td>us-west-2</td><td>s3://cellxgene-census-public-us-west-2/cell-census/2024-08-19/h5ads/</td><td>/cell-census/2024-08-19/h5ads/</td><td>us-west-2</td><td>FALSE</td><td>  NA</td><td>      </td></tr>\n",
       "\t<tr><th scope=row>2024-08-26</th><td></td><td>2024-08-26</td><td>s3://cellxgene-census-public-us-west-2/cell-census/2024-08-26/soma/</td><td>/cell-census/2024-08-26/soma/</td><td>us-west-2</td><td>s3://cellxgene-census-public-us-west-2/cell-census/2024-08-26/h5ads/</td><td>/cell-census/2024-08-26/h5ads/</td><td>us-west-2</td><td>FALSE</td><td>  NA</td><td>      </td></tr>\n",
       "\t<tr><th scope=row>2024-09-02</th><td></td><td>2024-09-02</td><td>s3://cellxgene-census-public-us-west-2/cell-census/2024-09-02/soma/</td><td>/cell-census/2024-09-02/soma/</td><td>us-west-2</td><td>s3://cellxgene-census-public-us-west-2/cell-census/2024-09-02/h5ads/</td><td>/cell-census/2024-09-02/h5ads/</td><td>us-west-2</td><td>FALSE</td><td>  NA</td><td>      </td></tr>\n",
       "</tbody>\n",
       "</table>\n"
      ],
      "text/latex": [
       "A data.frame: 12 × 11\n",
       "\\begin{tabular}{r|lllllllllll}\n",
       "  & release\\_date & release\\_build & soma.uri & soma.relative\\_uri & soma.s3\\_region & h5ads.uri & h5ads.relative\\_uri & h5ads.s3\\_region & do\\_not\\_delete & lts & alias\\\\\n",
       "  & <chr> & <chr> & <chr> & <chr> & <chr> & <chr> & <chr> & <chr> & <lgl> & <lgl> & <chr>\\\\\n",
       "\\hline\n",
       "\tstable &  & 2024-07-01 & s3://cellxgene-census-public-us-west-2/cell-census/2024-07-01/soma/ & /cell-census/2024-07-01/soma/ & us-west-2 & s3://cellxgene-census-public-us-west-2/cell-census/2024-07-01/h5ads/ & /cell-census/2024-07-01/h5ads/ & us-west-2 &  TRUE & TRUE & stable\\\\\n",
       "\tlatest &  & 2024-09-02 & s3://cellxgene-census-public-us-west-2/cell-census/2024-09-02/soma/ & /cell-census/2024-09-02/soma/ & us-west-2 & s3://cellxgene-census-public-us-west-2/cell-census/2024-09-02/h5ads/ & /cell-census/2024-09-02/h5ads/ & us-west-2 & FALSE &   NA & latest\\\\\n",
       "\t2023-05-15 &  & 2023-05-15 & s3://cellxgene-census-public-us-west-2/cell-census/2023-05-15/soma/ & /cell-census/2023-05-15/soma/ & us-west-2 & s3://cellxgene-census-public-us-west-2/cell-census/2023-05-15/h5ads/ & /cell-census/2023-05-15/h5ads/ & us-west-2 &  TRUE & TRUE &       \\\\\n",
       "\t2023-07-25 &  & 2023-07-25 & s3://cellxgene-census-public-us-west-2/cell-census/2023-07-25/soma/ & /cell-census/2023-07-25/soma/ & us-west-2 & s3://cellxgene-census-public-us-west-2/cell-census/2023-07-25/h5ads/ & /cell-census/2023-07-25/h5ads/ & us-west-2 &  TRUE & TRUE &       \\\\\n",
       "\t2023-12-15 &  & 2023-12-15 & s3://cellxgene-census-public-us-west-2/cell-census/2023-12-15/soma/ & /cell-census/2023-12-15/soma/ & us-west-2 & s3://cellxgene-census-public-us-west-2/cell-census/2023-12-15/h5ads/ & /cell-census/2023-12-15/h5ads/ & us-west-2 &  TRUE & TRUE &       \\\\\n",
       "\t2024-05-20 &  & 2024-05-20 & s3://cellxgene-census-public-us-west-2/cell-census/2024-05-20/soma/ & /cell-census/2024-05-20/soma/ & us-west-2 & s3://cellxgene-census-public-us-west-2/cell-census/2024-05-20/h5ads/ & /cell-census/2024-05-20/h5ads/ & us-west-2 &  TRUE &   NA &       \\\\\n",
       "\t2024-07-01 &  & 2024-07-01 & s3://cellxgene-census-public-us-west-2/cell-census/2024-07-01/soma/ & /cell-census/2024-07-01/soma/ & us-west-2 & s3://cellxgene-census-public-us-west-2/cell-census/2024-07-01/h5ads/ & /cell-census/2024-07-01/h5ads/ & us-west-2 &  TRUE & TRUE &       \\\\\n",
       "\t2024-08-05 &  & 2024-08-05 & s3://cellxgene-census-public-us-west-2/cell-census/2024-08-05/soma/ & /cell-census/2024-08-05/soma/ & us-west-2 & s3://cellxgene-census-public-us-west-2/cell-census/2024-08-05/h5ads/ & /cell-census/2024-08-05/h5ads/ & us-west-2 & FALSE &   NA &       \\\\\n",
       "\t2024-08-12 &  & 2024-08-12 & s3://cellxgene-census-public-us-west-2/cell-census/2024-08-12/soma/ & /cell-census/2024-08-12/soma/ & us-west-2 & s3://cellxgene-census-public-us-west-2/cell-census/2024-08-12/h5ads/ & /cell-census/2024-08-12/h5ads/ & us-west-2 & FALSE &   NA &       \\\\\n",
       "\t2024-08-19 &  & 2024-08-19 & s3://cellxgene-census-public-us-west-2/cell-census/2024-08-19/soma/ & /cell-census/2024-08-19/soma/ & us-west-2 & s3://cellxgene-census-public-us-west-2/cell-census/2024-08-19/h5ads/ & /cell-census/2024-08-19/h5ads/ & us-west-2 & FALSE &   NA &       \\\\\n",
       "\t2024-08-26 &  & 2024-08-26 & s3://cellxgene-census-public-us-west-2/cell-census/2024-08-26/soma/ & /cell-census/2024-08-26/soma/ & us-west-2 & s3://cellxgene-census-public-us-west-2/cell-census/2024-08-26/h5ads/ & /cell-census/2024-08-26/h5ads/ & us-west-2 & FALSE &   NA &       \\\\\n",
       "\t2024-09-02 &  & 2024-09-02 & s3://cellxgene-census-public-us-west-2/cell-census/2024-09-02/soma/ & /cell-census/2024-09-02/soma/ & us-west-2 & s3://cellxgene-census-public-us-west-2/cell-census/2024-09-02/h5ads/ & /cell-census/2024-09-02/h5ads/ & us-west-2 & FALSE &   NA &       \\\\\n",
       "\\end{tabular}\n"
      ],
      "text/markdown": [
       "\n",
       "A data.frame: 12 × 11\n",
       "\n",
       "| <!--/--> | release_date &lt;chr&gt; | release_build &lt;chr&gt; | soma.uri &lt;chr&gt; | soma.relative_uri &lt;chr&gt; | soma.s3_region &lt;chr&gt; | h5ads.uri &lt;chr&gt; | h5ads.relative_uri &lt;chr&gt; | h5ads.s3_region &lt;chr&gt; | do_not_delete &lt;lgl&gt; | lts &lt;lgl&gt; | alias &lt;chr&gt; |\n",
       "|---|---|---|---|---|---|---|---|---|---|---|---|\n",
       "| stable | <!----> | 2024-07-01 | s3://cellxgene-census-public-us-west-2/cell-census/2024-07-01/soma/ | /cell-census/2024-07-01/soma/ | us-west-2 | s3://cellxgene-census-public-us-west-2/cell-census/2024-07-01/h5ads/ | /cell-census/2024-07-01/h5ads/ | us-west-2 |  TRUE | TRUE | stable |\n",
       "| latest | <!----> | 2024-09-02 | s3://cellxgene-census-public-us-west-2/cell-census/2024-09-02/soma/ | /cell-census/2024-09-02/soma/ | us-west-2 | s3://cellxgene-census-public-us-west-2/cell-census/2024-09-02/h5ads/ | /cell-census/2024-09-02/h5ads/ | us-west-2 | FALSE |   NA | latest |\n",
       "| 2023-05-15 | <!----> | 2023-05-15 | s3://cellxgene-census-public-us-west-2/cell-census/2023-05-15/soma/ | /cell-census/2023-05-15/soma/ | us-west-2 | s3://cellxgene-census-public-us-west-2/cell-census/2023-05-15/h5ads/ | /cell-census/2023-05-15/h5ads/ | us-west-2 |  TRUE | TRUE | <!----> |\n",
       "| 2023-07-25 | <!----> | 2023-07-25 | s3://cellxgene-census-public-us-west-2/cell-census/2023-07-25/soma/ | /cell-census/2023-07-25/soma/ | us-west-2 | s3://cellxgene-census-public-us-west-2/cell-census/2023-07-25/h5ads/ | /cell-census/2023-07-25/h5ads/ | us-west-2 |  TRUE | TRUE | <!----> |\n",
       "| 2023-12-15 | <!----> | 2023-12-15 | s3://cellxgene-census-public-us-west-2/cell-census/2023-12-15/soma/ | /cell-census/2023-12-15/soma/ | us-west-2 | s3://cellxgene-census-public-us-west-2/cell-census/2023-12-15/h5ads/ | /cell-census/2023-12-15/h5ads/ | us-west-2 |  TRUE | TRUE | <!----> |\n",
       "| 2024-05-20 | <!----> | 2024-05-20 | s3://cellxgene-census-public-us-west-2/cell-census/2024-05-20/soma/ | /cell-census/2024-05-20/soma/ | us-west-2 | s3://cellxgene-census-public-us-west-2/cell-census/2024-05-20/h5ads/ | /cell-census/2024-05-20/h5ads/ | us-west-2 |  TRUE |   NA | <!----> |\n",
       "| 2024-07-01 | <!----> | 2024-07-01 | s3://cellxgene-census-public-us-west-2/cell-census/2024-07-01/soma/ | /cell-census/2024-07-01/soma/ | us-west-2 | s3://cellxgene-census-public-us-west-2/cell-census/2024-07-01/h5ads/ | /cell-census/2024-07-01/h5ads/ | us-west-2 |  TRUE | TRUE | <!----> |\n",
       "| 2024-08-05 | <!----> | 2024-08-05 | s3://cellxgene-census-public-us-west-2/cell-census/2024-08-05/soma/ | /cell-census/2024-08-05/soma/ | us-west-2 | s3://cellxgene-census-public-us-west-2/cell-census/2024-08-05/h5ads/ | /cell-census/2024-08-05/h5ads/ | us-west-2 | FALSE |   NA | <!----> |\n",
       "| 2024-08-12 | <!----> | 2024-08-12 | s3://cellxgene-census-public-us-west-2/cell-census/2024-08-12/soma/ | /cell-census/2024-08-12/soma/ | us-west-2 | s3://cellxgene-census-public-us-west-2/cell-census/2024-08-12/h5ads/ | /cell-census/2024-08-12/h5ads/ | us-west-2 | FALSE |   NA | <!----> |\n",
       "| 2024-08-19 | <!----> | 2024-08-19 | s3://cellxgene-census-public-us-west-2/cell-census/2024-08-19/soma/ | /cell-census/2024-08-19/soma/ | us-west-2 | s3://cellxgene-census-public-us-west-2/cell-census/2024-08-19/h5ads/ | /cell-census/2024-08-19/h5ads/ | us-west-2 | FALSE |   NA | <!----> |\n",
       "| 2024-08-26 | <!----> | 2024-08-26 | s3://cellxgene-census-public-us-west-2/cell-census/2024-08-26/soma/ | /cell-census/2024-08-26/soma/ | us-west-2 | s3://cellxgene-census-public-us-west-2/cell-census/2024-08-26/h5ads/ | /cell-census/2024-08-26/h5ads/ | us-west-2 | FALSE |   NA | <!----> |\n",
       "| 2024-09-02 | <!----> | 2024-09-02 | s3://cellxgene-census-public-us-west-2/cell-census/2024-09-02/soma/ | /cell-census/2024-09-02/soma/ | us-west-2 | s3://cellxgene-census-public-us-west-2/cell-census/2024-09-02/h5ads/ | /cell-census/2024-09-02/h5ads/ | us-west-2 | FALSE |   NA | <!----> |\n",
       "\n"
      ],
      "text/plain": [
       "           release_date release_build\n",
       "stable                  2024-07-01   \n",
       "latest                  2024-09-02   \n",
       "2023-05-15              2023-05-15   \n",
       "2023-07-25              2023-07-25   \n",
       "2023-12-15              2023-12-15   \n",
       "2024-05-20              2024-05-20   \n",
       "2024-07-01              2024-07-01   \n",
       "2024-08-05              2024-08-05   \n",
       "2024-08-12              2024-08-12   \n",
       "2024-08-19              2024-08-19   \n",
       "2024-08-26              2024-08-26   \n",
       "2024-09-02              2024-09-02   \n",
       "           soma.uri                                                           \n",
       "stable     s3://cellxgene-census-public-us-west-2/cell-census/2024-07-01/soma/\n",
       "latest     s3://cellxgene-census-public-us-west-2/cell-census/2024-09-02/soma/\n",
       "2023-05-15 s3://cellxgene-census-public-us-west-2/cell-census/2023-05-15/soma/\n",
       "2023-07-25 s3://cellxgene-census-public-us-west-2/cell-census/2023-07-25/soma/\n",
       "2023-12-15 s3://cellxgene-census-public-us-west-2/cell-census/2023-12-15/soma/\n",
       "2024-05-20 s3://cellxgene-census-public-us-west-2/cell-census/2024-05-20/soma/\n",
       "2024-07-01 s3://cellxgene-census-public-us-west-2/cell-census/2024-07-01/soma/\n",
       "2024-08-05 s3://cellxgene-census-public-us-west-2/cell-census/2024-08-05/soma/\n",
       "2024-08-12 s3://cellxgene-census-public-us-west-2/cell-census/2024-08-12/soma/\n",
       "2024-08-19 s3://cellxgene-census-public-us-west-2/cell-census/2024-08-19/soma/\n",
       "2024-08-26 s3://cellxgene-census-public-us-west-2/cell-census/2024-08-26/soma/\n",
       "2024-09-02 s3://cellxgene-census-public-us-west-2/cell-census/2024-09-02/soma/\n",
       "           soma.relative_uri             soma.s3_region\n",
       "stable     /cell-census/2024-07-01/soma/ us-west-2     \n",
       "latest     /cell-census/2024-09-02/soma/ us-west-2     \n",
       "2023-05-15 /cell-census/2023-05-15/soma/ us-west-2     \n",
       "2023-07-25 /cell-census/2023-07-25/soma/ us-west-2     \n",
       "2023-12-15 /cell-census/2023-12-15/soma/ us-west-2     \n",
       "2024-05-20 /cell-census/2024-05-20/soma/ us-west-2     \n",
       "2024-07-01 /cell-census/2024-07-01/soma/ us-west-2     \n",
       "2024-08-05 /cell-census/2024-08-05/soma/ us-west-2     \n",
       "2024-08-12 /cell-census/2024-08-12/soma/ us-west-2     \n",
       "2024-08-19 /cell-census/2024-08-19/soma/ us-west-2     \n",
       "2024-08-26 /cell-census/2024-08-26/soma/ us-west-2     \n",
       "2024-09-02 /cell-census/2024-09-02/soma/ us-west-2     \n",
       "           h5ads.uri                                                           \n",
       "stable     s3://cellxgene-census-public-us-west-2/cell-census/2024-07-01/h5ads/\n",
       "latest     s3://cellxgene-census-public-us-west-2/cell-census/2024-09-02/h5ads/\n",
       "2023-05-15 s3://cellxgene-census-public-us-west-2/cell-census/2023-05-15/h5ads/\n",
       "2023-07-25 s3://cellxgene-census-public-us-west-2/cell-census/2023-07-25/h5ads/\n",
       "2023-12-15 s3://cellxgene-census-public-us-west-2/cell-census/2023-12-15/h5ads/\n",
       "2024-05-20 s3://cellxgene-census-public-us-west-2/cell-census/2024-05-20/h5ads/\n",
       "2024-07-01 s3://cellxgene-census-public-us-west-2/cell-census/2024-07-01/h5ads/\n",
       "2024-08-05 s3://cellxgene-census-public-us-west-2/cell-census/2024-08-05/h5ads/\n",
       "2024-08-12 s3://cellxgene-census-public-us-west-2/cell-census/2024-08-12/h5ads/\n",
       "2024-08-19 s3://cellxgene-census-public-us-west-2/cell-census/2024-08-19/h5ads/\n",
       "2024-08-26 s3://cellxgene-census-public-us-west-2/cell-census/2024-08-26/h5ads/\n",
       "2024-09-02 s3://cellxgene-census-public-us-west-2/cell-census/2024-09-02/h5ads/\n",
       "           h5ads.relative_uri             h5ads.s3_region do_not_delete lts \n",
       "stable     /cell-census/2024-07-01/h5ads/ us-west-2        TRUE         TRUE\n",
       "latest     /cell-census/2024-09-02/h5ads/ us-west-2       FALSE           NA\n",
       "2023-05-15 /cell-census/2023-05-15/h5ads/ us-west-2        TRUE         TRUE\n",
       "2023-07-25 /cell-census/2023-07-25/h5ads/ us-west-2        TRUE         TRUE\n",
       "2023-12-15 /cell-census/2023-12-15/h5ads/ us-west-2        TRUE         TRUE\n",
       "2024-05-20 /cell-census/2024-05-20/h5ads/ us-west-2        TRUE           NA\n",
       "2024-07-01 /cell-census/2024-07-01/h5ads/ us-west-2        TRUE         TRUE\n",
       "2024-08-05 /cell-census/2024-08-05/h5ads/ us-west-2       FALSE           NA\n",
       "2024-08-12 /cell-census/2024-08-12/h5ads/ us-west-2       FALSE           NA\n",
       "2024-08-19 /cell-census/2024-08-19/h5ads/ us-west-2       FALSE           NA\n",
       "2024-08-26 /cell-census/2024-08-26/h5ads/ us-west-2       FALSE           NA\n",
       "2024-09-02 /cell-census/2024-09-02/h5ads/ us-west-2       FALSE           NA\n",
       "           alias \n",
       "stable     stable\n",
       "latest     latest\n",
       "2023-05-15       \n",
       "2023-07-25       \n",
       "2023-12-15       \n",
       "2024-05-20       \n",
       "2024-07-01       \n",
       "2024-08-05       \n",
       "2024-08-12       \n",
       "2024-08-19       \n",
       "2024-08-26       \n",
       "2024-09-02       "
      ]
     },
     "metadata": {},
     "output_type": "display_data"
    }
   ],
   "source": [
    "get_census_version_directory()"
   ]
  },
  {
   "cell_type": "code",
   "execution_count": 5,
   "metadata": {
    "id": "PK-1ywoL5RWb",
    "outputId": "832f7966-dd92-41aa-b3f4-8cdcc35e48b1"
   },
   "outputs": [
    {
     "data": {
      "text/html": [
       "<table class=\"dataframe\">\n",
       "<caption>A data.frame: 12 × 11</caption>\n",
       "<thead>\n",
       "\t<tr><th></th><th scope=col>release_date</th><th scope=col>release_build</th><th scope=col>soma.uri</th><th scope=col>soma.relative_uri</th><th scope=col>soma.s3_region</th><th scope=col>h5ads.uri</th><th scope=col>h5ads.relative_uri</th><th scope=col>h5ads.s3_region</th><th scope=col>do_not_delete</th><th scope=col>lts</th><th scope=col>alias</th></tr>\n",
       "\t<tr><th></th><th scope=col>&lt;chr&gt;</th><th scope=col>&lt;chr&gt;</th><th scope=col>&lt;chr&gt;</th><th scope=col>&lt;chr&gt;</th><th scope=col>&lt;chr&gt;</th><th scope=col>&lt;chr&gt;</th><th scope=col>&lt;chr&gt;</th><th scope=col>&lt;chr&gt;</th><th scope=col>&lt;lgl&gt;</th><th scope=col>&lt;lgl&gt;</th><th scope=col>&lt;chr&gt;</th></tr>\n",
       "</thead>\n",
       "<tbody>\n",
       "\t<tr><th scope=row>stable</th><td>  </td><td>2024-07-01</td><td>s3://cellxgene-census-public-us-west-2/cell-census/2024-07-01/soma/</td><td>/cell-census/2024-07-01/soma/</td><td>us-west-2</td><td>s3://cellxgene-census-public-us-west-2/cell-census/2024-07-01/h5ads/</td><td>/cell-census/2024-07-01/h5ads/</td><td>us-west-2</td><td>TRUE</td><td>TRUE</td><td>stable</td></tr>\n",
       "\t<tr><th scope=row>NA</th><td>NA</td><td>NA        </td><td>NA                                                                 </td><td>NA                           </td><td>NA       </td><td>NA                                                                  </td><td>NA                            </td><td>NA       </td><td>  NA</td><td>  NA</td><td>NA    </td></tr>\n",
       "\t<tr><th scope=row>2023-05-15</th><td>  </td><td>2023-05-15</td><td>s3://cellxgene-census-public-us-west-2/cell-census/2023-05-15/soma/</td><td>/cell-census/2023-05-15/soma/</td><td>us-west-2</td><td>s3://cellxgene-census-public-us-west-2/cell-census/2023-05-15/h5ads/</td><td>/cell-census/2023-05-15/h5ads/</td><td>us-west-2</td><td>TRUE</td><td>TRUE</td><td>      </td></tr>\n",
       "\t<tr><th scope=row>2023-07-25</th><td>  </td><td>2023-07-25</td><td>s3://cellxgene-census-public-us-west-2/cell-census/2023-07-25/soma/</td><td>/cell-census/2023-07-25/soma/</td><td>us-west-2</td><td>s3://cellxgene-census-public-us-west-2/cell-census/2023-07-25/h5ads/</td><td>/cell-census/2023-07-25/h5ads/</td><td>us-west-2</td><td>TRUE</td><td>TRUE</td><td>      </td></tr>\n",
       "\t<tr><th scope=row>2023-12-15</th><td>  </td><td>2023-12-15</td><td>s3://cellxgene-census-public-us-west-2/cell-census/2023-12-15/soma/</td><td>/cell-census/2023-12-15/soma/</td><td>us-west-2</td><td>s3://cellxgene-census-public-us-west-2/cell-census/2023-12-15/h5ads/</td><td>/cell-census/2023-12-15/h5ads/</td><td>us-west-2</td><td>TRUE</td><td>TRUE</td><td>      </td></tr>\n",
       "\t<tr><th scope=row>NA.1</th><td>NA</td><td>NA        </td><td>NA                                                                 </td><td>NA                           </td><td>NA       </td><td>NA                                                                  </td><td>NA                            </td><td>NA       </td><td>  NA</td><td>  NA</td><td>NA    </td></tr>\n",
       "\t<tr><th scope=row>2024-07-01</th><td>  </td><td>2024-07-01</td><td>s3://cellxgene-census-public-us-west-2/cell-census/2024-07-01/soma/</td><td>/cell-census/2024-07-01/soma/</td><td>us-west-2</td><td>s3://cellxgene-census-public-us-west-2/cell-census/2024-07-01/h5ads/</td><td>/cell-census/2024-07-01/h5ads/</td><td>us-west-2</td><td>TRUE</td><td>TRUE</td><td>      </td></tr>\n",
       "\t<tr><th scope=row>NA.2</th><td>NA</td><td>NA        </td><td>NA                                                                 </td><td>NA                           </td><td>NA       </td><td>NA                                                                  </td><td>NA                            </td><td>NA       </td><td>  NA</td><td>  NA</td><td>NA    </td></tr>\n",
       "\t<tr><th scope=row>NA.3</th><td>NA</td><td>NA        </td><td>NA                                                                 </td><td>NA                           </td><td>NA       </td><td>NA                                                                  </td><td>NA                            </td><td>NA       </td><td>  NA</td><td>  NA</td><td>NA    </td></tr>\n",
       "\t<tr><th scope=row>NA.4</th><td>NA</td><td>NA        </td><td>NA                                                                 </td><td>NA                           </td><td>NA       </td><td>NA                                                                  </td><td>NA                            </td><td>NA       </td><td>  NA</td><td>  NA</td><td>NA    </td></tr>\n",
       "\t<tr><th scope=row>NA.5</th><td>NA</td><td>NA        </td><td>NA                                                                 </td><td>NA                           </td><td>NA       </td><td>NA                                                                  </td><td>NA                            </td><td>NA       </td><td>  NA</td><td>  NA</td><td>NA    </td></tr>\n",
       "\t<tr><th scope=row>NA.6</th><td>NA</td><td>NA        </td><td>NA                                                                 </td><td>NA                           </td><td>NA       </td><td>NA                                                                  </td><td>NA                            </td><td>NA       </td><td>  NA</td><td>  NA</td><td>NA    </td></tr>\n",
       "</tbody>\n",
       "</table>\n"
      ],
      "text/latex": [
       "A data.frame: 12 × 11\n",
       "\\begin{tabular}{r|lllllllllll}\n",
       "  & release\\_date & release\\_build & soma.uri & soma.relative\\_uri & soma.s3\\_region & h5ads.uri & h5ads.relative\\_uri & h5ads.s3\\_region & do\\_not\\_delete & lts & alias\\\\\n",
       "  & <chr> & <chr> & <chr> & <chr> & <chr> & <chr> & <chr> & <chr> & <lgl> & <lgl> & <chr>\\\\\n",
       "\\hline\n",
       "\tstable &    & 2024-07-01 & s3://cellxgene-census-public-us-west-2/cell-census/2024-07-01/soma/ & /cell-census/2024-07-01/soma/ & us-west-2 & s3://cellxgene-census-public-us-west-2/cell-census/2024-07-01/h5ads/ & /cell-census/2024-07-01/h5ads/ & us-west-2 & TRUE & TRUE & stable\\\\\n",
       "\tNA & NA & NA         & NA                                                                  & NA                            & NA        & NA                                                                   & NA                             & NA        &   NA &   NA & NA    \\\\\n",
       "\t2023-05-15 &    & 2023-05-15 & s3://cellxgene-census-public-us-west-2/cell-census/2023-05-15/soma/ & /cell-census/2023-05-15/soma/ & us-west-2 & s3://cellxgene-census-public-us-west-2/cell-census/2023-05-15/h5ads/ & /cell-census/2023-05-15/h5ads/ & us-west-2 & TRUE & TRUE &       \\\\\n",
       "\t2023-07-25 &    & 2023-07-25 & s3://cellxgene-census-public-us-west-2/cell-census/2023-07-25/soma/ & /cell-census/2023-07-25/soma/ & us-west-2 & s3://cellxgene-census-public-us-west-2/cell-census/2023-07-25/h5ads/ & /cell-census/2023-07-25/h5ads/ & us-west-2 & TRUE & TRUE &       \\\\\n",
       "\t2023-12-15 &    & 2023-12-15 & s3://cellxgene-census-public-us-west-2/cell-census/2023-12-15/soma/ & /cell-census/2023-12-15/soma/ & us-west-2 & s3://cellxgene-census-public-us-west-2/cell-census/2023-12-15/h5ads/ & /cell-census/2023-12-15/h5ads/ & us-west-2 & TRUE & TRUE &       \\\\\n",
       "\tNA.1 & NA & NA         & NA                                                                  & NA                            & NA        & NA                                                                   & NA                             & NA        &   NA &   NA & NA    \\\\\n",
       "\t2024-07-01 &    & 2024-07-01 & s3://cellxgene-census-public-us-west-2/cell-census/2024-07-01/soma/ & /cell-census/2024-07-01/soma/ & us-west-2 & s3://cellxgene-census-public-us-west-2/cell-census/2024-07-01/h5ads/ & /cell-census/2024-07-01/h5ads/ & us-west-2 & TRUE & TRUE &       \\\\\n",
       "\tNA.2 & NA & NA         & NA                                                                  & NA                            & NA        & NA                                                                   & NA                             & NA        &   NA &   NA & NA    \\\\\n",
       "\tNA.3 & NA & NA         & NA                                                                  & NA                            & NA        & NA                                                                   & NA                             & NA        &   NA &   NA & NA    \\\\\n",
       "\tNA.4 & NA & NA         & NA                                                                  & NA                            & NA        & NA                                                                   & NA                             & NA        &   NA &   NA & NA    \\\\\n",
       "\tNA.5 & NA & NA         & NA                                                                  & NA                            & NA        & NA                                                                   & NA                             & NA        &   NA &   NA & NA    \\\\\n",
       "\tNA.6 & NA & NA         & NA                                                                  & NA                            & NA        & NA                                                                   & NA                             & NA        &   NA &   NA & NA    \\\\\n",
       "\\end{tabular}\n"
      ],
      "text/markdown": [
       "\n",
       "A data.frame: 12 × 11\n",
       "\n",
       "| <!--/--> | release_date &lt;chr&gt; | release_build &lt;chr&gt; | soma.uri &lt;chr&gt; | soma.relative_uri &lt;chr&gt; | soma.s3_region &lt;chr&gt; | h5ads.uri &lt;chr&gt; | h5ads.relative_uri &lt;chr&gt; | h5ads.s3_region &lt;chr&gt; | do_not_delete &lt;lgl&gt; | lts &lt;lgl&gt; | alias &lt;chr&gt; |\n",
       "|---|---|---|---|---|---|---|---|---|---|---|---|\n",
       "| stable | <!----> | 2024-07-01 | s3://cellxgene-census-public-us-west-2/cell-census/2024-07-01/soma/ | /cell-census/2024-07-01/soma/ | us-west-2 | s3://cellxgene-census-public-us-west-2/cell-census/2024-07-01/h5ads/ | /cell-census/2024-07-01/h5ads/ | us-west-2 | TRUE | TRUE | stable |\n",
       "| NA | NA | NA         | NA                                                                  | NA                            | NA        | NA                                                                   | NA                             | NA        |   NA |   NA | NA     |\n",
       "| 2023-05-15 | <!----> | 2023-05-15 | s3://cellxgene-census-public-us-west-2/cell-census/2023-05-15/soma/ | /cell-census/2023-05-15/soma/ | us-west-2 | s3://cellxgene-census-public-us-west-2/cell-census/2023-05-15/h5ads/ | /cell-census/2023-05-15/h5ads/ | us-west-2 | TRUE | TRUE | <!----> |\n",
       "| 2023-07-25 | <!----> | 2023-07-25 | s3://cellxgene-census-public-us-west-2/cell-census/2023-07-25/soma/ | /cell-census/2023-07-25/soma/ | us-west-2 | s3://cellxgene-census-public-us-west-2/cell-census/2023-07-25/h5ads/ | /cell-census/2023-07-25/h5ads/ | us-west-2 | TRUE | TRUE | <!----> |\n",
       "| 2023-12-15 | <!----> | 2023-12-15 | s3://cellxgene-census-public-us-west-2/cell-census/2023-12-15/soma/ | /cell-census/2023-12-15/soma/ | us-west-2 | s3://cellxgene-census-public-us-west-2/cell-census/2023-12-15/h5ads/ | /cell-census/2023-12-15/h5ads/ | us-west-2 | TRUE | TRUE | <!----> |\n",
       "| NA.1 | NA | NA         | NA                                                                  | NA                            | NA        | NA                                                                   | NA                             | NA        |   NA |   NA | NA     |\n",
       "| 2024-07-01 | <!----> | 2024-07-01 | s3://cellxgene-census-public-us-west-2/cell-census/2024-07-01/soma/ | /cell-census/2024-07-01/soma/ | us-west-2 | s3://cellxgene-census-public-us-west-2/cell-census/2024-07-01/h5ads/ | /cell-census/2024-07-01/h5ads/ | us-west-2 | TRUE | TRUE | <!----> |\n",
       "| NA.2 | NA | NA         | NA                                                                  | NA                            | NA        | NA                                                                   | NA                             | NA        |   NA |   NA | NA     |\n",
       "| NA.3 | NA | NA         | NA                                                                  | NA                            | NA        | NA                                                                   | NA                             | NA        |   NA |   NA | NA     |\n",
       "| NA.4 | NA | NA         | NA                                                                  | NA                            | NA        | NA                                                                   | NA                             | NA        |   NA |   NA | NA     |\n",
       "| NA.5 | NA | NA         | NA                                                                  | NA                            | NA        | NA                                                                   | NA                             | NA        |   NA |   NA | NA     |\n",
       "| NA.6 | NA | NA         | NA                                                                  | NA                            | NA        | NA                                                                   | NA                             | NA        |   NA |   NA | NA     |\n",
       "\n"
      ],
      "text/plain": [
       "           release_date release_build\n",
       "stable                  2024-07-01   \n",
       "NA         NA           NA           \n",
       "2023-05-15              2023-05-15   \n",
       "2023-07-25              2023-07-25   \n",
       "2023-12-15              2023-12-15   \n",
       "NA.1       NA           NA           \n",
       "2024-07-01              2024-07-01   \n",
       "NA.2       NA           NA           \n",
       "NA.3       NA           NA           \n",
       "NA.4       NA           NA           \n",
       "NA.5       NA           NA           \n",
       "NA.6       NA           NA           \n",
       "           soma.uri                                                           \n",
       "stable     s3://cellxgene-census-public-us-west-2/cell-census/2024-07-01/soma/\n",
       "NA         NA                                                                 \n",
       "2023-05-15 s3://cellxgene-census-public-us-west-2/cell-census/2023-05-15/soma/\n",
       "2023-07-25 s3://cellxgene-census-public-us-west-2/cell-census/2023-07-25/soma/\n",
       "2023-12-15 s3://cellxgene-census-public-us-west-2/cell-census/2023-12-15/soma/\n",
       "NA.1       NA                                                                 \n",
       "2024-07-01 s3://cellxgene-census-public-us-west-2/cell-census/2024-07-01/soma/\n",
       "NA.2       NA                                                                 \n",
       "NA.3       NA                                                                 \n",
       "NA.4       NA                                                                 \n",
       "NA.5       NA                                                                 \n",
       "NA.6       NA                                                                 \n",
       "           soma.relative_uri             soma.s3_region\n",
       "stable     /cell-census/2024-07-01/soma/ us-west-2     \n",
       "NA         NA                            NA            \n",
       "2023-05-15 /cell-census/2023-05-15/soma/ us-west-2     \n",
       "2023-07-25 /cell-census/2023-07-25/soma/ us-west-2     \n",
       "2023-12-15 /cell-census/2023-12-15/soma/ us-west-2     \n",
       "NA.1       NA                            NA            \n",
       "2024-07-01 /cell-census/2024-07-01/soma/ us-west-2     \n",
       "NA.2       NA                            NA            \n",
       "NA.3       NA                            NA            \n",
       "NA.4       NA                            NA            \n",
       "NA.5       NA                            NA            \n",
       "NA.6       NA                            NA            \n",
       "           h5ads.uri                                                           \n",
       "stable     s3://cellxgene-census-public-us-west-2/cell-census/2024-07-01/h5ads/\n",
       "NA         NA                                                                  \n",
       "2023-05-15 s3://cellxgene-census-public-us-west-2/cell-census/2023-05-15/h5ads/\n",
       "2023-07-25 s3://cellxgene-census-public-us-west-2/cell-census/2023-07-25/h5ads/\n",
       "2023-12-15 s3://cellxgene-census-public-us-west-2/cell-census/2023-12-15/h5ads/\n",
       "NA.1       NA                                                                  \n",
       "2024-07-01 s3://cellxgene-census-public-us-west-2/cell-census/2024-07-01/h5ads/\n",
       "NA.2       NA                                                                  \n",
       "NA.3       NA                                                                  \n",
       "NA.4       NA                                                                  \n",
       "NA.5       NA                                                                  \n",
       "NA.6       NA                                                                  \n",
       "           h5ads.relative_uri             h5ads.s3_region do_not_delete lts \n",
       "stable     /cell-census/2024-07-01/h5ads/ us-west-2       TRUE          TRUE\n",
       "NA         NA                             NA                NA            NA\n",
       "2023-05-15 /cell-census/2023-05-15/h5ads/ us-west-2       TRUE          TRUE\n",
       "2023-07-25 /cell-census/2023-07-25/h5ads/ us-west-2       TRUE          TRUE\n",
       "2023-12-15 /cell-census/2023-12-15/h5ads/ us-west-2       TRUE          TRUE\n",
       "NA.1       NA                             NA                NA            NA\n",
       "2024-07-01 /cell-census/2024-07-01/h5ads/ us-west-2       TRUE          TRUE\n",
       "NA.2       NA                             NA                NA            NA\n",
       "NA.3       NA                             NA                NA            NA\n",
       "NA.4       NA                             NA                NA            NA\n",
       "NA.5       NA                             NA                NA            NA\n",
       "NA.6       NA                             NA                NA            NA\n",
       "           alias \n",
       "stable     stable\n",
       "NA         NA    \n",
       "2023-05-15       \n",
       "2023-07-25       \n",
       "2023-12-15       \n",
       "NA.1       NA    \n",
       "2024-07-01       \n",
       "NA.2       NA    \n",
       "NA.3       NA    \n",
       "NA.4       NA    \n",
       "NA.5       NA    \n",
       "NA.6       NA    "
      ]
     },
     "metadata": {},
     "output_type": "display_data"
    }
   ],
   "source": [
    "lts_census <- get_census_version_directory()\n",
    "lts_census[lts_census$lts,]"
   ]
  },
  {
   "cell_type": "markdown",
   "metadata": {
    "id": "1spI54xg5RWd"
   },
   "source": [
    "#### Opening a Census version\n",
    "\n",
    "Now we can get a handle to the Census object hosted in S3. Remember that we can specify the data release to use."
   ]
  },
  {
   "cell_type": "code",
   "execution_count": 6,
   "metadata": {
    "id": "HaCdNats5RWe",
    "outputId": "0b565b24-8012-4aed-f0b9-a23f96446146"
   },
   "outputs": [],
   "source": [
    "# For the latest LTS use \"stable\", other options are \"latest\" for the latest\n",
    "# weekly, or specific version\n",
    "\n",
    "version <- \"2024-09-02\"\n",
    "\n",
    "# Equivalent (at time of writing), but will emit a warning advising to pin a specific version\n",
    "# version <- \"latest\"\n",
    "\n",
    "census <- open_soma(census_version = version, tiledbsoma_ctx = ctx)"
   ]
  },
  {
   "cell_type": "markdown",
   "metadata": {
    "id": "fK8ddGij5RWe"
   },
   "source": [
    "#### Inspecting the Census object\n",
    "\n",
    "These are the types of SOMA objects used by Census:\n",
    "\n",
    "- `SparseNDArray` is the same as DenseNDArray but sparse, and supports point indexing (disjoint index access).\n",
    "- `DataFrame` is a multi-column table with user-defined columns names and value types, with support for point indexing.\n",
    "- `Collection` is a persistent container of named SOMA objects, similar to a dictionary.\n",
    "- `Experiment` is a class that represents a single-cell experiment. It always contains two objects:\n",
    "   - `obs`: a `DataFrame` with primary annotations on the observation axis.\n",
    "   - `ms`: a `Collection` of measurements, each composed of `X` matrices and axis annotation matrices or data frames (e.g. `var`, `varm`, `obsm`, etc).\n",
    "\n",
    "The parent Census object is a SOMA `Collection`:"
   ]
  },
  {
   "cell_type": "code",
   "execution_count": 7,
   "metadata": {
    "id": "-EnOqsgI5RWf",
    "outputId": "6fd6d9e4-d821-4aca-b8f3-494b6d1f7f3e"
   },
   "outputs": [
    {
     "data": {
      "text/plain": [
       "<SOMACollection>\n",
       "  uri: s3://cellxgene-census-public-us-west-2/cell-census/2024-09-02/soma/ \n",
       "  groups: census_data*, census_info* "
      ]
     },
     "metadata": {},
     "output_type": "display_data"
    }
   ],
   "source": [
    "census"
   ]
  },
  {
   "cell_type": "markdown",
   "metadata": {
    "id": "ygGpjcpj_d56"
   },
   "source": [
    "You can access items of a collection with square brackets.\n",
    "\n",
    "- `\"census_data\"` has the Census single-cell data, will explore it in a momemnt.\n",
    "- `\"census_info\"` has high-level summary information about Census\n",
    "\n",
    "Let's take a look at `\"census_info\"`\n",
    "\n",
    "**🚨 NOTE:** To access elements of a SOMA collection we need to use the R6 method `$get()`\n"
   ]
  },
  {
   "cell_type": "code",
   "execution_count": 8,
   "metadata": {
    "colab": {
     "base_uri": "https://localhost:8080/"
    },
    "id": "6zr_yAnH_ZJV",
    "outputId": "92be3bcc-2ac4-4d4c-b211-94bb3ca66e9c"
   },
   "outputs": [
    {
     "data": {
      "text/plain": [
       "<SOMACollection>\n",
       "  uri: s3://cellxgene-census-public-us-west-2/cell-census/2024-09-02/soma/census_info \n",
       "  arrays: datasets*, organisms*, summary_cell_counts*, summary* "
      ]
     },
     "metadata": {},
     "output_type": "display_data"
    }
   ],
   "source": [
    "census$get(\"census_info\")"
   ]
  },
  {
   "cell_type": "markdown",
   "metadata": {
    "id": "CX61uvdLAdRv"
   },
   "source": [
    "There are three items in this collection:\n",
    "\n",
    "- `\"summary\"`: A data frame with high-level information of this Census, e.g. build date, total cell count, etc.\n",
    "- `\"summary_cell_counts\"`: A data frame with cell counts stratified by relevant cell metadata\n",
    "- `\"datasets\"`: A data frame with all datasets from CELLxGENE Discover used to create the Census."
   ]
  },
  {
   "cell_type": "markdown",
   "metadata": {
    "id": "i87SDNOpCvz3"
   },
   "source": [
    "Now let's take a look at `\"census_data\"`."
   ]
  },
  {
   "cell_type": "code",
   "execution_count": 9,
   "metadata": {
    "colab": {
     "base_uri": "https://localhost:8080/"
    },
    "id": "t_4gewQ9AT46",
    "outputId": "73673171-5213-4afb-dafe-e1cace7526db"
   },
   "outputs": [
    {
     "data": {
      "text/plain": [
       "<SOMACollection>\n",
       "  uri: s3://cellxgene-census-public-us-west-2/cell-census/2024-09-02/soma/census_data \n",
       "  groups: homo_sapiens*, mus_musculus* "
      ]
     },
     "metadata": {},
     "output_type": "display_data"
    }
   ],
   "source": [
    "census$get(\"census_data\")"
   ]
  },
  {
   "cell_type": "markdown",
   "metadata": {
    "id": "vrx1KwN4Bimu"
   },
   "source": [
    "These two are SOMA `Experiment` objects which are a specialized form of a `Collection`. Each of these store a data matrix (cells by genes), cell metadata, gene metadata, and some other useful components."
   ]
  },
  {
   "cell_type": "markdown",
   "metadata": {
    "id": "mqOefkzOJkH2"
   },
   "source": [
    "### Reading Data Frames"
   ]
  },
  {
   "cell_type": "markdown",
   "metadata": {
    "id": "amEMnNCjVtB6"
   },
   "source": [
    "\n",
    "#### Reading cell metadata\n",
    "\n",
    "Let's take a deeper dive into the single-cell data. As mentioned earlier, an `Experiment` always has an `obs` atrribute that can be accessed via `$obs`.\n",
    "\n",
    "Let's take a look at the human `Experiment`."
   ]
  },
  {
   "cell_type": "code",
   "execution_count": 10,
   "metadata": {
    "colab": {
     "base_uri": "https://localhost:8080/"
    },
    "id": "zZXy-Bt3I28i",
    "outputId": "68b5228d-86b8-4d10-92d8-348f4e0ad20d"
   },
   "outputs": [
    {
     "data": {
      "text/plain": [
       "<SOMAExperiment>\n",
       "  uri: s3://cellxgene-census-public-us-west-2/cell-census/2024-09-02/soma/census_data/homo_sapiens \n",
       "  arrays: obs* \n",
       "  groups: ms* "
      ]
     },
     "metadata": {},
     "output_type": "display_data"
    }
   ],
   "source": [
    "census$get(\"census_data\")$get(\"homo_sapiens\")"
   ]
  },
  {
   "cell_type": "code",
   "execution_count": 11,
   "metadata": {
    "colab": {
     "base_uri": "https://localhost:8080/"
    },
    "id": "8kNlAnIGKB3r",
    "outputId": "62c929e7-e4d9-435f-a296-f9909b18e528"
   },
   "outputs": [
    {
     "data": {
      "text/plain": [
       "<SOMADataFrame>\n",
       "  uri: s3://cellxgene-census-public-us-west-2/cell-census/2024-09-02/soma/census_data/homo_sapiens/obs \n",
       "  dimensions: soma_joinid \n",
       "  attributes: dataset_id, assay, assay_ontology_term_id, cell_type, cell_type_ontology_term... "
      ]
     },
     "metadata": {},
     "output_type": "display_data"
    }
   ],
   "source": [
    "census$get(\"census_data\")$get(\"homo_sapiens\")$obs"
   ]
  },
  {
   "cell_type": "markdown",
   "metadata": {
    "id": "fi2sDGuIMEP_"
   },
   "source": [
    "We can take a look at the columns available in a data frame with the `schema()` method, which shows the types of metadata available for each cell."
   ]
  },
  {
   "cell_type": "code",
   "execution_count": 12,
   "metadata": {
    "colab": {
     "base_uri": "https://localhost:8080/"
    },
    "id": "X1CQfbGmMDcf",
    "outputId": "f2599b95-d9c6-4a0e-dd29-fbf0c60d42e1"
   },
   "outputs": [
    {
     "data": {
      "text/plain": [
       "Schema\n",
       "soma_joinid: int64 not null\n",
       "dataset_id: dictionary<values=string, indices=int16>\n",
       "assay: dictionary<values=string, indices=int8>\n",
       "assay_ontology_term_id: dictionary<values=string, indices=int8>\n",
       "cell_type: dictionary<values=string, indices=int16>\n",
       "cell_type_ontology_term_id: dictionary<values=string, indices=int16>\n",
       "development_stage: dictionary<values=string, indices=int16>\n",
       "development_stage_ontology_term_id: dictionary<values=string, indices=int16>\n",
       "disease: dictionary<values=string, indices=int8>\n",
       "disease_ontology_term_id: dictionary<values=string, indices=int8>\n",
       "donor_id: dictionary<values=string, indices=int16>\n",
       "is_primary_data: bool\n",
       "observation_joinid: string\n",
       "self_reported_ethnicity: dictionary<values=string, indices=int8>\n",
       "self_reported_ethnicity_ontology_term_id: dictionary<values=string, indices=int8>\n",
       "sex: dictionary<values=string, indices=int8>\n",
       "sex_ontology_term_id: dictionary<values=string, indices=int8>\n",
       "suspension_type: dictionary<values=string, indices=int8>\n",
       "tissue: dictionary<values=string, indices=int16>\n",
       "tissue_ontology_term_id: dictionary<values=string, indices=int16>\n",
       "tissue_type: dictionary<values=string, indices=int8>\n",
       "tissue_general: dictionary<values=string, indices=int8>\n",
       "tissue_general_ontology_term_id: dictionary<values=string, indices=int8>\n",
       "raw_sum: double\n",
       "nnz: int64\n",
       "raw_mean_nnz: double\n",
       "raw_variance_nnz: double\n",
       "n_measured_vars: int64"
      ]
     },
     "metadata": {},
     "output_type": "display_data"
    }
   ],
   "source": [
    "census$get(\"census_data\")$get(\"homo_sapiens\")$obs$schema()"
   ]
  },
  {
   "cell_type": "markdown",
   "metadata": {
    "id": "UujuxKAW3LhM"
   },
   "source": [
    "Let's read two columns of the data frame."
   ]
  },
  {
   "cell_type": "code",
   "execution_count": 13,
   "metadata": {
    "colab": {
     "base_uri": "https://localhost:8080/",
     "height": 423
    },
    "id": "WD8zL10AKFv3",
    "outputId": "3cbd85a4-ccb6-4983-f1e8-b03fc77606d3"
   },
   "outputs": [
    {
     "data": {
      "text/html": [
       "<table class=\"dataframe\">\n",
       "<caption>A data.frame: 6 × 2</caption>\n",
       "<thead>\n",
       "\t<tr><th></th><th scope=col>suspension_type</th><th scope=col>tissue_general</th></tr>\n",
       "\t<tr><th></th><th scope=col>&lt;fct&gt;</th><th scope=col>&lt;fct&gt;</th></tr>\n",
       "</thead>\n",
       "<tbody>\n",
       "\t<tr><th scope=row>1</th><td>cell</td><td>liver</td></tr>\n",
       "\t<tr><th scope=row>2</th><td>cell</td><td>liver</td></tr>\n",
       "\t<tr><th scope=row>3</th><td>cell</td><td>liver</td></tr>\n",
       "\t<tr><th scope=row>4</th><td>cell</td><td>liver</td></tr>\n",
       "\t<tr><th scope=row>5</th><td>cell</td><td>liver</td></tr>\n",
       "\t<tr><th scope=row>6</th><td>cell</td><td>liver</td></tr>\n",
       "</tbody>\n",
       "</table>\n"
      ],
      "text/latex": [
       "A data.frame: 6 × 2\n",
       "\\begin{tabular}{r|ll}\n",
       "  & suspension\\_type & tissue\\_general\\\\\n",
       "  & <fct> & <fct>\\\\\n",
       "\\hline\n",
       "\t1 & cell & liver\\\\\n",
       "\t2 & cell & liver\\\\\n",
       "\t3 & cell & liver\\\\\n",
       "\t4 & cell & liver\\\\\n",
       "\t5 & cell & liver\\\\\n",
       "\t6 & cell & liver\\\\\n",
       "\\end{tabular}\n"
      ],
      "text/markdown": [
       "\n",
       "A data.frame: 6 × 2\n",
       "\n",
       "| <!--/--> | suspension_type &lt;fct&gt; | tissue_general &lt;fct&gt; |\n",
       "|---|---|---|\n",
       "| 1 | cell | liver |\n",
       "| 2 | cell | liver |\n",
       "| 3 | cell | liver |\n",
       "| 4 | cell | liver |\n",
       "| 5 | cell | liver |\n",
       "| 6 | cell | liver |\n",
       "\n"
      ],
      "text/plain": [
       "  suspension_type tissue_general\n",
       "1 cell            liver         \n",
       "2 cell            liver         \n",
       "3 cell            liver         \n",
       "4 cell            liver         \n",
       "5 cell            liver         \n",
       "6 cell            liver         "
      ]
     },
     "metadata": {},
     "output_type": "display_data"
    }
   ],
   "source": [
    "obs <- census$get(\"census_data\")$get(\"homo_sapiens\")$obs$read(column_names=c(\"suspension_type\", \"tissue_general\"))$concat()\n",
    "head(as.data.frame(obs))"
   ]
  },
  {
   "cell_type": "markdown",
   "metadata": {
    "id": "I5YBE9lhBlPx"
   },
   "source": [
    "The line above retrieved the suspension type and tissue values for all human cells in Census. Let's dissect step-by-step to see what happened there:\n",
    "\n",
    "\n",
    "1. `$read(column_names = c(\"suspension_type\", \"tissue_general\")` - creates an iterator of Arrow tables that can be used for chunked-based data streaming.\n",
    "2. `$concat()` - retrieves all the results of the iterator and concatenates them into a single Arrow table.\n",
    "3. `as.data.frame(obs)` - converts the Arrow table into a data frame.\n",
    "\n",
    "Let's do each step one more time and inspect the intermediate objects."
   ]
  },
  {
   "cell_type": "code",
   "execution_count": 14,
   "metadata": {
    "colab": {
     "base_uri": "https://localhost:8080/"
    },
    "id": "KWw45mP-Besz",
    "outputId": "86c152f8-b83b-48d6-e576-c3a4b56282be"
   },
   "outputs": [
    {
     "data": {
      "text/plain": [
       "<TableReadIter>\n",
       "  Inherits from: <ReadIter>\n",
       "  Public:\n",
       "    clone: function (deep = FALSE) \n",
       "    concat: function () \n",
       "    initialize: function (sr) \n",
       "    read_complete: function () \n",
       "    read_next: function () \n",
       "  Private:\n",
       "    .read_next: function () \n",
       "    .readComplete: function () \n",
       "    soma_reader_pointer: externalptr\n",
       "    soma_reader_transform: function (x) "
      ]
     },
     "metadata": {},
     "output_type": "display_data"
    }
   ],
   "source": [
    "# Create iterator of Arrow tables\n",
    "iterator <- census$get(\"census_data\")$get(\"homo_sapiens\")$obs$read(column_names=c(\"suspension_type\", \"tissue_general\"))\n",
    "iterator"
   ]
  },
  {
   "cell_type": "code",
   "execution_count": 15,
   "metadata": {
    "colab": {
     "base_uri": "https://localhost:8080/"
    },
    "id": "BIiTYQ0USqTt",
    "outputId": "88d1477c-5db1-4049-fda2-2352ba3eb691"
   },
   "outputs": [
    {
     "data": {
      "text/plain": [
       "Table\n",
       "10737418 rows x 2 columns\n",
       "$suspension_type <dictionary<values=string, indices=int8>>\n",
       "$tissue_general <dictionary<values=string, indices=int8>>"
      ]
     },
     "metadata": {},
     "output_type": "display_data"
    }
   ],
   "source": [
    "# We can get individual chunks\n",
    "table_chunk <- iterator$read_next()\n",
    "table_chunk"
   ]
  },
  {
   "cell_type": "code",
   "execution_count": 16,
   "metadata": {
    "colab": {
     "base_uri": "https://localhost:8080/",
     "height": 423
    },
    "id": "Yn48LNCPTVfN",
    "outputId": "d811ea18-323b-4514-981a-61f8418162e6"
   },
   "outputs": [
    {
     "data": {
      "text/html": [
       "<table class=\"dataframe\">\n",
       "<caption>A data.frame: 6 × 2</caption>\n",
       "<thead>\n",
       "\t<tr><th></th><th scope=col>suspension_type</th><th scope=col>tissue_general</th></tr>\n",
       "\t<tr><th></th><th scope=col>&lt;fct&gt;</th><th scope=col>&lt;fct&gt;</th></tr>\n",
       "</thead>\n",
       "<tbody>\n",
       "\t<tr><th scope=row>1</th><td>cell</td><td>liver</td></tr>\n",
       "\t<tr><th scope=row>2</th><td>cell</td><td>liver</td></tr>\n",
       "\t<tr><th scope=row>3</th><td>cell</td><td>liver</td></tr>\n",
       "\t<tr><th scope=row>4</th><td>cell</td><td>liver</td></tr>\n",
       "\t<tr><th scope=row>5</th><td>cell</td><td>liver</td></tr>\n",
       "\t<tr><th scope=row>6</th><td>cell</td><td>liver</td></tr>\n",
       "</tbody>\n",
       "</table>\n"
      ],
      "text/latex": [
       "A data.frame: 6 × 2\n",
       "\\begin{tabular}{r|ll}\n",
       "  & suspension\\_type & tissue\\_general\\\\\n",
       "  & <fct> & <fct>\\\\\n",
       "\\hline\n",
       "\t1 & cell & liver\\\\\n",
       "\t2 & cell & liver\\\\\n",
       "\t3 & cell & liver\\\\\n",
       "\t4 & cell & liver\\\\\n",
       "\t5 & cell & liver\\\\\n",
       "\t6 & cell & liver\\\\\n",
       "\\end{tabular}\n"
      ],
      "text/markdown": [
       "\n",
       "A data.frame: 6 × 2\n",
       "\n",
       "| <!--/--> | suspension_type &lt;fct&gt; | tissue_general &lt;fct&gt; |\n",
       "|---|---|---|\n",
       "| 1 | cell | liver |\n",
       "| 2 | cell | liver |\n",
       "| 3 | cell | liver |\n",
       "| 4 | cell | liver |\n",
       "| 5 | cell | liver |\n",
       "| 6 | cell | liver |\n",
       "\n"
      ],
      "text/plain": [
       "  suspension_type tissue_general\n",
       "1 cell            liver         \n",
       "2 cell            liver         \n",
       "3 cell            liver         \n",
       "4 cell            liver         \n",
       "5 cell            liver         \n",
       "6 cell            liver         "
      ]
     },
     "metadata": {},
     "output_type": "display_data"
    }
   ],
   "source": [
    "head(as.data.frame(table_chunk))"
   ]
  },
  {
   "cell_type": "code",
   "execution_count": 17,
   "metadata": {
    "colab": {
     "base_uri": "https://localhost:8080/",
     "height": 423
    },
    "id": "_6fjIQKzDM5q",
    "outputId": "6784d50f-d130-426a-aa50-a849ea1b2771"
   },
   "outputs": [
    {
     "data": {
      "text/html": [
       "<table class=\"dataframe\">\n",
       "<caption>A data.frame: 6 × 2</caption>\n",
       "<thead>\n",
       "\t<tr><th></th><th scope=col>suspension_type</th><th scope=col>tissue_general</th></tr>\n",
       "\t<tr><th></th><th scope=col>&lt;fct&gt;</th><th scope=col>&lt;fct&gt;</th></tr>\n",
       "</thead>\n",
       "<tbody>\n",
       "\t<tr><th scope=row>1</th><td>cell</td><td>lung</td></tr>\n",
       "\t<tr><th scope=row>2</th><td>cell</td><td>lung</td></tr>\n",
       "\t<tr><th scope=row>3</th><td>cell</td><td>lung</td></tr>\n",
       "\t<tr><th scope=row>4</th><td>cell</td><td>lung</td></tr>\n",
       "\t<tr><th scope=row>5</th><td>cell</td><td>lung</td></tr>\n",
       "\t<tr><th scope=row>6</th><td>cell</td><td>lung</td></tr>\n",
       "</tbody>\n",
       "</table>\n"
      ],
      "text/latex": [
       "A data.frame: 6 × 2\n",
       "\\begin{tabular}{r|ll}\n",
       "  & suspension\\_type & tissue\\_general\\\\\n",
       "  & <fct> & <fct>\\\\\n",
       "\\hline\n",
       "\t1 & cell & lung\\\\\n",
       "\t2 & cell & lung\\\\\n",
       "\t3 & cell & lung\\\\\n",
       "\t4 & cell & lung\\\\\n",
       "\t5 & cell & lung\\\\\n",
       "\t6 & cell & lung\\\\\n",
       "\\end{tabular}\n"
      ],
      "text/markdown": [
       "\n",
       "A data.frame: 6 × 2\n",
       "\n",
       "| <!--/--> | suspension_type &lt;fct&gt; | tissue_general &lt;fct&gt; |\n",
       "|---|---|---|\n",
       "| 1 | cell | lung |\n",
       "| 2 | cell | lung |\n",
       "| 3 | cell | lung |\n",
       "| 4 | cell | lung |\n",
       "| 5 | cell | lung |\n",
       "| 6 | cell | lung |\n",
       "\n"
      ],
      "text/plain": [
       "  suspension_type tissue_general\n",
       "1 cell            lung          \n",
       "2 cell            lung          \n",
       "3 cell            lung          \n",
       "4 cell            lung          \n",
       "5 cell            lung          \n",
       "6 cell            lung          "
      ]
     },
     "metadata": {},
     "output_type": "display_data"
    }
   ],
   "source": [
    "# Or concatenate the remaining results into a single Arrow Table,\n",
    "# and the convert to a DataFrame\n",
    "table <- iterator$concat()\n",
    "df_obs <- as.data.frame(table)\n",
    "head(df_obs)"
   ]
  },
  {
   "cell_type": "code",
   "execution_count": 18,
   "metadata": {
    "colab": {
     "base_uri": "https://localhost:8080/"
    },
    "id": "5QhtRerLDduB",
    "outputId": "7a8d4d42-ed54-4474-93fc-ed1e883df799"
   },
   "outputs": [
    {
     "data": {
      "text/plain": [
       "\n",
       "    cell  nucleus \n",
       "37775285 29153096 "
      ]
     },
     "metadata": {},
     "output_type": "display_data"
    }
   ],
   "source": [
    "# And you can perform operations useful for your analysis\n",
    "table(df_obs$suspension_type)"
   ]
  },
  {
   "cell_type": "markdown",
   "metadata": {
    "id": "gPif5zy3L0NB"
   },
   "source": [
    "#### Summary info and dataset table\n",
    "\n",
    "The same reading operations can be applied to any SOMA data frame in Census. Let's take a look back at the items of `\"census_info\"`."
   ]
  },
  {
   "cell_type": "code",
   "execution_count": 19,
   "metadata": {
    "colab": {
     "base_uri": "https://localhost:8080/"
    },
    "id": "LwN7a0v3L66V",
    "outputId": "5287c4b3-31e7-4bb5-8caa-b76587b53857"
   },
   "outputs": [
    {
     "data": {
      "text/plain": [
       "<SOMACollection>\n",
       "  uri: s3://cellxgene-census-public-us-west-2/cell-census/2024-09-02/soma/census_info \n",
       "  arrays: datasets*, organisms*, summary_cell_counts*, summary* "
      ]
     },
     "metadata": {},
     "output_type": "display_data"
    }
   ],
   "source": [
    "census$get(\"census_info\")"
   ]
  },
  {
   "cell_type": "markdown",
   "metadata": {
    "id": "evjIzkJXMVIK"
   },
   "source": [
    "`\"summary\"` is a data frame with high-level information of this data release."
   ]
  },
  {
   "cell_type": "code",
   "execution_count": 20,
   "metadata": {
    "colab": {
     "base_uri": "https://localhost:8080/"
    },
    "id": "ii_tRiOYLFt_",
    "outputId": "39d79e41-ce49-456c-c009-a006d9381454"
   },
   "outputs": [
    {
     "data": {
      "text/plain": [
       "<SOMADataFrame>\n",
       "  uri: s3://cellxgene-census-public-us-west-2/cell-census/2024-09-02/soma/census_info/summary \n",
       "  dimensions: soma_joinid \n",
       "  attributes: label, value "
      ]
     },
     "metadata": {},
     "output_type": "display_data"
    }
   ],
   "source": [
    "census$get(\"census_info\")$get(\"summary\")"
   ]
  },
  {
   "cell_type": "code",
   "execution_count": 21,
   "metadata": {
    "colab": {
     "base_uri": "https://localhost:8080/",
     "height": 268
    },
    "id": "gtH3rMBIMUWI",
    "outputId": "bbd7b8b7-273a-4a65-b76d-31fc0a4f942e"
   },
   "outputs": [
    {
     "data": {
      "text/html": [
       "<table class=\"dataframe\">\n",
       "<caption>A data.frame: 7 × 3</caption>\n",
       "<thead>\n",
       "\t<tr><th scope=col>soma_joinid</th><th scope=col>label</th><th scope=col>value</th></tr>\n",
       "\t<tr><th scope=col>&lt;int&gt;</th><th scope=col>&lt;chr&gt;</th><th scope=col>&lt;chr&gt;</th></tr>\n",
       "</thead>\n",
       "<tbody>\n",
       "\t<tr><td>0</td><td>census_schema_version     </td><td>2.1.0     </td></tr>\n",
       "\t<tr><td>1</td><td>census_build_date         </td><td>2024-09-02</td></tr>\n",
       "\t<tr><td>2</td><td>dataset_schema_version    </td><td>5.1.0     </td></tr>\n",
       "\t<tr><td>3</td><td>total_cell_count          </td><td>120108090 </td></tr>\n",
       "\t<tr><td>4</td><td>unique_cell_count         </td><td>64161082  </td></tr>\n",
       "\t<tr><td>5</td><td>number_donors_homo_sapiens</td><td>19993     </td></tr>\n",
       "\t<tr><td>6</td><td>number_donors_mus_musculus</td><td>4698      </td></tr>\n",
       "</tbody>\n",
       "</table>\n"
      ],
      "text/latex": [
       "A data.frame: 7 × 3\n",
       "\\begin{tabular}{lll}\n",
       " soma\\_joinid & label & value\\\\\n",
       " <int> & <chr> & <chr>\\\\\n",
       "\\hline\n",
       "\t 0 & census\\_schema\\_version      & 2.1.0     \\\\\n",
       "\t 1 & census\\_build\\_date          & 2024-09-02\\\\\n",
       "\t 2 & dataset\\_schema\\_version     & 5.1.0     \\\\\n",
       "\t 3 & total\\_cell\\_count           & 120108090 \\\\\n",
       "\t 4 & unique\\_cell\\_count          & 64161082  \\\\\n",
       "\t 5 & number\\_donors\\_homo\\_sapiens & 19993     \\\\\n",
       "\t 6 & number\\_donors\\_mus\\_musculus & 4698      \\\\\n",
       "\\end{tabular}\n"
      ],
      "text/markdown": [
       "\n",
       "A data.frame: 7 × 3\n",
       "\n",
       "| soma_joinid &lt;int&gt; | label &lt;chr&gt; | value &lt;chr&gt; |\n",
       "|---|---|---|\n",
       "| 0 | census_schema_version      | 2.1.0      |\n",
       "| 1 | census_build_date          | 2024-09-02 |\n",
       "| 2 | dataset_schema_version     | 5.1.0      |\n",
       "| 3 | total_cell_count           | 120108090  |\n",
       "| 4 | unique_cell_count          | 64161082   |\n",
       "| 5 | number_donors_homo_sapiens | 19993      |\n",
       "| 6 | number_donors_mus_musculus | 4698       |\n",
       "\n"
      ],
      "text/plain": [
       "  soma_joinid label                      value     \n",
       "1 0           census_schema_version      2.1.0     \n",
       "2 1           census_build_date          2024-09-02\n",
       "3 2           dataset_schema_version     5.1.0     \n",
       "4 3           total_cell_count           120108090 \n",
       "5 4           unique_cell_count          64161082  \n",
       "6 5           number_donors_homo_sapiens 19993     \n",
       "7 6           number_donors_mus_musculus 4698      "
      ]
     },
     "metadata": {},
     "output_type": "display_data"
    }
   ],
   "source": [
    "as.data.frame(census$get(\"census_info\")$get(\"summary\")$read()$concat())"
   ]
  },
  {
   "cell_type": "markdown",
   "metadata": {
    "id": "jFf2vxR5Mkqw"
   },
   "source": [
    "And `\"datasets\"` is data frame listing all of the datasets whose single-cell data is contained in this Census release.\n",
    "\n",
    "**🚨 NOTE:** the column `dataset_id` is also present in the cell metadata for joining"
   ]
  },
  {
   "cell_type": "code",
   "execution_count": 22,
   "metadata": {
    "colab": {
     "base_uri": "https://localhost:8080/",
     "height": 947
    },
    "id": "54lUHIYeMgwL",
    "outputId": "b249b0a5-3e5d-44ed-92d0-2c3dffc72e88"
   },
   "outputs": [
    {
     "data": {
      "text/html": [
       "<table class=\"dataframe\">\n",
       "<caption>A data.frame: 6 × 11</caption>\n",
       "<thead>\n",
       "\t<tr><th></th><th scope=col>soma_joinid</th><th scope=col>citation</th><th scope=col>collection_id</th><th scope=col>collection_name</th><th scope=col>collection_doi</th><th scope=col>collection_doi_label</th><th scope=col>dataset_id</th><th scope=col>dataset_version_id</th><th scope=col>dataset_title</th><th scope=col>dataset_h5ad_path</th><th scope=col>dataset_total_cell_count</th></tr>\n",
       "\t<tr><th></th><th scope=col>&lt;int&gt;</th><th scope=col>&lt;chr&gt;</th><th scope=col>&lt;chr&gt;</th><th scope=col>&lt;chr&gt;</th><th scope=col>&lt;chr&gt;</th><th scope=col>&lt;chr&gt;</th><th scope=col>&lt;chr&gt;</th><th scope=col>&lt;chr&gt;</th><th scope=col>&lt;chr&gt;</th><th scope=col>&lt;chr&gt;</th><th scope=col>&lt;int&gt;</th></tr>\n",
       "</thead>\n",
       "<tbody>\n",
       "\t<tr><th scope=row>1</th><td>0</td><td>Publication: https://doi.org/10.1002/hep4.1854 Dataset Version: https://datasets.cellxgene.cziscience.com/aaab3abd-624a-442e-b62b-3f2edb10b45e.h5ad curated and distributed by CZ CELLxGENE Discover in Collection: https://cellxgene.cziscience.com/collections/44531dd9-1388-4416-a117-af0a99de2294           </td><td>44531dd9-1388-4416-a117-af0a99de2294</td><td>Single-Cell, Single-Nucleus, and Spatial RNA Sequencing of the Human Liver Identifies Cholangiocyte and Mesenchymal Heterogeneity                   </td><td>10.1002/hep4.1854           </td><td>Andrews et al. (2022) Hepatology Communications</td><td>0895c838-e550-48a3-a777-dbcd35d30272</td><td>aaab3abd-624a-442e-b62b-3f2edb10b45e</td><td>Healthy human liver: B cells                                                                      </td><td>0895c838-e550-48a3-a777-dbcd35d30272.h5ad</td><td>  146</td></tr>\n",
       "\t<tr><th scope=row>2</th><td>1</td><td>Publication: https://doi.org/10.1126/sciimmunol.abe6291 Dataset Version: https://datasets.cellxgene.cziscience.com/50c1d621-995d-4386-9fcb-5c70fcdf8d66.h5ad curated and distributed by CZ CELLxGENE Discover in Collection: https://cellxgene.cziscience.com/collections/3a2af25b-2338-4266-aad3-aa8d07473f50  </td><td>3a2af25b-2338-4266-aad3-aa8d07473f50</td><td>Single-cell analysis of human B cell maturation predicts how antibody class switching shapes selection dynamics                                     </td><td>10.1126/sciimmunol.abe6291  </td><td>King et al. (2021) Sci. Immunol.               </td><td>00ff600e-6e2e-4d76-846f-0eec4f0ae417</td><td>50c1d621-995d-4386-9fcb-5c70fcdf8d66</td><td>Human tonsil nonlymphoid cells scRNA                                                              </td><td>00ff600e-6e2e-4d76-846f-0eec4f0ae417.h5ad</td><td>  363</td></tr>\n",
       "\t<tr><th scope=row>3</th><td>2</td><td>Publication: https://doi.org/10.1038/s41593-020-00764-7 Dataset Version: https://datasets.cellxgene.cziscience.com/e95b54b1-8656-4fe8-9f53-6fdd97f397ba.h5ad curated and distributed by CZ CELLxGENE Discover in Collection: https://cellxgene.cziscience.com/collections/180bff9c-c8a5-4539-b13b-ddbc00d643e6  </td><td>180bff9c-c8a5-4539-b13b-ddbc00d643e6</td><td>Molecular characterization of selectively vulnerable neurons in Alzheimer's Disease                                                                 </td><td>10.1038/s41593-020-00764-7  </td><td>Leng et al. (2021) Nat Neurosci                </td><td>bdacc907-7c26-419f-8808-969eab3ca2e8</td><td>e95b54b1-8656-4fe8-9f53-6fdd97f397ba</td><td>Molecular characterization of selectively vulnerable neurons in Alzheimer’s Disease: SFG microglia</td><td>bdacc907-7c26-419f-8808-969eab3ca2e8.h5ad</td><td> 3799</td></tr>\n",
       "\t<tr><th scope=row>4</th><td>3</td><td>Publication: https://doi.org/10.1038/s41467-022-29450-x Dataset Version: https://datasets.cellxgene.cziscience.com/d6e742c5-f6e5-42f4-8064-622783542f6b.h5ad curated and distributed by CZ CELLxGENE Discover in Collection: https://cellxgene.cziscience.com/collections/bf325905-5e8e-42e3-933d-9a9053e9af80  </td><td>bf325905-5e8e-42e3-933d-9a9053e9af80</td><td>Single-cell Atlas of common variable immunodeficiency shows germinal center-associated epigenetic dysregulation in B-cell responses                 </td><td>10.1038/s41467-022-29450-x  </td><td>Rodríguez-Ubreva et al. (2022) Nat Commun      </td><td>a5d95a42-0137-496f-8a60-101e17f263c8</td><td>d6e742c5-f6e5-42f4-8064-622783542f6b</td><td>Steady-state B cells - scRNA-seq                                                                  </td><td>a5d95a42-0137-496f-8a60-101e17f263c8.h5ad</td><td> 1324</td></tr>\n",
       "\t<tr><th scope=row>5</th><td>4</td><td>Publication: https://doi.org/10.1038/s41590-021-01059-0 Dataset Version: https://datasets.cellxgene.cziscience.com/61f15353-e598-43b5-bb5a-80ac44a0cf0b.h5ad curated and distributed by CZ CELLxGENE Discover in Collection: https://cellxgene.cziscience.com/collections/93eebe82-d8c3-41bc-a906-63b5b5f24a9d  </td><td>93eebe82-d8c3-41bc-a906-63b5b5f24a9d</td><td>Single-cell proteo-genomic reference maps of the hematopoietic system enable the purification and massive profiling of precisely defined cell states</td><td>10.1038/s41590-021-01059-0  </td><td>Triana et al. (2021) Nat Immunol               </td><td>d3566d6a-a455-4a15-980f-45eb29114cab</td><td>61f15353-e598-43b5-bb5a-80ac44a0cf0b</td><td>blood and bone marrow from a healthy young donor                                                  </td><td>d3566d6a-a455-4a15-980f-45eb29114cab.h5ad</td><td>15502</td></tr>\n",
       "\t<tr><th scope=row>6</th><td>5</td><td>Publication: https://doi.org/10.1016/j.celrep.2019.12.082 Dataset Version: https://datasets.cellxgene.cziscience.com/76b42c8c-9357-4c13-908f-8b757a0f8637.h5ad curated and distributed by CZ CELLxGENE Discover in Collection: https://cellxgene.cziscience.com/collections/939769a8-d8d2-4d01-abfc-55699893fd49</td><td>939769a8-d8d2-4d01-abfc-55699893fd49</td><td>Integration of eQTL and a Single-Cell Atlas in the Human Eye Identifies Causal Genes for Age-Related Macular Degeneration                           </td><td>10.1016/j.celrep.2019.12.082</td><td>Orozco et al. (2020) Cell Reports              </td><td>de17ac25-550a-4018-be75-bbb485a0636e</td><td>76b42c8c-9357-4c13-908f-8b757a0f8637</td><td>Myeloid cells of human eye                                                                        </td><td>de17ac25-550a-4018-be75-bbb485a0636e.h5ad</td><td>  395</td></tr>\n",
       "</tbody>\n",
       "</table>\n"
      ],
      "text/latex": [
       "A data.frame: 6 × 11\n",
       "\\begin{tabular}{r|lllllllllll}\n",
       "  & soma\\_joinid & citation & collection\\_id & collection\\_name & collection\\_doi & collection\\_doi\\_label & dataset\\_id & dataset\\_version\\_id & dataset\\_title & dataset\\_h5ad\\_path & dataset\\_total\\_cell\\_count\\\\\n",
       "  & <int> & <chr> & <chr> & <chr> & <chr> & <chr> & <chr> & <chr> & <chr> & <chr> & <int>\\\\\n",
       "\\hline\n",
       "\t1 & 0 & Publication: https://doi.org/10.1002/hep4.1854 Dataset Version: https://datasets.cellxgene.cziscience.com/aaab3abd-624a-442e-b62b-3f2edb10b45e.h5ad curated and distributed by CZ CELLxGENE Discover in Collection: https://cellxgene.cziscience.com/collections/44531dd9-1388-4416-a117-af0a99de2294            & 44531dd9-1388-4416-a117-af0a99de2294 & Single-Cell, Single-Nucleus, and Spatial RNA Sequencing of the Human Liver Identifies Cholangiocyte and Mesenchymal Heterogeneity                    & 10.1002/hep4.1854            & Andrews et al. (2022) Hepatology Communications & 0895c838-e550-48a3-a777-dbcd35d30272 & aaab3abd-624a-442e-b62b-3f2edb10b45e & Healthy human liver: B cells                                                                       & 0895c838-e550-48a3-a777-dbcd35d30272.h5ad &   146\\\\\n",
       "\t2 & 1 & Publication: https://doi.org/10.1126/sciimmunol.abe6291 Dataset Version: https://datasets.cellxgene.cziscience.com/50c1d621-995d-4386-9fcb-5c70fcdf8d66.h5ad curated and distributed by CZ CELLxGENE Discover in Collection: https://cellxgene.cziscience.com/collections/3a2af25b-2338-4266-aad3-aa8d07473f50   & 3a2af25b-2338-4266-aad3-aa8d07473f50 & Single-cell analysis of human B cell maturation predicts how antibody class switching shapes selection dynamics                                      & 10.1126/sciimmunol.abe6291   & King et al. (2021) Sci. Immunol.                & 00ff600e-6e2e-4d76-846f-0eec4f0ae417 & 50c1d621-995d-4386-9fcb-5c70fcdf8d66 & Human tonsil nonlymphoid cells scRNA                                                               & 00ff600e-6e2e-4d76-846f-0eec4f0ae417.h5ad &   363\\\\\n",
       "\t3 & 2 & Publication: https://doi.org/10.1038/s41593-020-00764-7 Dataset Version: https://datasets.cellxgene.cziscience.com/e95b54b1-8656-4fe8-9f53-6fdd97f397ba.h5ad curated and distributed by CZ CELLxGENE Discover in Collection: https://cellxgene.cziscience.com/collections/180bff9c-c8a5-4539-b13b-ddbc00d643e6   & 180bff9c-c8a5-4539-b13b-ddbc00d643e6 & Molecular characterization of selectively vulnerable neurons in Alzheimer's Disease                                                                  & 10.1038/s41593-020-00764-7   & Leng et al. (2021) Nat Neurosci                 & bdacc907-7c26-419f-8808-969eab3ca2e8 & e95b54b1-8656-4fe8-9f53-6fdd97f397ba & Molecular characterization of selectively vulnerable neurons in Alzheimer’s Disease: SFG microglia & bdacc907-7c26-419f-8808-969eab3ca2e8.h5ad &  3799\\\\\n",
       "\t4 & 3 & Publication: https://doi.org/10.1038/s41467-022-29450-x Dataset Version: https://datasets.cellxgene.cziscience.com/d6e742c5-f6e5-42f4-8064-622783542f6b.h5ad curated and distributed by CZ CELLxGENE Discover in Collection: https://cellxgene.cziscience.com/collections/bf325905-5e8e-42e3-933d-9a9053e9af80   & bf325905-5e8e-42e3-933d-9a9053e9af80 & Single-cell Atlas of common variable immunodeficiency shows germinal center-associated epigenetic dysregulation in B-cell responses                  & 10.1038/s41467-022-29450-x   & Rodríguez-Ubreva et al. (2022) Nat Commun       & a5d95a42-0137-496f-8a60-101e17f263c8 & d6e742c5-f6e5-42f4-8064-622783542f6b & Steady-state B cells - scRNA-seq                                                                   & a5d95a42-0137-496f-8a60-101e17f263c8.h5ad &  1324\\\\\n",
       "\t5 & 4 & Publication: https://doi.org/10.1038/s41590-021-01059-0 Dataset Version: https://datasets.cellxgene.cziscience.com/61f15353-e598-43b5-bb5a-80ac44a0cf0b.h5ad curated and distributed by CZ CELLxGENE Discover in Collection: https://cellxgene.cziscience.com/collections/93eebe82-d8c3-41bc-a906-63b5b5f24a9d   & 93eebe82-d8c3-41bc-a906-63b5b5f24a9d & Single-cell proteo-genomic reference maps of the hematopoietic system enable the purification and massive profiling of precisely defined cell states & 10.1038/s41590-021-01059-0   & Triana et al. (2021) Nat Immunol                & d3566d6a-a455-4a15-980f-45eb29114cab & 61f15353-e598-43b5-bb5a-80ac44a0cf0b & blood and bone marrow from a healthy young donor                                                   & d3566d6a-a455-4a15-980f-45eb29114cab.h5ad & 15502\\\\\n",
       "\t6 & 5 & Publication: https://doi.org/10.1016/j.celrep.2019.12.082 Dataset Version: https://datasets.cellxgene.cziscience.com/76b42c8c-9357-4c13-908f-8b757a0f8637.h5ad curated and distributed by CZ CELLxGENE Discover in Collection: https://cellxgene.cziscience.com/collections/939769a8-d8d2-4d01-abfc-55699893fd49 & 939769a8-d8d2-4d01-abfc-55699893fd49 & Integration of eQTL and a Single-Cell Atlas in the Human Eye Identifies Causal Genes for Age-Related Macular Degeneration                            & 10.1016/j.celrep.2019.12.082 & Orozco et al. (2020) Cell Reports               & de17ac25-550a-4018-be75-bbb485a0636e & 76b42c8c-9357-4c13-908f-8b757a0f8637 & Myeloid cells of human eye                                                                         & de17ac25-550a-4018-be75-bbb485a0636e.h5ad &   395\\\\\n",
       "\\end{tabular}\n"
      ],
      "text/markdown": [
       "\n",
       "A data.frame: 6 × 11\n",
       "\n",
       "| <!--/--> | soma_joinid &lt;int&gt; | citation &lt;chr&gt; | collection_id &lt;chr&gt; | collection_name &lt;chr&gt; | collection_doi &lt;chr&gt; | collection_doi_label &lt;chr&gt; | dataset_id &lt;chr&gt; | dataset_version_id &lt;chr&gt; | dataset_title &lt;chr&gt; | dataset_h5ad_path &lt;chr&gt; | dataset_total_cell_count &lt;int&gt; |\n",
       "|---|---|---|---|---|---|---|---|---|---|---|---|\n",
       "| 1 | 0 | Publication: https://doi.org/10.1002/hep4.1854 Dataset Version: https://datasets.cellxgene.cziscience.com/aaab3abd-624a-442e-b62b-3f2edb10b45e.h5ad curated and distributed by CZ CELLxGENE Discover in Collection: https://cellxgene.cziscience.com/collections/44531dd9-1388-4416-a117-af0a99de2294            | 44531dd9-1388-4416-a117-af0a99de2294 | Single-Cell, Single-Nucleus, and Spatial RNA Sequencing of the Human Liver Identifies Cholangiocyte and Mesenchymal Heterogeneity                    | 10.1002/hep4.1854            | Andrews et al. (2022) Hepatology Communications | 0895c838-e550-48a3-a777-dbcd35d30272 | aaab3abd-624a-442e-b62b-3f2edb10b45e | Healthy human liver: B cells                                                                       | 0895c838-e550-48a3-a777-dbcd35d30272.h5ad |   146 |\n",
       "| 2 | 1 | Publication: https://doi.org/10.1126/sciimmunol.abe6291 Dataset Version: https://datasets.cellxgene.cziscience.com/50c1d621-995d-4386-9fcb-5c70fcdf8d66.h5ad curated and distributed by CZ CELLxGENE Discover in Collection: https://cellxgene.cziscience.com/collections/3a2af25b-2338-4266-aad3-aa8d07473f50   | 3a2af25b-2338-4266-aad3-aa8d07473f50 | Single-cell analysis of human B cell maturation predicts how antibody class switching shapes selection dynamics                                      | 10.1126/sciimmunol.abe6291   | King et al. (2021) Sci. Immunol.                | 00ff600e-6e2e-4d76-846f-0eec4f0ae417 | 50c1d621-995d-4386-9fcb-5c70fcdf8d66 | Human tonsil nonlymphoid cells scRNA                                                               | 00ff600e-6e2e-4d76-846f-0eec4f0ae417.h5ad |   363 |\n",
       "| 3 | 2 | Publication: https://doi.org/10.1038/s41593-020-00764-7 Dataset Version: https://datasets.cellxgene.cziscience.com/e95b54b1-8656-4fe8-9f53-6fdd97f397ba.h5ad curated and distributed by CZ CELLxGENE Discover in Collection: https://cellxgene.cziscience.com/collections/180bff9c-c8a5-4539-b13b-ddbc00d643e6   | 180bff9c-c8a5-4539-b13b-ddbc00d643e6 | Molecular characterization of selectively vulnerable neurons in Alzheimer's Disease                                                                  | 10.1038/s41593-020-00764-7   | Leng et al. (2021) Nat Neurosci                 | bdacc907-7c26-419f-8808-969eab3ca2e8 | e95b54b1-8656-4fe8-9f53-6fdd97f397ba | Molecular characterization of selectively vulnerable neurons in Alzheimer’s Disease: SFG microglia | bdacc907-7c26-419f-8808-969eab3ca2e8.h5ad |  3799 |\n",
       "| 4 | 3 | Publication: https://doi.org/10.1038/s41467-022-29450-x Dataset Version: https://datasets.cellxgene.cziscience.com/d6e742c5-f6e5-42f4-8064-622783542f6b.h5ad curated and distributed by CZ CELLxGENE Discover in Collection: https://cellxgene.cziscience.com/collections/bf325905-5e8e-42e3-933d-9a9053e9af80   | bf325905-5e8e-42e3-933d-9a9053e9af80 | Single-cell Atlas of common variable immunodeficiency shows germinal center-associated epigenetic dysregulation in B-cell responses                  | 10.1038/s41467-022-29450-x   | Rodríguez-Ubreva et al. (2022) Nat Commun       | a5d95a42-0137-496f-8a60-101e17f263c8 | d6e742c5-f6e5-42f4-8064-622783542f6b | Steady-state B cells - scRNA-seq                                                                   | a5d95a42-0137-496f-8a60-101e17f263c8.h5ad |  1324 |\n",
       "| 5 | 4 | Publication: https://doi.org/10.1038/s41590-021-01059-0 Dataset Version: https://datasets.cellxgene.cziscience.com/61f15353-e598-43b5-bb5a-80ac44a0cf0b.h5ad curated and distributed by CZ CELLxGENE Discover in Collection: https://cellxgene.cziscience.com/collections/93eebe82-d8c3-41bc-a906-63b5b5f24a9d   | 93eebe82-d8c3-41bc-a906-63b5b5f24a9d | Single-cell proteo-genomic reference maps of the hematopoietic system enable the purification and massive profiling of precisely defined cell states | 10.1038/s41590-021-01059-0   | Triana et al. (2021) Nat Immunol                | d3566d6a-a455-4a15-980f-45eb29114cab | 61f15353-e598-43b5-bb5a-80ac44a0cf0b | blood and bone marrow from a healthy young donor                                                   | d3566d6a-a455-4a15-980f-45eb29114cab.h5ad | 15502 |\n",
       "| 6 | 5 | Publication: https://doi.org/10.1016/j.celrep.2019.12.082 Dataset Version: https://datasets.cellxgene.cziscience.com/76b42c8c-9357-4c13-908f-8b757a0f8637.h5ad curated and distributed by CZ CELLxGENE Discover in Collection: https://cellxgene.cziscience.com/collections/939769a8-d8d2-4d01-abfc-55699893fd49 | 939769a8-d8d2-4d01-abfc-55699893fd49 | Integration of eQTL and a Single-Cell Atlas in the Human Eye Identifies Causal Genes for Age-Related Macular Degeneration                            | 10.1016/j.celrep.2019.12.082 | Orozco et al. (2020) Cell Reports               | de17ac25-550a-4018-be75-bbb485a0636e | 76b42c8c-9357-4c13-908f-8b757a0f8637 | Myeloid cells of human eye                                                                         | de17ac25-550a-4018-be75-bbb485a0636e.h5ad |   395 |\n",
       "\n"
      ],
      "text/plain": [
       "  soma_joinid\n",
       "1 0          \n",
       "2 1          \n",
       "3 2          \n",
       "4 3          \n",
       "5 4          \n",
       "6 5          \n",
       "  citation                                                                                                                                                                                                                                                                                                        \n",
       "1 Publication: https://doi.org/10.1002/hep4.1854 Dataset Version: https://datasets.cellxgene.cziscience.com/aaab3abd-624a-442e-b62b-3f2edb10b45e.h5ad curated and distributed by CZ CELLxGENE Discover in Collection: https://cellxgene.cziscience.com/collections/44531dd9-1388-4416-a117-af0a99de2294           \n",
       "2 Publication: https://doi.org/10.1126/sciimmunol.abe6291 Dataset Version: https://datasets.cellxgene.cziscience.com/50c1d621-995d-4386-9fcb-5c70fcdf8d66.h5ad curated and distributed by CZ CELLxGENE Discover in Collection: https://cellxgene.cziscience.com/collections/3a2af25b-2338-4266-aad3-aa8d07473f50  \n",
       "3 Publication: https://doi.org/10.1038/s41593-020-00764-7 Dataset Version: https://datasets.cellxgene.cziscience.com/e95b54b1-8656-4fe8-9f53-6fdd97f397ba.h5ad curated and distributed by CZ CELLxGENE Discover in Collection: https://cellxgene.cziscience.com/collections/180bff9c-c8a5-4539-b13b-ddbc00d643e6  \n",
       "4 Publication: https://doi.org/10.1038/s41467-022-29450-x Dataset Version: https://datasets.cellxgene.cziscience.com/d6e742c5-f6e5-42f4-8064-622783542f6b.h5ad curated and distributed by CZ CELLxGENE Discover in Collection: https://cellxgene.cziscience.com/collections/bf325905-5e8e-42e3-933d-9a9053e9af80  \n",
       "5 Publication: https://doi.org/10.1038/s41590-021-01059-0 Dataset Version: https://datasets.cellxgene.cziscience.com/61f15353-e598-43b5-bb5a-80ac44a0cf0b.h5ad curated and distributed by CZ CELLxGENE Discover in Collection: https://cellxgene.cziscience.com/collections/93eebe82-d8c3-41bc-a906-63b5b5f24a9d  \n",
       "6 Publication: https://doi.org/10.1016/j.celrep.2019.12.082 Dataset Version: https://datasets.cellxgene.cziscience.com/76b42c8c-9357-4c13-908f-8b757a0f8637.h5ad curated and distributed by CZ CELLxGENE Discover in Collection: https://cellxgene.cziscience.com/collections/939769a8-d8d2-4d01-abfc-55699893fd49\n",
       "  collection_id                       \n",
       "1 44531dd9-1388-4416-a117-af0a99de2294\n",
       "2 3a2af25b-2338-4266-aad3-aa8d07473f50\n",
       "3 180bff9c-c8a5-4539-b13b-ddbc00d643e6\n",
       "4 bf325905-5e8e-42e3-933d-9a9053e9af80\n",
       "5 93eebe82-d8c3-41bc-a906-63b5b5f24a9d\n",
       "6 939769a8-d8d2-4d01-abfc-55699893fd49\n",
       "  collection_name                                                                                                                                     \n",
       "1 Single-Cell, Single-Nucleus, and Spatial RNA Sequencing of the Human Liver Identifies Cholangiocyte and Mesenchymal Heterogeneity                   \n",
       "2 Single-cell analysis of human B cell maturation predicts how antibody class switching shapes selection dynamics                                     \n",
       "3 Molecular characterization of selectively vulnerable neurons in Alzheimer's Disease                                                                 \n",
       "4 Single-cell Atlas of common variable immunodeficiency shows germinal center-associated epigenetic dysregulation in B-cell responses                 \n",
       "5 Single-cell proteo-genomic reference maps of the hematopoietic system enable the purification and massive profiling of precisely defined cell states\n",
       "6 Integration of eQTL and a Single-Cell Atlas in the Human Eye Identifies Causal Genes for Age-Related Macular Degeneration                           \n",
       "  collection_doi               collection_doi_label                           \n",
       "1 10.1002/hep4.1854            Andrews et al. (2022) Hepatology Communications\n",
       "2 10.1126/sciimmunol.abe6291   King et al. (2021) Sci. Immunol.               \n",
       "3 10.1038/s41593-020-00764-7   Leng et al. (2021) Nat Neurosci                \n",
       "4 10.1038/s41467-022-29450-x   Rodríguez-Ubreva et al. (2022) Nat Commun      \n",
       "5 10.1038/s41590-021-01059-0   Triana et al. (2021) Nat Immunol               \n",
       "6 10.1016/j.celrep.2019.12.082 Orozco et al. (2020) Cell Reports              \n",
       "  dataset_id                           dataset_version_id                  \n",
       "1 0895c838-e550-48a3-a777-dbcd35d30272 aaab3abd-624a-442e-b62b-3f2edb10b45e\n",
       "2 00ff600e-6e2e-4d76-846f-0eec4f0ae417 50c1d621-995d-4386-9fcb-5c70fcdf8d66\n",
       "3 bdacc907-7c26-419f-8808-969eab3ca2e8 e95b54b1-8656-4fe8-9f53-6fdd97f397ba\n",
       "4 a5d95a42-0137-496f-8a60-101e17f263c8 d6e742c5-f6e5-42f4-8064-622783542f6b\n",
       "5 d3566d6a-a455-4a15-980f-45eb29114cab 61f15353-e598-43b5-bb5a-80ac44a0cf0b\n",
       "6 de17ac25-550a-4018-be75-bbb485a0636e 76b42c8c-9357-4c13-908f-8b757a0f8637\n",
       "  dataset_title                                                                                     \n",
       "1 Healthy human liver: B cells                                                                      \n",
       "2 Human tonsil nonlymphoid cells scRNA                                                              \n",
       "3 Molecular characterization of selectively vulnerable neurons in Alzheimer’s Disease: SFG microglia\n",
       "4 Steady-state B cells - scRNA-seq                                                                  \n",
       "5 blood and bone marrow from a healthy young donor                                                  \n",
       "6 Myeloid cells of human eye                                                                        \n",
       "  dataset_h5ad_path                         dataset_total_cell_count\n",
       "1 0895c838-e550-48a3-a777-dbcd35d30272.h5ad   146                   \n",
       "2 00ff600e-6e2e-4d76-846f-0eec4f0ae417.h5ad   363                   \n",
       "3 bdacc907-7c26-419f-8808-969eab3ca2e8.h5ad  3799                   \n",
       "4 a5d95a42-0137-496f-8a60-101e17f263c8.h5ad  1324                   \n",
       "5 d3566d6a-a455-4a15-980f-45eb29114cab.h5ad 15502                   \n",
       "6 de17ac25-550a-4018-be75-bbb485a0636e.h5ad   395                   "
      ]
     },
     "metadata": {},
     "output_type": "display_data"
    }
   ],
   "source": [
    "datasets <- census$get(\"census_info\")$get(\"datasets\")$read()$concat()\n",
    "head(as.data.frame(datasets))"
   ]
  },
  {
   "cell_type": "markdown",
   "metadata": {
    "id": "ihxvtyH4Vz2B"
   },
   "source": [
    "#### Reading gene metadata\n",
    "\n",
    "Reading gene metadata is similar to reading cell metadata. However the location of this data frame is inside the soma Measurement. This was designed to allow for multi-modal data, whereby the same observation (cell) can have a different set of features for each type of measurement (e.g. genes, proteins).\n",
    "\n",
    "\n",
    "To read the gene metadata:"
   ]
  },
  {
   "cell_type": "code",
   "execution_count": 23,
   "metadata": {
    "colab": {
     "base_uri": "https://localhost:8080/",
     "height": 423
    },
    "id": "wsskajc-VAtD",
    "outputId": "f738bad6-76c5-4905-e023-7edc378c9eec"
   },
   "outputs": [
    {
     "data": {
      "text/html": [
       "<table class=\"dataframe\">\n",
       "<caption>A data.frame: 6 × 6</caption>\n",
       "<thead>\n",
       "\t<tr><th></th><th scope=col>soma_joinid</th><th scope=col>feature_id</th><th scope=col>feature_name</th><th scope=col>feature_length</th><th scope=col>nnz</th><th scope=col>n_measured_obs</th></tr>\n",
       "\t<tr><th></th><th scope=col>&lt;int&gt;</th><th scope=col>&lt;chr&gt;</th><th scope=col>&lt;chr&gt;</th><th scope=col>&lt;int&gt;</th><th scope=col>&lt;int&gt;</th><th scope=col>&lt;int&gt;</th></tr>\n",
       "</thead>\n",
       "<tbody>\n",
       "\t<tr><th scope=row>1</th><td>0</td><td>ENSG00000000003</td><td>TSPAN6  </td><td>4530</td><td> 4811135</td><td>77128603</td></tr>\n",
       "\t<tr><th scope=row>2</th><td>1</td><td>ENSG00000000005</td><td>TNMD    </td><td>1476</td><td>  269136</td><td>64017621</td></tr>\n",
       "\t<tr><th scope=row>3</th><td>2</td><td>ENSG00000000419</td><td>DPM1    </td><td>9276</td><td>18420588</td><td>77502438</td></tr>\n",
       "\t<tr><th scope=row>4</th><td>3</td><td>ENSG00000000457</td><td>SCYL3   </td><td>6883</td><td> 9268173</td><td>76952827</td></tr>\n",
       "\t<tr><th scope=row>5</th><td>4</td><td>ENSG00000000460</td><td>C1orf112</td><td>5970</td><td> 6484239</td><td>76979490</td></tr>\n",
       "\t<tr><th scope=row>6</th><td>5</td><td>ENSG00000000938</td><td>FGR     </td><td>3382</td><td> 6159591</td><td>77404789</td></tr>\n",
       "</tbody>\n",
       "</table>\n"
      ],
      "text/latex": [
       "A data.frame: 6 × 6\n",
       "\\begin{tabular}{r|llllll}\n",
       "  & soma\\_joinid & feature\\_id & feature\\_name & feature\\_length & nnz & n\\_measured\\_obs\\\\\n",
       "  & <int> & <chr> & <chr> & <int> & <int> & <int>\\\\\n",
       "\\hline\n",
       "\t1 & 0 & ENSG00000000003 & TSPAN6   & 4530 &  4811135 & 77128603\\\\\n",
       "\t2 & 1 & ENSG00000000005 & TNMD     & 1476 &   269136 & 64017621\\\\\n",
       "\t3 & 2 & ENSG00000000419 & DPM1     & 9276 & 18420588 & 77502438\\\\\n",
       "\t4 & 3 & ENSG00000000457 & SCYL3    & 6883 &  9268173 & 76952827\\\\\n",
       "\t5 & 4 & ENSG00000000460 & C1orf112 & 5970 &  6484239 & 76979490\\\\\n",
       "\t6 & 5 & ENSG00000000938 & FGR      & 3382 &  6159591 & 77404789\\\\\n",
       "\\end{tabular}\n"
      ],
      "text/markdown": [
       "\n",
       "A data.frame: 6 × 6\n",
       "\n",
       "| <!--/--> | soma_joinid &lt;int&gt; | feature_id &lt;chr&gt; | feature_name &lt;chr&gt; | feature_length &lt;int&gt; | nnz &lt;int&gt; | n_measured_obs &lt;int&gt; |\n",
       "|---|---|---|---|---|---|---|\n",
       "| 1 | 0 | ENSG00000000003 | TSPAN6   | 4530 |  4811135 | 77128603 |\n",
       "| 2 | 1 | ENSG00000000005 | TNMD     | 1476 |   269136 | 64017621 |\n",
       "| 3 | 2 | ENSG00000000419 | DPM1     | 9276 | 18420588 | 77502438 |\n",
       "| 4 | 3 | ENSG00000000457 | SCYL3    | 6883 |  9268173 | 76952827 |\n",
       "| 5 | 4 | ENSG00000000460 | C1orf112 | 5970 |  6484239 | 76979490 |\n",
       "| 6 | 5 | ENSG00000000938 | FGR      | 3382 |  6159591 | 77404789 |\n",
       "\n"
      ],
      "text/plain": [
       "  soma_joinid feature_id      feature_name feature_length nnz     \n",
       "1 0           ENSG00000000003 TSPAN6       4530            4811135\n",
       "2 1           ENSG00000000005 TNMD         1476             269136\n",
       "3 2           ENSG00000000419 DPM1         9276           18420588\n",
       "4 3           ENSG00000000457 SCYL3        6883            9268173\n",
       "5 4           ENSG00000000460 C1orf112     5970            6484239\n",
       "6 5           ENSG00000000938 FGR          3382            6159591\n",
       "  n_measured_obs\n",
       "1 77128603      \n",
       "2 64017621      \n",
       "3 77502438      \n",
       "4 76952827      \n",
       "5 76979490      \n",
       "6 77404789      "
      ]
     },
     "metadata": {},
     "output_type": "display_data"
    }
   ],
   "source": [
    "# Build iterator\n",
    "iterator <- census$get(\"census_data\")$get(\"homo_sapiens\")$ms$get(\"RNA\")$var$read()\n",
    "\n",
    "# Grab first chunk\n",
    "table_chunk <- iterator$read_next()\n",
    "\n",
    "# Convert to data frame\n",
    "head(as.data.frame(table_chunk))"
   ]
  },
  {
   "cell_type": "markdown",
   "metadata": {
    "id": "M_0EEQmnNh_6"
   },
   "source": [
    "#### Reading a Data Frame with row filters\n",
    "\n",
    "SOMA makes it easy and efficient to only select a subset of rows based on a query filter. This helps when you want to grab data or metadata only for specific set of cells or genes based on the columns available in these data frames.\n",
    "\n",
    "For example if you want to get the all the the *primary cells* you can add the following.\n",
    "\n",
    "**🚨 NOTE:** cells annotated as `is_primary_data = True` are those marked as the original contribution, as some cells are represented more than once in Census due to their inclusion in multiple datasets."
   ]
  },
  {
   "cell_type": "code",
   "execution_count": 24,
   "metadata": {
    "colab": {
     "base_uri": "https://localhost:8080/",
     "height": 964
    },
    "id": "2UuuVnlgNnGg",
    "outputId": "8d29a353-dd70-46e1-baaa-768ca982700c"
   },
   "outputs": [
    {
     "data": {
      "text/html": [
       "<table class=\"dataframe\">\n",
       "<caption>A data.frame: 6 × 28</caption>\n",
       "<thead>\n",
       "\t<tr><th></th><th scope=col>soma_joinid</th><th scope=col>dataset_id</th><th scope=col>assay</th><th scope=col>assay_ontology_term_id</th><th scope=col>cell_type</th><th scope=col>cell_type_ontology_term_id</th><th scope=col>development_stage</th><th scope=col>development_stage_ontology_term_id</th><th scope=col>disease</th><th scope=col>disease_ontology_term_id</th><th scope=col>⋯</th><th scope=col>tissue</th><th scope=col>tissue_ontology_term_id</th><th scope=col>tissue_type</th><th scope=col>tissue_general</th><th scope=col>tissue_general_ontology_term_id</th><th scope=col>raw_sum</th><th scope=col>nnz</th><th scope=col>raw_mean_nnz</th><th scope=col>raw_variance_nnz</th><th scope=col>n_measured_vars</th></tr>\n",
       "\t<tr><th></th><th scope=col>&lt;int&gt;</th><th scope=col>&lt;fct&gt;</th><th scope=col>&lt;fct&gt;</th><th scope=col>&lt;fct&gt;</th><th scope=col>&lt;fct&gt;</th><th scope=col>&lt;fct&gt;</th><th scope=col>&lt;fct&gt;</th><th scope=col>&lt;fct&gt;</th><th scope=col>&lt;fct&gt;</th><th scope=col>&lt;fct&gt;</th><th scope=col>⋯</th><th scope=col>&lt;fct&gt;</th><th scope=col>&lt;fct&gt;</th><th scope=col>&lt;fct&gt;</th><th scope=col>&lt;fct&gt;</th><th scope=col>&lt;fct&gt;</th><th scope=col>&lt;dbl&gt;</th><th scope=col>&lt;int&gt;</th><th scope=col>&lt;dbl&gt;</th><th scope=col>&lt;dbl&gt;</th><th scope=col>&lt;int&gt;</th></tr>\n",
       "</thead>\n",
       "<tbody>\n",
       "\t<tr><th scope=row>1</th><td>4308</td><td>a5d95a42-0137-496f-8a60-101e17f263c8</td><td>Smart-seq2</td><td>EFO:0008931</td><td>naive B cell            </td><td>CL:0000788</td><td>26-year-old human stage</td><td>HsapDv:0000120</td><td>normal</td><td>PATO:0000461</td><td>⋯</td><td>blood</td><td>UBERON:0000178</td><td>tissue</td><td>blood</td><td>UBERON:0000178</td><td> 17691</td><td>1199</td><td> 14.75480</td><td>   624.621</td><td>19149</td></tr>\n",
       "\t<tr><th scope=row>2</th><td>4309</td><td>a5d95a42-0137-496f-8a60-101e17f263c8</td><td>Smart-seq2</td><td>EFO:0008931</td><td>naive B cell            </td><td>CL:0000788</td><td>26-year-old human stage</td><td>HsapDv:0000120</td><td>normal</td><td>PATO:0000461</td><td>⋯</td><td>blood</td><td>UBERON:0000178</td><td>tissue</td><td>blood</td><td>UBERON:0000178</td><td> 13612</td><td> 841</td><td> 16.18549</td><td>  1394.944</td><td>19149</td></tr>\n",
       "\t<tr><th scope=row>3</th><td>4310</td><td>a5d95a42-0137-496f-8a60-101e17f263c8</td><td>Smart-seq2</td><td>EFO:0008931</td><td>naive B cell            </td><td>CL:0000788</td><td>26-year-old human stage</td><td>HsapDv:0000120</td><td>normal</td><td>PATO:0000461</td><td>⋯</td><td>blood</td><td>UBERON:0000178</td><td>tissue</td><td>blood</td><td>UBERON:0000178</td><td>126774</td><td>1683</td><td> 75.32620</td><td> 42215.147</td><td>19149</td></tr>\n",
       "\t<tr><th scope=row>4</th><td>4311</td><td>a5d95a42-0137-496f-8a60-101e17f263c8</td><td>Smart-seq2</td><td>EFO:0008931</td><td>naive B cell            </td><td>CL:0000788</td><td>26-year-old human stage</td><td>HsapDv:0000120</td><td>normal</td><td>PATO:0000461</td><td>⋯</td><td>blood</td><td>UBERON:0000178</td><td>tissue</td><td>blood</td><td>UBERON:0000178</td><td> 14370</td><td> 371</td><td> 38.73315</td><td>  4639.991</td><td>19149</td></tr>\n",
       "\t<tr><th scope=row>5</th><td>4312</td><td>a5d95a42-0137-496f-8a60-101e17f263c8</td><td>Smart-seq2</td><td>EFO:0008931</td><td>naive B cell            </td><td>CL:0000788</td><td>26-year-old human stage</td><td>HsapDv:0000120</td><td>normal</td><td>PATO:0000461</td><td>⋯</td><td>blood</td><td>UBERON:0000178</td><td>tissue</td><td>blood</td><td>UBERON:0000178</td><td> 13738</td><td> 507</td><td> 27.09665</td><td>  3874.080</td><td>19149</td></tr>\n",
       "\t<tr><th scope=row>6</th><td>4313</td><td>a5d95a42-0137-496f-8a60-101e17f263c8</td><td>Smart-seq2</td><td>EFO:0008931</td><td>unswitched memory B cell</td><td>CL:0000970</td><td>26-year-old human stage</td><td>HsapDv:0000120</td><td>normal</td><td>PATO:0000461</td><td>⋯</td><td>blood</td><td>UBERON:0000178</td><td>tissue</td><td>blood</td><td>UBERON:0000178</td><td>273713</td><td>1699</td><td>161.10241</td><td>169532.067</td><td>19149</td></tr>\n",
       "</tbody>\n",
       "</table>\n"
      ],
      "text/latex": [
       "A data.frame: 6 × 28\n",
       "\\begin{tabular}{r|lllllllllllllllllllll}\n",
       "  & soma\\_joinid & dataset\\_id & assay & assay\\_ontology\\_term\\_id & cell\\_type & cell\\_type\\_ontology\\_term\\_id & development\\_stage & development\\_stage\\_ontology\\_term\\_id & disease & disease\\_ontology\\_term\\_id & ⋯ & tissue & tissue\\_ontology\\_term\\_id & tissue\\_type & tissue\\_general & tissue\\_general\\_ontology\\_term\\_id & raw\\_sum & nnz & raw\\_mean\\_nnz & raw\\_variance\\_nnz & n\\_measured\\_vars\\\\\n",
       "  & <int> & <fct> & <fct> & <fct> & <fct> & <fct> & <fct> & <fct> & <fct> & <fct> & ⋯ & <fct> & <fct> & <fct> & <fct> & <fct> & <dbl> & <int> & <dbl> & <dbl> & <int>\\\\\n",
       "\\hline\n",
       "\t1 & 4308 & a5d95a42-0137-496f-8a60-101e17f263c8 & Smart-seq2 & EFO:0008931 & naive B cell             & CL:0000788 & 26-year-old human stage & HsapDv:0000120 & normal & PATO:0000461 & ⋯ & blood & UBERON:0000178 & tissue & blood & UBERON:0000178 &  17691 & 1199 &  14.75480 &    624.621 & 19149\\\\\n",
       "\t2 & 4309 & a5d95a42-0137-496f-8a60-101e17f263c8 & Smart-seq2 & EFO:0008931 & naive B cell             & CL:0000788 & 26-year-old human stage & HsapDv:0000120 & normal & PATO:0000461 & ⋯ & blood & UBERON:0000178 & tissue & blood & UBERON:0000178 &  13612 &  841 &  16.18549 &   1394.944 & 19149\\\\\n",
       "\t3 & 4310 & a5d95a42-0137-496f-8a60-101e17f263c8 & Smart-seq2 & EFO:0008931 & naive B cell             & CL:0000788 & 26-year-old human stage & HsapDv:0000120 & normal & PATO:0000461 & ⋯ & blood & UBERON:0000178 & tissue & blood & UBERON:0000178 & 126774 & 1683 &  75.32620 &  42215.147 & 19149\\\\\n",
       "\t4 & 4311 & a5d95a42-0137-496f-8a60-101e17f263c8 & Smart-seq2 & EFO:0008931 & naive B cell             & CL:0000788 & 26-year-old human stage & HsapDv:0000120 & normal & PATO:0000461 & ⋯ & blood & UBERON:0000178 & tissue & blood & UBERON:0000178 &  14370 &  371 &  38.73315 &   4639.991 & 19149\\\\\n",
       "\t5 & 4312 & a5d95a42-0137-496f-8a60-101e17f263c8 & Smart-seq2 & EFO:0008931 & naive B cell             & CL:0000788 & 26-year-old human stage & HsapDv:0000120 & normal & PATO:0000461 & ⋯ & blood & UBERON:0000178 & tissue & blood & UBERON:0000178 &  13738 &  507 &  27.09665 &   3874.080 & 19149\\\\\n",
       "\t6 & 4313 & a5d95a42-0137-496f-8a60-101e17f263c8 & Smart-seq2 & EFO:0008931 & unswitched memory B cell & CL:0000970 & 26-year-old human stage & HsapDv:0000120 & normal & PATO:0000461 & ⋯ & blood & UBERON:0000178 & tissue & blood & UBERON:0000178 & 273713 & 1699 & 161.10241 & 169532.067 & 19149\\\\\n",
       "\\end{tabular}\n"
      ],
      "text/markdown": [
       "\n",
       "A data.frame: 6 × 28\n",
       "\n",
       "| <!--/--> | soma_joinid &lt;int&gt; | dataset_id &lt;fct&gt; | assay &lt;fct&gt; | assay_ontology_term_id &lt;fct&gt; | cell_type &lt;fct&gt; | cell_type_ontology_term_id &lt;fct&gt; | development_stage &lt;fct&gt; | development_stage_ontology_term_id &lt;fct&gt; | disease &lt;fct&gt; | disease_ontology_term_id &lt;fct&gt; | ⋯ ⋯ | tissue &lt;fct&gt; | tissue_ontology_term_id &lt;fct&gt; | tissue_type &lt;fct&gt; | tissue_general &lt;fct&gt; | tissue_general_ontology_term_id &lt;fct&gt; | raw_sum &lt;dbl&gt; | nnz &lt;int&gt; | raw_mean_nnz &lt;dbl&gt; | raw_variance_nnz &lt;dbl&gt; | n_measured_vars &lt;int&gt; |\n",
       "|---|---|---|---|---|---|---|---|---|---|---|---|---|---|---|---|---|---|---|---|---|---|\n",
       "| 1 | 4308 | a5d95a42-0137-496f-8a60-101e17f263c8 | Smart-seq2 | EFO:0008931 | naive B cell             | CL:0000788 | 26-year-old human stage | HsapDv:0000120 | normal | PATO:0000461 | ⋯ | blood | UBERON:0000178 | tissue | blood | UBERON:0000178 |  17691 | 1199 |  14.75480 |    624.621 | 19149 |\n",
       "| 2 | 4309 | a5d95a42-0137-496f-8a60-101e17f263c8 | Smart-seq2 | EFO:0008931 | naive B cell             | CL:0000788 | 26-year-old human stage | HsapDv:0000120 | normal | PATO:0000461 | ⋯ | blood | UBERON:0000178 | tissue | blood | UBERON:0000178 |  13612 |  841 |  16.18549 |   1394.944 | 19149 |\n",
       "| 3 | 4310 | a5d95a42-0137-496f-8a60-101e17f263c8 | Smart-seq2 | EFO:0008931 | naive B cell             | CL:0000788 | 26-year-old human stage | HsapDv:0000120 | normal | PATO:0000461 | ⋯ | blood | UBERON:0000178 | tissue | blood | UBERON:0000178 | 126774 | 1683 |  75.32620 |  42215.147 | 19149 |\n",
       "| 4 | 4311 | a5d95a42-0137-496f-8a60-101e17f263c8 | Smart-seq2 | EFO:0008931 | naive B cell             | CL:0000788 | 26-year-old human stage | HsapDv:0000120 | normal | PATO:0000461 | ⋯ | blood | UBERON:0000178 | tissue | blood | UBERON:0000178 |  14370 |  371 |  38.73315 |   4639.991 | 19149 |\n",
       "| 5 | 4312 | a5d95a42-0137-496f-8a60-101e17f263c8 | Smart-seq2 | EFO:0008931 | naive B cell             | CL:0000788 | 26-year-old human stage | HsapDv:0000120 | normal | PATO:0000461 | ⋯ | blood | UBERON:0000178 | tissue | blood | UBERON:0000178 |  13738 |  507 |  27.09665 |   3874.080 | 19149 |\n",
       "| 6 | 4313 | a5d95a42-0137-496f-8a60-101e17f263c8 | Smart-seq2 | EFO:0008931 | unswitched memory B cell | CL:0000970 | 26-year-old human stage | HsapDv:0000120 | normal | PATO:0000461 | ⋯ | blood | UBERON:0000178 | tissue | blood | UBERON:0000178 | 273713 | 1699 | 161.10241 | 169532.067 | 19149 |\n",
       "\n"
      ],
      "text/plain": [
       "  soma_joinid dataset_id                           assay     \n",
       "1 4308        a5d95a42-0137-496f-8a60-101e17f263c8 Smart-seq2\n",
       "2 4309        a5d95a42-0137-496f-8a60-101e17f263c8 Smart-seq2\n",
       "3 4310        a5d95a42-0137-496f-8a60-101e17f263c8 Smart-seq2\n",
       "4 4311        a5d95a42-0137-496f-8a60-101e17f263c8 Smart-seq2\n",
       "5 4312        a5d95a42-0137-496f-8a60-101e17f263c8 Smart-seq2\n",
       "6 4313        a5d95a42-0137-496f-8a60-101e17f263c8 Smart-seq2\n",
       "  assay_ontology_term_id cell_type                cell_type_ontology_term_id\n",
       "1 EFO:0008931            naive B cell             CL:0000788                \n",
       "2 EFO:0008931            naive B cell             CL:0000788                \n",
       "3 EFO:0008931            naive B cell             CL:0000788                \n",
       "4 EFO:0008931            naive B cell             CL:0000788                \n",
       "5 EFO:0008931            naive B cell             CL:0000788                \n",
       "6 EFO:0008931            unswitched memory B cell CL:0000970                \n",
       "  development_stage       development_stage_ontology_term_id disease\n",
       "1 26-year-old human stage HsapDv:0000120                     normal \n",
       "2 26-year-old human stage HsapDv:0000120                     normal \n",
       "3 26-year-old human stage HsapDv:0000120                     normal \n",
       "4 26-year-old human stage HsapDv:0000120                     normal \n",
       "5 26-year-old human stage HsapDv:0000120                     normal \n",
       "6 26-year-old human stage HsapDv:0000120                     normal \n",
       "  disease_ontology_term_id ⋯ tissue tissue_ontology_term_id tissue_type\n",
       "1 PATO:0000461             ⋯ blood  UBERON:0000178          tissue     \n",
       "2 PATO:0000461             ⋯ blood  UBERON:0000178          tissue     \n",
       "3 PATO:0000461             ⋯ blood  UBERON:0000178          tissue     \n",
       "4 PATO:0000461             ⋯ blood  UBERON:0000178          tissue     \n",
       "5 PATO:0000461             ⋯ blood  UBERON:0000178          tissue     \n",
       "6 PATO:0000461             ⋯ blood  UBERON:0000178          tissue     \n",
       "  tissue_general tissue_general_ontology_term_id raw_sum nnz  raw_mean_nnz\n",
       "1 blood          UBERON:0000178                   17691  1199  14.75480   \n",
       "2 blood          UBERON:0000178                   13612   841  16.18549   \n",
       "3 blood          UBERON:0000178                  126774  1683  75.32620   \n",
       "4 blood          UBERON:0000178                   14370   371  38.73315   \n",
       "5 blood          UBERON:0000178                   13738   507  27.09665   \n",
       "6 blood          UBERON:0000178                  273713  1699 161.10241   \n",
       "  raw_variance_nnz n_measured_vars\n",
       "1    624.621       19149          \n",
       "2   1394.944       19149          \n",
       "3  42215.147       19149          \n",
       "4   4639.991       19149          \n",
       "5   3874.080       19149          \n",
       "6 169532.067       19149          "
      ]
     },
     "metadata": {},
     "output_type": "display_data"
    }
   ],
   "source": [
    "# Build iterator with a query filter\n",
    "iterator <- census$get(\"census_data\")$get(\"homo_sapiens\")$obs$read(\n",
    "    value_filter = \"is_primary_data == True\"\n",
    ")\n",
    "\n",
    "# Grab first chunk\n",
    "table_chunk <- iterator$read_next()\n",
    "\n",
    "# Convert to data frame\n",
    "head(as.data.frame(table_chunk))"
   ]
  },
  {
   "cell_type": "markdown",
   "metadata": {
    "id": "e6-UJc_RT7do"
   },
   "source": [
    "The `value_filter` works similalrly to a Pandas `query` interface. It can take a string of which is evaluated as a boolean condition and selects rows that meet the criteria.\n",
    "\n",
    "We can then use other operators to build complex queries, for example all epithelial cells from lung that are primary representations."
   ]
  },
  {
   "cell_type": "code",
   "execution_count": 25,
   "metadata": {
    "colab": {
     "base_uri": "https://localhost:8080/",
     "height": 423
    },
    "id": "DPnPc5wkT0kL",
    "outputId": "1304c43f-ba6f-466f-b394-1a1cbe70ffc3"
   },
   "outputs": [
    {
     "data": {
      "text/html": [
       "<table class=\"dataframe\">\n",
       "<caption>A data.frame: 7 × 1</caption>\n",
       "<thead>\n",
       "\t<tr><th></th><th scope=col>assay</th></tr>\n",
       "\t<tr><th></th><th scope=col>&lt;fct&gt;</th></tr>\n",
       "</thead>\n",
       "<tbody>\n",
       "\t<tr><th scope=row>1</th><td>Smart-seq2                    </td></tr>\n",
       "\t<tr><th scope=row>202</th><td>10x 3' v3                     </td></tr>\n",
       "\t<tr><th scope=row>3209</th><td>10x 3' v2                     </td></tr>\n",
       "\t<tr><th scope=row>25807</th><td>microwell-seq                 </td></tr>\n",
       "\t<tr><th scope=row>27236</th><td>10x 3' transcription profiling</td></tr>\n",
       "\t<tr><th scope=row>59330</th><td>10x 5' transcription profiling</td></tr>\n",
       "\t<tr><th scope=row>59342</th><td>10x 5' v2                     </td></tr>\n",
       "</tbody>\n",
       "</table>\n"
      ],
      "text/latex": [
       "A data.frame: 7 × 1\n",
       "\\begin{tabular}{r|l}\n",
       "  & assay\\\\\n",
       "  & <fct>\\\\\n",
       "\\hline\n",
       "\t1 & Smart-seq2                    \\\\\n",
       "\t202 & 10x 3' v3                     \\\\\n",
       "\t3209 & 10x 3' v2                     \\\\\n",
       "\t25807 & microwell-seq                 \\\\\n",
       "\t27236 & 10x 3' transcription profiling\\\\\n",
       "\t59330 & 10x 5' transcription profiling\\\\\n",
       "\t59342 & 10x 5' v2                     \\\\\n",
       "\\end{tabular}\n"
      ],
      "text/markdown": [
       "\n",
       "A data.frame: 7 × 1\n",
       "\n",
       "| <!--/--> | assay &lt;fct&gt; |\n",
       "|---|---|\n",
       "| 1 | Smart-seq2                     |\n",
       "| 202 | 10x 3' v3                      |\n",
       "| 3209 | 10x 3' v2                      |\n",
       "| 25807 | microwell-seq                  |\n",
       "| 27236 | 10x 3' transcription profiling |\n",
       "| 59330 | 10x 5' transcription profiling |\n",
       "| 59342 | 10x 5' v2                      |\n",
       "\n"
      ],
      "text/plain": [
       "      assay                         \n",
       "1     Smart-seq2                    \n",
       "202   10x 3' v3                     \n",
       "3209  10x 3' v2                     \n",
       "25807 microwell-seq                 \n",
       "27236 10x 3' transcription profiling\n",
       "59330 10x 5' transcription profiling\n",
       "59342 10x 5' v2                     "
      ]
     },
     "metadata": {},
     "output_type": "display_data"
    }
   ],
   "source": [
    "filter <- \"is_primary_data == True & cell_type == 'epithelial cell' & tissue_general == 'lung'\"\n",
    "columns <- c(\"assay\")\n",
    "\n",
    "# Build iterator\n",
    "iterator <- census$get(\"census_data\")$get(\"homo_sapiens\")$obs$read(\n",
    "    value_filter = filter,\n",
    "    column_names = columns,\n",
    ")\n",
    "\n",
    "# Grab first chunk\n",
    "table_chunk <- iterator$read_next()\n",
    "\n",
    "# Convert to data frame and get unique values\n",
    "unique(as.data.frame(table_chunk))"
   ]
  },
  {
   "cell_type": "markdown",
   "metadata": {
    "id": "aBo0cnZ1Y2pg"
   },
   "source": [
    "#### Reading a Data Frame with coordinates\n",
    "\n",
    "Finally, you can also read a data frame via coordinates. This is useful when testing code with a small set of data."
   ]
  },
  {
   "cell_type": "code",
   "execution_count": 26,
   "metadata": {
    "colab": {
     "base_uri": "https://localhost:8080/",
     "height": 599
    },
    "id": "lSW63IWMZXyK",
    "outputId": "dfb4f628-0e2c-4b21-af04-ebd242b3df8d"
   },
   "outputs": [
    {
     "data": {
      "text/html": [
       "<table class=\"dataframe\">\n",
       "<caption>A data.frame: 5 × 28</caption>\n",
       "<thead>\n",
       "\t<tr><th scope=col>soma_joinid</th><th scope=col>dataset_id</th><th scope=col>assay</th><th scope=col>assay_ontology_term_id</th><th scope=col>cell_type</th><th scope=col>cell_type_ontology_term_id</th><th scope=col>development_stage</th><th scope=col>development_stage_ontology_term_id</th><th scope=col>disease</th><th scope=col>disease_ontology_term_id</th><th scope=col>⋯</th><th scope=col>tissue</th><th scope=col>tissue_ontology_term_id</th><th scope=col>tissue_type</th><th scope=col>tissue_general</th><th scope=col>tissue_general_ontology_term_id</th><th scope=col>raw_sum</th><th scope=col>nnz</th><th scope=col>raw_mean_nnz</th><th scope=col>raw_variance_nnz</th><th scope=col>n_measured_vars</th></tr>\n",
       "\t<tr><th scope=col>&lt;int&gt;</th><th scope=col>&lt;fct&gt;</th><th scope=col>&lt;fct&gt;</th><th scope=col>&lt;fct&gt;</th><th scope=col>&lt;fct&gt;</th><th scope=col>&lt;fct&gt;</th><th scope=col>&lt;fct&gt;</th><th scope=col>&lt;fct&gt;</th><th scope=col>&lt;fct&gt;</th><th scope=col>&lt;fct&gt;</th><th scope=col>⋯</th><th scope=col>&lt;fct&gt;</th><th scope=col>&lt;fct&gt;</th><th scope=col>&lt;fct&gt;</th><th scope=col>&lt;fct&gt;</th><th scope=col>&lt;fct&gt;</th><th scope=col>&lt;dbl&gt;</th><th scope=col>&lt;int&gt;</th><th scope=col>&lt;dbl&gt;</th><th scope=col>&lt;dbl&gt;</th><th scope=col>&lt;int&gt;</th></tr>\n",
       "</thead>\n",
       "<tbody>\n",
       "\t<tr><td>1</td><td>0895c838-e550-48a3-a777-dbcd35d30272</td><td>10x 3' v2</td><td>EFO:0009899</td><td>mature B cell</td><td>CL:0000785</td><td>human adult stage</td><td>HsapDv:0000087</td><td>normal</td><td>PATO:0000461</td><td>⋯</td><td>caudate lobe of liver</td><td>UBERON:0001117</td><td>tissue</td><td>liver</td><td>UBERON:0002107</td><td> 278</td><td>143</td><td>1.944056</td><td>   3.616567</td><td>13696</td></tr>\n",
       "\t<tr><td>2</td><td>0895c838-e550-48a3-a777-dbcd35d30272</td><td>10x 3' v2</td><td>EFO:0009899</td><td>plasma cell  </td><td>CL:0000786</td><td>human adult stage</td><td>HsapDv:0000087</td><td>normal</td><td>PATO:0000461</td><td>⋯</td><td>caudate lobe of liver</td><td>UBERON:0001117</td><td>tissue</td><td>liver</td><td>UBERON:0002107</td><td>3723</td><td>709</td><td>5.251058</td><td>2959.510327</td><td>13696</td></tr>\n",
       "\t<tr><td>3</td><td>0895c838-e550-48a3-a777-dbcd35d30272</td><td>10x 3' v2</td><td>EFO:0009899</td><td>mature B cell</td><td>CL:0000785</td><td>human adult stage</td><td>HsapDv:0000087</td><td>normal</td><td>PATO:0000461</td><td>⋯</td><td>caudate lobe of liver</td><td>UBERON:0001117</td><td>tissue</td><td>liver</td><td>UBERON:0002107</td><td> 351</td><td>179</td><td>1.960894</td><td>   8.487226</td><td>13696</td></tr>\n",
       "\t<tr><td>4</td><td>0895c838-e550-48a3-a777-dbcd35d30272</td><td>10x 3' v2</td><td>EFO:0009899</td><td>mature B cell</td><td>CL:0000785</td><td>human adult stage</td><td>HsapDv:0000087</td><td>normal</td><td>PATO:0000461</td><td>⋯</td><td>caudate lobe of liver</td><td>UBERON:0001117</td><td>tissue</td><td>liver</td><td>UBERON:0002107</td><td> 605</td><td>275</td><td>2.200000</td><td>  18.978102</td><td>13696</td></tr>\n",
       "\t<tr><td>5</td><td>0895c838-e550-48a3-a777-dbcd35d30272</td><td>10x 3' v2</td><td>EFO:0009899</td><td>mature B cell</td><td>CL:0000785</td><td>human adult stage</td><td>HsapDv:0000087</td><td>normal</td><td>PATO:0000461</td><td>⋯</td><td>caudate lobe of liver</td><td>UBERON:0001117</td><td>tissue</td><td>liver</td><td>UBERON:0002107</td><td> 338</td><td>164</td><td>2.060976</td><td>  11.444112</td><td>13696</td></tr>\n",
       "</tbody>\n",
       "</table>\n"
      ],
      "text/latex": [
       "A data.frame: 5 × 28\n",
       "\\begin{tabular}{lllllllllllllllllllll}\n",
       " soma\\_joinid & dataset\\_id & assay & assay\\_ontology\\_term\\_id & cell\\_type & cell\\_type\\_ontology\\_term\\_id & development\\_stage & development\\_stage\\_ontology\\_term\\_id & disease & disease\\_ontology\\_term\\_id & ⋯ & tissue & tissue\\_ontology\\_term\\_id & tissue\\_type & tissue\\_general & tissue\\_general\\_ontology\\_term\\_id & raw\\_sum & nnz & raw\\_mean\\_nnz & raw\\_variance\\_nnz & n\\_measured\\_vars\\\\\n",
       " <int> & <fct> & <fct> & <fct> & <fct> & <fct> & <fct> & <fct> & <fct> & <fct> & ⋯ & <fct> & <fct> & <fct> & <fct> & <fct> & <dbl> & <int> & <dbl> & <dbl> & <int>\\\\\n",
       "\\hline\n",
       "\t 1 & 0895c838-e550-48a3-a777-dbcd35d30272 & 10x 3' v2 & EFO:0009899 & mature B cell & CL:0000785 & human adult stage & HsapDv:0000087 & normal & PATO:0000461 & ⋯ & caudate lobe of liver & UBERON:0001117 & tissue & liver & UBERON:0002107 &  278 & 143 & 1.944056 &    3.616567 & 13696\\\\\n",
       "\t 2 & 0895c838-e550-48a3-a777-dbcd35d30272 & 10x 3' v2 & EFO:0009899 & plasma cell   & CL:0000786 & human adult stage & HsapDv:0000087 & normal & PATO:0000461 & ⋯ & caudate lobe of liver & UBERON:0001117 & tissue & liver & UBERON:0002107 & 3723 & 709 & 5.251058 & 2959.510327 & 13696\\\\\n",
       "\t 3 & 0895c838-e550-48a3-a777-dbcd35d30272 & 10x 3' v2 & EFO:0009899 & mature B cell & CL:0000785 & human adult stage & HsapDv:0000087 & normal & PATO:0000461 & ⋯ & caudate lobe of liver & UBERON:0001117 & tissue & liver & UBERON:0002107 &  351 & 179 & 1.960894 &    8.487226 & 13696\\\\\n",
       "\t 4 & 0895c838-e550-48a3-a777-dbcd35d30272 & 10x 3' v2 & EFO:0009899 & mature B cell & CL:0000785 & human adult stage & HsapDv:0000087 & normal & PATO:0000461 & ⋯ & caudate lobe of liver & UBERON:0001117 & tissue & liver & UBERON:0002107 &  605 & 275 & 2.200000 &   18.978102 & 13696\\\\\n",
       "\t 5 & 0895c838-e550-48a3-a777-dbcd35d30272 & 10x 3' v2 & EFO:0009899 & mature B cell & CL:0000785 & human adult stage & HsapDv:0000087 & normal & PATO:0000461 & ⋯ & caudate lobe of liver & UBERON:0001117 & tissue & liver & UBERON:0002107 &  338 & 164 & 2.060976 &   11.444112 & 13696\\\\\n",
       "\\end{tabular}\n"
      ],
      "text/markdown": [
       "\n",
       "A data.frame: 5 × 28\n",
       "\n",
       "| soma_joinid &lt;int&gt; | dataset_id &lt;fct&gt; | assay &lt;fct&gt; | assay_ontology_term_id &lt;fct&gt; | cell_type &lt;fct&gt; | cell_type_ontology_term_id &lt;fct&gt; | development_stage &lt;fct&gt; | development_stage_ontology_term_id &lt;fct&gt; | disease &lt;fct&gt; | disease_ontology_term_id &lt;fct&gt; | ⋯ ⋯ | tissue &lt;fct&gt; | tissue_ontology_term_id &lt;fct&gt; | tissue_type &lt;fct&gt; | tissue_general &lt;fct&gt; | tissue_general_ontology_term_id &lt;fct&gt; | raw_sum &lt;dbl&gt; | nnz &lt;int&gt; | raw_mean_nnz &lt;dbl&gt; | raw_variance_nnz &lt;dbl&gt; | n_measured_vars &lt;int&gt; |\n",
       "|---|---|---|---|---|---|---|---|---|---|---|---|---|---|---|---|---|---|---|---|---|\n",
       "| 1 | 0895c838-e550-48a3-a777-dbcd35d30272 | 10x 3' v2 | EFO:0009899 | mature B cell | CL:0000785 | human adult stage | HsapDv:0000087 | normal | PATO:0000461 | ⋯ | caudate lobe of liver | UBERON:0001117 | tissue | liver | UBERON:0002107 |  278 | 143 | 1.944056 |    3.616567 | 13696 |\n",
       "| 2 | 0895c838-e550-48a3-a777-dbcd35d30272 | 10x 3' v2 | EFO:0009899 | plasma cell   | CL:0000786 | human adult stage | HsapDv:0000087 | normal | PATO:0000461 | ⋯ | caudate lobe of liver | UBERON:0001117 | tissue | liver | UBERON:0002107 | 3723 | 709 | 5.251058 | 2959.510327 | 13696 |\n",
       "| 3 | 0895c838-e550-48a3-a777-dbcd35d30272 | 10x 3' v2 | EFO:0009899 | mature B cell | CL:0000785 | human adult stage | HsapDv:0000087 | normal | PATO:0000461 | ⋯ | caudate lobe of liver | UBERON:0001117 | tissue | liver | UBERON:0002107 |  351 | 179 | 1.960894 |    8.487226 | 13696 |\n",
       "| 4 | 0895c838-e550-48a3-a777-dbcd35d30272 | 10x 3' v2 | EFO:0009899 | mature B cell | CL:0000785 | human adult stage | HsapDv:0000087 | normal | PATO:0000461 | ⋯ | caudate lobe of liver | UBERON:0001117 | tissue | liver | UBERON:0002107 |  605 | 275 | 2.200000 |   18.978102 | 13696 |\n",
       "| 5 | 0895c838-e550-48a3-a777-dbcd35d30272 | 10x 3' v2 | EFO:0009899 | mature B cell | CL:0000785 | human adult stage | HsapDv:0000087 | normal | PATO:0000461 | ⋯ | caudate lobe of liver | UBERON:0001117 | tissue | liver | UBERON:0002107 |  338 | 164 | 2.060976 |   11.444112 | 13696 |\n",
       "\n"
      ],
      "text/plain": [
       "  soma_joinid dataset_id                           assay    \n",
       "1 1           0895c838-e550-48a3-a777-dbcd35d30272 10x 3' v2\n",
       "2 2           0895c838-e550-48a3-a777-dbcd35d30272 10x 3' v2\n",
       "3 3           0895c838-e550-48a3-a777-dbcd35d30272 10x 3' v2\n",
       "4 4           0895c838-e550-48a3-a777-dbcd35d30272 10x 3' v2\n",
       "5 5           0895c838-e550-48a3-a777-dbcd35d30272 10x 3' v2\n",
       "  assay_ontology_term_id cell_type     cell_type_ontology_term_id\n",
       "1 EFO:0009899            mature B cell CL:0000785                \n",
       "2 EFO:0009899            plasma cell   CL:0000786                \n",
       "3 EFO:0009899            mature B cell CL:0000785                \n",
       "4 EFO:0009899            mature B cell CL:0000785                \n",
       "5 EFO:0009899            mature B cell CL:0000785                \n",
       "  development_stage development_stage_ontology_term_id disease\n",
       "1 human adult stage HsapDv:0000087                     normal \n",
       "2 human adult stage HsapDv:0000087                     normal \n",
       "3 human adult stage HsapDv:0000087                     normal \n",
       "4 human adult stage HsapDv:0000087                     normal \n",
       "5 human adult stage HsapDv:0000087                     normal \n",
       "  disease_ontology_term_id ⋯ tissue                tissue_ontology_term_id\n",
       "1 PATO:0000461             ⋯ caudate lobe of liver UBERON:0001117         \n",
       "2 PATO:0000461             ⋯ caudate lobe of liver UBERON:0001117         \n",
       "3 PATO:0000461             ⋯ caudate lobe of liver UBERON:0001117         \n",
       "4 PATO:0000461             ⋯ caudate lobe of liver UBERON:0001117         \n",
       "5 PATO:0000461             ⋯ caudate lobe of liver UBERON:0001117         \n",
       "  tissue_type tissue_general tissue_general_ontology_term_id raw_sum nnz\n",
       "1 tissue      liver          UBERON:0002107                   278    143\n",
       "2 tissue      liver          UBERON:0002107                  3723    709\n",
       "3 tissue      liver          UBERON:0002107                   351    179\n",
       "4 tissue      liver          UBERON:0002107                   605    275\n",
       "5 tissue      liver          UBERON:0002107                   338    164\n",
       "  raw_mean_nnz raw_variance_nnz n_measured_vars\n",
       "1 1.944056        3.616567      13696          \n",
       "2 5.251058     2959.510327      13696          \n",
       "3 1.960894        8.487226      13696          \n",
       "4 2.200000       18.978102      13696          \n",
       "5 2.060976       11.444112      13696          "
      ]
     },
     "metadata": {},
     "output_type": "display_data"
    }
   ],
   "source": [
    "obs <- census$get(\"census_data\")$get(\"homo_sapiens\")$obs$read(coords=1:5)$concat()\n",
    "as.data.frame(obs)"
   ]
  },
  {
   "cell_type": "markdown",
   "metadata": {
    "id": "A3um9EnZa1_N"
   },
   "source": [
    "### Reading expression data\n",
    "\n",
    "The single-cell expression data is stored as a SOMA `SparseNDArray`. This is a sparse representation of the data that enables efficient storage and access for data with a high number of missing values.\n",
    "\n",
    "Currently Census has two expression layers:\n",
    "\n",
    "- Raw counts.\n",
    "- Normalized counts by library size.\n",
    "\n",
    "For human, these are located in the \\\"RNA\\\" measurement at:\n",
    "\n",
    "- `\"census_data\" --> \"homo_sapiens\"]$ms --> \"RNA\"$X --> \"raw\"`\n",
    "- `\"census_data\" --> \"homo_sapiens\"]$ms --> \"RNA\"$X --> \"normalized\"`\n",
    "\n",
    "Reading these data works similarly to reading data frames. The main difference is that there are different types of iterators available. In this workshop we'll focus on `Matrix::dgTMatrix` iterators.\n"
   ]
  },
  {
   "cell_type": "code",
   "execution_count": 27,
   "metadata": {
    "colab": {
     "base_uri": "https://localhost:8080/",
     "height": 423
    },
    "id": "CgFG-RPwZfJ1",
    "outputId": "a176216b-3365-40d5-d51f-40210c4e283b"
   },
   "outputs": [
    {
     "name": "stdout",
     "output_type": "stream",
     "text": [
      "Formal class 'dgTMatrix' [package \"Matrix\"] with 6 slots\n",
      "  ..@ i       : int [1:1342177] 0 0 0 0 0 0 0 0 0 0 ...\n",
      "  ..@ j       : int [1:1342177] 176 229 249 409 451 653 990 1092 1366 1526 ...\n",
      "  ..@ Dim     : int [1:2] 77665799 60537\n",
      "  ..@ Dimnames:List of 2\n",
      "  .. ..$ : NULL\n",
      "  .. ..$ : NULL\n",
      "  ..@ x       : num [1:1342177] 1 1 1 1 1 1 1 3 1 1 ...\n",
      "  ..@ factors : list()\n"
     ]
    }
   ],
   "source": [
    "# Creater a reader\n",
    "reader <- census$get(\"census_data\")$get(\"homo_sapiens\")$ms$get(\"RNA\")$X$get(\"raw\")$read()\n",
    "\n",
    "# Build an iterator of Matrix::dgTMatrix objects\n",
    "iterator <- reader$sparse_matrix()\n",
    "\n",
    "# Grab first chunk\n",
    "sparse_chunk <- iterator$read_next()\n",
    "\n",
    "# Convert to data frame\n",
    "str(sparse_chunk)"
   ]
  },
  {
   "cell_type": "markdown",
   "metadata": {
    "id": "kbZM_1ckc-SS"
   },
   "source": [
    "This produces an expression matrix in COO sparse format using `Matrix::dgTMatrix`:\n",
    "\n",
    "- `i` - the ID + 1 for the cell.\n",
    "- `j` - the ID + 1 for the gene.  \n",
    "- `soma_data` - the expression value.\n"
   ]
  },
  {
   "cell_type": "code",
   "execution_count": 28,
   "metadata": {
    "colab": {
     "base_uri": "https://localhost:8080/"
    },
    "id": "sVzKYxEldu8R",
    "outputId": "45c25dcf-cf44-4c0e-c94a-a3e9bdb1a52e"
   },
   "outputs": [
    {
     "data": {
      "text/html": [
       "<style>\n",
       ".list-inline {list-style: none; margin:0; padding: 0}\n",
       ".list-inline>li {display: inline-block}\n",
       ".list-inline>li:not(:last-child)::after {content: \"\\00b7\"; padding: 0 .5ex}\n",
       "</style>\n",
       "<ol class=list-inline><li>77665799</li><li>60537</li></ol>\n"
      ],
      "text/latex": [
       "\\begin{enumerate*}\n",
       "\\item 77665799\n",
       "\\item 60537\n",
       "\\end{enumerate*}\n"
      ],
      "text/markdown": [
       "1. 77665799\n",
       "2. 60537\n",
       "\n",
       "\n"
      ],
      "text/plain": [
       "[1] 77665799    60537"
      ]
     },
     "metadata": {},
     "output_type": "display_data"
    }
   ],
   "source": [
    "dim(sparse_chunk)"
   ]
  },
  {
   "cell_type": "markdown",
   "metadata": {
    "id": "uRfFYNXpefY_"
   },
   "source": [
    "**🚨 NOTE:** Reading the expression matrix in isolation is usually not very useful without cell and gene metadata. We'll cover that in the next section.\n",
    "**🚨 NOTE:** The shape of this matrix is 63,094,145 rows by 60,664 columns (the full size of Census). We have a \"sparse\" view."
   ]
  },
  {
   "cell_type": "markdown",
   "metadata": {
    "id": "g50HINMxfJzi"
   },
   "source": [
    "### Atomic reading of expression data AND metadata\n",
    "\n",
    "SOMA provides a convenient interface to query single-cell data in a metadata-aware fashion using `ExperimentAxisQuery`.\n",
    "\n",
    "We covered in a previous section the concept of an SOMA `Experiment`, as a class that represents a single-cell experiment. It always contains two objects:\n",
    "   - `obs`: a `DataFrame` with primary annotations on the observation axis.\n",
    "   - `ms`: a `Collection` of measurements, each composed of `X` matrices and axis annotation matrices or data frames (e.g. `var`, `varm`, `obsm`, etc).\n",
    "\n",
    "**🚨 NOTE:** An `ExperimentAxisQuery` enables users to query and slice an `Experiment` single-cell data and metadata using coordinates or value filters on the axes, similar to how a SOMA `DataFrame` is queried."
   ]
  },
  {
   "cell_type": "markdown",
   "metadata": {
    "id": "xTq0XxuwLxVy"
   },
   "source": [
    "#### Creating an `ExperimentAxisQuery`\n",
    "\n",
    "To create an `ExperimentAxisQuery` you can call the method `$axis_query()` of a SOMA `Experiment`."
   ]
  },
  {
   "cell_type": "code",
   "execution_count": 29,
   "metadata": {
    "id": "kbca9zAVeaDB"
   },
   "outputs": [],
   "source": [
    "cell_filter <- \"tissue_general == 'tongue' & cell_type %in% c('leukocyte', 'keratinocyte')\"\n",
    "gene_filter <- \"feature_name %in% c('PECAM1', 'DCN', 'KRT13')\"\n",
    "\n",
    "query <- census$get(\"census_data\")$get(\"homo_sapiens\")$axis_query(\n",
    "    measurement_name = \"RNA\",\n",
    "    obs_query = SOMAAxisQuery$new(value_filter = cell_filter),\n",
    "    var_query = SOMAAxisQuery$new(value_filter = gene_filter)\n",
    ")"
   ]
  },
  {
   "cell_type": "code",
   "execution_count": 30,
   "metadata": {
    "colab": {
     "base_uri": "https://localhost:8080/"
    },
    "id": "g-O_T2-EhkzX",
    "outputId": "ba520141-2f16-4c33-c356-06b71b646036"
   },
   "outputs": [
    {
     "data": {
      "text/plain": [
       "<SOMAExperimentAxisQuery>\n",
       "  Public:\n",
       "    clone: function (deep = FALSE) \n",
       "    experiment: active binding\n",
       "    indexer: active binding\n",
       "    initialize: function (experiment, measurement_name, obs_query = NULL, var_query = NULL) \n",
       "    ms: active binding\n",
       "    n_obs: active binding\n",
       "    n_vars: active binding\n",
       "    obs: function (column_names = NULL) \n",
       "    obs_df: active binding\n",
       "    obs_joinids: function () \n",
       "    obs_query: active binding\n",
       "    obsm: function (layer_name) \n",
       "    obsp: function (layer_name) \n",
       "    read: function (X_layers = NULL, obs_column_names = NULL, var_column_names = NULL) \n",
       "    to_seurat: function (X_layers = c(counts = \"counts\", data = \"logcounts\"), \n",
       "    to_seurat_assay: function (X_layers = c(counts = \"counts\", data = \"logcounts\"), \n",
       "    to_seurat_graph: function (obsp_layer, obs_index = NULL) \n",
       "    to_seurat_reduction: function (obsm_layer, varm_layer = NULL, obs_index = NULL, var_index = NULL) \n",
       "    to_single_cell_experiment: function (X_layers = NULL, obs_index = NULL, var_index = NULL, \n",
       "    to_sparse_matrix: function (collection, layer_name, obs_index = NULL, var_index = NULL) \n",
       "    var: function (column_names = NULL) \n",
       "    var_df: active binding\n",
       "    var_joinids: function () \n",
       "    var_query: active binding\n",
       "    varm: function (layer_name) \n",
       "    varp: function (layer_name) \n",
       "    X: function (layer_name) \n",
       "  Private:\n",
       "    .as_matrix: function (table, repr = \"C\", transpose = FALSE) \n",
       "    .experiment: SOMAExperiment, SOMACollectionBase, TileDBGroup, TileDBObject, R6\n",
       "    .indexer: SOMAAxisIndexer, R6\n",
       "    .joinids: JoinIDCache, R6\n",
       "    .load_df: function (df_name = c(\"obs\", \"var\"), index = NULL, column_names = NULL, \n",
       "    .load_m_axis: function (layer, m_axis = c(\"obsm\", \"varm\"), type = \"Embeddings\") \n",
       "    .load_p_axis: function (layer, p_axis = c(\"obsp\", \"varp\"), repr = c(\"C\", \"T\", \n",
       "    .load_sce_col_pairs: function (obsp_layers, obs_ids) \n",
       "    .load_sce_reduced_dims: function (obsm_layers, obs_ids) \n",
       "    .load_sce_row_pairs: function (varp_layers, var_ids) \n",
       "    .measurement_name: RNA\n",
       "    .obs_query: SOMAAxisQuery, R6\n",
       "    .to_seurat_assay_v3: function (counts, data, scale_data = NULL, cells = NULL, features = NULL) \n",
       "    .var_query: SOMAAxisQuery, R6"
      ]
     },
     "metadata": {},
     "output_type": "display_data"
    }
   ],
   "source": [
    "query"
   ]
  },
  {
   "cell_type": "markdown",
   "metadata": {
    "id": "spSrAvCriZ3E"
   },
   "source": [
    "#### Inspecting the query results\n",
    "\n",
    "Once the `ExperimentAxisQuery` is created you have access to a variety of convenient methods to fetch data or useful information about your query."
   ]
  },
  {
   "cell_type": "code",
   "execution_count": 31,
   "metadata": {
    "colab": {
     "base_uri": "https://localhost:8080/"
    },
    "id": "t6GTjX0Qhn1v",
    "outputId": "8300e073-848f-46da-89bb-d7956484e87b"
   },
   "outputs": [
    {
     "data": {
      "text/html": [
       "17328"
      ],
      "text/latex": [
       "17328"
      ],
      "text/markdown": [
       "17328"
      ],
      "text/plain": [
       "[1] 17328"
      ]
     },
     "metadata": {},
     "output_type": "display_data"
    }
   ],
   "source": [
    "# Number of cells in query\n",
    "query$n_obs"
   ]
  },
  {
   "cell_type": "code",
   "execution_count": 32,
   "metadata": {
    "colab": {
     "base_uri": "https://localhost:8080/"
    },
    "id": "_Sdt68uqiqwB",
    "outputId": "bbffee3b-5e69-45d1-97f6-a7a936050caf"
   },
   "outputs": [
    {
     "data": {
      "text/html": [
       "3"
      ],
      "text/latex": [
       "3"
      ],
      "text/markdown": [
       "3"
      ],
      "text/plain": [
       "[1] 3"
      ]
     },
     "metadata": {},
     "output_type": "display_data"
    }
   ],
   "source": [
    "# Number of cells in query\n",
    "query$n_vars"
   ]
  },
  {
   "cell_type": "code",
   "execution_count": 33,
   "metadata": {
    "colab": {
     "base_uri": "https://localhost:8080/",
     "height": 423
    },
    "id": "U57OfzXAis4j",
    "outputId": "9285a598-cac4-4a9a-826d-6c8ce378941c"
   },
   "outputs": [
    {
     "data": {
      "text/html": [
       "<table class=\"dataframe\">\n",
       "<caption>A data.frame: 2 × 2</caption>\n",
       "<thead>\n",
       "\t<tr><th></th><th scope=col>cell_type</th><th scope=col>tissue_general</th></tr>\n",
       "\t<tr><th></th><th scope=col>&lt;fct&gt;</th><th scope=col>&lt;fct&gt;</th></tr>\n",
       "</thead>\n",
       "<tbody>\n",
       "\t<tr><th scope=row>1</th><td>leukocyte   </td><td>tongue</td></tr>\n",
       "\t<tr><th scope=row>880</th><td>keratinocyte</td><td>tongue</td></tr>\n",
       "</tbody>\n",
       "</table>\n"
      ],
      "text/latex": [
       "A data.frame: 2 × 2\n",
       "\\begin{tabular}{r|ll}\n",
       "  & cell\\_type & tissue\\_general\\\\\n",
       "  & <fct> & <fct>\\\\\n",
       "\\hline\n",
       "\t1 & leukocyte    & tongue\\\\\n",
       "\t880 & keratinocyte & tongue\\\\\n",
       "\\end{tabular}\n"
      ],
      "text/markdown": [
       "\n",
       "A data.frame: 2 × 2\n",
       "\n",
       "| <!--/--> | cell_type &lt;fct&gt; | tissue_general &lt;fct&gt; |\n",
       "|---|---|---|\n",
       "| 1 | leukocyte    | tongue |\n",
       "| 880 | keratinocyte | tongue |\n",
       "\n"
      ],
      "text/plain": [
       "    cell_type    tissue_general\n",
       "1   leukocyte    tongue        \n",
       "880 keratinocyte tongue        "
      ]
     },
     "metadata": {},
     "output_type": "display_data"
    }
   ],
   "source": [
    "# Grabing cell metadata\n",
    "iterator <- query$obs(column_names = c(\"cell_type\", \"tissue_general\"))\n",
    "unique(as.data.frame(iterator$concat()))"
   ]
  },
  {
   "cell_type": "code",
   "execution_count": 34,
   "metadata": {
    "colab": {
     "base_uri": "https://localhost:8080/",
     "height": 143
    },
    "id": "c-CnS7uRi-5n",
    "outputId": "24ca47ac-5062-468a-8c1c-029597a6c66d"
   },
   "outputs": [
    {
     "data": {
      "text/html": [
       "<table class=\"dataframe\">\n",
       "<caption>A data.frame: 3 × 6</caption>\n",
       "<thead>\n",
       "\t<tr><th scope=col>soma_joinid</th><th scope=col>feature_id</th><th scope=col>feature_name</th><th scope=col>feature_length</th><th scope=col>nnz</th><th scope=col>n_measured_obs</th></tr>\n",
       "\t<tr><th scope=col>&lt;int&gt;</th><th scope=col>&lt;chr&gt;</th><th scope=col>&lt;chr&gt;</th><th scope=col>&lt;int&gt;</th><th scope=col>&lt;int&gt;</th><th scope=col>&lt;int&gt;</th></tr>\n",
       "</thead>\n",
       "<tbody>\n",
       "\t<tr><td>  299</td><td>ENSG00000011465</td><td>DCN   </td><td>12941</td><td>7905731</td><td>75319655</td></tr>\n",
       "\t<tr><td>12852</td><td>ENSG00000171401</td><td>KRT13 </td><td> 2913</td><td> 712612</td><td>62927690</td></tr>\n",
       "\t<tr><td>28763</td><td>ENSG00000261371</td><td>PECAM1</td><td> 7741</td><td>7739030</td><td>64633082</td></tr>\n",
       "</tbody>\n",
       "</table>\n"
      ],
      "text/latex": [
       "A data.frame: 3 × 6\n",
       "\\begin{tabular}{llllll}\n",
       " soma\\_joinid & feature\\_id & feature\\_name & feature\\_length & nnz & n\\_measured\\_obs\\\\\n",
       " <int> & <chr> & <chr> & <int> & <int> & <int>\\\\\n",
       "\\hline\n",
       "\t   299 & ENSG00000011465 & DCN    & 12941 & 7905731 & 75319655\\\\\n",
       "\t 12852 & ENSG00000171401 & KRT13  &  2913 &  712612 & 62927690\\\\\n",
       "\t 28763 & ENSG00000261371 & PECAM1 &  7741 & 7739030 & 64633082\\\\\n",
       "\\end{tabular}\n"
      ],
      "text/markdown": [
       "\n",
       "A data.frame: 3 × 6\n",
       "\n",
       "| soma_joinid &lt;int&gt; | feature_id &lt;chr&gt; | feature_name &lt;chr&gt; | feature_length &lt;int&gt; | nnz &lt;int&gt; | n_measured_obs &lt;int&gt; |\n",
       "|---|---|---|---|---|---|\n",
       "|   299 | ENSG00000011465 | DCN    | 12941 | 7905731 | 75319655 |\n",
       "| 12852 | ENSG00000171401 | KRT13  |  2913 |  712612 | 62927690 |\n",
       "| 28763 | ENSG00000261371 | PECAM1 |  7741 | 7739030 | 64633082 |\n",
       "\n"
      ],
      "text/plain": [
       "  soma_joinid feature_id      feature_name feature_length nnz    \n",
       "1   299       ENSG00000011465 DCN          12941          7905731\n",
       "2 12852       ENSG00000171401 KRT13         2913           712612\n",
       "3 28763       ENSG00000261371 PECAM1        7741          7739030\n",
       "  n_measured_obs\n",
       "1 75319655      \n",
       "2 62927690      \n",
       "3 64633082      "
      ]
     },
     "metadata": {},
     "output_type": "display_data"
    }
   ],
   "source": [
    "# Grabing gene metadata\n",
    "iterator <- query$var()\n",
    "as.data.frame(iterator$concat())"
   ]
  },
  {
   "cell_type": "markdown",
   "metadata": {
    "id": "EkuPFp8nKyEN"
   },
   "source": [
    "#### Exporting query results to `Seurat`\n",
    "\n",
    "`ExperimentAxisQuery` has the capability to export the query to an `AnnData` object to use for downstream analysis with Scanpy."
   ]
  },
  {
   "cell_type": "code",
   "execution_count": 35,
   "metadata": {},
   "outputs": [],
   "source": [
    "if (!requireNamespace(\"remotes\", quietly = TRUE)) {\n",
    "  install.packages(\"remotes\")\n",
    "}"
   ]
  },
  {
   "cell_type": "code",
   "execution_count": 36,
   "metadata": {},
   "outputs": [
    {
     "name": "stderr",
     "output_type": "stream",
     "text": [
      "Downloading package from url: https://satijalab.r-universe.dev/src/contrib/SeuratObject_4.1.4.tar.gz\n",
      "\n"
     ]
    },
    {
     "name": "stdout",
     "output_type": "stream",
     "text": [
      "RcppEigen (NA -> 0.3.4.0.2) [CRAN]\n"
     ]
    },
    {
     "name": "stderr",
     "output_type": "stream",
     "text": [
      "Installing 1 packages: RcppEigen\n",
      "\n",
      "Warning message in i.p(...):\n",
      "“installation of package ‘RcppEigen’ had non-zero exit status”\n",
      "Warning message in i.p(...):\n",
      "“installation of package ‘/var/folders/7h/59ccydx96xz_2nsh5945tt6m0000gn/T//RtmpgvgqUw/remotesddf8f6490bc/SeuratObject’ had non-zero exit status”\n",
      "Downloading package from url: https://satijalab.r-universe.dev/src/contrib/Seurat_4.4.0.tar.gz\n",
      "\n"
     ]
    },
    {
     "name": "stdout",
     "output_type": "stream",
     "text": [
      "sitmo        (NA -> 2.0.2    ) [CRAN]\n",
      "RcppEigen    (NA -> 0.3.4.0.2) [CRAN]\n",
      "deldir       (NA -> 2.0-4    ) [CRAN]\n",
      "spatstat.... (NA -> 3.3-2    ) [CRAN]\n",
      "dotCall64    (NA -> 1.1-1    ) [CRAN]\n",
      "dqrng        (NA -> 0.4.1    ) [CRAN]\n",
      "RSpectra     (NA -> 0.16-2   ) [CRAN]\n",
      "irlba        (NA -> 2.3.5.1  ) [CRAN]\n",
      "spatstat.... (NA -> 3.3-1    ) [CRAN]\n",
      "RcppArmad... (NA -> 14.0.0-1 ) [CRAN]\n",
      "spam         (NA -> 2.10-0   ) [CRAN]\n",
      "igraph       (NA -> 2.0.3    ) [CRAN]\n",
      "uwot         (NA -> 0.2.2    ) [CRAN]\n",
      "spatstat.... (NA -> 3.3-2    ) [CRAN]\n",
      "sctransform  (NA -> 0.4.1    ) [CRAN]\n",
      "SeuratObject (NA -> 5.0.2    ) [CRAN]\n",
      "Rtsne        (NA -> 0.17     ) [CRAN]\n",
      "lmtest       (NA -> 0.9-40   ) [CRAN]\n",
      "leiden       (NA -> 0.4.3.1  ) [CRAN]\n"
     ]
    },
    {
     "name": "stderr",
     "output_type": "stream",
     "text": [
      "Installing 19 packages: sitmo, RcppEigen, deldir, spatstat.geom, dotCall64, dqrng, RSpectra, irlba, spatstat.random, RcppArmadillo, spam, igraph, uwot, spatstat.explore, sctransform, SeuratObject, Rtsne, lmtest, leiden\n",
      "\n",
      "Warning message in i.p(...):\n",
      "“installation of package ‘sitmo’ had non-zero exit status”\n",
      "Warning message in i.p(...):\n",
      "“installation of package ‘RcppEigen’ had non-zero exit status”\n",
      "Warning message in i.p(...):\n",
      "“installation of package ‘deldir’ had non-zero exit status”\n",
      "Warning message in i.p(...):\n",
      "“installation of package ‘dotCall64’ had non-zero exit status”\n",
      "Warning message in i.p(...):\n",
      "“installation of package ‘irlba’ had non-zero exit status”\n",
      "Warning message in i.p(...):\n",
      "“installation of package ‘RcppArmadillo’ had non-zero exit status”\n",
      "Warning message in i.p(...):\n",
      "“installation of package ‘igraph’ had non-zero exit status”\n",
      "Warning message in i.p(...):\n",
      "“installation of package ‘Rtsne’ had non-zero exit status”\n",
      "Warning message in i.p(...):\n",
      "“installation of package ‘lmtest’ had non-zero exit status”\n",
      "Warning message in i.p(...):\n",
      "“installation of package ‘spatstat.geom’ had non-zero exit status”\n",
      "Warning message in i.p(...):\n",
      "“installation of package ‘dqrng’ had non-zero exit status”\n",
      "Warning message in i.p(...):\n",
      "“installation of package ‘RSpectra’ had non-zero exit status”\n",
      "Warning message in i.p(...):\n",
      "“installation of package ‘spam’ had non-zero exit status”\n",
      "Warning message in i.p(...):\n",
      "“installation of package ‘sctransform’ had non-zero exit status”\n",
      "Warning message in i.p(...):\n",
      "“installation of package ‘leiden’ had non-zero exit status”\n",
      "Warning message in i.p(...):\n",
      "“installation of package ‘spatstat.random’ had non-zero exit status”\n",
      "Warning message in i.p(...):\n",
      "“installation of package ‘uwot’ had non-zero exit status”\n",
      "Warning message in i.p(...):\n",
      "“installation of package ‘SeuratObject’ had non-zero exit status”\n",
      "Warning message in i.p(...):\n",
      "“installation of package ‘spatstat.explore’ had non-zero exit status”\n",
      "Warning message in i.p(...):\n",
      "“installation of package ‘/var/folders/7h/59ccydx96xz_2nsh5945tt6m0000gn/T//RtmpgvgqUw/remotesddf82197fd8f/Seurat’ had non-zero exit status”\n"
     ]
    }
   ],
   "source": [
    "remotes::install_version(\"SeuratObject\", \"4.1.4\", repos = c(\"https://satijalab.r-universe.dev\", getOption(\"repos\")))\n",
    "remotes::install_version(\"Seurat\", \"4.4.0\", repos = c(\"https://satijalab.r-universe.dev\", getOption(\"repos\")))"
   ]
  },
  {
   "cell_type": "code",
   "execution_count": 37,
   "metadata": {
    "colab": {
     "base_uri": "https://localhost:8080/"
    },
    "id": "keoLddtDjPgG",
    "outputId": "dae52d0d-c6a5-4fb7-f9c6-860042908cd4"
   },
   "outputs": [
    {
     "ename": "ERROR",
     "evalue": "Error: ‘SeuratObject’ must be installed\n",
     "output_type": "error",
     "traceback": [
      "Error: ‘SeuratObject’ must be installed\nTraceback:\n",
      "1. query$to_seurat(X_layers = c(data = \"normalized\"), var_index = \"feature_name\")",
      "2. check_package(\"SeuratObject\", version = .MINIMUM_SEURAT_VERSION())"
     ]
    }
   ],
   "source": [
    "# Convert to Seurat\n",
    "seurat <- query$to_seurat(X_layers = c(data = \"normalized\"), var_index = \"feature_name\")\n",
    "seurat"
   ]
  },
  {
   "cell_type": "code",
   "execution_count": 36,
   "metadata": {
    "colab": {
     "base_uri": "https://localhost:8080/",
     "height": 549
    },
    "id": "asa2mjikAlnq",
    "outputId": "373f704a-a0e5-470f-e1e2-e2da7ec57efa"
   },
   "outputs": [
    {
     "ename": "ERROR",
     "evalue": "Error in loadNamespace(x): there is no package called ‘Seurat’\n",
     "output_type": "error",
     "traceback": [
      "Error in loadNamespace(x): there is no package called ‘Seurat’\nTraceback:\n",
      "1. loadNamespace(x)",
      "2. withRestarts(stop(cond), retry_loadNamespace = function() NULL)",
      "3. withOneRestart(expr, restarts[[1L]])",
      "4. doWithOneRestart(return(expr), restart)"
     ]
    }
   ],
   "source": [
    "# Example: doing an expression dot plot\n",
    "Seurat::DotPlot(seurat, features = c('PECAM1', 'DCN', 'KRT13'), group.by=\"cell_type\")"
   ]
  },
  {
   "cell_type": "markdown",
   "metadata": {
    "id": "8P32273N5RWy"
   },
   "source": [
    "**🚨 NOTE:** The Census package provide a convinient way to get a Seurat object without creating an Experiment Query:\n",
    "\n",
    "```r\n",
    "seurat_obj <- get_seurat(\n",
    "   census = census,\n",
    "   organism = organism,\n",
    "   var_value_filter = gene_filter,\n",
    "   obs_value_filter = cell_filter,\n",
    "   obs_column_names = cell_columns\n",
    ")\n",
    "```\n"
   ]
  },
  {
   "cell_type": "markdown",
   "metadata": {
    "id": "euvx9PR_5RWy"
   },
   "source": [
    "#### Exporting query results to `SingleCellExperiment`\n",
    "\n",
    "`ExperimentAxisQuery` has the capability to export the query to a `SingleCellExperiment` object to use for downstream analysis."
   ]
  },
  {
   "cell_type": "code",
   "execution_count": null,
   "metadata": {
    "id": "y4o_h69x5RWy",
    "outputId": "e3ab7db3-8703-47d5-938f-82de3c9de5a7"
   },
   "outputs": [],
   "source": [
    "# Convert to Seurat\n",
    "sce <- query$to_single_cell_experiment(X_layers = c(data = \"normalized\"), var_index = \"feature_name\")\n",
    "sce"
   ]
  },
  {
   "cell_type": "markdown",
   "metadata": {
    "id": "4pldi89t5RWz"
   },
   "source": [
    "**🚨 NOTE:** The Census package provide a convinient way to get a SingleCellExperiment object without creating an Experiment Query:\n",
    "\n",
    "```r\n",
    "sce_obj <- get_single_cell_experiment(\n",
    "   census = census,\n",
    "   organism = organism,\n",
    "   var_value_filter = gene_filter,\n",
    "   obs_value_filter = cell_filter,\n",
    "   obs_column_names = cell_columns\n",
    ")\n",
    "```\n"
   ]
  },
  {
   "cell_type": "markdown",
   "metadata": {
    "id": "rs3tMO9iN7Fj"
   },
   "source": [
    "#### Getting the expression data and metadata\n",
    "\n",
    "An`ExperimentAxisQuery` has all the necessary functionality to obtain the expression matrix along the corresponding cell and gene metadata.\n",
    "\n",
    "`to_anndata()` (shown in the previous section) uses many of these methods under the hood.\n",
    "\n",
    "Let's take a closer look. First, we can get the cell and gene metadata as follows:"
   ]
  },
  {
   "cell_type": "code",
   "execution_count": null,
   "metadata": {
    "colab": {
     "base_uri": "https://localhost:8080/",
     "height": 423
    },
    "id": "iJQdtQ1yJBPe",
    "outputId": "c247fc2a-b15a-4d3f-8ffa-d13775795949"
   },
   "outputs": [],
   "source": [
    "# Get cell metadata, only cell types and SOMA IDs\n",
    "obs <- query$obs(column_names = c(\"soma_joinid\", \"cell_type\"))$concat()\n",
    "obs <- as.data.frame(obs)\n",
    "head(obs)"
   ]
  },
  {
   "cell_type": "code",
   "execution_count": null,
   "metadata": {
    "colab": {
     "base_uri": "https://localhost:8080/",
     "height": 143
    },
    "id": "P3pFkHhuN2LH",
    "outputId": "86d0698d-ac2b-4537-ab36-8a6b20132b94"
   },
   "outputs": [],
   "source": [
    "# Get gene metadata\n",
    "var <- query$var()$concat()\n",
    "var <- as.data.frame(var)\n",
    "var"
   ]
  },
  {
   "cell_type": "markdown",
   "metadata": {
    "id": "P0UpBBhIU_KN"
   },
   "source": [
    "Now let's take a look at expression matrix. There's a method `X()` that works similarly to reading a SOMA `SparseNDArray`, it retunrs a reader that can be then used to create matrix iterators.\n",
    "\n",
    "Importantly `X()` will only return the rows and columns corresponding to cells and genes in the query, respectively."
   ]
  },
  {
   "cell_type": "code",
   "execution_count": null,
   "metadata": {
    "colab": {
     "base_uri": "https://localhost:8080/"
    },
    "id": "88VcwJYAT_fH",
    "outputId": "bed17f0f-94e5-4297-d7a1-aeb086e30ced"
   },
   "outputs": [],
   "source": [
    "# Get reader, results, and concatenate them.\n",
    "# We need to specify the layer.\n",
    "X = query$X(layer_name = \"raw\")$sparse_matrix()$concat()\n",
    "str(X)"
   ]
  },
  {
   "cell_type": "code",
   "execution_count": null,
   "metadata": {
    "id": "RMOyqQc95RW0",
    "outputId": "6af695c2-ec06-459d-deba-90c1f5a54402"
   },
   "outputs": [],
   "source": [
    "dim(X)"
   ]
  },
  {
   "cell_type": "markdown",
   "metadata": {
    "id": "RmKQusbrhHzo"
   },
   "source": [
    "**🚨 NOTE:** The shape of this matrix is 63,094,145 rows by 60,664 columns (the full size of Census).\n",
    "\n",
    "However we know that there are 17K cells and 3 genes in our query. The reason for this discrepancy is that we are taking a \"view\" at the Census matrix in sparse format.\n",
    "\n",
    "We can re-index these values to strip away all other cells and genes not included in our query result. The R package has a convinient function to get a re-indexed concatanted result."
   ]
  },
  {
   "cell_type": "code",
   "execution_count": null,
   "metadata": {
    "id": "Yxp8MhWTcYF4",
    "outputId": "c114badd-2c36-45c2-c840-3be2d5008aaa"
   },
   "outputs": [],
   "source": [
    "x_reindexed <- query$to_sparse_matrix(collection = \"X\", layer_name = \"raw\", var_index=\"feature_name\")\n",
    "dim(x_reindexed)"
   ]
  },
  {
   "cell_type": "code",
   "execution_count": null,
   "metadata": {
    "colab": {
     "base_uri": "https://localhost:8080/"
    },
    "id": "NwFh1GmBb5AU",
    "outputId": "90bd999d-a140-42dd-9b13-720192c21a2d"
   },
   "outputs": [],
   "source": [
    "x_reindexed[1:4,]"
   ]
  },
  {
   "cell_type": "markdown",
   "metadata": {
    "id": "rE2GGC0jeYpT"
   },
   "source": [
    "**🚨 NOTE:** Just like a file, the Census should be closed."
   ]
  },
  {
   "cell_type": "code",
   "execution_count": null,
   "metadata": {
    "id": "EzWvKZ9i5RW1"
   },
   "outputs": [],
   "source": [
    "census$close()"
   ]
  },
  {
   "cell_type": "markdown",
   "metadata": {
    "id": "FA-7L5zfeNC4"
   },
   "source": [
    "### Efficient compute capabilities of Census\n",
    "\n",
    "Census has some methods that makes use of SOMA streaming capabilities (iterators) to make it possible to apply common calculations on million of cells, using a common laptop."
   ]
  },
  {
   "cell_type": "markdown",
   "metadata": {
    "id": "ValUjof9mBKf"
   },
   "source": [
    "\n",
    "#### Calculating average and variance across genes or cells\n",
    "\n",
    "**🚨 NOTE:** This functionality is curretly only available in the Python package `cellxgene_census`"
   ]
  },
  {
   "cell_type": "markdown",
   "metadata": {
    "id": "fupyzSA5lsW8"
   },
   "source": [
    "#### Getting highly variable genes\n",
    "\n",
    "**🚨 NOTE:** This functionality is curretly only available in the Python package `cellxgene_census`"
   ]
  },
  {
   "cell_type": "markdown",
   "metadata": {
    "id": "kYaZq7xzpW0p"
   },
   "source": [
    "### Scalable modelling with PyTorch and Census\n",
    "\n",
    "Census provides an `ExperimentDataPipe`. It is an implementation of [PyTorch's DataPipe interface](https://pytorch.org/data/main/torchdata.datapipes.iter.html), which defines a common mechanism for wrapping and accessing training data from any underlying source.\n",
    "\n",
    "**🚨 NOTE:** This functionality is curretly only available in the Python package `cellxgene_census`"
   ]
  }
 ],
 "metadata": {
  "colab": {
   "provenance": []
  },
  "kernelspec": {
   "display_name": "R",
   "language": "R",
   "name": "ir"
  },
  "language_info": {
   "codemirror_mode": "r",
   "file_extension": ".r",
   "mimetype": "text/x-r-source",
   "name": "R",
   "pygments_lexer": "r",
   "version": "4.4.1"
  }
 },
 "nbformat": 4,
 "nbformat_minor": 4
}
