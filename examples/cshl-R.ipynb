{
 "cells": [
  {
   "cell_type": "markdown",
   "metadata": {
    "id": "pzxiMjjkjzPN"
   },
   "source": [
    "# CELLxGENE Discover Census Workshop - CSHL Single-Cell Analysis 2023\n",
    "\n",
    "This notebook is a step-by-step walkthrough of the CELLxGENE Discover Census Workshop at CSHL's Single-Cell Analysis, 2023.\n",
    "\n",
    "Original notebook: [colab.research.google.com/drive/158f6Ggl5MRxtnxC9Q01TjJMbkIPQxcim](https://colab.research.google.com/drive/158f6Ggl5MRxtnxC9Q01TjJMbkIPQxcim)\n",
    "\n",
    "## License\n",
    "\n",
    "MIT License\n",
    "\n",
    "Copyright (c) 2022-2023 Chan Zuckerberg Initiative Foundation.\n",
    "\n",
    "Permission is hereby granted, free of charge, to any person obtaining a copy\n",
    "of this software and associated documentation files (the \"Software\"), to deal\n",
    "in the Software without restriction, including without limitation the rights\n",
    "to use, copy, modify, merge, publish, distribute, sublicense, and/or sell\n",
    "copies of the Software, and to permit persons to whom the Software is\n",
    "furnished to do so, subject to the following conditions:\n",
    "\n",
    "The above copyright notice and this permission notice shall be included in all\n",
    "copies or substantial portions of the Software.\n",
    "\n",
    "THE SOFTWARE IS PROVIDED \"AS IS\", WITHOUT WARRANTY OF ANY KIND, EXPRESS OR\n",
    "IMPLIED, INCLUDING BUT NOT LIMITED TO THE WARRANTIES OF MERCHANTABILITY,\n",
    "FITNESS FOR A PARTICULAR PURPOSE AND NONINFRINGEMENT. IN NO EVENT SHALL THE\n",
    "AUTHORS OR COPYRIGHT HOLDERS BE LIABLE FOR ANY CLAIM, DAMAGES OR OTHER\n",
    "LIABILITY, WHETHER IN AN ACTION OF CONTRACT, TORT OR OTHERWISE, ARISING FROM,\n",
    "OUT OF OR IN CONNECTION WITH THE SOFTWARE OR THE USE OR OTHER DEALINGS IN THE\n",
    "SOFTWARE.\n",
    "\n",
    "## Workshop\n",
    "\n",
    "### Installation\n",
    "\n",
    "To install the Census API on your laptop you should follow the [installation instructions](https://chanzuckerberg.github.io/cellxgene-census/cellxgene_census_docsite_installation.html) in the documentation site."
   ]
  },
  {
   "cell_type": "markdown",
   "metadata": {
    "id": "fxGSU7epkxsh"
   },
   "source": [
    "### Census Hello World\n",
    "\n",
    "Let's load the necessary libraries"
   ]
  },
  {
   "cell_type": "code",
   "execution_count": 1,
   "metadata": {
    "colab": {
     "base_uri": "https://localhost:8080/",
     "height": 106
    },
    "id": "_gp2Dbem5RWW",
    "outputId": "ec029ce0-7a8c-464e-e0ab-66bb116169fe"
   },
   "outputs": [],
   "source": [
    "library(\"tiledb\")\n",
    "library(\"cellxgene.census\")\n",
    "library(\"tiledbsoma\")"
   ]
  },
  {
   "cell_type": "markdown",
   "metadata": {
    "id": "NeDC_Qfh5RWa"
   },
   "source": [
    "Let's also set some configuration settings for SOMA. This allows us to set the size of data we stream at any given time, as this will be relevant when we cover SOMA iterators."
   ]
  },
  {
   "cell_type": "code",
   "execution_count": 2,
   "metadata": {
    "id": "At3lyWvp5RWa"
   },
   "outputs": [],
   "source": [
    "# Default: 1GB\n",
    "# TileDB-Cloud can run default, but recommended for workshop is 10MB\n",
    "\n",
    "#10MB\n",
    "py.init_buffer_bytes <- 0.01 * 1024**3\n",
    "#10MB\n",
    "soma.init_buffer_bytes <- 0.01 * 1024**3\n",
    "\n",
    "ctx = new_SOMATileDBContext_for_census(\n",
    "  py.init_buffer_bytes = py.init_buffer_bytes,\n",
    "  soma.init_buffer_bytes  = soma.init_buffer_bytes\n",
    ")"
   ]
  },
  {
   "cell_type": "markdown",
   "metadata": {
    "id": "OaSArkVI5RWb"
   },
   "source": [
    "#### Finding Census versions available\n",
    "\n",
    "Let's first take a look at the data releases available in S3. There are two types of releases:\n",
    "- **Long-term supported (LTS) data releases** published every six months to be available for up to 5 years.\n",
    "- **Weekly releases** to be available for up to 6 weeks.\n",
    "\n",
    "To see a list of all available releases and their version aliases, we can do the following"
   ]
  },
  {
   "cell_type": "code",
   "execution_count": 3,
   "metadata": {
    "id": "JZrbzKNu5RWb",
    "outputId": "e80a7396-5c44-412d-bf6d-46e1542a2b19"
   },
   "outputs": [
    {
     "data": {
      "text/html": [
       "<table class=\"dataframe\">\n",
       "<caption>A data.frame: 12 × 11</caption>\n",
       "<thead>\n",
       "\t<tr><th></th><th scope=col>release_date</th><th scope=col>release_build</th><th scope=col>soma.uri</th><th scope=col>soma.relative_uri</th><th scope=col>soma.s3_region</th><th scope=col>h5ads.uri</th><th scope=col>h5ads.relative_uri</th><th scope=col>h5ads.s3_region</th><th scope=col>do_not_delete</th><th scope=col>lts</th><th scope=col>alias</th></tr>\n",
       "\t<tr><th></th><th scope=col>&lt;chr&gt;</th><th scope=col>&lt;chr&gt;</th><th scope=col>&lt;chr&gt;</th><th scope=col>&lt;chr&gt;</th><th scope=col>&lt;chr&gt;</th><th scope=col>&lt;chr&gt;</th><th scope=col>&lt;chr&gt;</th><th scope=col>&lt;chr&gt;</th><th scope=col>&lt;lgl&gt;</th><th scope=col>&lt;lgl&gt;</th><th scope=col>&lt;chr&gt;</th></tr>\n",
       "</thead>\n",
       "<tbody>\n",
       "\t<tr><th scope=row>stable</th><td></td><td>2024-07-01</td><td>s3://cellxgene-census-public-us-west-2/cell-census/2024-07-01/soma/</td><td>/cell-census/2024-07-01/soma/</td><td>us-west-2</td><td>s3://cellxgene-census-public-us-west-2/cell-census/2024-07-01/h5ads/</td><td>/cell-census/2024-07-01/h5ads/</td><td>us-west-2</td><td> TRUE</td><td>TRUE</td><td>stable</td></tr>\n",
       "\t<tr><th scope=row>latest</th><td></td><td>2024-09-02</td><td>s3://cellxgene-census-public-us-west-2/cell-census/2024-09-02/soma/</td><td>/cell-census/2024-09-02/soma/</td><td>us-west-2</td><td>s3://cellxgene-census-public-us-west-2/cell-census/2024-09-02/h5ads/</td><td>/cell-census/2024-09-02/h5ads/</td><td>us-west-2</td><td>FALSE</td><td>  NA</td><td>latest</td></tr>\n",
       "\t<tr><th scope=row>2023-05-15</th><td></td><td>2023-05-15</td><td>s3://cellxgene-census-public-us-west-2/cell-census/2023-05-15/soma/</td><td>/cell-census/2023-05-15/soma/</td><td>us-west-2</td><td>s3://cellxgene-census-public-us-west-2/cell-census/2023-05-15/h5ads/</td><td>/cell-census/2023-05-15/h5ads/</td><td>us-west-2</td><td> TRUE</td><td>TRUE</td><td>      </td></tr>\n",
       "\t<tr><th scope=row>2023-07-25</th><td></td><td>2023-07-25</td><td>s3://cellxgene-census-public-us-west-2/cell-census/2023-07-25/soma/</td><td>/cell-census/2023-07-25/soma/</td><td>us-west-2</td><td>s3://cellxgene-census-public-us-west-2/cell-census/2023-07-25/h5ads/</td><td>/cell-census/2023-07-25/h5ads/</td><td>us-west-2</td><td> TRUE</td><td>TRUE</td><td>      </td></tr>\n",
       "\t<tr><th scope=row>2023-12-15</th><td></td><td>2023-12-15</td><td>s3://cellxgene-census-public-us-west-2/cell-census/2023-12-15/soma/</td><td>/cell-census/2023-12-15/soma/</td><td>us-west-2</td><td>s3://cellxgene-census-public-us-west-2/cell-census/2023-12-15/h5ads/</td><td>/cell-census/2023-12-15/h5ads/</td><td>us-west-2</td><td> TRUE</td><td>TRUE</td><td>      </td></tr>\n",
       "\t<tr><th scope=row>2024-05-20</th><td></td><td>2024-05-20</td><td>s3://cellxgene-census-public-us-west-2/cell-census/2024-05-20/soma/</td><td>/cell-census/2024-05-20/soma/</td><td>us-west-2</td><td>s3://cellxgene-census-public-us-west-2/cell-census/2024-05-20/h5ads/</td><td>/cell-census/2024-05-20/h5ads/</td><td>us-west-2</td><td> TRUE</td><td>  NA</td><td>      </td></tr>\n",
       "\t<tr><th scope=row>2024-07-01</th><td></td><td>2024-07-01</td><td>s3://cellxgene-census-public-us-west-2/cell-census/2024-07-01/soma/</td><td>/cell-census/2024-07-01/soma/</td><td>us-west-2</td><td>s3://cellxgene-census-public-us-west-2/cell-census/2024-07-01/h5ads/</td><td>/cell-census/2024-07-01/h5ads/</td><td>us-west-2</td><td> TRUE</td><td>TRUE</td><td>      </td></tr>\n",
       "\t<tr><th scope=row>2024-08-05</th><td></td><td>2024-08-05</td><td>s3://cellxgene-census-public-us-west-2/cell-census/2024-08-05/soma/</td><td>/cell-census/2024-08-05/soma/</td><td>us-west-2</td><td>s3://cellxgene-census-public-us-west-2/cell-census/2024-08-05/h5ads/</td><td>/cell-census/2024-08-05/h5ads/</td><td>us-west-2</td><td>FALSE</td><td>  NA</td><td>      </td></tr>\n",
       "\t<tr><th scope=row>2024-08-12</th><td></td><td>2024-08-12</td><td>s3://cellxgene-census-public-us-west-2/cell-census/2024-08-12/soma/</td><td>/cell-census/2024-08-12/soma/</td><td>us-west-2</td><td>s3://cellxgene-census-public-us-west-2/cell-census/2024-08-12/h5ads/</td><td>/cell-census/2024-08-12/h5ads/</td><td>us-west-2</td><td>FALSE</td><td>  NA</td><td>      </td></tr>\n",
       "\t<tr><th scope=row>2024-08-19</th><td></td><td>2024-08-19</td><td>s3://cellxgene-census-public-us-west-2/cell-census/2024-08-19/soma/</td><td>/cell-census/2024-08-19/soma/</td><td>us-west-2</td><td>s3://cellxgene-census-public-us-west-2/cell-census/2024-08-19/h5ads/</td><td>/cell-census/2024-08-19/h5ads/</td><td>us-west-2</td><td>FALSE</td><td>  NA</td><td>      </td></tr>\n",
       "\t<tr><th scope=row>2024-08-26</th><td></td><td>2024-08-26</td><td>s3://cellxgene-census-public-us-west-2/cell-census/2024-08-26/soma/</td><td>/cell-census/2024-08-26/soma/</td><td>us-west-2</td><td>s3://cellxgene-census-public-us-west-2/cell-census/2024-08-26/h5ads/</td><td>/cell-census/2024-08-26/h5ads/</td><td>us-west-2</td><td>FALSE</td><td>  NA</td><td>      </td></tr>\n",
       "\t<tr><th scope=row>2024-09-02</th><td></td><td>2024-09-02</td><td>s3://cellxgene-census-public-us-west-2/cell-census/2024-09-02/soma/</td><td>/cell-census/2024-09-02/soma/</td><td>us-west-2</td><td>s3://cellxgene-census-public-us-west-2/cell-census/2024-09-02/h5ads/</td><td>/cell-census/2024-09-02/h5ads/</td><td>us-west-2</td><td>FALSE</td><td>  NA</td><td>      </td></tr>\n",
       "</tbody>\n",
       "</table>\n"
      ],
      "text/latex": [
       "A data.frame: 12 × 11\n",
       "\\begin{tabular}{r|lllllllllll}\n",
       "  & release\\_date & release\\_build & soma.uri & soma.relative\\_uri & soma.s3\\_region & h5ads.uri & h5ads.relative\\_uri & h5ads.s3\\_region & do\\_not\\_delete & lts & alias\\\\\n",
       "  & <chr> & <chr> & <chr> & <chr> & <chr> & <chr> & <chr> & <chr> & <lgl> & <lgl> & <chr>\\\\\n",
       "\\hline\n",
       "\tstable &  & 2024-07-01 & s3://cellxgene-census-public-us-west-2/cell-census/2024-07-01/soma/ & /cell-census/2024-07-01/soma/ & us-west-2 & s3://cellxgene-census-public-us-west-2/cell-census/2024-07-01/h5ads/ & /cell-census/2024-07-01/h5ads/ & us-west-2 &  TRUE & TRUE & stable\\\\\n",
       "\tlatest &  & 2024-09-02 & s3://cellxgene-census-public-us-west-2/cell-census/2024-09-02/soma/ & /cell-census/2024-09-02/soma/ & us-west-2 & s3://cellxgene-census-public-us-west-2/cell-census/2024-09-02/h5ads/ & /cell-census/2024-09-02/h5ads/ & us-west-2 & FALSE &   NA & latest\\\\\n",
       "\t2023-05-15 &  & 2023-05-15 & s3://cellxgene-census-public-us-west-2/cell-census/2023-05-15/soma/ & /cell-census/2023-05-15/soma/ & us-west-2 & s3://cellxgene-census-public-us-west-2/cell-census/2023-05-15/h5ads/ & /cell-census/2023-05-15/h5ads/ & us-west-2 &  TRUE & TRUE &       \\\\\n",
       "\t2023-07-25 &  & 2023-07-25 & s3://cellxgene-census-public-us-west-2/cell-census/2023-07-25/soma/ & /cell-census/2023-07-25/soma/ & us-west-2 & s3://cellxgene-census-public-us-west-2/cell-census/2023-07-25/h5ads/ & /cell-census/2023-07-25/h5ads/ & us-west-2 &  TRUE & TRUE &       \\\\\n",
       "\t2023-12-15 &  & 2023-12-15 & s3://cellxgene-census-public-us-west-2/cell-census/2023-12-15/soma/ & /cell-census/2023-12-15/soma/ & us-west-2 & s3://cellxgene-census-public-us-west-2/cell-census/2023-12-15/h5ads/ & /cell-census/2023-12-15/h5ads/ & us-west-2 &  TRUE & TRUE &       \\\\\n",
       "\t2024-05-20 &  & 2024-05-20 & s3://cellxgene-census-public-us-west-2/cell-census/2024-05-20/soma/ & /cell-census/2024-05-20/soma/ & us-west-2 & s3://cellxgene-census-public-us-west-2/cell-census/2024-05-20/h5ads/ & /cell-census/2024-05-20/h5ads/ & us-west-2 &  TRUE &   NA &       \\\\\n",
       "\t2024-07-01 &  & 2024-07-01 & s3://cellxgene-census-public-us-west-2/cell-census/2024-07-01/soma/ & /cell-census/2024-07-01/soma/ & us-west-2 & s3://cellxgene-census-public-us-west-2/cell-census/2024-07-01/h5ads/ & /cell-census/2024-07-01/h5ads/ & us-west-2 &  TRUE & TRUE &       \\\\\n",
       "\t2024-08-05 &  & 2024-08-05 & s3://cellxgene-census-public-us-west-2/cell-census/2024-08-05/soma/ & /cell-census/2024-08-05/soma/ & us-west-2 & s3://cellxgene-census-public-us-west-2/cell-census/2024-08-05/h5ads/ & /cell-census/2024-08-05/h5ads/ & us-west-2 & FALSE &   NA &       \\\\\n",
       "\t2024-08-12 &  & 2024-08-12 & s3://cellxgene-census-public-us-west-2/cell-census/2024-08-12/soma/ & /cell-census/2024-08-12/soma/ & us-west-2 & s3://cellxgene-census-public-us-west-2/cell-census/2024-08-12/h5ads/ & /cell-census/2024-08-12/h5ads/ & us-west-2 & FALSE &   NA &       \\\\\n",
       "\t2024-08-19 &  & 2024-08-19 & s3://cellxgene-census-public-us-west-2/cell-census/2024-08-19/soma/ & /cell-census/2024-08-19/soma/ & us-west-2 & s3://cellxgene-census-public-us-west-2/cell-census/2024-08-19/h5ads/ & /cell-census/2024-08-19/h5ads/ & us-west-2 & FALSE &   NA &       \\\\\n",
       "\t2024-08-26 &  & 2024-08-26 & s3://cellxgene-census-public-us-west-2/cell-census/2024-08-26/soma/ & /cell-census/2024-08-26/soma/ & us-west-2 & s3://cellxgene-census-public-us-west-2/cell-census/2024-08-26/h5ads/ & /cell-census/2024-08-26/h5ads/ & us-west-2 & FALSE &   NA &       \\\\\n",
       "\t2024-09-02 &  & 2024-09-02 & s3://cellxgene-census-public-us-west-2/cell-census/2024-09-02/soma/ & /cell-census/2024-09-02/soma/ & us-west-2 & s3://cellxgene-census-public-us-west-2/cell-census/2024-09-02/h5ads/ & /cell-census/2024-09-02/h5ads/ & us-west-2 & FALSE &   NA &       \\\\\n",
       "\\end{tabular}\n"
      ],
      "text/markdown": [
       "\n",
       "A data.frame: 12 × 11\n",
       "\n",
       "| <!--/--> | release_date &lt;chr&gt; | release_build &lt;chr&gt; | soma.uri &lt;chr&gt; | soma.relative_uri &lt;chr&gt; | soma.s3_region &lt;chr&gt; | h5ads.uri &lt;chr&gt; | h5ads.relative_uri &lt;chr&gt; | h5ads.s3_region &lt;chr&gt; | do_not_delete &lt;lgl&gt; | lts &lt;lgl&gt; | alias &lt;chr&gt; |\n",
       "|---|---|---|---|---|---|---|---|---|---|---|---|\n",
       "| stable | <!----> | 2024-07-01 | s3://cellxgene-census-public-us-west-2/cell-census/2024-07-01/soma/ | /cell-census/2024-07-01/soma/ | us-west-2 | s3://cellxgene-census-public-us-west-2/cell-census/2024-07-01/h5ads/ | /cell-census/2024-07-01/h5ads/ | us-west-2 |  TRUE | TRUE | stable |\n",
       "| latest | <!----> | 2024-09-02 | s3://cellxgene-census-public-us-west-2/cell-census/2024-09-02/soma/ | /cell-census/2024-09-02/soma/ | us-west-2 | s3://cellxgene-census-public-us-west-2/cell-census/2024-09-02/h5ads/ | /cell-census/2024-09-02/h5ads/ | us-west-2 | FALSE |   NA | latest |\n",
       "| 2023-05-15 | <!----> | 2023-05-15 | s3://cellxgene-census-public-us-west-2/cell-census/2023-05-15/soma/ | /cell-census/2023-05-15/soma/ | us-west-2 | s3://cellxgene-census-public-us-west-2/cell-census/2023-05-15/h5ads/ | /cell-census/2023-05-15/h5ads/ | us-west-2 |  TRUE | TRUE | <!----> |\n",
       "| 2023-07-25 | <!----> | 2023-07-25 | s3://cellxgene-census-public-us-west-2/cell-census/2023-07-25/soma/ | /cell-census/2023-07-25/soma/ | us-west-2 | s3://cellxgene-census-public-us-west-2/cell-census/2023-07-25/h5ads/ | /cell-census/2023-07-25/h5ads/ | us-west-2 |  TRUE | TRUE | <!----> |\n",
       "| 2023-12-15 | <!----> | 2023-12-15 | s3://cellxgene-census-public-us-west-2/cell-census/2023-12-15/soma/ | /cell-census/2023-12-15/soma/ | us-west-2 | s3://cellxgene-census-public-us-west-2/cell-census/2023-12-15/h5ads/ | /cell-census/2023-12-15/h5ads/ | us-west-2 |  TRUE | TRUE | <!----> |\n",
       "| 2024-05-20 | <!----> | 2024-05-20 | s3://cellxgene-census-public-us-west-2/cell-census/2024-05-20/soma/ | /cell-census/2024-05-20/soma/ | us-west-2 | s3://cellxgene-census-public-us-west-2/cell-census/2024-05-20/h5ads/ | /cell-census/2024-05-20/h5ads/ | us-west-2 |  TRUE |   NA | <!----> |\n",
       "| 2024-07-01 | <!----> | 2024-07-01 | s3://cellxgene-census-public-us-west-2/cell-census/2024-07-01/soma/ | /cell-census/2024-07-01/soma/ | us-west-2 | s3://cellxgene-census-public-us-west-2/cell-census/2024-07-01/h5ads/ | /cell-census/2024-07-01/h5ads/ | us-west-2 |  TRUE | TRUE | <!----> |\n",
       "| 2024-08-05 | <!----> | 2024-08-05 | s3://cellxgene-census-public-us-west-2/cell-census/2024-08-05/soma/ | /cell-census/2024-08-05/soma/ | us-west-2 | s3://cellxgene-census-public-us-west-2/cell-census/2024-08-05/h5ads/ | /cell-census/2024-08-05/h5ads/ | us-west-2 | FALSE |   NA | <!----> |\n",
       "| 2024-08-12 | <!----> | 2024-08-12 | s3://cellxgene-census-public-us-west-2/cell-census/2024-08-12/soma/ | /cell-census/2024-08-12/soma/ | us-west-2 | s3://cellxgene-census-public-us-west-2/cell-census/2024-08-12/h5ads/ | /cell-census/2024-08-12/h5ads/ | us-west-2 | FALSE |   NA | <!----> |\n",
       "| 2024-08-19 | <!----> | 2024-08-19 | s3://cellxgene-census-public-us-west-2/cell-census/2024-08-19/soma/ | /cell-census/2024-08-19/soma/ | us-west-2 | s3://cellxgene-census-public-us-west-2/cell-census/2024-08-19/h5ads/ | /cell-census/2024-08-19/h5ads/ | us-west-2 | FALSE |   NA | <!----> |\n",
       "| 2024-08-26 | <!----> | 2024-08-26 | s3://cellxgene-census-public-us-west-2/cell-census/2024-08-26/soma/ | /cell-census/2024-08-26/soma/ | us-west-2 | s3://cellxgene-census-public-us-west-2/cell-census/2024-08-26/h5ads/ | /cell-census/2024-08-26/h5ads/ | us-west-2 | FALSE |   NA | <!----> |\n",
       "| 2024-09-02 | <!----> | 2024-09-02 | s3://cellxgene-census-public-us-west-2/cell-census/2024-09-02/soma/ | /cell-census/2024-09-02/soma/ | us-west-2 | s3://cellxgene-census-public-us-west-2/cell-census/2024-09-02/h5ads/ | /cell-census/2024-09-02/h5ads/ | us-west-2 | FALSE |   NA | <!----> |\n",
       "\n"
      ],
      "text/plain": [
       "           release_date release_build\n",
       "stable                  2024-07-01   \n",
       "latest                  2024-09-02   \n",
       "2023-05-15              2023-05-15   \n",
       "2023-07-25              2023-07-25   \n",
       "2023-12-15              2023-12-15   \n",
       "2024-05-20              2024-05-20   \n",
       "2024-07-01              2024-07-01   \n",
       "2024-08-05              2024-08-05   \n",
       "2024-08-12              2024-08-12   \n",
       "2024-08-19              2024-08-19   \n",
       "2024-08-26              2024-08-26   \n",
       "2024-09-02              2024-09-02   \n",
       "           soma.uri                                                           \n",
       "stable     s3://cellxgene-census-public-us-west-2/cell-census/2024-07-01/soma/\n",
       "latest     s3://cellxgene-census-public-us-west-2/cell-census/2024-09-02/soma/\n",
       "2023-05-15 s3://cellxgene-census-public-us-west-2/cell-census/2023-05-15/soma/\n",
       "2023-07-25 s3://cellxgene-census-public-us-west-2/cell-census/2023-07-25/soma/\n",
       "2023-12-15 s3://cellxgene-census-public-us-west-2/cell-census/2023-12-15/soma/\n",
       "2024-05-20 s3://cellxgene-census-public-us-west-2/cell-census/2024-05-20/soma/\n",
       "2024-07-01 s3://cellxgene-census-public-us-west-2/cell-census/2024-07-01/soma/\n",
       "2024-08-05 s3://cellxgene-census-public-us-west-2/cell-census/2024-08-05/soma/\n",
       "2024-08-12 s3://cellxgene-census-public-us-west-2/cell-census/2024-08-12/soma/\n",
       "2024-08-19 s3://cellxgene-census-public-us-west-2/cell-census/2024-08-19/soma/\n",
       "2024-08-26 s3://cellxgene-census-public-us-west-2/cell-census/2024-08-26/soma/\n",
       "2024-09-02 s3://cellxgene-census-public-us-west-2/cell-census/2024-09-02/soma/\n",
       "           soma.relative_uri             soma.s3_region\n",
       "stable     /cell-census/2024-07-01/soma/ us-west-2     \n",
       "latest     /cell-census/2024-09-02/soma/ us-west-2     \n",
       "2023-05-15 /cell-census/2023-05-15/soma/ us-west-2     \n",
       "2023-07-25 /cell-census/2023-07-25/soma/ us-west-2     \n",
       "2023-12-15 /cell-census/2023-12-15/soma/ us-west-2     \n",
       "2024-05-20 /cell-census/2024-05-20/soma/ us-west-2     \n",
       "2024-07-01 /cell-census/2024-07-01/soma/ us-west-2     \n",
       "2024-08-05 /cell-census/2024-08-05/soma/ us-west-2     \n",
       "2024-08-12 /cell-census/2024-08-12/soma/ us-west-2     \n",
       "2024-08-19 /cell-census/2024-08-19/soma/ us-west-2     \n",
       "2024-08-26 /cell-census/2024-08-26/soma/ us-west-2     \n",
       "2024-09-02 /cell-census/2024-09-02/soma/ us-west-2     \n",
       "           h5ads.uri                                                           \n",
       "stable     s3://cellxgene-census-public-us-west-2/cell-census/2024-07-01/h5ads/\n",
       "latest     s3://cellxgene-census-public-us-west-2/cell-census/2024-09-02/h5ads/\n",
       "2023-05-15 s3://cellxgene-census-public-us-west-2/cell-census/2023-05-15/h5ads/\n",
       "2023-07-25 s3://cellxgene-census-public-us-west-2/cell-census/2023-07-25/h5ads/\n",
       "2023-12-15 s3://cellxgene-census-public-us-west-2/cell-census/2023-12-15/h5ads/\n",
       "2024-05-20 s3://cellxgene-census-public-us-west-2/cell-census/2024-05-20/h5ads/\n",
       "2024-07-01 s3://cellxgene-census-public-us-west-2/cell-census/2024-07-01/h5ads/\n",
       "2024-08-05 s3://cellxgene-census-public-us-west-2/cell-census/2024-08-05/h5ads/\n",
       "2024-08-12 s3://cellxgene-census-public-us-west-2/cell-census/2024-08-12/h5ads/\n",
       "2024-08-19 s3://cellxgene-census-public-us-west-2/cell-census/2024-08-19/h5ads/\n",
       "2024-08-26 s3://cellxgene-census-public-us-west-2/cell-census/2024-08-26/h5ads/\n",
       "2024-09-02 s3://cellxgene-census-public-us-west-2/cell-census/2024-09-02/h5ads/\n",
       "           h5ads.relative_uri             h5ads.s3_region do_not_delete lts \n",
       "stable     /cell-census/2024-07-01/h5ads/ us-west-2        TRUE         TRUE\n",
       "latest     /cell-census/2024-09-02/h5ads/ us-west-2       FALSE           NA\n",
       "2023-05-15 /cell-census/2023-05-15/h5ads/ us-west-2        TRUE         TRUE\n",
       "2023-07-25 /cell-census/2023-07-25/h5ads/ us-west-2        TRUE         TRUE\n",
       "2023-12-15 /cell-census/2023-12-15/h5ads/ us-west-2        TRUE         TRUE\n",
       "2024-05-20 /cell-census/2024-05-20/h5ads/ us-west-2        TRUE           NA\n",
       "2024-07-01 /cell-census/2024-07-01/h5ads/ us-west-2        TRUE         TRUE\n",
       "2024-08-05 /cell-census/2024-08-05/h5ads/ us-west-2       FALSE           NA\n",
       "2024-08-12 /cell-census/2024-08-12/h5ads/ us-west-2       FALSE           NA\n",
       "2024-08-19 /cell-census/2024-08-19/h5ads/ us-west-2       FALSE           NA\n",
       "2024-08-26 /cell-census/2024-08-26/h5ads/ us-west-2       FALSE           NA\n",
       "2024-09-02 /cell-census/2024-09-02/h5ads/ us-west-2       FALSE           NA\n",
       "           alias \n",
       "stable     stable\n",
       "latest     latest\n",
       "2023-05-15       \n",
       "2023-07-25       \n",
       "2023-12-15       \n",
       "2024-05-20       \n",
       "2024-07-01       \n",
       "2024-08-05       \n",
       "2024-08-12       \n",
       "2024-08-19       \n",
       "2024-08-26       \n",
       "2024-09-02       "
      ]
     },
     "metadata": {},
     "output_type": "display_data"
    }
   ],
   "source": [
    "get_census_version_directory()"
   ]
  },
  {
   "cell_type": "code",
   "execution_count": 4,
   "metadata": {
    "id": "PK-1ywoL5RWb",
    "outputId": "832f7966-dd92-41aa-b3f4-8cdcc35e48b1"
   },
   "outputs": [
    {
     "data": {
      "text/html": [
       "<table class=\"dataframe\">\n",
       "<caption>A data.frame: 12 × 11</caption>\n",
       "<thead>\n",
       "\t<tr><th></th><th scope=col>release_date</th><th scope=col>release_build</th><th scope=col>soma.uri</th><th scope=col>soma.relative_uri</th><th scope=col>soma.s3_region</th><th scope=col>h5ads.uri</th><th scope=col>h5ads.relative_uri</th><th scope=col>h5ads.s3_region</th><th scope=col>do_not_delete</th><th scope=col>lts</th><th scope=col>alias</th></tr>\n",
       "\t<tr><th></th><th scope=col>&lt;chr&gt;</th><th scope=col>&lt;chr&gt;</th><th scope=col>&lt;chr&gt;</th><th scope=col>&lt;chr&gt;</th><th scope=col>&lt;chr&gt;</th><th scope=col>&lt;chr&gt;</th><th scope=col>&lt;chr&gt;</th><th scope=col>&lt;chr&gt;</th><th scope=col>&lt;lgl&gt;</th><th scope=col>&lt;lgl&gt;</th><th scope=col>&lt;chr&gt;</th></tr>\n",
       "</thead>\n",
       "<tbody>\n",
       "\t<tr><th scope=row>stable</th><td>  </td><td>2024-07-01</td><td>s3://cellxgene-census-public-us-west-2/cell-census/2024-07-01/soma/</td><td>/cell-census/2024-07-01/soma/</td><td>us-west-2</td><td>s3://cellxgene-census-public-us-west-2/cell-census/2024-07-01/h5ads/</td><td>/cell-census/2024-07-01/h5ads/</td><td>us-west-2</td><td>TRUE</td><td>TRUE</td><td>stable</td></tr>\n",
       "\t<tr><th scope=row>NA</th><td>NA</td><td>NA        </td><td>NA                                                                 </td><td>NA                           </td><td>NA       </td><td>NA                                                                  </td><td>NA                            </td><td>NA       </td><td>  NA</td><td>  NA</td><td>NA    </td></tr>\n",
       "\t<tr><th scope=row>2023-05-15</th><td>  </td><td>2023-05-15</td><td>s3://cellxgene-census-public-us-west-2/cell-census/2023-05-15/soma/</td><td>/cell-census/2023-05-15/soma/</td><td>us-west-2</td><td>s3://cellxgene-census-public-us-west-2/cell-census/2023-05-15/h5ads/</td><td>/cell-census/2023-05-15/h5ads/</td><td>us-west-2</td><td>TRUE</td><td>TRUE</td><td>      </td></tr>\n",
       "\t<tr><th scope=row>2023-07-25</th><td>  </td><td>2023-07-25</td><td>s3://cellxgene-census-public-us-west-2/cell-census/2023-07-25/soma/</td><td>/cell-census/2023-07-25/soma/</td><td>us-west-2</td><td>s3://cellxgene-census-public-us-west-2/cell-census/2023-07-25/h5ads/</td><td>/cell-census/2023-07-25/h5ads/</td><td>us-west-2</td><td>TRUE</td><td>TRUE</td><td>      </td></tr>\n",
       "\t<tr><th scope=row>2023-12-15</th><td>  </td><td>2023-12-15</td><td>s3://cellxgene-census-public-us-west-2/cell-census/2023-12-15/soma/</td><td>/cell-census/2023-12-15/soma/</td><td>us-west-2</td><td>s3://cellxgene-census-public-us-west-2/cell-census/2023-12-15/h5ads/</td><td>/cell-census/2023-12-15/h5ads/</td><td>us-west-2</td><td>TRUE</td><td>TRUE</td><td>      </td></tr>\n",
       "\t<tr><th scope=row>NA.1</th><td>NA</td><td>NA        </td><td>NA                                                                 </td><td>NA                           </td><td>NA       </td><td>NA                                                                  </td><td>NA                            </td><td>NA       </td><td>  NA</td><td>  NA</td><td>NA    </td></tr>\n",
       "\t<tr><th scope=row>2024-07-01</th><td>  </td><td>2024-07-01</td><td>s3://cellxgene-census-public-us-west-2/cell-census/2024-07-01/soma/</td><td>/cell-census/2024-07-01/soma/</td><td>us-west-2</td><td>s3://cellxgene-census-public-us-west-2/cell-census/2024-07-01/h5ads/</td><td>/cell-census/2024-07-01/h5ads/</td><td>us-west-2</td><td>TRUE</td><td>TRUE</td><td>      </td></tr>\n",
       "\t<tr><th scope=row>NA.2</th><td>NA</td><td>NA        </td><td>NA                                                                 </td><td>NA                           </td><td>NA       </td><td>NA                                                                  </td><td>NA                            </td><td>NA       </td><td>  NA</td><td>  NA</td><td>NA    </td></tr>\n",
       "\t<tr><th scope=row>NA.3</th><td>NA</td><td>NA        </td><td>NA                                                                 </td><td>NA                           </td><td>NA       </td><td>NA                                                                  </td><td>NA                            </td><td>NA       </td><td>  NA</td><td>  NA</td><td>NA    </td></tr>\n",
       "\t<tr><th scope=row>NA.4</th><td>NA</td><td>NA        </td><td>NA                                                                 </td><td>NA                           </td><td>NA       </td><td>NA                                                                  </td><td>NA                            </td><td>NA       </td><td>  NA</td><td>  NA</td><td>NA    </td></tr>\n",
       "\t<tr><th scope=row>NA.5</th><td>NA</td><td>NA        </td><td>NA                                                                 </td><td>NA                           </td><td>NA       </td><td>NA                                                                  </td><td>NA                            </td><td>NA       </td><td>  NA</td><td>  NA</td><td>NA    </td></tr>\n",
       "\t<tr><th scope=row>NA.6</th><td>NA</td><td>NA        </td><td>NA                                                                 </td><td>NA                           </td><td>NA       </td><td>NA                                                                  </td><td>NA                            </td><td>NA       </td><td>  NA</td><td>  NA</td><td>NA    </td></tr>\n",
       "</tbody>\n",
       "</table>\n"
      ],
      "text/latex": [
       "A data.frame: 12 × 11\n",
       "\\begin{tabular}{r|lllllllllll}\n",
       "  & release\\_date & release\\_build & soma.uri & soma.relative\\_uri & soma.s3\\_region & h5ads.uri & h5ads.relative\\_uri & h5ads.s3\\_region & do\\_not\\_delete & lts & alias\\\\\n",
       "  & <chr> & <chr> & <chr> & <chr> & <chr> & <chr> & <chr> & <chr> & <lgl> & <lgl> & <chr>\\\\\n",
       "\\hline\n",
       "\tstable &    & 2024-07-01 & s3://cellxgene-census-public-us-west-2/cell-census/2024-07-01/soma/ & /cell-census/2024-07-01/soma/ & us-west-2 & s3://cellxgene-census-public-us-west-2/cell-census/2024-07-01/h5ads/ & /cell-census/2024-07-01/h5ads/ & us-west-2 & TRUE & TRUE & stable\\\\\n",
       "\tNA & NA & NA         & NA                                                                  & NA                            & NA        & NA                                                                   & NA                             & NA        &   NA &   NA & NA    \\\\\n",
       "\t2023-05-15 &    & 2023-05-15 & s3://cellxgene-census-public-us-west-2/cell-census/2023-05-15/soma/ & /cell-census/2023-05-15/soma/ & us-west-2 & s3://cellxgene-census-public-us-west-2/cell-census/2023-05-15/h5ads/ & /cell-census/2023-05-15/h5ads/ & us-west-2 & TRUE & TRUE &       \\\\\n",
       "\t2023-07-25 &    & 2023-07-25 & s3://cellxgene-census-public-us-west-2/cell-census/2023-07-25/soma/ & /cell-census/2023-07-25/soma/ & us-west-2 & s3://cellxgene-census-public-us-west-2/cell-census/2023-07-25/h5ads/ & /cell-census/2023-07-25/h5ads/ & us-west-2 & TRUE & TRUE &       \\\\\n",
       "\t2023-12-15 &    & 2023-12-15 & s3://cellxgene-census-public-us-west-2/cell-census/2023-12-15/soma/ & /cell-census/2023-12-15/soma/ & us-west-2 & s3://cellxgene-census-public-us-west-2/cell-census/2023-12-15/h5ads/ & /cell-census/2023-12-15/h5ads/ & us-west-2 & TRUE & TRUE &       \\\\\n",
       "\tNA.1 & NA & NA         & NA                                                                  & NA                            & NA        & NA                                                                   & NA                             & NA        &   NA &   NA & NA    \\\\\n",
       "\t2024-07-01 &    & 2024-07-01 & s3://cellxgene-census-public-us-west-2/cell-census/2024-07-01/soma/ & /cell-census/2024-07-01/soma/ & us-west-2 & s3://cellxgene-census-public-us-west-2/cell-census/2024-07-01/h5ads/ & /cell-census/2024-07-01/h5ads/ & us-west-2 & TRUE & TRUE &       \\\\\n",
       "\tNA.2 & NA & NA         & NA                                                                  & NA                            & NA        & NA                                                                   & NA                             & NA        &   NA &   NA & NA    \\\\\n",
       "\tNA.3 & NA & NA         & NA                                                                  & NA                            & NA        & NA                                                                   & NA                             & NA        &   NA &   NA & NA    \\\\\n",
       "\tNA.4 & NA & NA         & NA                                                                  & NA                            & NA        & NA                                                                   & NA                             & NA        &   NA &   NA & NA    \\\\\n",
       "\tNA.5 & NA & NA         & NA                                                                  & NA                            & NA        & NA                                                                   & NA                             & NA        &   NA &   NA & NA    \\\\\n",
       "\tNA.6 & NA & NA         & NA                                                                  & NA                            & NA        & NA                                                                   & NA                             & NA        &   NA &   NA & NA    \\\\\n",
       "\\end{tabular}\n"
      ],
      "text/markdown": [
       "\n",
       "A data.frame: 12 × 11\n",
       "\n",
       "| <!--/--> | release_date &lt;chr&gt; | release_build &lt;chr&gt; | soma.uri &lt;chr&gt; | soma.relative_uri &lt;chr&gt; | soma.s3_region &lt;chr&gt; | h5ads.uri &lt;chr&gt; | h5ads.relative_uri &lt;chr&gt; | h5ads.s3_region &lt;chr&gt; | do_not_delete &lt;lgl&gt; | lts &lt;lgl&gt; | alias &lt;chr&gt; |\n",
       "|---|---|---|---|---|---|---|---|---|---|---|---|\n",
       "| stable | <!----> | 2024-07-01 | s3://cellxgene-census-public-us-west-2/cell-census/2024-07-01/soma/ | /cell-census/2024-07-01/soma/ | us-west-2 | s3://cellxgene-census-public-us-west-2/cell-census/2024-07-01/h5ads/ | /cell-census/2024-07-01/h5ads/ | us-west-2 | TRUE | TRUE | stable |\n",
       "| NA | NA | NA         | NA                                                                  | NA                            | NA        | NA                                                                   | NA                             | NA        |   NA |   NA | NA     |\n",
       "| 2023-05-15 | <!----> | 2023-05-15 | s3://cellxgene-census-public-us-west-2/cell-census/2023-05-15/soma/ | /cell-census/2023-05-15/soma/ | us-west-2 | s3://cellxgene-census-public-us-west-2/cell-census/2023-05-15/h5ads/ | /cell-census/2023-05-15/h5ads/ | us-west-2 | TRUE | TRUE | <!----> |\n",
       "| 2023-07-25 | <!----> | 2023-07-25 | s3://cellxgene-census-public-us-west-2/cell-census/2023-07-25/soma/ | /cell-census/2023-07-25/soma/ | us-west-2 | s3://cellxgene-census-public-us-west-2/cell-census/2023-07-25/h5ads/ | /cell-census/2023-07-25/h5ads/ | us-west-2 | TRUE | TRUE | <!----> |\n",
       "| 2023-12-15 | <!----> | 2023-12-15 | s3://cellxgene-census-public-us-west-2/cell-census/2023-12-15/soma/ | /cell-census/2023-12-15/soma/ | us-west-2 | s3://cellxgene-census-public-us-west-2/cell-census/2023-12-15/h5ads/ | /cell-census/2023-12-15/h5ads/ | us-west-2 | TRUE | TRUE | <!----> |\n",
       "| NA.1 | NA | NA         | NA                                                                  | NA                            | NA        | NA                                                                   | NA                             | NA        |   NA |   NA | NA     |\n",
       "| 2024-07-01 | <!----> | 2024-07-01 | s3://cellxgene-census-public-us-west-2/cell-census/2024-07-01/soma/ | /cell-census/2024-07-01/soma/ | us-west-2 | s3://cellxgene-census-public-us-west-2/cell-census/2024-07-01/h5ads/ | /cell-census/2024-07-01/h5ads/ | us-west-2 | TRUE | TRUE | <!----> |\n",
       "| NA.2 | NA | NA         | NA                                                                  | NA                            | NA        | NA                                                                   | NA                             | NA        |   NA |   NA | NA     |\n",
       "| NA.3 | NA | NA         | NA                                                                  | NA                            | NA        | NA                                                                   | NA                             | NA        |   NA |   NA | NA     |\n",
       "| NA.4 | NA | NA         | NA                                                                  | NA                            | NA        | NA                                                                   | NA                             | NA        |   NA |   NA | NA     |\n",
       "| NA.5 | NA | NA         | NA                                                                  | NA                            | NA        | NA                                                                   | NA                             | NA        |   NA |   NA | NA     |\n",
       "| NA.6 | NA | NA         | NA                                                                  | NA                            | NA        | NA                                                                   | NA                             | NA        |   NA |   NA | NA     |\n",
       "\n"
      ],
      "text/plain": [
       "           release_date release_build\n",
       "stable                  2024-07-01   \n",
       "NA         NA           NA           \n",
       "2023-05-15              2023-05-15   \n",
       "2023-07-25              2023-07-25   \n",
       "2023-12-15              2023-12-15   \n",
       "NA.1       NA           NA           \n",
       "2024-07-01              2024-07-01   \n",
       "NA.2       NA           NA           \n",
       "NA.3       NA           NA           \n",
       "NA.4       NA           NA           \n",
       "NA.5       NA           NA           \n",
       "NA.6       NA           NA           \n",
       "           soma.uri                                                           \n",
       "stable     s3://cellxgene-census-public-us-west-2/cell-census/2024-07-01/soma/\n",
       "NA         NA                                                                 \n",
       "2023-05-15 s3://cellxgene-census-public-us-west-2/cell-census/2023-05-15/soma/\n",
       "2023-07-25 s3://cellxgene-census-public-us-west-2/cell-census/2023-07-25/soma/\n",
       "2023-12-15 s3://cellxgene-census-public-us-west-2/cell-census/2023-12-15/soma/\n",
       "NA.1       NA                                                                 \n",
       "2024-07-01 s3://cellxgene-census-public-us-west-2/cell-census/2024-07-01/soma/\n",
       "NA.2       NA                                                                 \n",
       "NA.3       NA                                                                 \n",
       "NA.4       NA                                                                 \n",
       "NA.5       NA                                                                 \n",
       "NA.6       NA                                                                 \n",
       "           soma.relative_uri             soma.s3_region\n",
       "stable     /cell-census/2024-07-01/soma/ us-west-2     \n",
       "NA         NA                            NA            \n",
       "2023-05-15 /cell-census/2023-05-15/soma/ us-west-2     \n",
       "2023-07-25 /cell-census/2023-07-25/soma/ us-west-2     \n",
       "2023-12-15 /cell-census/2023-12-15/soma/ us-west-2     \n",
       "NA.1       NA                            NA            \n",
       "2024-07-01 /cell-census/2024-07-01/soma/ us-west-2     \n",
       "NA.2       NA                            NA            \n",
       "NA.3       NA                            NA            \n",
       "NA.4       NA                            NA            \n",
       "NA.5       NA                            NA            \n",
       "NA.6       NA                            NA            \n",
       "           h5ads.uri                                                           \n",
       "stable     s3://cellxgene-census-public-us-west-2/cell-census/2024-07-01/h5ads/\n",
       "NA         NA                                                                  \n",
       "2023-05-15 s3://cellxgene-census-public-us-west-2/cell-census/2023-05-15/h5ads/\n",
       "2023-07-25 s3://cellxgene-census-public-us-west-2/cell-census/2023-07-25/h5ads/\n",
       "2023-12-15 s3://cellxgene-census-public-us-west-2/cell-census/2023-12-15/h5ads/\n",
       "NA.1       NA                                                                  \n",
       "2024-07-01 s3://cellxgene-census-public-us-west-2/cell-census/2024-07-01/h5ads/\n",
       "NA.2       NA                                                                  \n",
       "NA.3       NA                                                                  \n",
       "NA.4       NA                                                                  \n",
       "NA.5       NA                                                                  \n",
       "NA.6       NA                                                                  \n",
       "           h5ads.relative_uri             h5ads.s3_region do_not_delete lts \n",
       "stable     /cell-census/2024-07-01/h5ads/ us-west-2       TRUE          TRUE\n",
       "NA         NA                             NA                NA            NA\n",
       "2023-05-15 /cell-census/2023-05-15/h5ads/ us-west-2       TRUE          TRUE\n",
       "2023-07-25 /cell-census/2023-07-25/h5ads/ us-west-2       TRUE          TRUE\n",
       "2023-12-15 /cell-census/2023-12-15/h5ads/ us-west-2       TRUE          TRUE\n",
       "NA.1       NA                             NA                NA            NA\n",
       "2024-07-01 /cell-census/2024-07-01/h5ads/ us-west-2       TRUE          TRUE\n",
       "NA.2       NA                             NA                NA            NA\n",
       "NA.3       NA                             NA                NA            NA\n",
       "NA.4       NA                             NA                NA            NA\n",
       "NA.5       NA                             NA                NA            NA\n",
       "NA.6       NA                             NA                NA            NA\n",
       "           alias \n",
       "stable     stable\n",
       "NA         NA    \n",
       "2023-05-15       \n",
       "2023-07-25       \n",
       "2023-12-15       \n",
       "NA.1       NA    \n",
       "2024-07-01       \n",
       "NA.2       NA    \n",
       "NA.3       NA    \n",
       "NA.4       NA    \n",
       "NA.5       NA    \n",
       "NA.6       NA    "
      ]
     },
     "metadata": {},
     "output_type": "display_data"
    }
   ],
   "source": [
    "lts_census <- get_census_version_directory()\n",
    "lts_census[lts_census$lts,]"
   ]
  },
  {
   "cell_type": "markdown",
   "metadata": {
    "id": "1spI54xg5RWd"
   },
   "source": [
    "#### Opening a Census version\n",
    "\n",
    "Now we can get a handle to the Census object hosted in S3. Remember that we can specify the data release to use."
   ]
  },
  {
   "cell_type": "code",
   "execution_count": 5,
   "metadata": {
    "id": "HaCdNats5RWe",
    "outputId": "0b565b24-8012-4aed-f0b9-a23f96446146"
   },
   "outputs": [],
   "source": [
    "# For the latest LTS use \"stable\", other options are \"latest\" for the latest\n",
    "# weekly, or specific version\n",
    "\n",
    "version <- \"2024-09-02\"\n",
    "\n",
    "# Equivalent (at time of writing), but will emit a warning advising to pin a specific version\n",
    "# version <- \"latest\"\n",
    "\n",
    "census <- open_soma(census_version=version, tiledbsoma_ctx = ctx)"
   ]
  },
  {
   "cell_type": "markdown",
   "metadata": {
    "id": "fK8ddGij5RWe"
   },
   "source": [
    "#### Inspecting the Census object\n",
    "\n",
    "These are the types of SOMA objects used by Census:\n",
    "\n",
    "- `SparseNDArray` is the same as DenseNDArray but sparse, and supports point indexing (disjoint index access).\n",
    "- `DataFrame` is a multi-column table with user-defined columns names and value types, with support for point indexing.\n",
    "- `Collection` is a persistent container of named SOMA objects, similar to a dictionary.\n",
    "- `Experiment` is a class that represents a single-cell experiment. It always contains two objects:\n",
    "   - `obs`: a `DataFrame` with primary annotations on the observation axis.\n",
    "   - `ms`: a `Collection` of measurements, each composed of `X` matrices and axis annotation matrices or data frames (e.g. `var`, `varm`, `obsm`, etc).\n",
    "\n",
    "The parent Census object is a SOMA `Collection`:"
   ]
  },
  {
   "cell_type": "code",
   "execution_count": 6,
   "metadata": {
    "id": "-EnOqsgI5RWf",
    "outputId": "6fd6d9e4-d821-4aca-b8f3-494b6d1f7f3e"
   },
   "outputs": [
    {
     "name": "stderr",
     "output_type": "stream",
     "text": [
      "ERROR while rich displaying an object: Error: S3: Error while listing with prefix 's3://cellxgene-census-public-us-west-2/cell-census/2024-09-02/soma/__schema/' and delimiter '/'[Error Type: 100] [HTTP Response Code: 301] [Exception: PermanentRedirect] [Remote IP: 54.231.167.42] [Request ID: EBCXKC9P85TFSR04] [Headers: 'content-type' = 'application/xml' 'date' = 'Thu, 05 Sep 2024 14:14:52 GMT' 'server' = 'AmazonS3' 'transfer-encoding' = 'chunked' 'x-amz-bucket-region' = 'us-west-2' 'x-amz-id-2' = 'mhnkORebvrAltWe4enLyyoksgzvkJzyIUxe9nnSlCqMptSQBRtoeB9a0E9B4k/mNJEM98rvFxHM=' 'x-amz-request-id' = 'EBCXKC9P85TFSR04'] : Unable to parse ExceptionName: PermanentRedirect Message: The bucket you are attempting to access must be addressed using the specified endpoint. Please send all future requests to this endpoint.\n",
      "\n",
      "Traceback:\n",
      "1. tryCatch(withCallingHandlers({\n",
      " .     if (!mime %in% names(repr::mime2repr)) \n",
      " .         stop(\"No repr_* for mimetype \", mime, \" in repr::mime2repr\")\n",
      " .     rpr <- repr::mime2repr[[mime]](obj)\n",
      " .     if (is.null(rpr)) \n",
      " .         return(NULL)\n",
      " .     prepare_content(is.raw(rpr), rpr)\n",
      " . }, error = error_handler), error = outer_handler)\n",
      "2. tryCatchList(expr, classes, parentenv, handlers)\n",
      "3. tryCatchOne(expr, names, parentenv, handlers[[1L]])\n",
      "4. doTryCatch(return(expr), name, parentenv, handler)\n",
      "5. withCallingHandlers({\n",
      " .     if (!mime %in% names(repr::mime2repr)) \n",
      " .         stop(\"No repr_* for mimetype \", mime, \" in repr::mime2repr\")\n",
      " .     rpr <- repr::mime2repr[[mime]](obj)\n",
      " .     if (is.null(rpr)) \n",
      " .         return(NULL)\n",
      " .     prepare_content(is.raw(rpr), rpr)\n",
      " . }, error = error_handler)\n",
      "6. repr::mime2repr[[mime]](obj)\n",
      "7. repr_text.default(obj)\n",
      "8. paste(capture.output(print(obj)), collapse = \"\\n\")\n",
      "9. capture.output(print(obj))\n",
      "10. withVisible(...elt(i))\n",
      "11. print(obj)\n",
      "12. print.R6(obj)\n",
      "13. .subset2(x, \"print\")(...)\n",
      "14. self$exists()\n",
      "15. get_tiledb_object_type(self$uri, ctx = soma_context()) %in% expected_type\n",
      "16. get_tiledb_object_type(self$uri, ctx = soma_context())\n"
     ]
    }
   ],
   "source": [
    "census"
   ]
  },
  {
   "cell_type": "markdown",
   "metadata": {
    "id": "ygGpjcpj_d56"
   },
   "source": [
    "You can access items of a collection with square brackets.\n",
    "\n",
    "- `\"census_data\"` has the Census single-cell data, will explore it in a momemnt.\n",
    "- `\"census_info\"` has high-level summary information about Census\n",
    "\n",
    "Let's take a look at `\"census_info\"`\n",
    "\n",
    "**🚨 NOTE:** To access elements of a SOMA collection we need to use the R6 method `$get()`\n"
   ]
  },
  {
   "cell_type": "code",
   "execution_count": 7,
   "metadata": {
    "colab": {
     "base_uri": "https://localhost:8080/"
    },
    "id": "6zr_yAnH_ZJV",
    "outputId": "92be3bcc-2ac4-4d4c-b211-94bb3ca66e9c"
   },
   "outputs": [
    {
     "name": "stderr",
     "output_type": "stream",
     "text": [
      "ERROR while rich displaying an object: Error: S3: Error while listing with prefix 's3://cellxgene-census-public-us-west-2/cell-census/2024-09-02/soma/census_info/__schema/' and delimiter '/'[Error Type: 100] [HTTP Response Code: 301] [Exception: PermanentRedirect] [Remote IP: 54.231.167.42] [Request ID: P4JDPNBTAX69KKCP] [Headers: 'content-type' = 'application/xml' 'date' = 'Thu, 05 Sep 2024 14:14:53 GMT' 'server' = 'AmazonS3' 'transfer-encoding' = 'chunked' 'x-amz-bucket-region' = 'us-west-2' 'x-amz-id-2' = 'ib8Q39ycXSVlMPH4qdgrFGccpfWSBupi6C1SrlpZkscrVTpeAvYQuLqcZfdl3UAlgUZYHkBnNUc=' 'x-amz-request-id' = 'P4JDPNBTAX69KKCP'] : Unable to parse ExceptionName: PermanentRedirect Message: The bucket you are attempting to access must be addressed using the specified endpoint. Please send all future requests to this endpoint.\n",
      "\n",
      "Traceback:\n",
      "1. tryCatch(withCallingHandlers({\n",
      " .     if (!mime %in% names(repr::mime2repr)) \n",
      " .         stop(\"No repr_* for mimetype \", mime, \" in repr::mime2repr\")\n",
      " .     rpr <- repr::mime2repr[[mime]](obj)\n",
      " .     if (is.null(rpr)) \n",
      " .         return(NULL)\n",
      " .     prepare_content(is.raw(rpr), rpr)\n",
      " . }, error = error_handler), error = outer_handler)\n",
      "2. tryCatchList(expr, classes, parentenv, handlers)\n",
      "3. tryCatchOne(expr, names, parentenv, handlers[[1L]])\n",
      "4. doTryCatch(return(expr), name, parentenv, handler)\n",
      "5. withCallingHandlers({\n",
      " .     if (!mime %in% names(repr::mime2repr)) \n",
      " .         stop(\"No repr_* for mimetype \", mime, \" in repr::mime2repr\")\n",
      " .     rpr <- repr::mime2repr[[mime]](obj)\n",
      " .     if (is.null(rpr)) \n",
      " .         return(NULL)\n",
      " .     prepare_content(is.raw(rpr), rpr)\n",
      " . }, error = error_handler)\n",
      "6. repr::mime2repr[[mime]](obj)\n",
      "7. repr_text.default(obj)\n",
      "8. paste(capture.output(print(obj)), collapse = \"\\n\")\n",
      "9. capture.output(print(obj))\n",
      "10. withVisible(...elt(i))\n",
      "11. print(obj)\n",
      "12. print.R6(obj)\n",
      "13. .subset2(x, \"print\")(...)\n",
      "14. self$exists()\n",
      "15. get_tiledb_object_type(self$uri, ctx = soma_context()) %in% expected_type\n",
      "16. get_tiledb_object_type(self$uri, ctx = soma_context())\n"
     ]
    }
   ],
   "source": [
    "census$get(\"census_info\")"
   ]
  },
  {
   "cell_type": "markdown",
   "metadata": {
    "id": "CX61uvdLAdRv"
   },
   "source": [
    "There are three items in this collection:\n",
    "\n",
    "- `\"summary\"`: A data frame with high-level information of this Census, e.g. build date, total cell count, etc.\n",
    "- `\"summary_cell_counts\"`: A data frame with cell counts stratified by relevant cell metadata\n",
    "- `\"datasets\"`: A data frame with all datasets from CELLxGENE Discover used to create the Census."
   ]
  },
  {
   "cell_type": "markdown",
   "metadata": {
    "id": "i87SDNOpCvz3"
   },
   "source": [
    "Now let's take a look at `\"census_data\"`."
   ]
  },
  {
   "cell_type": "code",
   "execution_count": null,
   "metadata": {
    "colab": {
     "base_uri": "https://localhost:8080/"
    },
    "id": "t_4gewQ9AT46",
    "outputId": "73673171-5213-4afb-dafe-e1cace7526db"
   },
   "outputs": [],
   "source": [
    "census$get(\"census_data\")"
   ]
  },
  {
   "cell_type": "markdown",
   "metadata": {
    "id": "vrx1KwN4Bimu"
   },
   "source": [
    "These two are SOMA `Experiment` objects which are a specialized form of a `Collection`. Each of these store a data matrix (cells by genes), cell metadata, gene metadata, and some other useful components."
   ]
  },
  {
   "cell_type": "markdown",
   "metadata": {
    "id": "mqOefkzOJkH2"
   },
   "source": [
    "### Reading Data Frames"
   ]
  },
  {
   "cell_type": "markdown",
   "metadata": {
    "id": "amEMnNCjVtB6"
   },
   "source": [
    "\n",
    "#### Reading cell metadata\n",
    "\n",
    "Let's take a deeper dive into the single-cell data. As mentioned earlier, an `Experiment` always has an `obs` atrribute that can be accessed via `$obs`.\n",
    "\n",
    "Let's take a look at the human `Experiment`."
   ]
  },
  {
   "cell_type": "code",
   "execution_count": null,
   "metadata": {
    "colab": {
     "base_uri": "https://localhost:8080/"
    },
    "id": "zZXy-Bt3I28i",
    "outputId": "68b5228d-86b8-4d10-92d8-348f4e0ad20d"
   },
   "outputs": [],
   "source": [
    "census$get(\"census_data\")$get(\"homo_sapiens\")"
   ]
  },
  {
   "cell_type": "code",
   "execution_count": null,
   "metadata": {
    "colab": {
     "base_uri": "https://localhost:8080/"
    },
    "id": "8kNlAnIGKB3r",
    "outputId": "62c929e7-e4d9-435f-a296-f9909b18e528"
   },
   "outputs": [],
   "source": [
    "census$get(\"census_data\")$get(\"homo_sapiens\")$obs"
   ]
  },
  {
   "cell_type": "markdown",
   "metadata": {
    "id": "fi2sDGuIMEP_"
   },
   "source": [
    "We can take a look at the columns available in a data frame with the `schema()` method, which shows the types of metadata available for each cell."
   ]
  },
  {
   "cell_type": "code",
   "execution_count": null,
   "metadata": {
    "colab": {
     "base_uri": "https://localhost:8080/"
    },
    "id": "X1CQfbGmMDcf",
    "outputId": "f2599b95-d9c6-4a0e-dd29-fbf0c60d42e1"
   },
   "outputs": [],
   "source": [
    "census$get(\"census_data\")$get(\"homo_sapiens\")$obs$schema()"
   ]
  },
  {
   "cell_type": "markdown",
   "metadata": {
    "id": "UujuxKAW3LhM"
   },
   "source": [
    "Let's read two columns of the data frame."
   ]
  },
  {
   "cell_type": "code",
   "execution_count": null,
   "metadata": {
    "colab": {
     "base_uri": "https://localhost:8080/",
     "height": 423
    },
    "id": "WD8zL10AKFv3",
    "outputId": "3cbd85a4-ccb6-4983-f1e8-b03fc77606d3"
   },
   "outputs": [],
   "source": [
    "obs <- census$get(\"census_data\")$get(\"homo_sapiens\")$obs$read(column_names=c(\"suspension_type\", \"tissue_general\"))$concat()\n",
    "head(as.data.frame(obs))"
   ]
  },
  {
   "cell_type": "markdown",
   "metadata": {
    "id": "I5YBE9lhBlPx"
   },
   "source": [
    "The line above retrieved the suspension type and tissue values for all human cells in Census. Let's dissect step-by-step to see what happened there:\n",
    "\n",
    "\n",
    "1. `$read(column_names = c(\"suspension_type\", \"tissue_general\")` - creates an iterator of Arrow tables that can be used for chunked-based data streaming.\n",
    "2. `$concat()` - retrieves all the results of the iterator and concatenates them into a single Arrow table.\n",
    "3. `as.data.frame(obs)` - converts the Arrow table into a data frame.\n",
    "\n",
    "Let's do each step one more time and inspect the intermediate objects."
   ]
  },
  {
   "cell_type": "code",
   "execution_count": null,
   "metadata": {
    "colab": {
     "base_uri": "https://localhost:8080/"
    },
    "id": "KWw45mP-Besz",
    "outputId": "86c152f8-b83b-48d6-e576-c3a4b56282be"
   },
   "outputs": [],
   "source": [
    "# Create iterator of Arrow tables\n",
    "iterator <- census$get(\"census_data\")$get(\"homo_sapiens\")$obs$read(column_names=c(\"suspension_type\", \"tissue_general\"))\n",
    "iterator"
   ]
  },
  {
   "cell_type": "code",
   "execution_count": null,
   "metadata": {
    "colab": {
     "base_uri": "https://localhost:8080/"
    },
    "id": "BIiTYQ0USqTt",
    "outputId": "88d1477c-5db1-4049-fda2-2352ba3eb691"
   },
   "outputs": [],
   "source": [
    "# We can get individual chunks\n",
    "table_chunk <- iterator$read_next()\n",
    "table_chunk"
   ]
  },
  {
   "cell_type": "code",
   "execution_count": null,
   "metadata": {
    "colab": {
     "base_uri": "https://localhost:8080/",
     "height": 423
    },
    "id": "Yn48LNCPTVfN",
    "outputId": "d811ea18-323b-4514-981a-61f8418162e6"
   },
   "outputs": [],
   "source": [
    "head(as.data.frame(table_chunk))"
   ]
  },
  {
   "cell_type": "code",
   "execution_count": null,
   "metadata": {
    "colab": {
     "base_uri": "https://localhost:8080/",
     "height": 423
    },
    "id": "_6fjIQKzDM5q",
    "outputId": "6784d50f-d130-426a-aa50-a849ea1b2771"
   },
   "outputs": [],
   "source": [
    "# Or concatenate the remaining results into a single Arrow Table,\n",
    "# and the convert to a DataFrame\n",
    "table <- iterator$concat()\n",
    "df_obs <- as.data.frame(table)\n",
    "head(df_obs)"
   ]
  },
  {
   "cell_type": "code",
   "execution_count": null,
   "metadata": {
    "colab": {
     "base_uri": "https://localhost:8080/"
    },
    "id": "5QhtRerLDduB",
    "outputId": "7a8d4d42-ed54-4474-93fc-ed1e883df799"
   },
   "outputs": [],
   "source": [
    "# And you can perform operations useful for your analysis\n",
    "table(df_obs$suspension_type)"
   ]
  },
  {
   "cell_type": "markdown",
   "metadata": {
    "id": "gPif5zy3L0NB"
   },
   "source": [
    "#### Summary info and dataset table\n",
    "\n",
    "The same reading operations can be applied to any SOMA data frame in Census. Let's take a look back at the items of `\"census_info\"`."
   ]
  },
  {
   "cell_type": "code",
   "execution_count": null,
   "metadata": {
    "colab": {
     "base_uri": "https://localhost:8080/"
    },
    "id": "LwN7a0v3L66V",
    "outputId": "5287c4b3-31e7-4bb5-8caa-b76587b53857"
   },
   "outputs": [],
   "source": [
    "census$get(\"census_info\")"
   ]
  },
  {
   "cell_type": "markdown",
   "metadata": {
    "id": "evjIzkJXMVIK"
   },
   "source": [
    "`\"summary\"` is a data frame with high-level information of this data release."
   ]
  },
  {
   "cell_type": "code",
   "execution_count": null,
   "metadata": {
    "colab": {
     "base_uri": "https://localhost:8080/"
    },
    "id": "ii_tRiOYLFt_",
    "outputId": "39d79e41-ce49-456c-c009-a006d9381454"
   },
   "outputs": [],
   "source": [
    "census$get(\"census_info\")$get(\"summary\")"
   ]
  },
  {
   "cell_type": "code",
   "execution_count": null,
   "metadata": {
    "colab": {
     "base_uri": "https://localhost:8080/",
     "height": 268
    },
    "id": "gtH3rMBIMUWI",
    "outputId": "bbd7b8b7-273a-4a65-b76d-31fc0a4f942e"
   },
   "outputs": [],
   "source": [
    "as.data.frame(census$get(\"census_info\")$get(\"summary\")$read()$concat())"
   ]
  },
  {
   "cell_type": "markdown",
   "metadata": {
    "id": "jFf2vxR5Mkqw"
   },
   "source": [
    "And `\"datasets\"` is data frame listing all of the datasets whose single-cell data is contained in this Census release.\n",
    "\n",
    "**🚨 NOTE:** the column `dataset_id` is also present in the cell metadata for joining"
   ]
  },
  {
   "cell_type": "code",
   "execution_count": null,
   "metadata": {
    "colab": {
     "base_uri": "https://localhost:8080/",
     "height": 947
    },
    "id": "54lUHIYeMgwL",
    "outputId": "b249b0a5-3e5d-44ed-92d0-2c3dffc72e88"
   },
   "outputs": [],
   "source": [
    "datasets <- census$get(\"census_info\")$get(\"datasets\")$read()$concat()\n",
    "head(as.data.frame(datasets))"
   ]
  },
  {
   "cell_type": "markdown",
   "metadata": {
    "id": "ihxvtyH4Vz2B"
   },
   "source": [
    "#### Reading gene metadata\n",
    "\n",
    "Reading gene metadata is similar to reading cell metadata. However the location of this data frame is inside the soma Measurement. This was designed to allow for multi-modal data, whereby the same observation (cell) can have a different set of features for each type of measurement (e.g. genes, proteins).\n",
    "\n",
    "\n",
    "To read the gene metadata:"
   ]
  },
  {
   "cell_type": "code",
   "execution_count": null,
   "metadata": {
    "colab": {
     "base_uri": "https://localhost:8080/",
     "height": 423
    },
    "id": "wsskajc-VAtD",
    "outputId": "f738bad6-76c5-4905-e023-7edc378c9eec"
   },
   "outputs": [],
   "source": [
    "# Build iterator\n",
    "iterator <- census$get(\"census_data\")$get(\"homo_sapiens\")$ms$get(\"RNA\")$var$read()\n",
    "\n",
    "# Grab first chunk\n",
    "table_chunk <- iterator$read_next()\n",
    "\n",
    "# Convert to data frame\n",
    "head(as.data.frame(table_chunk))"
   ]
  },
  {
   "cell_type": "markdown",
   "metadata": {
    "id": "M_0EEQmnNh_6"
   },
   "source": [
    "#### Reading a Data Frame with row filters\n",
    "\n",
    "SOMA makes it easy and efficient to only select a subset of rows based on a query filter. This helps when you want to grab data or metadata only for specific set of cells or genes based on the columns available in these data frames.\n",
    "\n",
    "For example if you want to get the all the the *primary cells* you can add the following.\n",
    "\n",
    "**🚨 NOTE:** cells annotated as `is_primary_data = True` are those marked as the original contribution, as some cells are represented more than once in Census due to their inclusion in multiple datasets."
   ]
  },
  {
   "cell_type": "code",
   "execution_count": null,
   "metadata": {
    "colab": {
     "base_uri": "https://localhost:8080/",
     "height": 964
    },
    "id": "2UuuVnlgNnGg",
    "outputId": "8d29a353-dd70-46e1-baaa-768ca982700c"
   },
   "outputs": [],
   "source": [
    "# Build iterator with a query filter\n",
    "iterator <- census$get(\"census_data\")$get(\"homo_sapiens\")$obs$read(\n",
    "    value_filter = \"is_primary_data == True\"\n",
    ")\n",
    "\n",
    "# Grab first chunk\n",
    "table_chunk <- iterator$read_next()\n",
    "\n",
    "# Convert to data frame\n",
    "head(as.data.frame(table_chunk))"
   ]
  },
  {
   "cell_type": "markdown",
   "metadata": {
    "id": "e6-UJc_RT7do"
   },
   "source": [
    "The `value_filter` works similalrly to a Pandas `query` interface. It can take a string of which is evaluated as a boolean condition and selects rows that meet the criteria.\n",
    "\n",
    "We can then use other operators to build complex queries, for example all epithelial cells from lung that are primary representations."
   ]
  },
  {
   "cell_type": "code",
   "execution_count": null,
   "metadata": {
    "colab": {
     "base_uri": "https://localhost:8080/",
     "height": 423
    },
    "id": "DPnPc5wkT0kL",
    "outputId": "1304c43f-ba6f-466f-b394-1a1cbe70ffc3"
   },
   "outputs": [],
   "source": [
    "filter <- \"is_primary_data == True & cell_type == 'epithelial cell' & tissue_general == 'lung'\"\n",
    "columns <- c(\"assay\")\n",
    "\n",
    "# Build iterator\n",
    "iterator <- census$get(\"census_data\")$get(\"homo_sapiens\")$obs$read(\n",
    "    value_filter = filter,\n",
    "    column_names = columns,\n",
    ")\n",
    "\n",
    "# Grab first chunk\n",
    "table_chunk <- iterator$read_next()\n",
    "\n",
    "# Convert to data frame and get unique values\n",
    "unique(as.data.frame(table_chunk))"
   ]
  },
  {
   "cell_type": "markdown",
   "metadata": {
    "id": "aBo0cnZ1Y2pg"
   },
   "source": [
    "#### Reading a Data Frame with coordinates\n",
    "\n",
    "Finally, you can also read a data frame via coordinates. This is useful when testing code with a small set of data."
   ]
  },
  {
   "cell_type": "code",
   "execution_count": null,
   "metadata": {
    "colab": {
     "base_uri": "https://localhost:8080/",
     "height": 599
    },
    "id": "lSW63IWMZXyK",
    "outputId": "dfb4f628-0e2c-4b21-af04-ebd242b3df8d"
   },
   "outputs": [],
   "source": [
    "obs <- census$get(\"census_data\")$get(\"homo_sapiens\")$obs$read(coords=1:5)$concat()\n",
    "as.data.frame(obs)"
   ]
  },
  {
   "cell_type": "markdown",
   "metadata": {
    "id": "A3um9EnZa1_N"
   },
   "source": [
    "### Reading expression data\n",
    "\n",
    "The single-cell expression data is stored as a SOMA `SparseNDArray`. This is a sparse representation of the data that enables efficient storage and access for data with a high number of missing values.\n",
    "\n",
    "Currently Census has two expression layers:\n",
    "\n",
    "- Raw counts.\n",
    "- Normalized counts by library size.\n",
    "\n",
    "For human, these are located in the \\\"RNA\\\" measurement at:\n",
    "\n",
    "- `\"census_data\" --> \"homo_sapiens\"]$ms --> \"RNA\"$X --> \"raw\"`\n",
    "- `\"census_data\" --> \"homo_sapiens\"]$ms --> \"RNA\"$X --> \"normalized\"`\n",
    "\n",
    "Reading these data works similarly to reading data frames. The main difference is that there are different types of iterators available. In this workshop we'll focus on `Matrix::dgTMatrix` iterators.\n"
   ]
  },
  {
   "cell_type": "code",
   "execution_count": null,
   "metadata": {
    "colab": {
     "base_uri": "https://localhost:8080/",
     "height": 423
    },
    "id": "CgFG-RPwZfJ1",
    "outputId": "a176216b-3365-40d5-d51f-40210c4e283b"
   },
   "outputs": [],
   "source": [
    "# Creater a reader\n",
    "reader <- census$get(\"census_data\")$get(\"homo_sapiens\")$ms$get(\"RNA\")$X$get(\"raw\")$read()\n",
    "\n",
    "# Build an iterator of Matrix::dgTMatrix objects\n",
    "iterator <- reader$sparse_matrix()\n",
    "\n",
    "# Grab first chunk\n",
    "sparse_chunk <- iterator$read_next()\n",
    "\n",
    "# Convert to data frame\n",
    "str(sparse_chunk)"
   ]
  },
  {
   "cell_type": "markdown",
   "metadata": {
    "id": "kbZM_1ckc-SS"
   },
   "source": [
    "This produces an expression matrix in COO sparse format using `Matrix::dgTMatrix`:\n",
    "\n",
    "- `i` - the ID + 1 for the cell.\n",
    "- `j` - the ID + 1 for the gene.  \n",
    "- `soma_data` - the expression value.\n"
   ]
  },
  {
   "cell_type": "code",
   "execution_count": null,
   "metadata": {
    "colab": {
     "base_uri": "https://localhost:8080/"
    },
    "id": "sVzKYxEldu8R",
    "outputId": "45c25dcf-cf44-4c0e-c94a-a3e9bdb1a52e"
   },
   "outputs": [],
   "source": [
    "dim(sparse_chunk)"
   ]
  },
  {
   "cell_type": "markdown",
   "metadata": {
    "id": "uRfFYNXpefY_"
   },
   "source": [
    "**🚨 NOTE:** Reading the expression matrix in isolation is usually not very useful without cell and gene metadata. We'll cover that in the next section.\n",
    "**🚨 NOTE:** The shape of this matrix is 63,094,145 rows by 60,664 columns (the full size of Census). We have a \"sparse\" view."
   ]
  },
  {
   "cell_type": "markdown",
   "metadata": {
    "id": "g50HINMxfJzi"
   },
   "source": [
    "### Atomic reading of expression data AND metadata\n",
    "\n",
    "SOMA provides a convenient interface to query single-cell data in a metadata-aware fashion using `ExperimentAxisQuery`.\n",
    "\n",
    "We covered in a previous section the concept of an SOMA `Experiment`, as a class that represents a single-cell experiment. It always contains two objects:\n",
    "   - `obs`: a `DataFrame` with primary annotations on the observation axis.\n",
    "   - `ms`: a `Collection` of measurements, each composed of `X` matrices and axis annotation matrices or data frames (e.g. `var`, `varm`, `obsm`, etc).\n",
    "\n",
    "**🚨 NOTE:** An `ExperimentAxisQuery` enables users to query and slice an `Experiment` single-cell data and metadata using coordinates or value filters on the axes, similar to how a SOMA `DataFrame` is queried."
   ]
  },
  {
   "cell_type": "markdown",
   "metadata": {
    "id": "xTq0XxuwLxVy"
   },
   "source": [
    "#### Creating an `ExperimentAxisQuery`\n",
    "\n",
    "To create an `ExperimentAxisQuery` you can call the method `$axis_query()` of a SOMA `Experiment`."
   ]
  },
  {
   "cell_type": "code",
   "execution_count": null,
   "metadata": {
    "id": "kbca9zAVeaDB"
   },
   "outputs": [],
   "source": [
    "cell_filter <- \"tissue_general == 'tongue' & cell_type %in% c('leukocyte', 'keratinocyte')\"\n",
    "gene_filter <- \"feature_name %in% c('PECAM1', 'DCN', 'KRT13')\"\n",
    "\n",
    "query <- census$get(\"census_data\")$get(\"homo_sapiens\")$axis_query(\n",
    "    measurement_name = \"RNA\",\n",
    "    obs_query = SOMAAxisQuery$new(value_filter = cell_filter),\n",
    "    var_query = SOMAAxisQuery$new(value_filter = gene_filter)\n",
    ")"
   ]
  },
  {
   "cell_type": "code",
   "execution_count": null,
   "metadata": {
    "colab": {
     "base_uri": "https://localhost:8080/"
    },
    "id": "g-O_T2-EhkzX",
    "outputId": "ba520141-2f16-4c33-c356-06b71b646036"
   },
   "outputs": [],
   "source": [
    "query"
   ]
  },
  {
   "cell_type": "markdown",
   "metadata": {
    "id": "spSrAvCriZ3E"
   },
   "source": [
    "#### Inspecting the query results\n",
    "\n",
    "Once the `ExperimentAxisQuery` is created you have access to a variety of convenient methods to fetch data or useful information about your query."
   ]
  },
  {
   "cell_type": "code",
   "execution_count": null,
   "metadata": {
    "colab": {
     "base_uri": "https://localhost:8080/"
    },
    "id": "t6GTjX0Qhn1v",
    "outputId": "8300e073-848f-46da-89bb-d7956484e87b"
   },
   "outputs": [],
   "source": [
    "# Number of cells in query\n",
    "query$n_obs"
   ]
  },
  {
   "cell_type": "code",
   "execution_count": null,
   "metadata": {
    "colab": {
     "base_uri": "https://localhost:8080/"
    },
    "id": "_Sdt68uqiqwB",
    "outputId": "bbffee3b-5e69-45d1-97f6-a7a936050caf"
   },
   "outputs": [],
   "source": [
    "# Number of cells in query\n",
    "query$n_vars"
   ]
  },
  {
   "cell_type": "code",
   "execution_count": null,
   "metadata": {
    "colab": {
     "base_uri": "https://localhost:8080/",
     "height": 423
    },
    "id": "U57OfzXAis4j",
    "outputId": "9285a598-cac4-4a9a-826d-6c8ce378941c"
   },
   "outputs": [],
   "source": [
    "# Grabing cell metadata\n",
    "iterator <- query$obs(column_names = c(\"cell_type\", \"tissue_general\"))\n",
    "unique(as.data.frame(iterator$concat()))"
   ]
  },
  {
   "cell_type": "code",
   "execution_count": null,
   "metadata": {
    "colab": {
     "base_uri": "https://localhost:8080/",
     "height": 143
    },
    "id": "c-CnS7uRi-5n",
    "outputId": "24ca47ac-5062-468a-8c1c-029597a6c66d"
   },
   "outputs": [],
   "source": [
    "# Grabing gene metadata\n",
    "iterator <- query$var()\n",
    "as.data.frame(iterator$concat())"
   ]
  },
  {
   "cell_type": "markdown",
   "metadata": {
    "id": "EkuPFp8nKyEN"
   },
   "source": [
    "#### Exporting query results to `Seurat`\n",
    "\n",
    "`ExperimentAxisQuery` has the capability to export the query to an `AnnData` object to use for downstream analysis with Scanpy."
   ]
  },
  {
   "cell_type": "code",
   "execution_count": null,
   "metadata": {
    "colab": {
     "base_uri": "https://localhost:8080/"
    },
    "id": "keoLddtDjPgG",
    "outputId": "dae52d0d-c6a5-4fb7-f9c6-860042908cd4"
   },
   "outputs": [],
   "source": [
    "# Convert to Seurat\n",
    "seurat <- query$to_seurat(X_layers = c(data = \"normalized\"), var_index = \"feature_name\")\n",
    "seurat"
   ]
  },
  {
   "cell_type": "code",
   "execution_count": null,
   "metadata": {
    "colab": {
     "base_uri": "https://localhost:8080/",
     "height": 549
    },
    "id": "asa2mjikAlnq",
    "outputId": "373f704a-a0e5-470f-e1e2-e2da7ec57efa"
   },
   "outputs": [],
   "source": [
    "# Example: doing an expression dot plot\n",
    "Seurat::DotPlot(seurat, features = c('PECAM1', 'DCN', 'KRT13'), group.by=\"cell_type\")"
   ]
  },
  {
   "cell_type": "markdown",
   "metadata": {
    "id": "8P32273N5RWy"
   },
   "source": [
    "**🚨 NOTE:** The Census package provide a convinient way to get a Seurat object without creating an Experiment Query:\n",
    "\n",
    "```r\n",
    "seurat_obj <- get_seurat(\n",
    "   census = census,\n",
    "   organism = organism,\n",
    "   var_value_filter = gene_filter,\n",
    "   obs_value_filter = cell_filter,\n",
    "   obs_column_names = cell_columns\n",
    ")\n",
    "```\n"
   ]
  },
  {
   "cell_type": "markdown",
   "metadata": {
    "id": "euvx9PR_5RWy"
   },
   "source": [
    "#### Exporting query results to `SingleCellExperiment`\n",
    "\n",
    "`ExperimentAxisQuery` has the capability to export the query to a `SingleCellExperiment` object to use for downstream analysis."
   ]
  },
  {
   "cell_type": "code",
   "execution_count": null,
   "metadata": {
    "id": "y4o_h69x5RWy",
    "outputId": "e3ab7db3-8703-47d5-938f-82de3c9de5a7"
   },
   "outputs": [],
   "source": [
    "# Convert to Seurat\n",
    "sce <- query$to_single_cell_experiment(X_layers = c(data = \"normalized\"), var_index = \"feature_name\")\n",
    "sce"
   ]
  },
  {
   "cell_type": "markdown",
   "metadata": {
    "id": "4pldi89t5RWz"
   },
   "source": [
    "**🚨 NOTE:** The Census package provide a convinient way to get a SingleCellExperiment object without creating an Experiment Query:\n",
    "\n",
    "```r\n",
    "sce_obj <- get_single_cell_experiment(\n",
    "   census = census,\n",
    "   organism = organism,\n",
    "   var_value_filter = gene_filter,\n",
    "   obs_value_filter = cell_filter,\n",
    "   obs_column_names = cell_columns\n",
    ")\n",
    "```\n"
   ]
  },
  {
   "cell_type": "markdown",
   "metadata": {
    "id": "rs3tMO9iN7Fj"
   },
   "source": [
    "#### Getting the expression data and metadata\n",
    "\n",
    "An`ExperimentAxisQuery` has all the necessary functionality to obtain the expression matrix along the corresponding cell and gene metadata.\n",
    "\n",
    "`to_anndata()` (shown in the previous section) uses many of these methods under the hood.\n",
    "\n",
    "Let's take a closer look. First, we can get the cell and gene metadata as follows:"
   ]
  },
  {
   "cell_type": "code",
   "execution_count": null,
   "metadata": {
    "colab": {
     "base_uri": "https://localhost:8080/",
     "height": 423
    },
    "id": "iJQdtQ1yJBPe",
    "outputId": "c247fc2a-b15a-4d3f-8ffa-d13775795949"
   },
   "outputs": [],
   "source": [
    "# Get cell metadata, only cell types and SOMA IDs\n",
    "obs <- query$obs(column_names = c(\"soma_joinid\", \"cell_type\"))$concat()\n",
    "obs <- as.data.frame(obs)\n",
    "head(obs)"
   ]
  },
  {
   "cell_type": "code",
   "execution_count": null,
   "metadata": {
    "colab": {
     "base_uri": "https://localhost:8080/",
     "height": 143
    },
    "id": "P3pFkHhuN2LH",
    "outputId": "86d0698d-ac2b-4537-ab36-8a6b20132b94"
   },
   "outputs": [],
   "source": [
    "# Get gene metadata\n",
    "var <- query$var()$concat()\n",
    "var <- as.data.frame(var)\n",
    "var"
   ]
  },
  {
   "cell_type": "markdown",
   "metadata": {
    "id": "P0UpBBhIU_KN"
   },
   "source": [
    "Now let's take a look at expression matrix. There's a method `X()` that works similarly to reading a SOMA `SparseNDArray`, it retunrs a reader that can be then used to create matrix iterators.\n",
    "\n",
    "Importantly `X()` will only return the rows and columns corresponding to cells and genes in the query, respectively."
   ]
  },
  {
   "cell_type": "code",
   "execution_count": null,
   "metadata": {
    "colab": {
     "base_uri": "https://localhost:8080/"
    },
    "id": "88VcwJYAT_fH",
    "outputId": "bed17f0f-94e5-4297-d7a1-aeb086e30ced"
   },
   "outputs": [],
   "source": [
    "# Get reader, results, and concatenate them.\n",
    "# We need to specify the layer.\n",
    "X = query$X(layer_name = \"raw\")$sparse_matrix()$concat()\n",
    "str(X)"
   ]
  },
  {
   "cell_type": "code",
   "execution_count": null,
   "metadata": {
    "id": "RMOyqQc95RW0",
    "outputId": "6af695c2-ec06-459d-deba-90c1f5a54402"
   },
   "outputs": [],
   "source": [
    "dim(X)"
   ]
  },
  {
   "cell_type": "markdown",
   "metadata": {
    "id": "RmKQusbrhHzo"
   },
   "source": [
    "**🚨 NOTE:** The shape of this matrix is 63,094,145 rows by 60,664 columns (the full size of Census).\n",
    "\n",
    "However we know that there are 17K cells and 3 genes in our query. The reason for this discrepancy is that we are taking a \"view\" at the Census matrix in sparse format.\n",
    "\n",
    "We can re-index these values to strip away all other cells and genes not included in our query result. The R package has a convinient function to get a re-indexed concatanted result."
   ]
  },
  {
   "cell_type": "code",
   "execution_count": null,
   "metadata": {
    "id": "Yxp8MhWTcYF4",
    "outputId": "c114badd-2c36-45c2-c840-3be2d5008aaa"
   },
   "outputs": [],
   "source": [
    "x_reindexed <- query$to_sparse_matrix(collection = \"X\", layer_name = \"raw\", var_index=\"feature_name\")\n",
    "dim(x_reindexed)"
   ]
  },
  {
   "cell_type": "code",
   "execution_count": null,
   "metadata": {
    "colab": {
     "base_uri": "https://localhost:8080/"
    },
    "id": "NwFh1GmBb5AU",
    "outputId": "90bd999d-a140-42dd-9b13-720192c21a2d"
   },
   "outputs": [],
   "source": [
    "x_reindexed[1:4,]"
   ]
  },
  {
   "cell_type": "markdown",
   "metadata": {
    "id": "rE2GGC0jeYpT"
   },
   "source": [
    "**🚨 NOTE:** Just like a file, the Census should be closed."
   ]
  },
  {
   "cell_type": "code",
   "execution_count": null,
   "metadata": {
    "id": "EzWvKZ9i5RW1"
   },
   "outputs": [],
   "source": [
    "census$close()"
   ]
  },
  {
   "cell_type": "markdown",
   "metadata": {
    "id": "FA-7L5zfeNC4"
   },
   "source": [
    "### Efficient compute capabilities of Census\n",
    "\n",
    "Census has some methods that makes use of SOMA streaming capabilities (iterators) to make it possible to apply common calculations on million of cells, using a common laptop."
   ]
  },
  {
   "cell_type": "markdown",
   "metadata": {
    "id": "ValUjof9mBKf"
   },
   "source": [
    "\n",
    "#### Calculating average and variance across genes or cells\n",
    "\n",
    "**🚨 NOTE:** This functionality is curretly only available in the Python package `cellxgene_census`"
   ]
  },
  {
   "cell_type": "markdown",
   "metadata": {
    "id": "fupyzSA5lsW8"
   },
   "source": [
    "#### Getting highly variable genes\n",
    "\n",
    "**🚨 NOTE:** This functionality is curretly only available in the Python package `cellxgene_census`"
   ]
  },
  {
   "cell_type": "markdown",
   "metadata": {
    "id": "kYaZq7xzpW0p"
   },
   "source": [
    "### Scalable modelling with PyTorch and Census\n",
    "\n",
    "Census provides an `ExperimentDataPipe`. It is an implementation of [PyTorch's DataPipe interface](https://pytorch.org/data/main/torchdata.datapipes.iter.html), which defines a common mechanism for wrapping and accessing training data from any underlying source.\n",
    "\n",
    "**🚨 NOTE:** This functionality is curretly only available in the Python package `cellxgene_census`"
   ]
  }
 ],
 "metadata": {
  "colab": {
   "provenance": []
  },
  "kernelspec": {
   "display_name": "R",
   "language": "R",
   "name": "ir"
  },
  "language_info": {
   "codemirror_mode": "r",
   "file_extension": ".r",
   "mimetype": "text/x-r-source",
   "name": "R",
   "pygments_lexer": "r",
   "version": "4.4.1"
  }
 },
 "nbformat": 4,
 "nbformat_minor": 4
}
