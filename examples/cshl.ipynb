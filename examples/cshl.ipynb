{
 "cells": [
  {
   "cell_type": "markdown",
   "metadata": {
    "id": "pzxiMjjkjzPN"
   },
   "source": [
    "# CELLxGENE Discover Census Workshop - CSHL Single-Cell Analysis 2023\n",
    "\n",
    "This notebook is a step-by-step walkthrough of the CELLxGENE Discover Census Workshop at CSHL's Single-Cell Analysis, 2023.\n",
    "\n",
    "Original Colab notebook: https://colab.research.google.com/drive/1QgZQRF_ZM9q5oKbynnD9ToklVFdui7pq\n",
    "\n",
    "## License\n",
    "\n",
    "MIT License\n",
    "\n",
    "Copyright (c) 2022-2023 Chan Zuckerberg Initiative Foundation.\n",
    "\n",
    "Permission is hereby granted, free of charge, to any person obtaining a copy\n",
    "of this software and associated documentation files (the \"Software\"), to deal\n",
    "in the Software without restriction, including without limitation the rights\n",
    "to use, copy, modify, merge, publish, distribute, sublicense, and/or sell\n",
    "copies of the Software, and to permit persons to whom the Software is\n",
    "furnished to do so, subject to the following conditions:\n",
    "\n",
    "The above copyright notice and this permission notice shall be included in all\n",
    "copies or substantial portions of the Software.\n",
    "\n",
    "THE SOFTWARE IS PROVIDED \"AS IS\", WITHOUT WARRANTY OF ANY KIND, EXPRESS OR\n",
    "IMPLIED, INCLUDING BUT NOT LIMITED TO THE WARRANTIES OF MERCHANTABILITY,\n",
    "FITNESS FOR A PARTICULAR PURPOSE AND NONINFRINGEMENT. IN NO EVENT SHALL THE\n",
    "AUTHORS OR COPYRIGHT HOLDERS BE LIABLE FOR ANY CLAIM, DAMAGES OR OTHER\n",
    "LIABILITY, WHETHER IN AN ACTION OF CONTRACT, TORT OR OTHERWISE, ARISING FROM,\n",
    "OUT OF OR IN CONNECTION WITH THE SOFTWARE OR THE USE OR OTHER DEALINGS IN THE\n",
    "SOFTWARE.\n",
    "\n",
    "## Workshop\n",
    "\n",
    "### Installation\n",
    "\n",
    "To install the Census API on your laptop, follow the [installation instructions](https://chanzuckerberg.github.io/cellxgene-census/cellxgene_census_docsite_installation.html) in the documentation site.\n",
    "\n",
    "To install required dependencies:"
   ]
  },
  {
   "cell_type": "code",
   "execution_count": 1,
   "metadata": {
    "id": "nMzIa7U5jJkU"
   },
   "outputs": [
    {
     "name": "stdout",
     "output_type": "stream",
     "text": [
      "Package                   Version        Editable project location\n",
      "------------------------- -------------- -------------------------------------\n",
      "aiobotocore               2.14.0\n",
      "aiohappyeyeballs          2.4.0\n",
      "aiohttp                   3.10.5\n",
      "aioitertools              0.12.0\n",
      "aiosignal                 1.3.1\n",
      "anndata                   0.10.9\n",
      "ansicolors                1.1.8\n",
      "anyio                     4.4.0\n",
      "argon2-cffi               23.1.0\n",
      "argon2-cffi-bindings      21.2.0\n",
      "array_api_compat          1.8\n",
      "arrow                     1.3.0\n",
      "asttokens                 2.4.1\n",
      "async-lru                 2.0.4\n",
      "async-timeout             4.0.3\n",
      "attrs                     24.2.0\n",
      "babel                     2.16.0\n",
      "beautifulsoup4            4.12.3\n",
      "bleach                    6.1.0\n",
      "botocore                  1.35.7\n",
      "cellxgene-census          1.15.0\n",
      "certifi                   2024.8.30\n",
      "cffi                      1.17.1\n",
      "charset-normalizer        3.3.2\n",
      "click                     8.1.7\n",
      "cloudpickle               2.2.1\n",
      "colorama                  0.4.6\n",
      "comm                      0.2.2\n",
      "contourpy                 1.3.0\n",
      "cycler                    0.12.1\n",
      "debugpy                   1.8.5\n",
      "decorator                 5.1.1\n",
      "defusedxml                0.7.1\n",
      "entrypoints               0.4\n",
      "exceptiongroup            1.2.2\n",
      "executing                 2.1.0\n",
      "fastjsonschema            2.20.0\n",
      "filelock                  3.16.0\n",
      "fonttools                 4.53.1\n",
      "fqdn                      1.5.1\n",
      "frozenlist                1.4.1\n",
      "fsspec                    2024.9.0\n",
      "get-annotations           0.1.2\n",
      "gitdb                     4.0.11\n",
      "GitPython                 3.1.43\n",
      "h11                       0.14.0\n",
      "h5py                      3.11.0\n",
      "httpcore                  1.0.5\n",
      "httpx                     0.27.2\n",
      "idna                      3.8\n",
      "importlib_metadata        8.4.0\n",
      "importlib_resources       6.4.5\n",
      "ipykernel                 6.29.5\n",
      "ipython                   8.18.1\n",
      "ipywidgets                8.1.5\n",
      "isoduration               20.11.0\n",
      "jedi                      0.19.1\n",
      "Jinja2                    3.1.4\n",
      "jmespath                  1.0.1\n",
      "joblib                    1.4.2\n",
      "json5                     0.9.25\n",
      "jsonpointer               3.0.0\n",
      "jsonschema                4.23.0\n",
      "jsonschema-specifications 2023.12.1\n",
      "jupyter                   1.1.1\n",
      "jupyter_client            8.6.2\n",
      "jupyter-console           6.6.3\n",
      "jupyter_core              5.7.2\n",
      "jupyter-events            0.10.0\n",
      "jupyter-lsp               2.2.5\n",
      "jupyter_server            2.14.2\n",
      "jupyter-server-mathjax    0.2.6\n",
      "jupyter_server_terminals  0.5.3\n",
      "jupyterlab                4.2.5\n",
      "jupyterlab_pygments       0.3.0\n",
      "jupyterlab_server         2.27.3\n",
      "jupyterlab_widgets        3.0.13\n",
      "kiwisolver                1.4.7\n",
      "legacy-api-wrap           1.4\n",
      "llvmlite                  0.43.0\n",
      "MarkupSafe                2.1.5\n",
      "matplotlib                3.9.2\n",
      "matplotlib-inline         0.1.7\n",
      "mistune                   3.0.2\n",
      "mpmath                    1.3.0\n",
      "multidict                 6.1.0\n",
      "natsort                   8.4.0\n",
      "nbclient                  0.10.0\n",
      "nbconvert                 7.16.4\n",
      "nbdime                    4.0.2\n",
      "nbformat                  5.10.4\n",
      "nest-asyncio              1.6.0\n",
      "networkx                  3.2.1\n",
      "notebook                  7.2.2\n",
      "notebook_shim             0.2.4\n",
      "numba                     0.60.0\n",
      "numpy                     1.26.4\n",
      "nvidia-cublas-cu12        12.1.3.1\n",
      "nvidia-cuda-cupti-cu12    12.1.105\n",
      "nvidia-cuda-nvrtc-cu12    12.1.105\n",
      "nvidia-cuda-runtime-cu12  12.1.105\n",
      "nvidia-cudnn-cu12         9.1.0.70\n",
      "nvidia-cufft-cu12         11.0.2.54\n",
      "nvidia-curand-cu12        10.3.2.106\n",
      "nvidia-cusolver-cu12      11.4.5.107\n",
      "nvidia-cusparse-cu12      12.1.0.106\n",
      "nvidia-nccl-cu12          2.20.5\n",
      "nvidia-nvjitlink-cu12     12.6.68\n",
      "nvidia-nvtx-cu12          12.1.105\n",
      "overrides                 7.7.0\n",
      "packaging                 24.1\n",
      "pandas                    1.5.3\n",
      "pandocfilters             1.5.1\n",
      "papermill                 2.6.0\n",
      "parso                     0.8.4\n",
      "patsy                     0.5.6\n",
      "pexpect                   4.9.0\n",
      "pillow                    10.4.0\n",
      "pip                       24.2\n",
      "platformdirs              4.3.2\n",
      "prometheus_client         0.20.0\n",
      "prompt_toolkit            3.0.47\n",
      "psutil                    6.0.0\n",
      "ptyprocess                0.7.0\n",
      "pure_eval                 0.2.3\n",
      "pyarrow                   17.0.0\n",
      "pyarrow-hotfix            0.6\n",
      "pycparser                 2.22\n",
      "Pygments                  2.18.0\n",
      "pynndescent               0.5.13\n",
      "pyparsing                 3.1.4\n",
      "python-dateutil           2.9.0.post0\n",
      "python-json-logger        2.0.7\n",
      "pytz                      2024.1\n",
      "PyYAML                    6.0.2\n",
      "pyzmq                     26.2.0\n",
      "referencing               0.35.1\n",
      "requests                  2.32.3\n",
      "rfc3339-validator         0.1.4\n",
      "rfc3986-validator         0.1.1\n",
      "rpds-py                   0.20.0\n",
      "s3fs                      2024.9.0\n",
      "scanpy                    1.9.2\n",
      "scikit-learn              1.5.1\n",
      "scikit-misc               0.3.1\n",
      "scipy                     1.13.1\n",
      "scverse-workshop          0.1            /home/ubuntu/scverse-ml-workshop-2024\n",
      "seaborn                   0.13.2\n",
      "Send2Trash                1.8.3\n",
      "session_info              1.0.0\n",
      "setuptools                58.1.0\n",
      "six                       1.16.0\n",
      "smmap                     5.0.1\n",
      "sniffio                   1.3.1\n",
      "somacore                  1.0.11\n",
      "soupsieve                 2.6\n",
      "stack-data                0.6.3\n",
      "statsmodels               0.14.2\n",
      "stdlb                     0.0.4\n",
      "stdlib-list               0.10.0\n",
      "sympy                     1.13.2\n",
      "tblib                     1.7.0\n",
      "tenacity                  9.0.0\n",
      "terminado                 0.18.1\n",
      "threadpoolctl             3.5.0\n",
      "tiledb                    0.29.1\n",
      "tiledb-cloud              0.12.23\n",
      "tiledbsoma                1.11.4\n",
      "tinycss2                  1.3.0\n",
      "tomli                     2.0.1\n",
      "torch                     2.4.1\n",
      "torchdata                 0.8.0\n",
      "tornado                   6.4.1\n",
      "tqdm                      4.66.5\n",
      "traitlets                 5.14.3\n",
      "triton                    3.0.0\n",
      "types-python-dateutil     2.9.0.20240906\n",
      "typing_extensions         4.12.2\n",
      "tzdata                    2024.1\n",
      "umap-learn                0.5.6\n",
      "uri-template              1.3.0\n",
      "urllib3                   1.26.20\n",
      "utz                       0.7.2\n",
      "wcwidth                   0.2.13\n",
      "webcolors                 24.8.0\n",
      "webencodings              0.5.1\n",
      "websocket-client          1.8.0\n",
      "widgetsnbextension        4.0.13\n",
      "wrapt                     1.16.0\n",
      "yarl                      1.11.1\n",
      "zipp                      3.20.1\n"
     ]
    }
   ],
   "source": [
    "!pip install -r ../requirements-nb.txt > /dev/null\n",
    "!pip list"
   ]
  },
  {
   "cell_type": "markdown",
   "metadata": {
    "id": "fxGSU7epkxsh"
   },
   "source": [
    "### Census Hello World\n",
    "\n",
    "Let's load the necessary libraries"
   ]
  },
  {
   "cell_type": "code",
   "execution_count": 2,
   "metadata": {
    "id": "oqXUoKWXjjXd"
   },
   "outputs": [
    {
     "name": "stderr",
     "output_type": "stream",
     "text": [
      "/home/ubuntu/.pyenv/versions/scverse-ml-workshop-2024-3.9.19/lib/python3.9/site-packages/tiledb/cloud/config.py:96: UserWarning: You must first login before you can run commands. Please run tiledb.cloud.login.\n",
      "  warnings.warn(\n"
     ]
    }
   ],
   "source": [
    "import cellxgene_census\n",
    "import tiledbsoma\n",
    "import scipy\n",
    "import numpy\n",
    "import scanpy as sc\n",
    "import pandas"
   ]
  },
  {
   "cell_type": "markdown",
   "metadata": {
    "id": "JX3zqHPbbsFQ"
   },
   "source": [
    "Let's also set some configuration settings for SOMA. This allows us to set the size of data we stream at any given time, as this will be relevant when we cover SOMA iterators."
   ]
  },
  {
   "cell_type": "code",
   "execution_count": 3,
   "metadata": {
    "id": "7yjZrONbQnBE"
   },
   "outputs": [],
   "source": [
    "# Default: 1GB\n",
    "# Google colab runs well with 1MB\n",
    "# TileDB-Cloud can run default, but recommended for workshop is 10MB\n",
    "config = {\n",
    "    \"vfs.s3.region\": \"us-west-2\",\n",
    "    \"vfs.s3.no_sign_request\": \"true\",\n",
    "    \"py.init_buffer_bytes\": 0.001 * 1024**3, #1MB\n",
    "    \"soma.init_buffer_bytes\": 0.001 * 1024**3, #1MB\n",
    "}\n",
    "\n",
    "ctx = tiledbsoma.options.SOMATileDBContext()\n",
    "ctx = ctx.replace(tiledb_config=config)"
   ]
  },
  {
   "cell_type": "markdown",
   "metadata": {
    "id": "ahd1v8DWllux"
   },
   "source": [
    "#### Finding Census versions available\n",
    "\n",
    "Let's first take a look at the data releases available in S3. There are two types of releases:\n",
    "- **Long-term supported (LTS) data releases** published every six months to be avalialbe for up to 5 years.\n",
    "- **Weekly releases** to be available for up to 6 weeks."
   ]
  },
  {
   "cell_type": "markdown",
   "metadata": {
    "id": "H6lQ02vRnDC5"
   },
   "source": [
    "To see a list of all available releases and their version aliases, we can do the following"
   ]
  },
  {
   "cell_type": "code",
   "execution_count": 4,
   "metadata": {
    "colab": {
     "base_uri": "https://localhost:8080/"
    },
    "id": "LFImTFw1opde",
    "outputId": "904d987c-246f-4134-8c66-88fa1eb9306c"
   },
   "outputs": [
    {
     "data": {
      "text/plain": [
       "OrderedDict([('stable',\n",
       "              {'release_date': None,\n",
       "               'release_build': '2024-07-01',\n",
       "               'soma': {'uri': 's3://cellxgene-census-public-us-west-2/cell-census/2024-07-01/soma/',\n",
       "                'relative_uri': '/cell-census/2024-07-01/soma/',\n",
       "                's3_region': 'us-west-2'},\n",
       "               'h5ads': {'uri': 's3://cellxgene-census-public-us-west-2/cell-census/2024-07-01/h5ads/',\n",
       "                'relative_uri': '/cell-census/2024-07-01/h5ads/',\n",
       "                's3_region': 'us-west-2'},\n",
       "               'flags': {'lts': True}}),\n",
       "             ('latest',\n",
       "              {'release_date': None,\n",
       "               'release_build': '2024-09-02',\n",
       "               'soma': {'uri': 's3://cellxgene-census-public-us-west-2/cell-census/2024-09-02/soma/',\n",
       "                'relative_uri': '/cell-census/2024-09-02/soma/',\n",
       "                's3_region': 'us-west-2'},\n",
       "               'h5ads': {'uri': 's3://cellxgene-census-public-us-west-2/cell-census/2024-09-02/h5ads/',\n",
       "                'relative_uri': '/cell-census/2024-09-02/h5ads/',\n",
       "                's3_region': 'us-west-2'}}),\n",
       "             ('2024-09-02',\n",
       "              {'release_date': None,\n",
       "               'release_build': '2024-09-02',\n",
       "               'soma': {'uri': 's3://cellxgene-census-public-us-west-2/cell-census/2024-09-02/soma/',\n",
       "                'relative_uri': '/cell-census/2024-09-02/soma/',\n",
       "                's3_region': 'us-west-2'},\n",
       "               'h5ads': {'uri': 's3://cellxgene-census-public-us-west-2/cell-census/2024-09-02/h5ads/',\n",
       "                'relative_uri': '/cell-census/2024-09-02/h5ads/',\n",
       "                's3_region': 'us-west-2'}}),\n",
       "             ('2024-08-26',\n",
       "              {'release_date': None,\n",
       "               'release_build': '2024-08-26',\n",
       "               'soma': {'uri': 's3://cellxgene-census-public-us-west-2/cell-census/2024-08-26/soma/',\n",
       "                'relative_uri': '/cell-census/2024-08-26/soma/',\n",
       "                's3_region': 'us-west-2'},\n",
       "               'h5ads': {'uri': 's3://cellxgene-census-public-us-west-2/cell-census/2024-08-26/h5ads/',\n",
       "                'relative_uri': '/cell-census/2024-08-26/h5ads/',\n",
       "                's3_region': 'us-west-2'}}),\n",
       "             ('2024-08-19',\n",
       "              {'release_date': None,\n",
       "               'release_build': '2024-08-19',\n",
       "               'soma': {'uri': 's3://cellxgene-census-public-us-west-2/cell-census/2024-08-19/soma/',\n",
       "                'relative_uri': '/cell-census/2024-08-19/soma/',\n",
       "                's3_region': 'us-west-2'},\n",
       "               'h5ads': {'uri': 's3://cellxgene-census-public-us-west-2/cell-census/2024-08-19/h5ads/',\n",
       "                'relative_uri': '/cell-census/2024-08-19/h5ads/',\n",
       "                's3_region': 'us-west-2'}}),\n",
       "             ('2024-08-12',\n",
       "              {'release_date': None,\n",
       "               'release_build': '2024-08-12',\n",
       "               'soma': {'uri': 's3://cellxgene-census-public-us-west-2/cell-census/2024-08-12/soma/',\n",
       "                'relative_uri': '/cell-census/2024-08-12/soma/',\n",
       "                's3_region': 'us-west-2'},\n",
       "               'h5ads': {'uri': 's3://cellxgene-census-public-us-west-2/cell-census/2024-08-12/h5ads/',\n",
       "                'relative_uri': '/cell-census/2024-08-12/h5ads/',\n",
       "                's3_region': 'us-west-2'}}),\n",
       "             ('2024-08-05',\n",
       "              {'release_date': None,\n",
       "               'release_build': '2024-08-05',\n",
       "               'soma': {'uri': 's3://cellxgene-census-public-us-west-2/cell-census/2024-08-05/soma/',\n",
       "                'relative_uri': '/cell-census/2024-08-05/soma/',\n",
       "                's3_region': 'us-west-2'},\n",
       "               'h5ads': {'uri': 's3://cellxgene-census-public-us-west-2/cell-census/2024-08-05/h5ads/',\n",
       "                'relative_uri': '/cell-census/2024-08-05/h5ads/',\n",
       "                's3_region': 'us-west-2'}}),\n",
       "             ('2024-07-01',\n",
       "              {'release_date': None,\n",
       "               'release_build': '2024-07-01',\n",
       "               'soma': {'uri': 's3://cellxgene-census-public-us-west-2/cell-census/2024-07-01/soma/',\n",
       "                'relative_uri': '/cell-census/2024-07-01/soma/',\n",
       "                's3_region': 'us-west-2'},\n",
       "               'h5ads': {'uri': 's3://cellxgene-census-public-us-west-2/cell-census/2024-07-01/h5ads/',\n",
       "                'relative_uri': '/cell-census/2024-07-01/h5ads/',\n",
       "                's3_region': 'us-west-2'},\n",
       "               'flags': {'lts': True}}),\n",
       "             ('2024-05-20',\n",
       "              {'release_date': None,\n",
       "               'release_build': '2024-05-20',\n",
       "               'soma': {'uri': 's3://cellxgene-census-public-us-west-2/cell-census/2024-05-20/soma/',\n",
       "                'relative_uri': '/cell-census/2024-05-20/soma/',\n",
       "                's3_region': 'us-west-2'},\n",
       "               'h5ads': {'uri': 's3://cellxgene-census-public-us-west-2/cell-census/2024-05-20/h5ads/',\n",
       "                'relative_uri': '/cell-census/2024-05-20/h5ads/',\n",
       "                's3_region': 'us-west-2'}}),\n",
       "             ('2023-12-15',\n",
       "              {'release_date': None,\n",
       "               'release_build': '2023-12-15',\n",
       "               'soma': {'uri': 's3://cellxgene-census-public-us-west-2/cell-census/2023-12-15/soma/',\n",
       "                'relative_uri': '/cell-census/2023-12-15/soma/',\n",
       "                's3_region': 'us-west-2'},\n",
       "               'h5ads': {'uri': 's3://cellxgene-census-public-us-west-2/cell-census/2023-12-15/h5ads/',\n",
       "                'relative_uri': '/cell-census/2023-12-15/h5ads/',\n",
       "                's3_region': 'us-west-2'},\n",
       "               'flags': {'lts': True}}),\n",
       "             ('2023-07-25',\n",
       "              {'release_date': None,\n",
       "               'release_build': '2023-07-25',\n",
       "               'soma': {'uri': 's3://cellxgene-census-public-us-west-2/cell-census/2023-07-25/soma/',\n",
       "                'relative_uri': '/cell-census/2023-07-25/soma/',\n",
       "                's3_region': 'us-west-2'},\n",
       "               'h5ads': {'uri': 's3://cellxgene-census-public-us-west-2/cell-census/2023-07-25/h5ads/',\n",
       "                'relative_uri': '/cell-census/2023-07-25/h5ads/',\n",
       "                's3_region': 'us-west-2'},\n",
       "               'flags': {'lts': True}}),\n",
       "             ('2023-05-15',\n",
       "              {'release_date': None,\n",
       "               'release_build': '2023-05-15',\n",
       "               'soma': {'uri': 's3://cellxgene-census-public-us-west-2/cell-census/2023-05-15/soma/',\n",
       "                'relative_uri': '/cell-census/2023-05-15/soma/',\n",
       "                's3_region': 'us-west-2'},\n",
       "               'h5ads': {'uri': 's3://cellxgene-census-public-us-west-2/cell-census/2023-05-15/h5ads/',\n",
       "                'relative_uri': '/cell-census/2023-05-15/h5ads/',\n",
       "                's3_region': 'us-west-2'},\n",
       "               'flags': {'lts': True}})])"
      ]
     },
     "execution_count": 4,
     "metadata": {},
     "output_type": "execute_result"
    }
   ],
   "source": [
    "cellxgene_census.get_census_version_directory()"
   ]
  },
  {
   "cell_type": "code",
   "execution_count": 5,
   "metadata": {
    "colab": {
     "base_uri": "https://localhost:8080/"
    },
    "id": "OT-oy0h9o3tX",
    "outputId": "cd018e0d-21cc-4296-af7d-4dc27122ddcf"
   },
   "outputs": [
    {
     "data": {
      "text/plain": [
       "OrderedDict([('stable',\n",
       "              {'release_date': None,\n",
       "               'release_build': '2024-07-01',\n",
       "               'soma': {'uri': 's3://cellxgene-census-public-us-west-2/cell-census/2024-07-01/soma/',\n",
       "                'relative_uri': '/cell-census/2024-07-01/soma/',\n",
       "                's3_region': 'us-west-2'},\n",
       "               'h5ads': {'uri': 's3://cellxgene-census-public-us-west-2/cell-census/2024-07-01/h5ads/',\n",
       "                'relative_uri': '/cell-census/2024-07-01/h5ads/',\n",
       "                's3_region': 'us-west-2'},\n",
       "               'flags': {'lts': True}}),\n",
       "             ('2024-07-01',\n",
       "              {'release_date': None,\n",
       "               'release_build': '2024-07-01',\n",
       "               'soma': {'uri': 's3://cellxgene-census-public-us-west-2/cell-census/2024-07-01/soma/',\n",
       "                'relative_uri': '/cell-census/2024-07-01/soma/',\n",
       "                's3_region': 'us-west-2'},\n",
       "               'h5ads': {'uri': 's3://cellxgene-census-public-us-west-2/cell-census/2024-07-01/h5ads/',\n",
       "                'relative_uri': '/cell-census/2024-07-01/h5ads/',\n",
       "                's3_region': 'us-west-2'},\n",
       "               'flags': {'lts': True}}),\n",
       "             ('2023-12-15',\n",
       "              {'release_date': None,\n",
       "               'release_build': '2023-12-15',\n",
       "               'soma': {'uri': 's3://cellxgene-census-public-us-west-2/cell-census/2023-12-15/soma/',\n",
       "                'relative_uri': '/cell-census/2023-12-15/soma/',\n",
       "                's3_region': 'us-west-2'},\n",
       "               'h5ads': {'uri': 's3://cellxgene-census-public-us-west-2/cell-census/2023-12-15/h5ads/',\n",
       "                'relative_uri': '/cell-census/2023-12-15/h5ads/',\n",
       "                's3_region': 'us-west-2'},\n",
       "               'flags': {'lts': True}}),\n",
       "             ('2023-07-25',\n",
       "              {'release_date': None,\n",
       "               'release_build': '2023-07-25',\n",
       "               'soma': {'uri': 's3://cellxgene-census-public-us-west-2/cell-census/2023-07-25/soma/',\n",
       "                'relative_uri': '/cell-census/2023-07-25/soma/',\n",
       "                's3_region': 'us-west-2'},\n",
       "               'h5ads': {'uri': 's3://cellxgene-census-public-us-west-2/cell-census/2023-07-25/h5ads/',\n",
       "                'relative_uri': '/cell-census/2023-07-25/h5ads/',\n",
       "                's3_region': 'us-west-2'},\n",
       "               'flags': {'lts': True}}),\n",
       "             ('2023-05-15',\n",
       "              {'release_date': None,\n",
       "               'release_build': '2023-05-15',\n",
       "               'soma': {'uri': 's3://cellxgene-census-public-us-west-2/cell-census/2023-05-15/soma/',\n",
       "                'relative_uri': '/cell-census/2023-05-15/soma/',\n",
       "                's3_region': 'us-west-2'},\n",
       "               'h5ads': {'uri': 's3://cellxgene-census-public-us-west-2/cell-census/2023-05-15/h5ads/',\n",
       "                'relative_uri': '/cell-census/2023-05-15/h5ads/',\n",
       "                's3_region': 'us-west-2'},\n",
       "               'flags': {'lts': True}})])"
      ]
     },
     "execution_count": 5,
     "metadata": {},
     "output_type": "execute_result"
    }
   ],
   "source": [
    "cellxgene_census.get_census_version_directory(lts=True)"
   ]
  },
  {
   "cell_type": "markdown",
   "metadata": {
    "id": "cklactWoB2e2"
   },
   "source": [
    "#### Opening a Census version\n",
    "\n",
    "Now we can get a handle to the Census object hosted in S3. Remember that we can specify the data release to use."
   ]
  },
  {
   "cell_type": "code",
   "execution_count": 6,
   "metadata": {
    "id": "P4Jq5ovIorcf"
   },
   "outputs": [],
   "source": [
    "# For the latest LTS use \"stable\", other options are \"latest\" for the latest\n",
    "# weekly, or specific version\n",
    "\n",
    "version = \"latest\"\n",
    "\n",
    "# equivalent\n",
    "# version = \"2023-07-25\"\n",
    "\n",
    "census = cellxgene_census.open_soma(census_version=version, context=ctx)"
   ]
  },
  {
   "cell_type": "markdown",
   "metadata": {
    "id": "y3tGaPQrEyRL"
   },
   "source": [
    "#### Inspecting the Census object\n",
    "\n",
    "These are the types of SOMA objects used by Census:\n",
    "\n",
    "- `SparseNDArray` is the same as DenseNDArray but sparse, and supports point indexing (disjoint index access).\n",
    "- `DataFrame` is a multi-column table with user-defined columns names and value types, with support for point indexing.\n",
    "- `Collection` is a persistent container of named SOMA objects, similar to a dictionary.\n",
    "- `Experiment` is a class that represents a single-cell experiment. It always contains two objects:\n",
    "   - `obs`: a `DataFrame` with primary annotations on the observation axis.\n",
    "   - `ms`: a `Collection` of measurements, each composed of `X` matrices and axis annotation matrices or data frames (e.g. `var`, `varm`, `obsm`, etc).\n",
    "\n",
    "The parent Census object is a SOMA `Collection`:"
   ]
  },
  {
   "cell_type": "code",
   "execution_count": 7,
   "metadata": {
    "colab": {
     "base_uri": "https://localhost:8080/"
    },
    "id": "oDDcosbj_h9D",
    "outputId": "a50d4c1e-62b2-4fc3-fe37-e7d23eaa4849"
   },
   "outputs": [
    {
     "data": {
      "text/plain": [
       "<Collection 's3://cellxgene-census-public-us-west-2/cell-census/2024-09-02/soma/' (open for 'r') (2 items)\n",
       "    'census_info': 's3://cellxgene-census-public-us-west-2/cell-census/2024-09-02/soma/census_info' (unopened)\n",
       "    'census_data': 's3://cellxgene-census-public-us-west-2/cell-census/2024-09-02/soma/census_data' (unopened)>"
      ]
     },
     "execution_count": 7,
     "metadata": {},
     "output_type": "execute_result"
    }
   ],
   "source": [
    "census"
   ]
  },
  {
   "cell_type": "markdown",
   "metadata": {
    "id": "ygGpjcpj_d56"
   },
   "source": [
    "You can access items of a collection with square brackets.\n",
    "\n",
    "- `\"census_data\"` has the Census single-cell data, will explore it in a momemnt.\n",
    "- `\"census_info\"` has high-level summary information about Census\n",
    "\n",
    "Let's take a look at `\"census_info\"`"
   ]
  },
  {
   "cell_type": "code",
   "execution_count": 8,
   "metadata": {
    "colab": {
     "base_uri": "https://localhost:8080/"
    },
    "id": "6zr_yAnH_ZJV",
    "outputId": "5906fd63-ffcf-47f2-ca14-929e3c932ab2"
   },
   "outputs": [
    {
     "data": {
      "text/plain": [
       "<Collection 's3://cellxgene-census-public-us-west-2/cell-census/2024-09-02/soma/census_info' (open for 'r') (4 items)\n",
       "    'datasets': 's3://cellxgene-census-public-us-west-2/cell-census/2024-09-02/soma/census_info/datasets' (unopened)\n",
       "    'summary_cell_counts': 's3://cellxgene-census-public-us-west-2/cell-census/2024-09-02/soma/census_info/summary_cell_counts' (unopened)\n",
       "    'summary': 's3://cellxgene-census-public-us-west-2/cell-census/2024-09-02/soma/census_info/summary' (unopened)\n",
       "    'organisms': 's3://cellxgene-census-public-us-west-2/cell-census/2024-09-02/soma/census_info/organisms' (unopened)>"
      ]
     },
     "execution_count": 8,
     "metadata": {},
     "output_type": "execute_result"
    }
   ],
   "source": [
    "census[\"census_info\"]"
   ]
  },
  {
   "cell_type": "markdown",
   "metadata": {
    "id": "CX61uvdLAdRv"
   },
   "source": [
    "There are three items in this collection:\n",
    "\n",
    "- `\"summary\"`: A data frame with high-level information of this Census, e.g. build date, total cell count, etc.\n",
    "- `\"summary_cell_counts\"`: A data frame with cell counts stratified by relevant cell metadata\n",
    "- `\"datasets\"`: A data frame with all datasets from CELLxGENE Discover used to create the Census."
   ]
  },
  {
   "cell_type": "markdown",
   "metadata": {
    "id": "i87SDNOpCvz3"
   },
   "source": [
    "Now let's take a look at `\"census_data\"`."
   ]
  },
  {
   "cell_type": "code",
   "execution_count": 9,
   "metadata": {
    "colab": {
     "base_uri": "https://localhost:8080/"
    },
    "id": "t_4gewQ9AT46",
    "outputId": "5bcb1bc5-6c2d-48e1-e4c0-51b7258f9466"
   },
   "outputs": [
    {
     "data": {
      "text/plain": [
       "<Collection 's3://cellxgene-census-public-us-west-2/cell-census/2024-09-02/soma/census_data' (open for 'r') (2 items)\n",
       "    'homo_sapiens': 's3://cellxgene-census-public-us-west-2/cell-census/2024-09-02/soma/census_data/homo_sapiens' (unopened)\n",
       "    'mus_musculus': 's3://cellxgene-census-public-us-west-2/cell-census/2024-09-02/soma/census_data/mus_musculus' (unopened)>"
      ]
     },
     "execution_count": 9,
     "metadata": {},
     "output_type": "execute_result"
    }
   ],
   "source": [
    "census[\"census_data\"]"
   ]
  },
  {
   "cell_type": "markdown",
   "metadata": {
    "id": "vrx1KwN4Bimu"
   },
   "source": [
    "These two are SOMA `Experiment` objects which are a specialized form of a `Collection`. Each of these store a data matrix (cells by genes), cell metadata, gene metadata, and some other useful components."
   ]
  },
  {
   "cell_type": "markdown",
   "metadata": {
    "id": "mqOefkzOJkH2"
   },
   "source": [
    "### Reading Data Frames"
   ]
  },
  {
   "cell_type": "markdown",
   "metadata": {
    "id": "amEMnNCjVtB6"
   },
   "source": [
    "\n",
    "#### Reading cell metadata\n",
    "\n",
    "Let's take a deeper dive into the single-cell data. As mentioned earlier, an `Experiment` always has an `obs` atrribute that can be accessed via `.obs`.\n",
    "\n",
    "Let's take a look at the human `Experiment`."
   ]
  },
  {
   "cell_type": "code",
   "execution_count": 10,
   "metadata": {
    "colab": {
     "base_uri": "https://localhost:8080/"
    },
    "id": "zZXy-Bt3I28i",
    "outputId": "82a4694b-60b1-44c2-f4e9-14a3332db9a3"
   },
   "outputs": [
    {
     "data": {
      "text/plain": [
       "<Experiment 's3://cellxgene-census-public-us-west-2/cell-census/2024-09-02/soma/census_data/homo_sapiens' (open for 'r') (2 items)\n",
       "    'obs': 's3://cellxgene-census-public-us-west-2/cell-census/2024-09-02/soma/census_data/homo_sapiens/obs' (unopened)\n",
       "    'ms': 's3://cellxgene-census-public-us-west-2/cell-census/2024-09-02/soma/census_data/homo_sapiens/ms' (unopened)>"
      ]
     },
     "execution_count": 10,
     "metadata": {},
     "output_type": "execute_result"
    }
   ],
   "source": [
    "census[\"census_data\"][\"homo_sapiens\"]"
   ]
  },
  {
   "cell_type": "code",
   "execution_count": 11,
   "metadata": {
    "colab": {
     "base_uri": "https://localhost:8080/"
    },
    "id": "8kNlAnIGKB3r",
    "outputId": "6dc6ca62-2e9a-42e1-f9ae-3ee51a9db176"
   },
   "outputs": [
    {
     "data": {
      "text/plain": [
       "<DataFrame 's3://cellxgene-census-public-us-west-2/cell-census/2024-09-02/soma/census_data/homo_sapiens/obs' (open for 'r')>"
      ]
     },
     "execution_count": 11,
     "metadata": {},
     "output_type": "execute_result"
    }
   ],
   "source": [
    "census[\"census_data\"][\"homo_sapiens\"].obs"
   ]
  },
  {
   "cell_type": "markdown",
   "metadata": {
    "id": "fi2sDGuIMEP_"
   },
   "source": [
    "We can take a look at the columns available in a data frame with the `keys()` method, which shows the types of metadata available for each cell."
   ]
  },
  {
   "cell_type": "code",
   "execution_count": 12,
   "metadata": {
    "colab": {
     "base_uri": "https://localhost:8080/"
    },
    "id": "X1CQfbGmMDcf",
    "outputId": "11be0a5e-a79c-4fc2-d3d8-be16aa796163"
   },
   "outputs": [
    {
     "data": {
      "text/plain": [
       "('soma_joinid',\n",
       " 'dataset_id',\n",
       " 'assay',\n",
       " 'assay_ontology_term_id',\n",
       " 'cell_type',\n",
       " 'cell_type_ontology_term_id',\n",
       " 'development_stage',\n",
       " 'development_stage_ontology_term_id',\n",
       " 'disease',\n",
       " 'disease_ontology_term_id',\n",
       " 'donor_id',\n",
       " 'is_primary_data',\n",
       " 'observation_joinid',\n",
       " 'self_reported_ethnicity',\n",
       " 'self_reported_ethnicity_ontology_term_id',\n",
       " 'sex',\n",
       " 'sex_ontology_term_id',\n",
       " 'suspension_type',\n",
       " 'tissue',\n",
       " 'tissue_ontology_term_id',\n",
       " 'tissue_type',\n",
       " 'tissue_general',\n",
       " 'tissue_general_ontology_term_id',\n",
       " 'raw_sum',\n",
       " 'nnz',\n",
       " 'raw_mean_nnz',\n",
       " 'raw_variance_nnz',\n",
       " 'n_measured_vars')"
      ]
     },
     "execution_count": 12,
     "metadata": {},
     "output_type": "execute_result"
    }
   ],
   "source": [
    "census[\"census_data\"][\"homo_sapiens\"].obs.keys()"
   ]
  },
  {
   "cell_type": "markdown",
   "metadata": {
    "id": "UujuxKAW3LhM"
   },
   "source": [
    "Let's read two columns of the data frame."
   ]
  },
  {
   "cell_type": "code",
   "execution_count": 13,
   "metadata": {
    "colab": {
     "base_uri": "https://localhost:8080/",
     "height": 423
    },
    "id": "WD8zL10AKFv3",
    "outputId": "c2b801b2-7065-43c8-8d8f-2102a6e8d935"
   },
   "outputs": [
    {
     "data": {
      "text/html": [
       "<div>\n",
       "<style scoped>\n",
       "    .dataframe tbody tr th:only-of-type {\n",
       "        vertical-align: middle;\n",
       "    }\n",
       "\n",
       "    .dataframe tbody tr th {\n",
       "        vertical-align: top;\n",
       "    }\n",
       "\n",
       "    .dataframe thead th {\n",
       "        text-align: right;\n",
       "    }\n",
       "</style>\n",
       "<table border=\"1\" class=\"dataframe\">\n",
       "  <thead>\n",
       "    <tr style=\"text-align: right;\">\n",
       "      <th></th>\n",
       "      <th>suspension_type</th>\n",
       "      <th>tissue_general</th>\n",
       "    </tr>\n",
       "  </thead>\n",
       "  <tbody>\n",
       "    <tr>\n",
       "      <th>0</th>\n",
       "      <td>cell</td>\n",
       "      <td>liver</td>\n",
       "    </tr>\n",
       "    <tr>\n",
       "      <th>1</th>\n",
       "      <td>cell</td>\n",
       "      <td>liver</td>\n",
       "    </tr>\n",
       "    <tr>\n",
       "      <th>2</th>\n",
       "      <td>cell</td>\n",
       "      <td>liver</td>\n",
       "    </tr>\n",
       "    <tr>\n",
       "      <th>3</th>\n",
       "      <td>cell</td>\n",
       "      <td>liver</td>\n",
       "    </tr>\n",
       "    <tr>\n",
       "      <th>4</th>\n",
       "      <td>cell</td>\n",
       "      <td>liver</td>\n",
       "    </tr>\n",
       "    <tr>\n",
       "      <th>...</th>\n",
       "      <td>...</td>\n",
       "      <td>...</td>\n",
       "    </tr>\n",
       "    <tr>\n",
       "      <th>77665794</th>\n",
       "      <td>nucleus</td>\n",
       "      <td>brain</td>\n",
       "    </tr>\n",
       "    <tr>\n",
       "      <th>77665795</th>\n",
       "      <td>nucleus</td>\n",
       "      <td>brain</td>\n",
       "    </tr>\n",
       "    <tr>\n",
       "      <th>77665796</th>\n",
       "      <td>nucleus</td>\n",
       "      <td>brain</td>\n",
       "    </tr>\n",
       "    <tr>\n",
       "      <th>77665797</th>\n",
       "      <td>nucleus</td>\n",
       "      <td>brain</td>\n",
       "    </tr>\n",
       "    <tr>\n",
       "      <th>77665798</th>\n",
       "      <td>nucleus</td>\n",
       "      <td>brain</td>\n",
       "    </tr>\n",
       "  </tbody>\n",
       "</table>\n",
       "<p>77665799 rows × 2 columns</p>\n",
       "</div>"
      ],
      "text/plain": [
       "         suspension_type tissue_general\n",
       "0                   cell          liver\n",
       "1                   cell          liver\n",
       "2                   cell          liver\n",
       "3                   cell          liver\n",
       "4                   cell          liver\n",
       "...                  ...            ...\n",
       "77665794         nucleus          brain\n",
       "77665795         nucleus          brain\n",
       "77665796         nucleus          brain\n",
       "77665797         nucleus          brain\n",
       "77665798         nucleus          brain\n",
       "\n",
       "[77665799 rows x 2 columns]"
      ]
     },
     "execution_count": 13,
     "metadata": {},
     "output_type": "execute_result"
    }
   ],
   "source": [
    "census[\"census_data\"][\"homo_sapiens\"].obs.read(column_names=[\"suspension_type\", \"tissue_general\"]).concat().to_pandas()"
   ]
  },
  {
   "cell_type": "markdown",
   "metadata": {
    "id": "I5YBE9lhBlPx"
   },
   "source": [
    "The line above retrieved the suspension type and tissue values for all human cells in Census. Let's dissect step-by-step to see what happened there:\n",
    "\n",
    "1. `.read(column_names = [\"suspension_type\", \"tissue_general\"])` - creates an iterator of Arrow tables that can be used for chunked-based data streaming.\n",
    "2. `.concat()` - retrieves all the results of the iterator and concatenates them into a single Arrow table.\n",
    "3. `.to_pandas()` - converts the Arrow table into a Pandas data frame.\n",
    "\n",
    "Let's do each step one more time and inspect the intermediate objects."
   ]
  },
  {
   "cell_type": "code",
   "execution_count": 14,
   "metadata": {
    "colab": {
     "base_uri": "https://localhost:8080/"
    },
    "id": "KWw45mP-Besz",
    "outputId": "cd38a4e9-fcf1-4bfd-92bc-4e0dfa0bcf93"
   },
   "outputs": [
    {
     "data": {
      "text/plain": [
       "<tiledbsoma._read_iters.TableReadIter at 0x72fd4807ff40>"
      ]
     },
     "execution_count": 14,
     "metadata": {},
     "output_type": "execute_result"
    }
   ],
   "source": [
    "# Create iterator of Arrow tables\n",
    "iterator = census[\"census_data\"][\"homo_sapiens\"].obs.read(column_names=[\"suspension_type\", \"tissue_general\"])\n",
    "iterator"
   ]
  },
  {
   "cell_type": "code",
   "execution_count": 15,
   "metadata": {
    "colab": {
     "base_uri": "https://localhost:8080/"
    },
    "id": "BIiTYQ0USqTt",
    "outputId": "6692f7a5-e085-4829-e291-74bc51147e82"
   },
   "outputs": [
    {
     "data": {
      "text/plain": [
       "pyarrow.Table\n",
       "suspension_type: dictionary<values=string, indices=int8, ordered=0>\n",
       "tissue_general: dictionary<values=string, indices=int8, ordered=0>\n",
       "----\n",
       "suspension_type: [  -- dictionary:\n",
       "[\"cell\",\"nucleus\"]  -- indices:\n",
       "[0,0,0,0,0,...,0,0,0,0,0]]\n",
       "tissue_general: [  -- dictionary:\n",
       "[\"adipose tissue\",\"adrenal gland\",\"axilla\",\"bladder organ\",\"blood\",...,\"tongue\",\"ureter\",\"uterus\",\"vasculature\",\"yolk sac\"]  -- indices:\n",
       "[27,27,27,27,27,...,39,39,39,39,39]]"
      ]
     },
     "execution_count": 15,
     "metadata": {},
     "output_type": "execute_result"
    }
   ],
   "source": [
    "# We can get individual chunks\n",
    "table_chunk = next(iterator)\n",
    "table_chunk"
   ]
  },
  {
   "cell_type": "code",
   "execution_count": 16,
   "metadata": {
    "colab": {
     "base_uri": "https://localhost:8080/"
    },
    "id": "Yn48LNCPTVfN",
    "outputId": "cc4e3e02-8799-46f2-dfd4-d8b383df74d9"
   },
   "outputs": [
    {
     "data": {
      "text/html": [
       "<div>\n",
       "<style scoped>\n",
       "    .dataframe tbody tr th:only-of-type {\n",
       "        vertical-align: middle;\n",
       "    }\n",
       "\n",
       "    .dataframe tbody tr th {\n",
       "        vertical-align: top;\n",
       "    }\n",
       "\n",
       "    .dataframe thead th {\n",
       "        text-align: right;\n",
       "    }\n",
       "</style>\n",
       "<table border=\"1\" class=\"dataframe\">\n",
       "  <thead>\n",
       "    <tr style=\"text-align: right;\">\n",
       "      <th></th>\n",
       "      <th>suspension_type</th>\n",
       "      <th>tissue_general</th>\n",
       "    </tr>\n",
       "  </thead>\n",
       "  <tbody>\n",
       "    <tr>\n",
       "      <th>0</th>\n",
       "      <td>cell</td>\n",
       "      <td>liver</td>\n",
       "    </tr>\n",
       "    <tr>\n",
       "      <th>1</th>\n",
       "      <td>cell</td>\n",
       "      <td>liver</td>\n",
       "    </tr>\n",
       "    <tr>\n",
       "      <th>2</th>\n",
       "      <td>cell</td>\n",
       "      <td>liver</td>\n",
       "    </tr>\n",
       "    <tr>\n",
       "      <th>3</th>\n",
       "      <td>cell</td>\n",
       "      <td>liver</td>\n",
       "    </tr>\n",
       "    <tr>\n",
       "      <th>4</th>\n",
       "      <td>cell</td>\n",
       "      <td>liver</td>\n",
       "    </tr>\n",
       "    <tr>\n",
       "      <th>...</th>\n",
       "      <td>...</td>\n",
       "      <td>...</td>\n",
       "    </tr>\n",
       "    <tr>\n",
       "      <th>1073736</th>\n",
       "      <td>cell</td>\n",
       "      <td>pleural fluid</td>\n",
       "    </tr>\n",
       "    <tr>\n",
       "      <th>1073737</th>\n",
       "      <td>cell</td>\n",
       "      <td>pleural fluid</td>\n",
       "    </tr>\n",
       "    <tr>\n",
       "      <th>1073738</th>\n",
       "      <td>cell</td>\n",
       "      <td>pleural fluid</td>\n",
       "    </tr>\n",
       "    <tr>\n",
       "      <th>1073739</th>\n",
       "      <td>cell</td>\n",
       "      <td>pleural fluid</td>\n",
       "    </tr>\n",
       "    <tr>\n",
       "      <th>1073740</th>\n",
       "      <td>cell</td>\n",
       "      <td>pleural fluid</td>\n",
       "    </tr>\n",
       "  </tbody>\n",
       "</table>\n",
       "<p>1073741 rows × 2 columns</p>\n",
       "</div>"
      ],
      "text/plain": [
       "        suspension_type tissue_general\n",
       "0                  cell          liver\n",
       "1                  cell          liver\n",
       "2                  cell          liver\n",
       "3                  cell          liver\n",
       "4                  cell          liver\n",
       "...                 ...            ...\n",
       "1073736            cell  pleural fluid\n",
       "1073737            cell  pleural fluid\n",
       "1073738            cell  pleural fluid\n",
       "1073739            cell  pleural fluid\n",
       "1073740            cell  pleural fluid\n",
       "\n",
       "[1073741 rows x 2 columns]"
      ]
     },
     "execution_count": 16,
     "metadata": {},
     "output_type": "execute_result"
    }
   ],
   "source": [
    "table_chunk.to_pandas()"
   ]
  },
  {
   "cell_type": "code",
   "execution_count": 17,
   "metadata": {
    "colab": {
     "base_uri": "https://localhost:8080/",
     "height": 423
    },
    "id": "_6fjIQKzDM5q",
    "outputId": "f6254612-5386-4ba7-fba8-92700deefff9"
   },
   "outputs": [
    {
     "data": {
      "text/html": [
       "<div>\n",
       "<style scoped>\n",
       "    .dataframe tbody tr th:only-of-type {\n",
       "        vertical-align: middle;\n",
       "    }\n",
       "\n",
       "    .dataframe tbody tr th {\n",
       "        vertical-align: top;\n",
       "    }\n",
       "\n",
       "    .dataframe thead th {\n",
       "        text-align: right;\n",
       "    }\n",
       "</style>\n",
       "<table border=\"1\" class=\"dataframe\">\n",
       "  <thead>\n",
       "    <tr style=\"text-align: right;\">\n",
       "      <th></th>\n",
       "      <th>suspension_type</th>\n",
       "      <th>tissue_general</th>\n",
       "    </tr>\n",
       "  </thead>\n",
       "  <tbody>\n",
       "    <tr>\n",
       "      <th>0</th>\n",
       "      <td>cell</td>\n",
       "      <td>pleural fluid</td>\n",
       "    </tr>\n",
       "    <tr>\n",
       "      <th>1</th>\n",
       "      <td>cell</td>\n",
       "      <td>pleural fluid</td>\n",
       "    </tr>\n",
       "    <tr>\n",
       "      <th>2</th>\n",
       "      <td>cell</td>\n",
       "      <td>pleural fluid</td>\n",
       "    </tr>\n",
       "    <tr>\n",
       "      <th>3</th>\n",
       "      <td>cell</td>\n",
       "      <td>pleural fluid</td>\n",
       "    </tr>\n",
       "    <tr>\n",
       "      <th>4</th>\n",
       "      <td>cell</td>\n",
       "      <td>pleural fluid</td>\n",
       "    </tr>\n",
       "    <tr>\n",
       "      <th>...</th>\n",
       "      <td>...</td>\n",
       "      <td>...</td>\n",
       "    </tr>\n",
       "    <tr>\n",
       "      <th>76592053</th>\n",
       "      <td>nucleus</td>\n",
       "      <td>brain</td>\n",
       "    </tr>\n",
       "    <tr>\n",
       "      <th>76592054</th>\n",
       "      <td>nucleus</td>\n",
       "      <td>brain</td>\n",
       "    </tr>\n",
       "    <tr>\n",
       "      <th>76592055</th>\n",
       "      <td>nucleus</td>\n",
       "      <td>brain</td>\n",
       "    </tr>\n",
       "    <tr>\n",
       "      <th>76592056</th>\n",
       "      <td>nucleus</td>\n",
       "      <td>brain</td>\n",
       "    </tr>\n",
       "    <tr>\n",
       "      <th>76592057</th>\n",
       "      <td>nucleus</td>\n",
       "      <td>brain</td>\n",
       "    </tr>\n",
       "  </tbody>\n",
       "</table>\n",
       "<p>76592058 rows × 2 columns</p>\n",
       "</div>"
      ],
      "text/plain": [
       "         suspension_type tissue_general\n",
       "0                   cell  pleural fluid\n",
       "1                   cell  pleural fluid\n",
       "2                   cell  pleural fluid\n",
       "3                   cell  pleural fluid\n",
       "4                   cell  pleural fluid\n",
       "...                  ...            ...\n",
       "76592053         nucleus          brain\n",
       "76592054         nucleus          brain\n",
       "76592055         nucleus          brain\n",
       "76592056         nucleus          brain\n",
       "76592057         nucleus          brain\n",
       "\n",
       "[76592058 rows x 2 columns]"
      ]
     },
     "execution_count": 17,
     "metadata": {},
     "output_type": "execute_result"
    }
   ],
   "source": [
    "# Or concatenate the remaining results into a single Arrow Table,\n",
    "# and the convert to a Pandas DataFrame\n",
    "table = iterator.concat()\n",
    "pandas_obs = table.to_pandas()\n",
    "pandas_obs"
   ]
  },
  {
   "cell_type": "code",
   "execution_count": 18,
   "metadata": {
    "colab": {
     "base_uri": "https://localhost:8080/"
    },
    "id": "5QhtRerLDduB",
    "outputId": "f6d350d2-9310-4a81-ee49-9dd6d478e8f7"
   },
   "outputs": [
    {
     "data": {
      "text/plain": [
       "suspension_type  tissue_general \n",
       "nucleus          brain              23787347\n",
       "cell             blood              11092030\n",
       "                 lung                6921814\n",
       "                 breast              5390966\n",
       "nucleus          eye                 3579187\n",
       "                                      ...   \n",
       "                 endocrine gland       10961\n",
       "cell             gallbladder            9769\n",
       "                 spinal cord            5916\n",
       "nucleus          skin of body           5327\n",
       "cell             ureter                 2390\n",
       "Length: 76, dtype: int64"
      ]
     },
     "execution_count": 18,
     "metadata": {},
     "output_type": "execute_result"
    }
   ],
   "source": [
    "# And you can perform pandas operations useful for your analysis\n",
    "pandas_obs.value_counts()"
   ]
  },
  {
   "cell_type": "markdown",
   "metadata": {
    "id": "gPif5zy3L0NB"
   },
   "source": [
    "#### Summary info and dataset table\n",
    "\n",
    "The same reading operations can be applied to any SOMA data frame in Census. Let's take a look back at the items of `\"census_info\"`."
   ]
  },
  {
   "cell_type": "code",
   "execution_count": 19,
   "metadata": {
    "colab": {
     "base_uri": "https://localhost:8080/"
    },
    "id": "LwN7a0v3L66V",
    "outputId": "82f82f6b-19d9-49f2-d71b-12bbac3c2963"
   },
   "outputs": [
    {
     "data": {
      "text/plain": [
       "<Collection 's3://cellxgene-census-public-us-west-2/cell-census/2024-09-02/soma/census_info' (open for 'r') (4 items)\n",
       "    'datasets': 's3://cellxgene-census-public-us-west-2/cell-census/2024-09-02/soma/census_info/datasets' (unopened)\n",
       "    'summary_cell_counts': 's3://cellxgene-census-public-us-west-2/cell-census/2024-09-02/soma/census_info/summary_cell_counts' (unopened)\n",
       "    'summary': 's3://cellxgene-census-public-us-west-2/cell-census/2024-09-02/soma/census_info/summary' (unopened)\n",
       "    'organisms': 's3://cellxgene-census-public-us-west-2/cell-census/2024-09-02/soma/census_info/organisms' (unopened)>"
      ]
     },
     "execution_count": 19,
     "metadata": {},
     "output_type": "execute_result"
    }
   ],
   "source": [
    "census[\"census_info\"]"
   ]
  },
  {
   "cell_type": "markdown",
   "metadata": {
    "id": "evjIzkJXMVIK"
   },
   "source": [
    "`\"summary\"` is a data frame with high-level information of this data release."
   ]
  },
  {
   "cell_type": "code",
   "execution_count": 20,
   "metadata": {
    "colab": {
     "base_uri": "https://localhost:8080/"
    },
    "id": "ii_tRiOYLFt_",
    "outputId": "26c44b95-431e-4f1d-913a-925620e6495e"
   },
   "outputs": [
    {
     "data": {
      "text/plain": [
       "<DataFrame 's3://cellxgene-census-public-us-west-2/cell-census/2024-09-02/soma/census_info/summary' (open for 'r')>"
      ]
     },
     "execution_count": 20,
     "metadata": {},
     "output_type": "execute_result"
    }
   ],
   "source": [
    "census[\"census_info\"][\"summary\"]"
   ]
  },
  {
   "cell_type": "code",
   "execution_count": 21,
   "metadata": {
    "colab": {
     "base_uri": "https://localhost:8080/",
     "height": 268
    },
    "id": "gtH3rMBIMUWI",
    "outputId": "6d6cc401-4948-4ee3-f2b2-0262c33e56e9"
   },
   "outputs": [
    {
     "data": {
      "text/html": [
       "<div>\n",
       "<style scoped>\n",
       "    .dataframe tbody tr th:only-of-type {\n",
       "        vertical-align: middle;\n",
       "    }\n",
       "\n",
       "    .dataframe tbody tr th {\n",
       "        vertical-align: top;\n",
       "    }\n",
       "\n",
       "    .dataframe thead th {\n",
       "        text-align: right;\n",
       "    }\n",
       "</style>\n",
       "<table border=\"1\" class=\"dataframe\">\n",
       "  <thead>\n",
       "    <tr style=\"text-align: right;\">\n",
       "      <th></th>\n",
       "      <th>soma_joinid</th>\n",
       "      <th>label</th>\n",
       "      <th>value</th>\n",
       "    </tr>\n",
       "  </thead>\n",
       "  <tbody>\n",
       "    <tr>\n",
       "      <th>0</th>\n",
       "      <td>0</td>\n",
       "      <td>census_schema_version</td>\n",
       "      <td>2.1.0</td>\n",
       "    </tr>\n",
       "    <tr>\n",
       "      <th>1</th>\n",
       "      <td>1</td>\n",
       "      <td>census_build_date</td>\n",
       "      <td>2024-09-02</td>\n",
       "    </tr>\n",
       "    <tr>\n",
       "      <th>2</th>\n",
       "      <td>2</td>\n",
       "      <td>dataset_schema_version</td>\n",
       "      <td>5.1.0</td>\n",
       "    </tr>\n",
       "    <tr>\n",
       "      <th>3</th>\n",
       "      <td>3</td>\n",
       "      <td>total_cell_count</td>\n",
       "      <td>120108090</td>\n",
       "    </tr>\n",
       "    <tr>\n",
       "      <th>4</th>\n",
       "      <td>4</td>\n",
       "      <td>unique_cell_count</td>\n",
       "      <td>64161082</td>\n",
       "    </tr>\n",
       "    <tr>\n",
       "      <th>5</th>\n",
       "      <td>5</td>\n",
       "      <td>number_donors_homo_sapiens</td>\n",
       "      <td>19993</td>\n",
       "    </tr>\n",
       "    <tr>\n",
       "      <th>6</th>\n",
       "      <td>6</td>\n",
       "      <td>number_donors_mus_musculus</td>\n",
       "      <td>4698</td>\n",
       "    </tr>\n",
       "  </tbody>\n",
       "</table>\n",
       "</div>"
      ],
      "text/plain": [
       "   soma_joinid                       label       value\n",
       "0            0       census_schema_version       2.1.0\n",
       "1            1           census_build_date  2024-09-02\n",
       "2            2      dataset_schema_version       5.1.0\n",
       "3            3            total_cell_count   120108090\n",
       "4            4           unique_cell_count    64161082\n",
       "5            5  number_donors_homo_sapiens       19993\n",
       "6            6  number_donors_mus_musculus        4698"
      ]
     },
     "execution_count": 21,
     "metadata": {},
     "output_type": "execute_result"
    }
   ],
   "source": [
    "census[\"census_info\"][\"summary\"].read().concat().to_pandas()"
   ]
  },
  {
   "cell_type": "markdown",
   "metadata": {
    "id": "jFf2vxR5Mkqw"
   },
   "source": [
    "And `\"datasets\"` is data frame listing all of the datasets whose single-cell data is contained in this Census release.\n",
    "\n",
    "**🚨 NOTE:** the column `dataset_id` is also present in the cell metadata for joining"
   ]
  },
  {
   "cell_type": "code",
   "execution_count": 22,
   "metadata": {
    "colab": {
     "base_uri": "https://localhost:8080/",
     "height": 947
    },
    "id": "54lUHIYeMgwL",
    "outputId": "7209ceab-ea20-440a-d239-e2deb72054cb"
   },
   "outputs": [
    {
     "data": {
      "text/html": [
       "<div>\n",
       "<style scoped>\n",
       "    .dataframe tbody tr th:only-of-type {\n",
       "        vertical-align: middle;\n",
       "    }\n",
       "\n",
       "    .dataframe tbody tr th {\n",
       "        vertical-align: top;\n",
       "    }\n",
       "\n",
       "    .dataframe thead th {\n",
       "        text-align: right;\n",
       "    }\n",
       "</style>\n",
       "<table border=\"1\" class=\"dataframe\">\n",
       "  <thead>\n",
       "    <tr style=\"text-align: right;\">\n",
       "      <th></th>\n",
       "      <th>soma_joinid</th>\n",
       "      <th>citation</th>\n",
       "      <th>collection_id</th>\n",
       "      <th>collection_name</th>\n",
       "      <th>collection_doi</th>\n",
       "      <th>collection_doi_label</th>\n",
       "      <th>dataset_id</th>\n",
       "      <th>dataset_version_id</th>\n",
       "      <th>dataset_title</th>\n",
       "      <th>dataset_h5ad_path</th>\n",
       "      <th>dataset_total_cell_count</th>\n",
       "    </tr>\n",
       "  </thead>\n",
       "  <tbody>\n",
       "    <tr>\n",
       "      <th>0</th>\n",
       "      <td>0</td>\n",
       "      <td>Publication: https://doi.org/10.1002/hep4.1854...</td>\n",
       "      <td>44531dd9-1388-4416-a117-af0a99de2294</td>\n",
       "      <td>Single-Cell, Single-Nucleus, and Spatial RNA S...</td>\n",
       "      <td>10.1002/hep4.1854</td>\n",
       "      <td>Andrews et al. (2022) Hepatology Communications</td>\n",
       "      <td>0895c838-e550-48a3-a777-dbcd35d30272</td>\n",
       "      <td>aaab3abd-624a-442e-b62b-3f2edb10b45e</td>\n",
       "      <td>Healthy human liver: B cells</td>\n",
       "      <td>0895c838-e550-48a3-a777-dbcd35d30272.h5ad</td>\n",
       "      <td>146</td>\n",
       "    </tr>\n",
       "    <tr>\n",
       "      <th>1</th>\n",
       "      <td>1</td>\n",
       "      <td>Publication: https://doi.org/10.1126/sciimmuno...</td>\n",
       "      <td>3a2af25b-2338-4266-aad3-aa8d07473f50</td>\n",
       "      <td>Single-cell analysis of human B cell maturatio...</td>\n",
       "      <td>10.1126/sciimmunol.abe6291</td>\n",
       "      <td>King et al. (2021) Sci. Immunol.</td>\n",
       "      <td>00ff600e-6e2e-4d76-846f-0eec4f0ae417</td>\n",
       "      <td>50c1d621-995d-4386-9fcb-5c70fcdf8d66</td>\n",
       "      <td>Human tonsil nonlymphoid cells scRNA</td>\n",
       "      <td>00ff600e-6e2e-4d76-846f-0eec4f0ae417.h5ad</td>\n",
       "      <td>363</td>\n",
       "    </tr>\n",
       "    <tr>\n",
       "      <th>2</th>\n",
       "      <td>2</td>\n",
       "      <td>Publication: https://doi.org/10.1038/s41593-02...</td>\n",
       "      <td>180bff9c-c8a5-4539-b13b-ddbc00d643e6</td>\n",
       "      <td>Molecular characterization of selectively vuln...</td>\n",
       "      <td>10.1038/s41593-020-00764-7</td>\n",
       "      <td>Leng et al. (2021) Nat Neurosci</td>\n",
       "      <td>bdacc907-7c26-419f-8808-969eab3ca2e8</td>\n",
       "      <td>e95b54b1-8656-4fe8-9f53-6fdd97f397ba</td>\n",
       "      <td>Molecular characterization of selectively vuln...</td>\n",
       "      <td>bdacc907-7c26-419f-8808-969eab3ca2e8.h5ad</td>\n",
       "      <td>3799</td>\n",
       "    </tr>\n",
       "    <tr>\n",
       "      <th>3</th>\n",
       "      <td>3</td>\n",
       "      <td>Publication: https://doi.org/10.1038/s41467-02...</td>\n",
       "      <td>bf325905-5e8e-42e3-933d-9a9053e9af80</td>\n",
       "      <td>Single-cell Atlas of common variable immunodef...</td>\n",
       "      <td>10.1038/s41467-022-29450-x</td>\n",
       "      <td>Rodríguez-Ubreva et al. (2022) Nat Commun</td>\n",
       "      <td>a5d95a42-0137-496f-8a60-101e17f263c8</td>\n",
       "      <td>d6e742c5-f6e5-42f4-8064-622783542f6b</td>\n",
       "      <td>Steady-state B cells - scRNA-seq</td>\n",
       "      <td>a5d95a42-0137-496f-8a60-101e17f263c8.h5ad</td>\n",
       "      <td>1324</td>\n",
       "    </tr>\n",
       "    <tr>\n",
       "      <th>4</th>\n",
       "      <td>4</td>\n",
       "      <td>Publication: https://doi.org/10.1038/s41590-02...</td>\n",
       "      <td>93eebe82-d8c3-41bc-a906-63b5b5f24a9d</td>\n",
       "      <td>Single-cell proteo-genomic reference maps of t...</td>\n",
       "      <td>10.1038/s41590-021-01059-0</td>\n",
       "      <td>Triana et al. (2021) Nat Immunol</td>\n",
       "      <td>d3566d6a-a455-4a15-980f-45eb29114cab</td>\n",
       "      <td>61f15353-e598-43b5-bb5a-80ac44a0cf0b</td>\n",
       "      <td>blood and bone marrow from a healthy young donor</td>\n",
       "      <td>d3566d6a-a455-4a15-980f-45eb29114cab.h5ad</td>\n",
       "      <td>15502</td>\n",
       "    </tr>\n",
       "    <tr>\n",
       "      <th>...</th>\n",
       "      <td>...</td>\n",
       "      <td>...</td>\n",
       "      <td>...</td>\n",
       "      <td>...</td>\n",
       "      <td>...</td>\n",
       "      <td>...</td>\n",
       "      <td>...</td>\n",
       "      <td>...</td>\n",
       "      <td>...</td>\n",
       "      <td>...</td>\n",
       "      <td>...</td>\n",
       "    </tr>\n",
       "    <tr>\n",
       "      <th>895</th>\n",
       "      <td>895</td>\n",
       "      <td>Publication: https://doi.org/10.1038/s41586-02...</td>\n",
       "      <td>45d5d2c3-bc28-4814-aed6-0bb6f0e11c82</td>\n",
       "      <td>A single-cell transcriptional timelapse of mou...</td>\n",
       "      <td>10.1038/s41586-024-07069-w</td>\n",
       "      <td>Qiu et al. (2024) Nature</td>\n",
       "      <td>0bce33ed-455c-4e12-93f8-b7b04a2de4a1</td>\n",
       "      <td>fa49086f-0e18-4f4b-908d-beefdb00ac3e</td>\n",
       "      <td>Whole dataset: Normalized subset 2</td>\n",
       "      <td>0bce33ed-455c-4e12-93f8-b7b04a2de4a1.h5ad</td>\n",
       "      <td>2863559</td>\n",
       "    </tr>\n",
       "    <tr>\n",
       "      <th>896</th>\n",
       "      <td>896</td>\n",
       "      <td>Publication: https://doi.org/10.1101/2023.05.0...</td>\n",
       "      <td>1ca90a2d-2943-483d-b678-b809bf464c30</td>\n",
       "      <td>SEA-AD: Seattle Alzheimer’s Disease Brain Cell...</td>\n",
       "      <td>10.1101/2023.05.08.539485</td>\n",
       "      <td>Gabitto et al. (2023) bioRxiv</td>\n",
       "      <td>c2876b1b-06d8-4d96-a56b-5304f815b99a</td>\n",
       "      <td>291ce735-8d18-4a2f-a6bc-98f75f8d6bc0</td>\n",
       "      <td>Whole Taxonomy - MTG: Seattle Alzheimer's Dise...</td>\n",
       "      <td>c2876b1b-06d8-4d96-a56b-5304f815b99a.h5ad</td>\n",
       "      <td>1226855</td>\n",
       "    </tr>\n",
       "    <tr>\n",
       "      <th>897</th>\n",
       "      <td>897</td>\n",
       "      <td>Publication: https://doi.org/10.1101/2023.05.0...</td>\n",
       "      <td>1ca90a2d-2943-483d-b678-b809bf464c30</td>\n",
       "      <td>SEA-AD: Seattle Alzheimer’s Disease Brain Cell...</td>\n",
       "      <td>10.1101/2023.05.08.539485</td>\n",
       "      <td>Gabitto et al. (2023) bioRxiv</td>\n",
       "      <td>6f7fd0f1-a2ed-4ff1-80d3-33dde731cbc3</td>\n",
       "      <td>e9bffe1d-9f07-4467-9230-c080b362e737</td>\n",
       "      <td>Whole Taxonomy - DLPFC: Seattle Alzheimer's Di...</td>\n",
       "      <td>6f7fd0f1-a2ed-4ff1-80d3-33dde731cbc3.h5ad</td>\n",
       "      <td>1309414</td>\n",
       "    </tr>\n",
       "    <tr>\n",
       "      <th>898</th>\n",
       "      <td>898</td>\n",
       "      <td>Publication: https://doi.org/10.1038/s41586-02...</td>\n",
       "      <td>45d5d2c3-bc28-4814-aed6-0bb6f0e11c82</td>\n",
       "      <td>A single-cell transcriptional timelapse of mou...</td>\n",
       "      <td>10.1038/s41586-024-07069-w</td>\n",
       "      <td>Qiu et al. (2024) Nature</td>\n",
       "      <td>dcfa2614-7ca7-4d82-814c-350626eccb26</td>\n",
       "      <td>b8cfe635-1cf6-4a6d-8bc0-5059477b9a8c</td>\n",
       "      <td>Major cell cluster: Mesoderm</td>\n",
       "      <td>dcfa2614-7ca7-4d82-814c-350626eccb26.h5ad</td>\n",
       "      <td>3267338</td>\n",
       "    </tr>\n",
       "    <tr>\n",
       "      <th>899</th>\n",
       "      <td>899</td>\n",
       "      <td>Publication: https://doi.org/10.1038/s41586-02...</td>\n",
       "      <td>45d5d2c3-bc28-4814-aed6-0bb6f0e11c82</td>\n",
       "      <td>A single-cell transcriptional timelapse of mou...</td>\n",
       "      <td>10.1038/s41586-024-07069-w</td>\n",
       "      <td>Qiu et al. (2024) Nature</td>\n",
       "      <td>dcfd4feb-18a3-4b30-81d7-1b0c544a8ab3</td>\n",
       "      <td>2d4c483c-0495-4747-8ab5-c21a955852f8</td>\n",
       "      <td>Whole dataset: Raw counts only</td>\n",
       "      <td>dcfd4feb-18a3-4b30-81d7-1b0c544a8ab3.h5ad</td>\n",
       "      <td>11441407</td>\n",
       "    </tr>\n",
       "  </tbody>\n",
       "</table>\n",
       "<p>900 rows × 11 columns</p>\n",
       "</div>"
      ],
      "text/plain": [
       "     soma_joinid                                           citation  \\\n",
       "0              0  Publication: https://doi.org/10.1002/hep4.1854...   \n",
       "1              1  Publication: https://doi.org/10.1126/sciimmuno...   \n",
       "2              2  Publication: https://doi.org/10.1038/s41593-02...   \n",
       "3              3  Publication: https://doi.org/10.1038/s41467-02...   \n",
       "4              4  Publication: https://doi.org/10.1038/s41590-02...   \n",
       "..           ...                                                ...   \n",
       "895          895  Publication: https://doi.org/10.1038/s41586-02...   \n",
       "896          896  Publication: https://doi.org/10.1101/2023.05.0...   \n",
       "897          897  Publication: https://doi.org/10.1101/2023.05.0...   \n",
       "898          898  Publication: https://doi.org/10.1038/s41586-02...   \n",
       "899          899  Publication: https://doi.org/10.1038/s41586-02...   \n",
       "\n",
       "                            collection_id  \\\n",
       "0    44531dd9-1388-4416-a117-af0a99de2294   \n",
       "1    3a2af25b-2338-4266-aad3-aa8d07473f50   \n",
       "2    180bff9c-c8a5-4539-b13b-ddbc00d643e6   \n",
       "3    bf325905-5e8e-42e3-933d-9a9053e9af80   \n",
       "4    93eebe82-d8c3-41bc-a906-63b5b5f24a9d   \n",
       "..                                    ...   \n",
       "895  45d5d2c3-bc28-4814-aed6-0bb6f0e11c82   \n",
       "896  1ca90a2d-2943-483d-b678-b809bf464c30   \n",
       "897  1ca90a2d-2943-483d-b678-b809bf464c30   \n",
       "898  45d5d2c3-bc28-4814-aed6-0bb6f0e11c82   \n",
       "899  45d5d2c3-bc28-4814-aed6-0bb6f0e11c82   \n",
       "\n",
       "                                       collection_name  \\\n",
       "0    Single-Cell, Single-Nucleus, and Spatial RNA S...   \n",
       "1    Single-cell analysis of human B cell maturatio...   \n",
       "2    Molecular characterization of selectively vuln...   \n",
       "3    Single-cell Atlas of common variable immunodef...   \n",
       "4    Single-cell proteo-genomic reference maps of t...   \n",
       "..                                                 ...   \n",
       "895  A single-cell transcriptional timelapse of mou...   \n",
       "896  SEA-AD: Seattle Alzheimer’s Disease Brain Cell...   \n",
       "897  SEA-AD: Seattle Alzheimer’s Disease Brain Cell...   \n",
       "898  A single-cell transcriptional timelapse of mou...   \n",
       "899  A single-cell transcriptional timelapse of mou...   \n",
       "\n",
       "                 collection_doi  \\\n",
       "0             10.1002/hep4.1854   \n",
       "1    10.1126/sciimmunol.abe6291   \n",
       "2    10.1038/s41593-020-00764-7   \n",
       "3    10.1038/s41467-022-29450-x   \n",
       "4    10.1038/s41590-021-01059-0   \n",
       "..                          ...   \n",
       "895  10.1038/s41586-024-07069-w   \n",
       "896   10.1101/2023.05.08.539485   \n",
       "897   10.1101/2023.05.08.539485   \n",
       "898  10.1038/s41586-024-07069-w   \n",
       "899  10.1038/s41586-024-07069-w   \n",
       "\n",
       "                                collection_doi_label  \\\n",
       "0    Andrews et al. (2022) Hepatology Communications   \n",
       "1                   King et al. (2021) Sci. Immunol.   \n",
       "2                    Leng et al. (2021) Nat Neurosci   \n",
       "3          Rodríguez-Ubreva et al. (2022) Nat Commun   \n",
       "4                   Triana et al. (2021) Nat Immunol   \n",
       "..                                               ...   \n",
       "895                         Qiu et al. (2024) Nature   \n",
       "896                    Gabitto et al. (2023) bioRxiv   \n",
       "897                    Gabitto et al. (2023) bioRxiv   \n",
       "898                         Qiu et al. (2024) Nature   \n",
       "899                         Qiu et al. (2024) Nature   \n",
       "\n",
       "                               dataset_id  \\\n",
       "0    0895c838-e550-48a3-a777-dbcd35d30272   \n",
       "1    00ff600e-6e2e-4d76-846f-0eec4f0ae417   \n",
       "2    bdacc907-7c26-419f-8808-969eab3ca2e8   \n",
       "3    a5d95a42-0137-496f-8a60-101e17f263c8   \n",
       "4    d3566d6a-a455-4a15-980f-45eb29114cab   \n",
       "..                                    ...   \n",
       "895  0bce33ed-455c-4e12-93f8-b7b04a2de4a1   \n",
       "896  c2876b1b-06d8-4d96-a56b-5304f815b99a   \n",
       "897  6f7fd0f1-a2ed-4ff1-80d3-33dde731cbc3   \n",
       "898  dcfa2614-7ca7-4d82-814c-350626eccb26   \n",
       "899  dcfd4feb-18a3-4b30-81d7-1b0c544a8ab3   \n",
       "\n",
       "                       dataset_version_id  \\\n",
       "0    aaab3abd-624a-442e-b62b-3f2edb10b45e   \n",
       "1    50c1d621-995d-4386-9fcb-5c70fcdf8d66   \n",
       "2    e95b54b1-8656-4fe8-9f53-6fdd97f397ba   \n",
       "3    d6e742c5-f6e5-42f4-8064-622783542f6b   \n",
       "4    61f15353-e598-43b5-bb5a-80ac44a0cf0b   \n",
       "..                                    ...   \n",
       "895  fa49086f-0e18-4f4b-908d-beefdb00ac3e   \n",
       "896  291ce735-8d18-4a2f-a6bc-98f75f8d6bc0   \n",
       "897  e9bffe1d-9f07-4467-9230-c080b362e737   \n",
       "898  b8cfe635-1cf6-4a6d-8bc0-5059477b9a8c   \n",
       "899  2d4c483c-0495-4747-8ab5-c21a955852f8   \n",
       "\n",
       "                                         dataset_title  \\\n",
       "0                         Healthy human liver: B cells   \n",
       "1                 Human tonsil nonlymphoid cells scRNA   \n",
       "2    Molecular characterization of selectively vuln...   \n",
       "3                     Steady-state B cells - scRNA-seq   \n",
       "4     blood and bone marrow from a healthy young donor   \n",
       "..                                                 ...   \n",
       "895                 Whole dataset: Normalized subset 2   \n",
       "896  Whole Taxonomy - MTG: Seattle Alzheimer's Dise...   \n",
       "897  Whole Taxonomy - DLPFC: Seattle Alzheimer's Di...   \n",
       "898                       Major cell cluster: Mesoderm   \n",
       "899                     Whole dataset: Raw counts only   \n",
       "\n",
       "                             dataset_h5ad_path  dataset_total_cell_count  \n",
       "0    0895c838-e550-48a3-a777-dbcd35d30272.h5ad                       146  \n",
       "1    00ff600e-6e2e-4d76-846f-0eec4f0ae417.h5ad                       363  \n",
       "2    bdacc907-7c26-419f-8808-969eab3ca2e8.h5ad                      3799  \n",
       "3    a5d95a42-0137-496f-8a60-101e17f263c8.h5ad                      1324  \n",
       "4    d3566d6a-a455-4a15-980f-45eb29114cab.h5ad                     15502  \n",
       "..                                         ...                       ...  \n",
       "895  0bce33ed-455c-4e12-93f8-b7b04a2de4a1.h5ad                   2863559  \n",
       "896  c2876b1b-06d8-4d96-a56b-5304f815b99a.h5ad                   1226855  \n",
       "897  6f7fd0f1-a2ed-4ff1-80d3-33dde731cbc3.h5ad                   1309414  \n",
       "898  dcfa2614-7ca7-4d82-814c-350626eccb26.h5ad                   3267338  \n",
       "899  dcfd4feb-18a3-4b30-81d7-1b0c544a8ab3.h5ad                  11441407  \n",
       "\n",
       "[900 rows x 11 columns]"
      ]
     },
     "execution_count": 22,
     "metadata": {},
     "output_type": "execute_result"
    }
   ],
   "source": [
    "census[\"census_info\"][\"datasets\"].read().concat().to_pandas()"
   ]
  },
  {
   "cell_type": "markdown",
   "metadata": {
    "id": "ihxvtyH4Vz2B"
   },
   "source": [
    "#### Reading gene metadata\n",
    "\n",
    "Reading gene metadata is similar to reading cell metadata. However the location of this data frame is inside the soma Measurement. This was designed to allow for multi-modal data, whereby the same observation (cell) can have a different set of features for each type of measurement (e.g. genes, proteins).\n",
    "\n",
    "To read the gene metadata:"
   ]
  },
  {
   "cell_type": "code",
   "execution_count": 23,
   "metadata": {
    "colab": {
     "base_uri": "https://localhost:8080/",
     "height": 423
    },
    "id": "wsskajc-VAtD",
    "outputId": "ca82e9ee-5a03-446f-a3c5-b91baec7055d"
   },
   "outputs": [
    {
     "data": {
      "text/html": [
       "<div>\n",
       "<style scoped>\n",
       "    .dataframe tbody tr th:only-of-type {\n",
       "        vertical-align: middle;\n",
       "    }\n",
       "\n",
       "    .dataframe tbody tr th {\n",
       "        vertical-align: top;\n",
       "    }\n",
       "\n",
       "    .dataframe thead th {\n",
       "        text-align: right;\n",
       "    }\n",
       "</style>\n",
       "<table border=\"1\" class=\"dataframe\">\n",
       "  <thead>\n",
       "    <tr style=\"text-align: right;\">\n",
       "      <th></th>\n",
       "      <th>soma_joinid</th>\n",
       "      <th>feature_id</th>\n",
       "      <th>feature_name</th>\n",
       "      <th>feature_length</th>\n",
       "      <th>nnz</th>\n",
       "      <th>n_measured_obs</th>\n",
       "    </tr>\n",
       "  </thead>\n",
       "  <tbody>\n",
       "    <tr>\n",
       "      <th>0</th>\n",
       "      <td>0</td>\n",
       "      <td>ENSG00000000003</td>\n",
       "      <td>TSPAN6</td>\n",
       "      <td>4530</td>\n",
       "      <td>4811135</td>\n",
       "      <td>77128603</td>\n",
       "    </tr>\n",
       "    <tr>\n",
       "      <th>1</th>\n",
       "      <td>1</td>\n",
       "      <td>ENSG00000000005</td>\n",
       "      <td>TNMD</td>\n",
       "      <td>1476</td>\n",
       "      <td>269136</td>\n",
       "      <td>64017621</td>\n",
       "    </tr>\n",
       "    <tr>\n",
       "      <th>2</th>\n",
       "      <td>2</td>\n",
       "      <td>ENSG00000000419</td>\n",
       "      <td>DPM1</td>\n",
       "      <td>9276</td>\n",
       "      <td>18420588</td>\n",
       "      <td>77502438</td>\n",
       "    </tr>\n",
       "    <tr>\n",
       "      <th>3</th>\n",
       "      <td>3</td>\n",
       "      <td>ENSG00000000457</td>\n",
       "      <td>SCYL3</td>\n",
       "      <td>6883</td>\n",
       "      <td>9268173</td>\n",
       "      <td>76952827</td>\n",
       "    </tr>\n",
       "    <tr>\n",
       "      <th>4</th>\n",
       "      <td>4</td>\n",
       "      <td>ENSG00000000460</td>\n",
       "      <td>C1orf112</td>\n",
       "      <td>5970</td>\n",
       "      <td>6484239</td>\n",
       "      <td>76979490</td>\n",
       "    </tr>\n",
       "    <tr>\n",
       "      <th>...</th>\n",
       "      <td>...</td>\n",
       "      <td>...</td>\n",
       "      <td>...</td>\n",
       "      <td>...</td>\n",
       "      <td>...</td>\n",
       "      <td>...</td>\n",
       "    </tr>\n",
       "    <tr>\n",
       "      <th>60532</th>\n",
       "      <td>60532</td>\n",
       "      <td>ENSG00000288718</td>\n",
       "      <td>ENSG00000288718.1</td>\n",
       "      <td>1070</td>\n",
       "      <td>4</td>\n",
       "      <td>1248980</td>\n",
       "    </tr>\n",
       "    <tr>\n",
       "      <th>60533</th>\n",
       "      <td>60533</td>\n",
       "      <td>ENSG00000288719</td>\n",
       "      <td>ENSG00000288719.1</td>\n",
       "      <td>4252</td>\n",
       "      <td>2826</td>\n",
       "      <td>1248980</td>\n",
       "    </tr>\n",
       "    <tr>\n",
       "      <th>60534</th>\n",
       "      <td>60534</td>\n",
       "      <td>ENSG00000288724</td>\n",
       "      <td>ENSG00000288724.1</td>\n",
       "      <td>625</td>\n",
       "      <td>36</td>\n",
       "      <td>1248980</td>\n",
       "    </tr>\n",
       "    <tr>\n",
       "      <th>60535</th>\n",
       "      <td>60535</td>\n",
       "      <td>ENSG00000290735</td>\n",
       "      <td>ENSG00000290735.1</td>\n",
       "      <td>4103</td>\n",
       "      <td>128</td>\n",
       "      <td>49359</td>\n",
       "    </tr>\n",
       "    <tr>\n",
       "      <th>60536</th>\n",
       "      <td>60536</td>\n",
       "      <td>ENSG00000289810</td>\n",
       "      <td>ENSG00000289810.1</td>\n",
       "      <td>1205</td>\n",
       "      <td>82</td>\n",
       "      <td>48478</td>\n",
       "    </tr>\n",
       "  </tbody>\n",
       "</table>\n",
       "<p>60537 rows × 6 columns</p>\n",
       "</div>"
      ],
      "text/plain": [
       "       soma_joinid       feature_id       feature_name  feature_length  \\\n",
       "0                0  ENSG00000000003             TSPAN6            4530   \n",
       "1                1  ENSG00000000005               TNMD            1476   \n",
       "2                2  ENSG00000000419               DPM1            9276   \n",
       "3                3  ENSG00000000457              SCYL3            6883   \n",
       "4                4  ENSG00000000460           C1orf112            5970   \n",
       "...            ...              ...                ...             ...   \n",
       "60532        60532  ENSG00000288718  ENSG00000288718.1            1070   \n",
       "60533        60533  ENSG00000288719  ENSG00000288719.1            4252   \n",
       "60534        60534  ENSG00000288724  ENSG00000288724.1             625   \n",
       "60535        60535  ENSG00000290735  ENSG00000290735.1            4103   \n",
       "60536        60536  ENSG00000289810  ENSG00000289810.1            1205   \n",
       "\n",
       "            nnz  n_measured_obs  \n",
       "0       4811135        77128603  \n",
       "1        269136        64017621  \n",
       "2      18420588        77502438  \n",
       "3       9268173        76952827  \n",
       "4       6484239        76979490  \n",
       "...         ...             ...  \n",
       "60532         4         1248980  \n",
       "60533      2826         1248980  \n",
       "60534        36         1248980  \n",
       "60535       128           49359  \n",
       "60536        82           48478  \n",
       "\n",
       "[60537 rows x 6 columns]"
      ]
     },
     "execution_count": 23,
     "metadata": {},
     "output_type": "execute_result"
    }
   ],
   "source": [
    "# Build iterator\n",
    "iterator = census[\"census_data\"][\"homo_sapiens\"].ms[\"RNA\"].var.read()\n",
    "\n",
    "# Grab first chunk\n",
    "table_chunk=next(iterator)\n",
    "\n",
    "# Convert to pandas\n",
    "table_chunk.to_pandas()"
   ]
  },
  {
   "cell_type": "markdown",
   "metadata": {
    "id": "M_0EEQmnNh_6"
   },
   "source": [
    "#### Reading a Data Frame with row filters\n",
    "\n",
    "SOMA makes it easy and efficient to only select a subset of rows based on a query filter. This helps when you want to grab data or metadata only for specific set of cells or genes based on the columns available in these data frames.\n",
    "\n",
    "For example if you want to get the all the the *primary cells* you can add the following.\n",
    "\n",
    "**🚨 NOTE:** cells annotated as `is_primary_data = True` are those marked as the original contribution, as some cells are represented more than once in Census due to their inclusion in multiple datasets."
   ]
  },
  {
   "cell_type": "code",
   "execution_count": 24,
   "metadata": {
    "colab": {
     "base_uri": "https://localhost:8080/",
     "height": 964
    },
    "id": "2UuuVnlgNnGg",
    "outputId": "a63eabcb-5221-4fa9-d970-896fa9e519d4"
   },
   "outputs": [
    {
     "data": {
      "text/html": [
       "<div>\n",
       "<style scoped>\n",
       "    .dataframe tbody tr th:only-of-type {\n",
       "        vertical-align: middle;\n",
       "    }\n",
       "\n",
       "    .dataframe tbody tr th {\n",
       "        vertical-align: top;\n",
       "    }\n",
       "\n",
       "    .dataframe thead th {\n",
       "        text-align: right;\n",
       "    }\n",
       "</style>\n",
       "<table border=\"1\" class=\"dataframe\">\n",
       "  <thead>\n",
       "    <tr style=\"text-align: right;\">\n",
       "      <th></th>\n",
       "      <th>soma_joinid</th>\n",
       "      <th>dataset_id</th>\n",
       "      <th>assay</th>\n",
       "      <th>assay_ontology_term_id</th>\n",
       "      <th>cell_type</th>\n",
       "      <th>cell_type_ontology_term_id</th>\n",
       "      <th>development_stage</th>\n",
       "      <th>development_stage_ontology_term_id</th>\n",
       "      <th>disease</th>\n",
       "      <th>disease_ontology_term_id</th>\n",
       "      <th>...</th>\n",
       "      <th>tissue</th>\n",
       "      <th>tissue_ontology_term_id</th>\n",
       "      <th>tissue_type</th>\n",
       "      <th>tissue_general</th>\n",
       "      <th>tissue_general_ontology_term_id</th>\n",
       "      <th>raw_sum</th>\n",
       "      <th>nnz</th>\n",
       "      <th>raw_mean_nnz</th>\n",
       "      <th>raw_variance_nnz</th>\n",
       "      <th>n_measured_vars</th>\n",
       "    </tr>\n",
       "  </thead>\n",
       "  <tbody>\n",
       "    <tr>\n",
       "      <th>0</th>\n",
       "      <td>4308</td>\n",
       "      <td>a5d95a42-0137-496f-8a60-101e17f263c8</td>\n",
       "      <td>Smart-seq2</td>\n",
       "      <td>EFO:0008931</td>\n",
       "      <td>naive B cell</td>\n",
       "      <td>CL:0000788</td>\n",
       "      <td>26-year-old human stage</td>\n",
       "      <td>HsapDv:0000120</td>\n",
       "      <td>normal</td>\n",
       "      <td>PATO:0000461</td>\n",
       "      <td>...</td>\n",
       "      <td>blood</td>\n",
       "      <td>UBERON:0000178</td>\n",
       "      <td>tissue</td>\n",
       "      <td>blood</td>\n",
       "      <td>UBERON:0000178</td>\n",
       "      <td>17691.0</td>\n",
       "      <td>1199</td>\n",
       "      <td>14.754796</td>\n",
       "      <td>624.620960</td>\n",
       "      <td>19149</td>\n",
       "    </tr>\n",
       "    <tr>\n",
       "      <th>1</th>\n",
       "      <td>4309</td>\n",
       "      <td>a5d95a42-0137-496f-8a60-101e17f263c8</td>\n",
       "      <td>Smart-seq2</td>\n",
       "      <td>EFO:0008931</td>\n",
       "      <td>naive B cell</td>\n",
       "      <td>CL:0000788</td>\n",
       "      <td>26-year-old human stage</td>\n",
       "      <td>HsapDv:0000120</td>\n",
       "      <td>normal</td>\n",
       "      <td>PATO:0000461</td>\n",
       "      <td>...</td>\n",
       "      <td>blood</td>\n",
       "      <td>UBERON:0000178</td>\n",
       "      <td>tissue</td>\n",
       "      <td>blood</td>\n",
       "      <td>UBERON:0000178</td>\n",
       "      <td>13612.0</td>\n",
       "      <td>841</td>\n",
       "      <td>16.185493</td>\n",
       "      <td>1394.944123</td>\n",
       "      <td>19149</td>\n",
       "    </tr>\n",
       "    <tr>\n",
       "      <th>2</th>\n",
       "      <td>4310</td>\n",
       "      <td>a5d95a42-0137-496f-8a60-101e17f263c8</td>\n",
       "      <td>Smart-seq2</td>\n",
       "      <td>EFO:0008931</td>\n",
       "      <td>naive B cell</td>\n",
       "      <td>CL:0000788</td>\n",
       "      <td>26-year-old human stage</td>\n",
       "      <td>HsapDv:0000120</td>\n",
       "      <td>normal</td>\n",
       "      <td>PATO:0000461</td>\n",
       "      <td>...</td>\n",
       "      <td>blood</td>\n",
       "      <td>UBERON:0000178</td>\n",
       "      <td>tissue</td>\n",
       "      <td>blood</td>\n",
       "      <td>UBERON:0000178</td>\n",
       "      <td>126774.0</td>\n",
       "      <td>1683</td>\n",
       "      <td>75.326203</td>\n",
       "      <td>42215.146798</td>\n",
       "      <td>19149</td>\n",
       "    </tr>\n",
       "    <tr>\n",
       "      <th>3</th>\n",
       "      <td>4311</td>\n",
       "      <td>a5d95a42-0137-496f-8a60-101e17f263c8</td>\n",
       "      <td>Smart-seq2</td>\n",
       "      <td>EFO:0008931</td>\n",
       "      <td>naive B cell</td>\n",
       "      <td>CL:0000788</td>\n",
       "      <td>26-year-old human stage</td>\n",
       "      <td>HsapDv:0000120</td>\n",
       "      <td>normal</td>\n",
       "      <td>PATO:0000461</td>\n",
       "      <td>...</td>\n",
       "      <td>blood</td>\n",
       "      <td>UBERON:0000178</td>\n",
       "      <td>tissue</td>\n",
       "      <td>blood</td>\n",
       "      <td>UBERON:0000178</td>\n",
       "      <td>14370.0</td>\n",
       "      <td>371</td>\n",
       "      <td>38.733154</td>\n",
       "      <td>4639.990763</td>\n",
       "      <td>19149</td>\n",
       "    </tr>\n",
       "    <tr>\n",
       "      <th>4</th>\n",
       "      <td>4312</td>\n",
       "      <td>a5d95a42-0137-496f-8a60-101e17f263c8</td>\n",
       "      <td>Smart-seq2</td>\n",
       "      <td>EFO:0008931</td>\n",
       "      <td>naive B cell</td>\n",
       "      <td>CL:0000788</td>\n",
       "      <td>26-year-old human stage</td>\n",
       "      <td>HsapDv:0000120</td>\n",
       "      <td>normal</td>\n",
       "      <td>PATO:0000461</td>\n",
       "      <td>...</td>\n",
       "      <td>blood</td>\n",
       "      <td>UBERON:0000178</td>\n",
       "      <td>tissue</td>\n",
       "      <td>blood</td>\n",
       "      <td>UBERON:0000178</td>\n",
       "      <td>13738.0</td>\n",
       "      <td>507</td>\n",
       "      <td>27.096647</td>\n",
       "      <td>3874.079574</td>\n",
       "      <td>19149</td>\n",
       "    </tr>\n",
       "    <tr>\n",
       "      <th>...</th>\n",
       "      <td>...</td>\n",
       "      <td>...</td>\n",
       "      <td>...</td>\n",
       "      <td>...</td>\n",
       "      <td>...</td>\n",
       "      <td>...</td>\n",
       "      <td>...</td>\n",
       "      <td>...</td>\n",
       "      <td>...</td>\n",
       "      <td>...</td>\n",
       "      <td>...</td>\n",
       "      <td>...</td>\n",
       "      <td>...</td>\n",
       "      <td>...</td>\n",
       "      <td>...</td>\n",
       "      <td>...</td>\n",
       "      <td>...</td>\n",
       "      <td>...</td>\n",
       "      <td>...</td>\n",
       "      <td>...</td>\n",
       "      <td>...</td>\n",
       "    </tr>\n",
       "    <tr>\n",
       "      <th>107369</th>\n",
       "      <td>286422</td>\n",
       "      <td>dc30c3ec-46d6-4cd8-8ec1-b544a3d0f503</td>\n",
       "      <td>10x 3' v2</td>\n",
       "      <td>EFO:0009899</td>\n",
       "      <td>neuron</td>\n",
       "      <td>CL:0000540</td>\n",
       "      <td>44-year-old human stage</td>\n",
       "      <td>HsapDv:0000138</td>\n",
       "      <td>multiple sclerosis</td>\n",
       "      <td>MONDO:0005301</td>\n",
       "      <td>...</td>\n",
       "      <td>brain</td>\n",
       "      <td>UBERON:0000955</td>\n",
       "      <td>tissue</td>\n",
       "      <td>brain</td>\n",
       "      <td>UBERON:0000955</td>\n",
       "      <td>2105.0</td>\n",
       "      <td>1357</td>\n",
       "      <td>1.551216</td>\n",
       "      <td>4.489447</td>\n",
       "      <td>20383</td>\n",
       "    </tr>\n",
       "    <tr>\n",
       "      <th>107370</th>\n",
       "      <td>286423</td>\n",
       "      <td>dc30c3ec-46d6-4cd8-8ec1-b544a3d0f503</td>\n",
       "      <td>10x 3' v2</td>\n",
       "      <td>EFO:0009899</td>\n",
       "      <td>neuron</td>\n",
       "      <td>CL:0000540</td>\n",
       "      <td>44-year-old human stage</td>\n",
       "      <td>HsapDv:0000138</td>\n",
       "      <td>multiple sclerosis</td>\n",
       "      <td>MONDO:0005301</td>\n",
       "      <td>...</td>\n",
       "      <td>brain</td>\n",
       "      <td>UBERON:0000955</td>\n",
       "      <td>tissue</td>\n",
       "      <td>brain</td>\n",
       "      <td>UBERON:0000955</td>\n",
       "      <td>1791.0</td>\n",
       "      <td>1168</td>\n",
       "      <td>1.533390</td>\n",
       "      <td>2.197684</td>\n",
       "      <td>20383</td>\n",
       "    </tr>\n",
       "    <tr>\n",
       "      <th>107371</th>\n",
       "      <td>286424</td>\n",
       "      <td>dc30c3ec-46d6-4cd8-8ec1-b544a3d0f503</td>\n",
       "      <td>10x 3' v2</td>\n",
       "      <td>EFO:0009899</td>\n",
       "      <td>neuron</td>\n",
       "      <td>CL:0000540</td>\n",
       "      <td>44-year-old human stage</td>\n",
       "      <td>HsapDv:0000138</td>\n",
       "      <td>multiple sclerosis</td>\n",
       "      <td>MONDO:0005301</td>\n",
       "      <td>...</td>\n",
       "      <td>brain</td>\n",
       "      <td>UBERON:0000955</td>\n",
       "      <td>tissue</td>\n",
       "      <td>brain</td>\n",
       "      <td>UBERON:0000955</td>\n",
       "      <td>4989.0</td>\n",
       "      <td>2761</td>\n",
       "      <td>1.806954</td>\n",
       "      <td>4.679024</td>\n",
       "      <td>20383</td>\n",
       "    </tr>\n",
       "    <tr>\n",
       "      <th>107372</th>\n",
       "      <td>286425</td>\n",
       "      <td>dc30c3ec-46d6-4cd8-8ec1-b544a3d0f503</td>\n",
       "      <td>10x 3' v2</td>\n",
       "      <td>EFO:0009899</td>\n",
       "      <td>neuron</td>\n",
       "      <td>CL:0000540</td>\n",
       "      <td>44-year-old human stage</td>\n",
       "      <td>HsapDv:0000138</td>\n",
       "      <td>multiple sclerosis</td>\n",
       "      <td>MONDO:0005301</td>\n",
       "      <td>...</td>\n",
       "      <td>brain</td>\n",
       "      <td>UBERON:0000955</td>\n",
       "      <td>tissue</td>\n",
       "      <td>brain</td>\n",
       "      <td>UBERON:0000955</td>\n",
       "      <td>5201.0</td>\n",
       "      <td>2811</td>\n",
       "      <td>1.850231</td>\n",
       "      <td>4.767241</td>\n",
       "      <td>20383</td>\n",
       "    </tr>\n",
       "    <tr>\n",
       "      <th>107373</th>\n",
       "      <td>286426</td>\n",
       "      <td>dc30c3ec-46d6-4cd8-8ec1-b544a3d0f503</td>\n",
       "      <td>10x 3' v2</td>\n",
       "      <td>EFO:0009899</td>\n",
       "      <td>neuron</td>\n",
       "      <td>CL:0000540</td>\n",
       "      <td>44-year-old human stage</td>\n",
       "      <td>HsapDv:0000138</td>\n",
       "      <td>multiple sclerosis</td>\n",
       "      <td>MONDO:0005301</td>\n",
       "      <td>...</td>\n",
       "      <td>brain</td>\n",
       "      <td>UBERON:0000955</td>\n",
       "      <td>tissue</td>\n",
       "      <td>brain</td>\n",
       "      <td>UBERON:0000955</td>\n",
       "      <td>5850.0</td>\n",
       "      <td>3008</td>\n",
       "      <td>1.944814</td>\n",
       "      <td>8.650096</td>\n",
       "      <td>20383</td>\n",
       "    </tr>\n",
       "  </tbody>\n",
       "</table>\n",
       "<p>107374 rows × 28 columns</p>\n",
       "</div>"
      ],
      "text/plain": [
       "        soma_joinid                            dataset_id       assay  \\\n",
       "0              4308  a5d95a42-0137-496f-8a60-101e17f263c8  Smart-seq2   \n",
       "1              4309  a5d95a42-0137-496f-8a60-101e17f263c8  Smart-seq2   \n",
       "2              4310  a5d95a42-0137-496f-8a60-101e17f263c8  Smart-seq2   \n",
       "3              4311  a5d95a42-0137-496f-8a60-101e17f263c8  Smart-seq2   \n",
       "4              4312  a5d95a42-0137-496f-8a60-101e17f263c8  Smart-seq2   \n",
       "...             ...                                   ...         ...   \n",
       "107369       286422  dc30c3ec-46d6-4cd8-8ec1-b544a3d0f503   10x 3' v2   \n",
       "107370       286423  dc30c3ec-46d6-4cd8-8ec1-b544a3d0f503   10x 3' v2   \n",
       "107371       286424  dc30c3ec-46d6-4cd8-8ec1-b544a3d0f503   10x 3' v2   \n",
       "107372       286425  dc30c3ec-46d6-4cd8-8ec1-b544a3d0f503   10x 3' v2   \n",
       "107373       286426  dc30c3ec-46d6-4cd8-8ec1-b544a3d0f503   10x 3' v2   \n",
       "\n",
       "       assay_ontology_term_id     cell_type cell_type_ontology_term_id  \\\n",
       "0                 EFO:0008931  naive B cell                 CL:0000788   \n",
       "1                 EFO:0008931  naive B cell                 CL:0000788   \n",
       "2                 EFO:0008931  naive B cell                 CL:0000788   \n",
       "3                 EFO:0008931  naive B cell                 CL:0000788   \n",
       "4                 EFO:0008931  naive B cell                 CL:0000788   \n",
       "...                       ...           ...                        ...   \n",
       "107369            EFO:0009899        neuron                 CL:0000540   \n",
       "107370            EFO:0009899        neuron                 CL:0000540   \n",
       "107371            EFO:0009899        neuron                 CL:0000540   \n",
       "107372            EFO:0009899        neuron                 CL:0000540   \n",
       "107373            EFO:0009899        neuron                 CL:0000540   \n",
       "\n",
       "              development_stage development_stage_ontology_term_id  \\\n",
       "0       26-year-old human stage                     HsapDv:0000120   \n",
       "1       26-year-old human stage                     HsapDv:0000120   \n",
       "2       26-year-old human stage                     HsapDv:0000120   \n",
       "3       26-year-old human stage                     HsapDv:0000120   \n",
       "4       26-year-old human stage                     HsapDv:0000120   \n",
       "...                         ...                                ...   \n",
       "107369  44-year-old human stage                     HsapDv:0000138   \n",
       "107370  44-year-old human stage                     HsapDv:0000138   \n",
       "107371  44-year-old human stage                     HsapDv:0000138   \n",
       "107372  44-year-old human stage                     HsapDv:0000138   \n",
       "107373  44-year-old human stage                     HsapDv:0000138   \n",
       "\n",
       "                   disease disease_ontology_term_id  ... tissue  \\\n",
       "0                   normal             PATO:0000461  ...  blood   \n",
       "1                   normal             PATO:0000461  ...  blood   \n",
       "2                   normal             PATO:0000461  ...  blood   \n",
       "3                   normal             PATO:0000461  ...  blood   \n",
       "4                   normal             PATO:0000461  ...  blood   \n",
       "...                    ...                      ...  ...    ...   \n",
       "107369  multiple sclerosis            MONDO:0005301  ...  brain   \n",
       "107370  multiple sclerosis            MONDO:0005301  ...  brain   \n",
       "107371  multiple sclerosis            MONDO:0005301  ...  brain   \n",
       "107372  multiple sclerosis            MONDO:0005301  ...  brain   \n",
       "107373  multiple sclerosis            MONDO:0005301  ...  brain   \n",
       "\n",
       "        tissue_ontology_term_id tissue_type tissue_general  \\\n",
       "0                UBERON:0000178      tissue          blood   \n",
       "1                UBERON:0000178      tissue          blood   \n",
       "2                UBERON:0000178      tissue          blood   \n",
       "3                UBERON:0000178      tissue          blood   \n",
       "4                UBERON:0000178      tissue          blood   \n",
       "...                         ...         ...            ...   \n",
       "107369           UBERON:0000955      tissue          brain   \n",
       "107370           UBERON:0000955      tissue          brain   \n",
       "107371           UBERON:0000955      tissue          brain   \n",
       "107372           UBERON:0000955      tissue          brain   \n",
       "107373           UBERON:0000955      tissue          brain   \n",
       "\n",
       "       tissue_general_ontology_term_id   raw_sum   nnz raw_mean_nnz  \\\n",
       "0                       UBERON:0000178   17691.0  1199    14.754796   \n",
       "1                       UBERON:0000178   13612.0   841    16.185493   \n",
       "2                       UBERON:0000178  126774.0  1683    75.326203   \n",
       "3                       UBERON:0000178   14370.0   371    38.733154   \n",
       "4                       UBERON:0000178   13738.0   507    27.096647   \n",
       "...                                ...       ...   ...          ...   \n",
       "107369                  UBERON:0000955    2105.0  1357     1.551216   \n",
       "107370                  UBERON:0000955    1791.0  1168     1.533390   \n",
       "107371                  UBERON:0000955    4989.0  2761     1.806954   \n",
       "107372                  UBERON:0000955    5201.0  2811     1.850231   \n",
       "107373                  UBERON:0000955    5850.0  3008     1.944814   \n",
       "\n",
       "       raw_variance_nnz n_measured_vars  \n",
       "0            624.620960           19149  \n",
       "1           1394.944123           19149  \n",
       "2          42215.146798           19149  \n",
       "3           4639.990763           19149  \n",
       "4           3874.079574           19149  \n",
       "...                 ...             ...  \n",
       "107369         4.489447           20383  \n",
       "107370         2.197684           20383  \n",
       "107371         4.679024           20383  \n",
       "107372         4.767241           20383  \n",
       "107373         8.650096           20383  \n",
       "\n",
       "[107374 rows x 28 columns]"
      ]
     },
     "execution_count": 24,
     "metadata": {},
     "output_type": "execute_result"
    }
   ],
   "source": [
    "# Build iterator with a query filter\n",
    "iterator = census[\"census_data\"][\"homo_sapiens\"].obs.read(value_filter = \"is_primary_data == True\")\n",
    "\n",
    "# Grab first chunk\n",
    "table_chunk=next(iterator)\n",
    "\n",
    "# Convert to pandas\n",
    "table_chunk.to_pandas()"
   ]
  },
  {
   "cell_type": "markdown",
   "metadata": {
    "id": "e6-UJc_RT7do"
   },
   "source": [
    "The `value_filter` works similalrly to a Pandas `query` interface. It can take a string of which is evaluated as a boolean condition and selects rows that meet the criteria.\n",
    "\n",
    "We can then use other operators to build complex queries, for example all epithelial cells from lung that are primary representations."
   ]
  },
  {
   "cell_type": "code",
   "execution_count": 25,
   "metadata": {
    "colab": {
     "base_uri": "https://localhost:8080/",
     "height": 423
    },
    "id": "DPnPc5wkT0kL",
    "outputId": "dc29d6c7-9213-4c01-f12b-0c3495ee8a38"
   },
   "outputs": [
    {
     "data": {
      "text/html": [
       "<div>\n",
       "<style scoped>\n",
       "    .dataframe tbody tr th:only-of-type {\n",
       "        vertical-align: middle;\n",
       "    }\n",
       "\n",
       "    .dataframe tbody tr th {\n",
       "        vertical-align: top;\n",
       "    }\n",
       "\n",
       "    .dataframe thead th {\n",
       "        text-align: right;\n",
       "    }\n",
       "</style>\n",
       "<table border=\"1\" class=\"dataframe\">\n",
       "  <thead>\n",
       "    <tr style=\"text-align: right;\">\n",
       "      <th></th>\n",
       "      <th>assay</th>\n",
       "      <th>is_primary_data</th>\n",
       "      <th>cell_type</th>\n",
       "      <th>tissue_general</th>\n",
       "    </tr>\n",
       "  </thead>\n",
       "  <tbody>\n",
       "    <tr>\n",
       "      <th>0</th>\n",
       "      <td>Smart-seq2</td>\n",
       "      <td>True</td>\n",
       "      <td>epithelial cell</td>\n",
       "      <td>lung</td>\n",
       "    </tr>\n",
       "    <tr>\n",
       "      <th>1</th>\n",
       "      <td>Smart-seq2</td>\n",
       "      <td>True</td>\n",
       "      <td>epithelial cell</td>\n",
       "      <td>lung</td>\n",
       "    </tr>\n",
       "    <tr>\n",
       "      <th>2</th>\n",
       "      <td>Smart-seq2</td>\n",
       "      <td>True</td>\n",
       "      <td>epithelial cell</td>\n",
       "      <td>lung</td>\n",
       "    </tr>\n",
       "    <tr>\n",
       "      <th>3</th>\n",
       "      <td>Smart-seq2</td>\n",
       "      <td>True</td>\n",
       "      <td>epithelial cell</td>\n",
       "      <td>lung</td>\n",
       "    </tr>\n",
       "    <tr>\n",
       "      <th>4</th>\n",
       "      <td>Smart-seq2</td>\n",
       "      <td>True</td>\n",
       "      <td>epithelial cell</td>\n",
       "      <td>lung</td>\n",
       "    </tr>\n",
       "    <tr>\n",
       "      <th>...</th>\n",
       "      <td>...</td>\n",
       "      <td>...</td>\n",
       "      <td>...</td>\n",
       "      <td>...</td>\n",
       "    </tr>\n",
       "    <tr>\n",
       "      <th>59361</th>\n",
       "      <td>10x 5' v2</td>\n",
       "      <td>True</td>\n",
       "      <td>epithelial cell</td>\n",
       "      <td>lung</td>\n",
       "    </tr>\n",
       "    <tr>\n",
       "      <th>59362</th>\n",
       "      <td>10x 5' v2</td>\n",
       "      <td>True</td>\n",
       "      <td>epithelial cell</td>\n",
       "      <td>lung</td>\n",
       "    </tr>\n",
       "    <tr>\n",
       "      <th>59363</th>\n",
       "      <td>10x 5' v2</td>\n",
       "      <td>True</td>\n",
       "      <td>epithelial cell</td>\n",
       "      <td>lung</td>\n",
       "    </tr>\n",
       "    <tr>\n",
       "      <th>59364</th>\n",
       "      <td>10x 5' v2</td>\n",
       "      <td>True</td>\n",
       "      <td>epithelial cell</td>\n",
       "      <td>lung</td>\n",
       "    </tr>\n",
       "    <tr>\n",
       "      <th>59365</th>\n",
       "      <td>10x 5' v2</td>\n",
       "      <td>True</td>\n",
       "      <td>epithelial cell</td>\n",
       "      <td>lung</td>\n",
       "    </tr>\n",
       "  </tbody>\n",
       "</table>\n",
       "<p>59366 rows × 4 columns</p>\n",
       "</div>"
      ],
      "text/plain": [
       "            assay  is_primary_data        cell_type tissue_general\n",
       "0      Smart-seq2             True  epithelial cell           lung\n",
       "1      Smart-seq2             True  epithelial cell           lung\n",
       "2      Smart-seq2             True  epithelial cell           lung\n",
       "3      Smart-seq2             True  epithelial cell           lung\n",
       "4      Smart-seq2             True  epithelial cell           lung\n",
       "...           ...              ...              ...            ...\n",
       "59361   10x 5' v2             True  epithelial cell           lung\n",
       "59362   10x 5' v2             True  epithelial cell           lung\n",
       "59363   10x 5' v2             True  epithelial cell           lung\n",
       "59364   10x 5' v2             True  epithelial cell           lung\n",
       "59365   10x 5' v2             True  epithelial cell           lung\n",
       "\n",
       "[59366 rows x 4 columns]"
      ]
     },
     "execution_count": 25,
     "metadata": {},
     "output_type": "execute_result"
    }
   ],
   "source": [
    "filter = \"is_primary_data == True and cell_type == 'epithelial cell' and tissue_general == 'lung'\"\n",
    "columns = [\"assay\"]\n",
    "\n",
    "# Build iterator\n",
    "iterator = census[\"census_data\"][\"homo_sapiens\"].obs.read(\n",
    "    value_filter = filter,\n",
    "    column_names = columns,\n",
    ")\n",
    "\n",
    "# Grab first chunk\n",
    "table_chunk=next(iterator)\n",
    "\n",
    "# Convert to pandas\n",
    "table_chunk.to_pandas()"
   ]
  },
  {
   "cell_type": "markdown",
   "metadata": {
    "id": "aBo0cnZ1Y2pg"
   },
   "source": [
    "#### Reading a Data Frame with coordinates\n",
    "\n",
    "Finally, you can also read a data frame via coordinates. This is useful when testing code with a small set of data."
   ]
  },
  {
   "cell_type": "code",
   "execution_count": 26,
   "metadata": {
    "colab": {
     "base_uri": "https://localhost:8080/",
     "height": 599
    },
    "id": "lSW63IWMZXyK",
    "outputId": "38cf90ae-d774-4cd8-fdf0-4fd24bdd48c3"
   },
   "outputs": [
    {
     "data": {
      "text/html": [
       "<div>\n",
       "<style scoped>\n",
       "    .dataframe tbody tr th:only-of-type {\n",
       "        vertical-align: middle;\n",
       "    }\n",
       "\n",
       "    .dataframe tbody tr th {\n",
       "        vertical-align: top;\n",
       "    }\n",
       "\n",
       "    .dataframe thead th {\n",
       "        text-align: right;\n",
       "    }\n",
       "</style>\n",
       "<table border=\"1\" class=\"dataframe\">\n",
       "  <thead>\n",
       "    <tr style=\"text-align: right;\">\n",
       "      <th></th>\n",
       "      <th>soma_joinid</th>\n",
       "      <th>dataset_id</th>\n",
       "      <th>assay</th>\n",
       "      <th>assay_ontology_term_id</th>\n",
       "      <th>cell_type</th>\n",
       "      <th>cell_type_ontology_term_id</th>\n",
       "      <th>development_stage</th>\n",
       "      <th>development_stage_ontology_term_id</th>\n",
       "      <th>disease</th>\n",
       "      <th>disease_ontology_term_id</th>\n",
       "      <th>...</th>\n",
       "      <th>tissue</th>\n",
       "      <th>tissue_ontology_term_id</th>\n",
       "      <th>tissue_type</th>\n",
       "      <th>tissue_general</th>\n",
       "      <th>tissue_general_ontology_term_id</th>\n",
       "      <th>raw_sum</th>\n",
       "      <th>nnz</th>\n",
       "      <th>raw_mean_nnz</th>\n",
       "      <th>raw_variance_nnz</th>\n",
       "      <th>n_measured_vars</th>\n",
       "    </tr>\n",
       "  </thead>\n",
       "  <tbody>\n",
       "    <tr>\n",
       "      <th>0</th>\n",
       "      <td>0</td>\n",
       "      <td>0895c838-e550-48a3-a777-dbcd35d30272</td>\n",
       "      <td>10x 3' v2</td>\n",
       "      <td>EFO:0009899</td>\n",
       "      <td>plasma cell</td>\n",
       "      <td>CL:0000786</td>\n",
       "      <td>human adult stage</td>\n",
       "      <td>HsapDv:0000087</td>\n",
       "      <td>normal</td>\n",
       "      <td>PATO:0000461</td>\n",
       "      <td>...</td>\n",
       "      <td>caudate lobe of liver</td>\n",
       "      <td>UBERON:0001117</td>\n",
       "      <td>tissue</td>\n",
       "      <td>liver</td>\n",
       "      <td>UBERON:0002107</td>\n",
       "      <td>1742.0</td>\n",
       "      <td>221</td>\n",
       "      <td>7.882353</td>\n",
       "      <td>6661.549733</td>\n",
       "      <td>13696</td>\n",
       "    </tr>\n",
       "    <tr>\n",
       "      <th>1</th>\n",
       "      <td>1</td>\n",
       "      <td>0895c838-e550-48a3-a777-dbcd35d30272</td>\n",
       "      <td>10x 3' v2</td>\n",
       "      <td>EFO:0009899</td>\n",
       "      <td>mature B cell</td>\n",
       "      <td>CL:0000785</td>\n",
       "      <td>human adult stage</td>\n",
       "      <td>HsapDv:0000087</td>\n",
       "      <td>normal</td>\n",
       "      <td>PATO:0000461</td>\n",
       "      <td>...</td>\n",
       "      <td>caudate lobe of liver</td>\n",
       "      <td>UBERON:0001117</td>\n",
       "      <td>tissue</td>\n",
       "      <td>liver</td>\n",
       "      <td>UBERON:0002107</td>\n",
       "      <td>278.0</td>\n",
       "      <td>143</td>\n",
       "      <td>1.944056</td>\n",
       "      <td>3.616567</td>\n",
       "      <td>13696</td>\n",
       "    </tr>\n",
       "    <tr>\n",
       "      <th>2</th>\n",
       "      <td>2</td>\n",
       "      <td>0895c838-e550-48a3-a777-dbcd35d30272</td>\n",
       "      <td>10x 3' v2</td>\n",
       "      <td>EFO:0009899</td>\n",
       "      <td>plasma cell</td>\n",
       "      <td>CL:0000786</td>\n",
       "      <td>human adult stage</td>\n",
       "      <td>HsapDv:0000087</td>\n",
       "      <td>normal</td>\n",
       "      <td>PATO:0000461</td>\n",
       "      <td>...</td>\n",
       "      <td>caudate lobe of liver</td>\n",
       "      <td>UBERON:0001117</td>\n",
       "      <td>tissue</td>\n",
       "      <td>liver</td>\n",
       "      <td>UBERON:0002107</td>\n",
       "      <td>3723.0</td>\n",
       "      <td>709</td>\n",
       "      <td>5.251058</td>\n",
       "      <td>2959.510327</td>\n",
       "      <td>13696</td>\n",
       "    </tr>\n",
       "    <tr>\n",
       "      <th>3</th>\n",
       "      <td>3</td>\n",
       "      <td>0895c838-e550-48a3-a777-dbcd35d30272</td>\n",
       "      <td>10x 3' v2</td>\n",
       "      <td>EFO:0009899</td>\n",
       "      <td>mature B cell</td>\n",
       "      <td>CL:0000785</td>\n",
       "      <td>human adult stage</td>\n",
       "      <td>HsapDv:0000087</td>\n",
       "      <td>normal</td>\n",
       "      <td>PATO:0000461</td>\n",
       "      <td>...</td>\n",
       "      <td>caudate lobe of liver</td>\n",
       "      <td>UBERON:0001117</td>\n",
       "      <td>tissue</td>\n",
       "      <td>liver</td>\n",
       "      <td>UBERON:0002107</td>\n",
       "      <td>351.0</td>\n",
       "      <td>179</td>\n",
       "      <td>1.960894</td>\n",
       "      <td>8.487226</td>\n",
       "      <td>13696</td>\n",
       "    </tr>\n",
       "    <tr>\n",
       "      <th>4</th>\n",
       "      <td>4</td>\n",
       "      <td>0895c838-e550-48a3-a777-dbcd35d30272</td>\n",
       "      <td>10x 3' v2</td>\n",
       "      <td>EFO:0009899</td>\n",
       "      <td>mature B cell</td>\n",
       "      <td>CL:0000785</td>\n",
       "      <td>human adult stage</td>\n",
       "      <td>HsapDv:0000087</td>\n",
       "      <td>normal</td>\n",
       "      <td>PATO:0000461</td>\n",
       "      <td>...</td>\n",
       "      <td>caudate lobe of liver</td>\n",
       "      <td>UBERON:0001117</td>\n",
       "      <td>tissue</td>\n",
       "      <td>liver</td>\n",
       "      <td>UBERON:0002107</td>\n",
       "      <td>605.0</td>\n",
       "      <td>275</td>\n",
       "      <td>2.200000</td>\n",
       "      <td>18.978102</td>\n",
       "      <td>13696</td>\n",
       "    </tr>\n",
       "    <tr>\n",
       "      <th>5</th>\n",
       "      <td>5</td>\n",
       "      <td>0895c838-e550-48a3-a777-dbcd35d30272</td>\n",
       "      <td>10x 3' v2</td>\n",
       "      <td>EFO:0009899</td>\n",
       "      <td>mature B cell</td>\n",
       "      <td>CL:0000785</td>\n",
       "      <td>human adult stage</td>\n",
       "      <td>HsapDv:0000087</td>\n",
       "      <td>normal</td>\n",
       "      <td>PATO:0000461</td>\n",
       "      <td>...</td>\n",
       "      <td>caudate lobe of liver</td>\n",
       "      <td>UBERON:0001117</td>\n",
       "      <td>tissue</td>\n",
       "      <td>liver</td>\n",
       "      <td>UBERON:0002107</td>\n",
       "      <td>338.0</td>\n",
       "      <td>164</td>\n",
       "      <td>2.060976</td>\n",
       "      <td>11.444112</td>\n",
       "      <td>13696</td>\n",
       "    </tr>\n",
       "  </tbody>\n",
       "</table>\n",
       "<p>6 rows × 28 columns</p>\n",
       "</div>"
      ],
      "text/plain": [
       "   soma_joinid                            dataset_id      assay  \\\n",
       "0            0  0895c838-e550-48a3-a777-dbcd35d30272  10x 3' v2   \n",
       "1            1  0895c838-e550-48a3-a777-dbcd35d30272  10x 3' v2   \n",
       "2            2  0895c838-e550-48a3-a777-dbcd35d30272  10x 3' v2   \n",
       "3            3  0895c838-e550-48a3-a777-dbcd35d30272  10x 3' v2   \n",
       "4            4  0895c838-e550-48a3-a777-dbcd35d30272  10x 3' v2   \n",
       "5            5  0895c838-e550-48a3-a777-dbcd35d30272  10x 3' v2   \n",
       "\n",
       "  assay_ontology_term_id      cell_type cell_type_ontology_term_id  \\\n",
       "0            EFO:0009899    plasma cell                 CL:0000786   \n",
       "1            EFO:0009899  mature B cell                 CL:0000785   \n",
       "2            EFO:0009899    plasma cell                 CL:0000786   \n",
       "3            EFO:0009899  mature B cell                 CL:0000785   \n",
       "4            EFO:0009899  mature B cell                 CL:0000785   \n",
       "5            EFO:0009899  mature B cell                 CL:0000785   \n",
       "\n",
       "   development_stage development_stage_ontology_term_id disease  \\\n",
       "0  human adult stage                     HsapDv:0000087  normal   \n",
       "1  human adult stage                     HsapDv:0000087  normal   \n",
       "2  human adult stage                     HsapDv:0000087  normal   \n",
       "3  human adult stage                     HsapDv:0000087  normal   \n",
       "4  human adult stage                     HsapDv:0000087  normal   \n",
       "5  human adult stage                     HsapDv:0000087  normal   \n",
       "\n",
       "  disease_ontology_term_id  ...                 tissue  \\\n",
       "0             PATO:0000461  ...  caudate lobe of liver   \n",
       "1             PATO:0000461  ...  caudate lobe of liver   \n",
       "2             PATO:0000461  ...  caudate lobe of liver   \n",
       "3             PATO:0000461  ...  caudate lobe of liver   \n",
       "4             PATO:0000461  ...  caudate lobe of liver   \n",
       "5             PATO:0000461  ...  caudate lobe of liver   \n",
       "\n",
       "   tissue_ontology_term_id tissue_type tissue_general  \\\n",
       "0           UBERON:0001117      tissue          liver   \n",
       "1           UBERON:0001117      tissue          liver   \n",
       "2           UBERON:0001117      tissue          liver   \n",
       "3           UBERON:0001117      tissue          liver   \n",
       "4           UBERON:0001117      tissue          liver   \n",
       "5           UBERON:0001117      tissue          liver   \n",
       "\n",
       "  tissue_general_ontology_term_id raw_sum  nnz raw_mean_nnz raw_variance_nnz  \\\n",
       "0                  UBERON:0002107  1742.0  221     7.882353      6661.549733   \n",
       "1                  UBERON:0002107   278.0  143     1.944056         3.616567   \n",
       "2                  UBERON:0002107  3723.0  709     5.251058      2959.510327   \n",
       "3                  UBERON:0002107   351.0  179     1.960894         8.487226   \n",
       "4                  UBERON:0002107   605.0  275     2.200000        18.978102   \n",
       "5                  UBERON:0002107   338.0  164     2.060976        11.444112   \n",
       "\n",
       "  n_measured_vars  \n",
       "0           13696  \n",
       "1           13696  \n",
       "2           13696  \n",
       "3           13696  \n",
       "4           13696  \n",
       "5           13696  \n",
       "\n",
       "[6 rows x 28 columns]"
      ]
     },
     "execution_count": 26,
     "metadata": {},
     "output_type": "execute_result"
    }
   ],
   "source": [
    " census[\"census_data\"][\"homo_sapiens\"].obs.read(coords=([0,1,2,3,4,5],)).concat().to_pandas()"
   ]
  },
  {
   "cell_type": "markdown",
   "metadata": {
    "id": "A3um9EnZa1_N"
   },
   "source": [
    "### Reading expression data\n",
    "\n",
    "The single-cell expression data is stored as a SOMA `SparseNDArray`. This is a sparse representation of the data that enables efficient storage and access for data with a high number of missing values.\n",
    "\n",
    "Currently Census has two expression layers:\n",
    "\n",
    "- Raw counts.\n",
    "- Normalized counts by library size.\n",
    "\n",
    "For human, these are located in the \\\"RNA\\\" measurement at:\n",
    "\n",
    "- `[\"census_data\"][\"homo_sapiens\"].ms[\"RNA\"].X[\"raw\"]`\n",
    "- `[\"census_data\"][\"homo_sapiens\"].ms[\"RNA\"].X[\"normalized\"]`\n",
    "\n",
    "Reading these data works similarly to reading data frames. The main difference is that there are different types of iterators available. In this workshop we'll focus on Arrow table iterators.\n"
   ]
  },
  {
   "cell_type": "code",
   "execution_count": 27,
   "metadata": {
    "colab": {
     "base_uri": "https://localhost:8080/",
     "height": 423
    },
    "id": "CgFG-RPwZfJ1",
    "outputId": "ad6e187f-bd68-42fe-c38e-2e3e1d7ab068"
   },
   "outputs": [
    {
     "data": {
      "text/html": [
       "<div>\n",
       "<style scoped>\n",
       "    .dataframe tbody tr th:only-of-type {\n",
       "        vertical-align: middle;\n",
       "    }\n",
       "\n",
       "    .dataframe tbody tr th {\n",
       "        vertical-align: top;\n",
       "    }\n",
       "\n",
       "    .dataframe thead th {\n",
       "        text-align: right;\n",
       "    }\n",
       "</style>\n",
       "<table border=\"1\" class=\"dataframe\">\n",
       "  <thead>\n",
       "    <tr style=\"text-align: right;\">\n",
       "      <th></th>\n",
       "      <th>soma_dim_0</th>\n",
       "      <th>soma_dim_1</th>\n",
       "      <th>soma_data</th>\n",
       "    </tr>\n",
       "  </thead>\n",
       "  <tbody>\n",
       "    <tr>\n",
       "      <th>0</th>\n",
       "      <td>0</td>\n",
       "      <td>176</td>\n",
       "      <td>1.0</td>\n",
       "    </tr>\n",
       "    <tr>\n",
       "      <th>1</th>\n",
       "      <td>0</td>\n",
       "      <td>229</td>\n",
       "      <td>1.0</td>\n",
       "    </tr>\n",
       "    <tr>\n",
       "      <th>2</th>\n",
       "      <td>0</td>\n",
       "      <td>249</td>\n",
       "      <td>1.0</td>\n",
       "    </tr>\n",
       "    <tr>\n",
       "      <th>3</th>\n",
       "      <td>0</td>\n",
       "      <td>409</td>\n",
       "      <td>1.0</td>\n",
       "    </tr>\n",
       "    <tr>\n",
       "      <th>4</th>\n",
       "      <td>0</td>\n",
       "      <td>451</td>\n",
       "      <td>1.0</td>\n",
       "    </tr>\n",
       "    <tr>\n",
       "      <th>...</th>\n",
       "      <td>...</td>\n",
       "      <td>...</td>\n",
       "      <td>...</td>\n",
       "    </tr>\n",
       "    <tr>\n",
       "      <th>134212</th>\n",
       "      <td>1146</td>\n",
       "      <td>91</td>\n",
       "      <td>1.0</td>\n",
       "    </tr>\n",
       "    <tr>\n",
       "      <th>134213</th>\n",
       "      <td>1146</td>\n",
       "      <td>99</td>\n",
       "      <td>1.0</td>\n",
       "    </tr>\n",
       "    <tr>\n",
       "      <th>134214</th>\n",
       "      <td>1146</td>\n",
       "      <td>104</td>\n",
       "      <td>1.0</td>\n",
       "    </tr>\n",
       "    <tr>\n",
       "      <th>134215</th>\n",
       "      <td>1146</td>\n",
       "      <td>106</td>\n",
       "      <td>1.0</td>\n",
       "    </tr>\n",
       "    <tr>\n",
       "      <th>134216</th>\n",
       "      <td>1146</td>\n",
       "      <td>108</td>\n",
       "      <td>1.0</td>\n",
       "    </tr>\n",
       "  </tbody>\n",
       "</table>\n",
       "<p>134217 rows × 3 columns</p>\n",
       "</div>"
      ],
      "text/plain": [
       "        soma_dim_0  soma_dim_1  soma_data\n",
       "0                0         176        1.0\n",
       "1                0         229        1.0\n",
       "2                0         249        1.0\n",
       "3                0         409        1.0\n",
       "4                0         451        1.0\n",
       "...            ...         ...        ...\n",
       "134212        1146          91        1.0\n",
       "134213        1146          99        1.0\n",
       "134214        1146         104        1.0\n",
       "134215        1146         106        1.0\n",
       "134216        1146         108        1.0\n",
       "\n",
       "[134217 rows x 3 columns]"
      ]
     },
     "execution_count": 27,
     "metadata": {},
     "output_type": "execute_result"
    }
   ],
   "source": [
    "# Creater a reader\n",
    "reader = census[\"census_data\"][\"homo_sapiens\"].ms[\"RNA\"].X[\"raw\"].read()\n",
    "\n",
    "# Build an iterator of Arrow tables\n",
    "iterator = reader.tables()\n",
    "\n",
    "# Grab first chunk\n",
    "table_chunk=next(iterator)\n",
    "\n",
    "# Convert to pandas\n",
    "table_chunk.to_pandas()"
   ]
  },
  {
   "cell_type": "markdown",
   "metadata": {
    "id": "kbZM_1ckc-SS"
   },
   "source": [
    "This produces an expression matrix in COO sparse format:\n",
    "\n",
    "- `soma_dim_0` - the ID for the cell.\n",
    "- `soma_dim_1` - the ID for the gene.  \n",
    "- `soma_data` - the expression value.\n",
    "\n",
    "You can then transform this table to other useful representations."
   ]
  },
  {
   "cell_type": "code",
   "execution_count": 28,
   "metadata": {
    "colab": {
     "base_uri": "https://localhost:8080/"
    },
    "id": "AXLBxsurcYYV",
    "outputId": "1a33acf4-ea37-4a2f-cf23-9448c8f2e595"
   },
   "outputs": [
    {
     "data": {
      "text/plain": [
       "<1147x2048 sparse matrix of type '<class 'numpy.float32'>'\n",
       "\twith 134217 stored elements in COOrdinate format>"
      ]
     },
     "execution_count": 28,
     "metadata": {},
     "output_type": "execute_result"
    }
   ],
   "source": [
    "# SciPy formats\n",
    "scipy_coo = scipy.sparse.coo_matrix((table_chunk[\"soma_data\"], (table_chunk[\"soma_dim_0\"], table_chunk[\"soma_dim_1\"])))\n",
    "scipy_coo"
   ]
  },
  {
   "cell_type": "code",
   "execution_count": 29,
   "metadata": {
    "colab": {
     "base_uri": "https://localhost:8080/"
    },
    "id": "sVzKYxEldu8R",
    "outputId": "d5076122-3084-4cf5-801e-ac05a4b97a81"
   },
   "outputs": [
    {
     "data": {
      "text/plain": [
       "array([[0., 0., 0., ..., 0., 0., 0.],\n",
       "       [0., 0., 0., ..., 0., 0., 0.],\n",
       "       [0., 0., 0., ..., 0., 0., 0.],\n",
       "       ...,\n",
       "       [0., 0., 0., ..., 0., 0., 0.],\n",
       "       [0., 0., 0., ..., 0., 0., 0.],\n",
       "       [0., 0., 0., ..., 0., 0., 0.]], dtype=float32)"
      ]
     },
     "execution_count": 29,
     "metadata": {},
     "output_type": "execute_result"
    }
   ],
   "source": [
    "# Numpy formats\n",
    "scipy_coo.toarray()"
   ]
  },
  {
   "cell_type": "markdown",
   "metadata": {
    "id": "uRfFYNXpefY_"
   },
   "source": [
    "**🚨 NOTE:** Reading the expression matrix in isolation is usually not very useful without cell and gene metadata. We'll cover that in the next section"
   ]
  },
  {
   "cell_type": "markdown",
   "metadata": {
    "id": "g50HINMxfJzi"
   },
   "source": [
    "### Atomic reading of expression data AND metadata\n",
    "\n",
    "SOMA provides a convenient interface to query single-cell data in a metadata-aware fashion using `ExperimentAxisQuery`.\n",
    "\n",
    "We covered in a previous section the concept of an SOMA `Experiment`, as a class that represents a single-cell experiment. It always contains two objects:\n",
    "   - `obs`: a `DataFrame` with primary annotations on the observation axis.\n",
    "   - `ms`: a `Collection` of measurements, each composed of `X` matrices and axis annotation matrices or data frames (e.g. `var`, `varm`, `obsm`, etc).\n",
    "\n",
    "**🚨 NOTE:** An `ExperimentAxisQuery` enables users to query and slice an `Experiment` single-cell data and metadata using coordinates or value filters on the axes, similar to how a SOMA `DataFrame` is queried."
   ]
  },
  {
   "cell_type": "markdown",
   "metadata": {
    "id": "xTq0XxuwLxVy"
   },
   "source": [
    "#### Creating an `ExperimentAxisQuery`\n",
    "\n",
    "To create an `ExperimentAxisQuery` you can call the method `.axis_query()` of a SOMA `Experiment`."
   ]
  },
  {
   "cell_type": "code",
   "execution_count": 30,
   "metadata": {
    "id": "kbca9zAVeaDB"
   },
   "outputs": [],
   "source": [
    "cell_filter = \"tissue_general == 'tongue'\"\n",
    "gene_filter = \"feature_name in ['PECAM1', 'DCN', 'KRT13']\"\n",
    "\n",
    "query = census[\"census_data\"][\"homo_sapiens\"].axis_query(\n",
    "    measurement_name = \"RNA\",\n",
    "    obs_query = tiledbsoma.AxisQuery(value_filter = cell_filter),\n",
    "    var_query = tiledbsoma.AxisQuery(value_filter = gene_filter),\n",
    ")"
   ]
  },
  {
   "cell_type": "code",
   "execution_count": 31,
   "metadata": {
    "colab": {
     "base_uri": "https://localhost:8080/"
    },
    "id": "g-O_T2-EhkzX",
    "outputId": "9ddc2582-2cff-4867-eb2d-a664066ffeed"
   },
   "outputs": [
    {
     "data": {
      "text/plain": [
       "<somacore.query.query.ExperimentAxisQuery at 0x72fbe02fd0d0>"
      ]
     },
     "execution_count": 31,
     "metadata": {},
     "output_type": "execute_result"
    }
   ],
   "source": [
    "query"
   ]
  },
  {
   "cell_type": "markdown",
   "metadata": {
    "id": "spSrAvCriZ3E"
   },
   "source": [
    "#### Inspecting the query results\n",
    "\n",
    "Once the `ExperimentAxisQuery` is created you have access to a variety of convenient methods to fetch data or useful information about your query."
   ]
  },
  {
   "cell_type": "code",
   "execution_count": 32,
   "metadata": {
    "colab": {
     "base_uri": "https://localhost:8080/"
    },
    "id": "t6GTjX0Qhn1v",
    "outputId": "36a7277d-672a-4587-e2b3-05333d3f27b5"
   },
   "outputs": [
    {
     "data": {
      "text/plain": [
       "(45060, 3)"
      ]
     },
     "execution_count": 32,
     "metadata": {},
     "output_type": "execute_result"
    }
   ],
   "source": [
    "# Number of (cells, genes) in query\n",
    "query.n_obs, query.n_vars"
   ]
  },
  {
   "cell_type": "code",
   "execution_count": 33,
   "metadata": {
    "colab": {
     "base_uri": "https://localhost:8080/",
     "height": 423
    },
    "id": "U57OfzXAis4j",
    "outputId": "1ad149be-e132-4125-c033-6cd5632fe642"
   },
   "outputs": [
    {
     "data": {
      "text/html": [
       "<div>\n",
       "<style scoped>\n",
       "    .dataframe tbody tr th:only-of-type {\n",
       "        vertical-align: middle;\n",
       "    }\n",
       "\n",
       "    .dataframe tbody tr th {\n",
       "        vertical-align: top;\n",
       "    }\n",
       "\n",
       "    .dataframe thead th {\n",
       "        text-align: right;\n",
       "    }\n",
       "</style>\n",
       "<table border=\"1\" class=\"dataframe\">\n",
       "  <thead>\n",
       "    <tr style=\"text-align: right;\">\n",
       "      <th></th>\n",
       "      <th>cell_type</th>\n",
       "      <th>tissue_general</th>\n",
       "    </tr>\n",
       "  </thead>\n",
       "  <tbody>\n",
       "    <tr>\n",
       "      <th>0</th>\n",
       "      <td>epithelial cell</td>\n",
       "      <td>tongue</td>\n",
       "    </tr>\n",
       "    <tr>\n",
       "      <th>1</th>\n",
       "      <td>epithelial cell</td>\n",
       "      <td>tongue</td>\n",
       "    </tr>\n",
       "    <tr>\n",
       "      <th>2</th>\n",
       "      <td>epithelial cell</td>\n",
       "      <td>tongue</td>\n",
       "    </tr>\n",
       "    <tr>\n",
       "      <th>3</th>\n",
       "      <td>epithelial cell</td>\n",
       "      <td>tongue</td>\n",
       "    </tr>\n",
       "    <tr>\n",
       "      <th>4</th>\n",
       "      <td>epithelial cell</td>\n",
       "      <td>tongue</td>\n",
       "    </tr>\n",
       "    <tr>\n",
       "      <th>...</th>\n",
       "      <td>...</td>\n",
       "      <td>...</td>\n",
       "    </tr>\n",
       "    <tr>\n",
       "      <th>45055</th>\n",
       "      <td>keratinocyte</td>\n",
       "      <td>tongue</td>\n",
       "    </tr>\n",
       "    <tr>\n",
       "      <th>45056</th>\n",
       "      <td>keratinocyte</td>\n",
       "      <td>tongue</td>\n",
       "    </tr>\n",
       "    <tr>\n",
       "      <th>45057</th>\n",
       "      <td>basal cell</td>\n",
       "      <td>tongue</td>\n",
       "    </tr>\n",
       "    <tr>\n",
       "      <th>45058</th>\n",
       "      <td>keratinocyte</td>\n",
       "      <td>tongue</td>\n",
       "    </tr>\n",
       "    <tr>\n",
       "      <th>45059</th>\n",
       "      <td>keratinocyte</td>\n",
       "      <td>tongue</td>\n",
       "    </tr>\n",
       "  </tbody>\n",
       "</table>\n",
       "<p>45060 rows × 2 columns</p>\n",
       "</div>"
      ],
      "text/plain": [
       "             cell_type tissue_general\n",
       "0      epithelial cell         tongue\n",
       "1      epithelial cell         tongue\n",
       "2      epithelial cell         tongue\n",
       "3      epithelial cell         tongue\n",
       "4      epithelial cell         tongue\n",
       "...                ...            ...\n",
       "45055     keratinocyte         tongue\n",
       "45056     keratinocyte         tongue\n",
       "45057       basal cell         tongue\n",
       "45058     keratinocyte         tongue\n",
       "45059     keratinocyte         tongue\n",
       "\n",
       "[45060 rows x 2 columns]"
      ]
     },
     "execution_count": 33,
     "metadata": {},
     "output_type": "execute_result"
    }
   ],
   "source": [
    "# Grabbing cell metadata\n",
    "iterator = query.obs(column_names = [\"cell_type\", \"tissue_general\"])\n",
    "iterator.concat().to_pandas()"
   ]
  },
  {
   "cell_type": "code",
   "execution_count": 34,
   "metadata": {
    "colab": {
     "base_uri": "https://localhost:8080/",
     "height": 143
    },
    "id": "c-CnS7uRi-5n",
    "outputId": "be5ea7c9-3672-4d1b-f97f-dfa22391c65a"
   },
   "outputs": [
    {
     "data": {
      "text/html": [
       "<div>\n",
       "<style scoped>\n",
       "    .dataframe tbody tr th:only-of-type {\n",
       "        vertical-align: middle;\n",
       "    }\n",
       "\n",
       "    .dataframe tbody tr th {\n",
       "        vertical-align: top;\n",
       "    }\n",
       "\n",
       "    .dataframe thead th {\n",
       "        text-align: right;\n",
       "    }\n",
       "</style>\n",
       "<table border=\"1\" class=\"dataframe\">\n",
       "  <thead>\n",
       "    <tr style=\"text-align: right;\">\n",
       "      <th></th>\n",
       "      <th>soma_joinid</th>\n",
       "      <th>feature_id</th>\n",
       "      <th>feature_name</th>\n",
       "      <th>feature_length</th>\n",
       "      <th>nnz</th>\n",
       "      <th>n_measured_obs</th>\n",
       "    </tr>\n",
       "  </thead>\n",
       "  <tbody>\n",
       "    <tr>\n",
       "      <th>0</th>\n",
       "      <td>299</td>\n",
       "      <td>ENSG00000011465</td>\n",
       "      <td>DCN</td>\n",
       "      <td>12941</td>\n",
       "      <td>7905731</td>\n",
       "      <td>75319655</td>\n",
       "    </tr>\n",
       "    <tr>\n",
       "      <th>1</th>\n",
       "      <td>12852</td>\n",
       "      <td>ENSG00000171401</td>\n",
       "      <td>KRT13</td>\n",
       "      <td>2913</td>\n",
       "      <td>712612</td>\n",
       "      <td>62927690</td>\n",
       "    </tr>\n",
       "    <tr>\n",
       "      <th>2</th>\n",
       "      <td>28763</td>\n",
       "      <td>ENSG00000261371</td>\n",
       "      <td>PECAM1</td>\n",
       "      <td>7741</td>\n",
       "      <td>7739030</td>\n",
       "      <td>64633082</td>\n",
       "    </tr>\n",
       "  </tbody>\n",
       "</table>\n",
       "</div>"
      ],
      "text/plain": [
       "   soma_joinid       feature_id feature_name  feature_length      nnz  \\\n",
       "0          299  ENSG00000011465          DCN           12941  7905731   \n",
       "1        12852  ENSG00000171401        KRT13            2913   712612   \n",
       "2        28763  ENSG00000261371       PECAM1            7741  7739030   \n",
       "\n",
       "   n_measured_obs  \n",
       "0        75319655  \n",
       "1        62927690  \n",
       "2        64633082  "
      ]
     },
     "execution_count": 34,
     "metadata": {},
     "output_type": "execute_result"
    }
   ],
   "source": [
    "# Grabbing gene metadata\n",
    "iterator = query.var()\n",
    "iterator.concat().to_pandas()"
   ]
  },
  {
   "cell_type": "markdown",
   "metadata": {
    "id": "EkuPFp8nKyEN"
   },
   "source": [
    "#### Exporting query results to `AnnData`\n",
    "\n",
    "`ExperimentAxisQuery` has the capability to export the query to an `AnnData` object to use for downstream analysis (e.g. with [Scanpy](https://scanpy.readthedocs.io/))."
   ]
  },
  {
   "cell_type": "code",
   "execution_count": 35,
   "metadata": {
    "colab": {
     "base_uri": "https://localhost:8080/"
    },
    "id": "keoLddtDjPgG",
    "outputId": "95843be1-5350-4cf4-9bc3-09bb7551d095"
   },
   "outputs": [
    {
     "data": {
      "text/plain": [
       "AnnData object with n_obs × n_vars = 45060 × 3\n",
       "    obs: 'soma_joinid', 'dataset_id', 'assay', 'assay_ontology_term_id', 'cell_type', 'cell_type_ontology_term_id', 'development_stage', 'development_stage_ontology_term_id', 'disease', 'disease_ontology_term_id', 'donor_id', 'is_primary_data', 'observation_joinid', 'self_reported_ethnicity', 'self_reported_ethnicity_ontology_term_id', 'sex', 'sex_ontology_term_id', 'suspension_type', 'tissue', 'tissue_ontology_term_id', 'tissue_type', 'tissue_general', 'tissue_general_ontology_term_id', 'raw_sum', 'nnz', 'raw_mean_nnz', 'raw_variance_nnz', 'n_measured_vars'\n",
       "    var: 'soma_joinid', 'feature_id', 'feature_name', 'feature_length', 'nnz', 'n_measured_obs'"
      ]
     },
     "execution_count": 35,
     "metadata": {},
     "output_type": "execute_result"
    }
   ],
   "source": [
    "# Convert to AnnData\n",
    "adata = query.to_anndata(X_name=\"normalized\")\n",
    "adata"
   ]
  },
  {
   "cell_type": "code",
   "execution_count": 36,
   "metadata": {
    "colab": {
     "base_uri": "https://localhost:8080/",
     "height": 549
    },
    "id": "asa2mjikAlnq",
    "outputId": "5c896be9-bd16-4748-ffaf-3afb4af61f88"
   },
   "outputs": [
    {
     "name": "stderr",
     "output_type": "stream",
     "text": [
      "/home/ubuntu/.pyenv/versions/scverse-ml-workshop-2024-3.9.19/lib/python3.9/site-packages/scanpy/preprocessing/_simple.py:373: UserWarning: Received a view of an AnnData. Making a copy.\n",
      "  view_to_actual(adata)\n",
      "/home/ubuntu/.pyenv/versions/scverse-ml-workshop-2024-3.9.19/lib/python3.9/site-packages/scanpy/plotting/_dotplot.py:749: UserWarning: No data for colormapping provided via 'c'. Parameters 'cmap', 'norm' will be ignored\n",
      "  dot_ax.scatter(x, y, **kwds)\n"
     ]
    },
    {
     "data": {
      "image/png": "[encoded data removed]",
      "text/plain": [
       "<Figure size 261x520 with 4 Axes>"
      ]
     },
     "metadata": {},
     "output_type": "display_data"
    }
   ],
   "source": [
    "# Example: make an expression dot plot\n",
    "adata.var_names = adata.var[\"feature_name\"]\n",
    "adata.X = adata.X * 10000\n",
    "adata = adata[(adata.X.sum(1) > 0), :]  # remove cells that don't express any of the selected genes\n",
    "sc.pp.log1p(adata)\n",
    "sc.pl.dotplot(adata, adata.var[\"feature_name\"], groupby='cell_type');"
   ]
  },
  {
   "cell_type": "markdown",
   "metadata": {
    "id": "tt6n4rLGfiNK"
   },
   "source": [
    "**🚨 NOTE:** The Census package provides a convinient way to get an AnnData object without creating an Experiment Query:\n",
    "\n",
    "```python\n",
    "adata = cellxgene_census.get_anndata(\n",
    "  census = census,\n",
    "  organism = organism,\n",
    "  var_value_filter = gene_filter,\n",
    "  obs_value_filter = cell_filter,\n",
    "  column_names = cell_columns,\n",
    ")\n",
    "```\n"
   ]
  },
  {
   "cell_type": "markdown",
   "metadata": {
    "id": "rs3tMO9iN7Fj"
   },
   "source": [
    "#### Getting the expression data and metadata\n",
    "\n",
    "An`ExperimentAxisQuery` has all the necessary functionality to obtain the expression matrix along with the corresponding cell and gene metadata.\n",
    "\n",
    "`to_anndata()` (shown in the previous section) uses many of these methods under the hood.\n",
    "\n",
    "Let's take a closer look. First, we can get the cell and gene metadata as follows:"
   ]
  },
  {
   "cell_type": "code",
   "execution_count": 37,
   "metadata": {
    "colab": {
     "base_uri": "https://localhost:8080/",
     "height": 423
    },
    "id": "iJQdtQ1yJBPe",
    "outputId": "3f2311e1-dc10-4e62-8f8b-1070261371ca"
   },
   "outputs": [
    {
     "data": {
      "text/html": [
       "<div>\n",
       "<style scoped>\n",
       "    .dataframe tbody tr th:only-of-type {\n",
       "        vertical-align: middle;\n",
       "    }\n",
       "\n",
       "    .dataframe tbody tr th {\n",
       "        vertical-align: top;\n",
       "    }\n",
       "\n",
       "    .dataframe thead th {\n",
       "        text-align: right;\n",
       "    }\n",
       "</style>\n",
       "<table border=\"1\" class=\"dataframe\">\n",
       "  <thead>\n",
       "    <tr style=\"text-align: right;\">\n",
       "      <th></th>\n",
       "      <th>soma_joinid</th>\n",
       "      <th>cell_type</th>\n",
       "      <th>tissue_general</th>\n",
       "    </tr>\n",
       "  </thead>\n",
       "  <tbody>\n",
       "    <tr>\n",
       "      <th>0</th>\n",
       "      <td>6763612</td>\n",
       "      <td>epithelial cell</td>\n",
       "      <td>tongue</td>\n",
       "    </tr>\n",
       "    <tr>\n",
       "      <th>1</th>\n",
       "      <td>6763613</td>\n",
       "      <td>epithelial cell</td>\n",
       "      <td>tongue</td>\n",
       "    </tr>\n",
       "    <tr>\n",
       "      <th>2</th>\n",
       "      <td>6763614</td>\n",
       "      <td>epithelial cell</td>\n",
       "      <td>tongue</td>\n",
       "    </tr>\n",
       "    <tr>\n",
       "      <th>3</th>\n",
       "      <td>6763615</td>\n",
       "      <td>epithelial cell</td>\n",
       "      <td>tongue</td>\n",
       "    </tr>\n",
       "    <tr>\n",
       "      <th>4</th>\n",
       "      <td>6763616</td>\n",
       "      <td>epithelial cell</td>\n",
       "      <td>tongue</td>\n",
       "    </tr>\n",
       "    <tr>\n",
       "      <th>...</th>\n",
       "      <td>...</td>\n",
       "      <td>...</td>\n",
       "      <td>...</td>\n",
       "    </tr>\n",
       "    <tr>\n",
       "      <th>45055</th>\n",
       "      <td>53548544</td>\n",
       "      <td>keratinocyte</td>\n",
       "      <td>tongue</td>\n",
       "    </tr>\n",
       "    <tr>\n",
       "      <th>45056</th>\n",
       "      <td>53548545</td>\n",
       "      <td>keratinocyte</td>\n",
       "      <td>tongue</td>\n",
       "    </tr>\n",
       "    <tr>\n",
       "      <th>45057</th>\n",
       "      <td>53548546</td>\n",
       "      <td>basal cell</td>\n",
       "      <td>tongue</td>\n",
       "    </tr>\n",
       "    <tr>\n",
       "      <th>45058</th>\n",
       "      <td>53548547</td>\n",
       "      <td>keratinocyte</td>\n",
       "      <td>tongue</td>\n",
       "    </tr>\n",
       "    <tr>\n",
       "      <th>45059</th>\n",
       "      <td>53548548</td>\n",
       "      <td>keratinocyte</td>\n",
       "      <td>tongue</td>\n",
       "    </tr>\n",
       "  </tbody>\n",
       "</table>\n",
       "<p>45060 rows × 3 columns</p>\n",
       "</div>"
      ],
      "text/plain": [
       "       soma_joinid        cell_type tissue_general\n",
       "0          6763612  epithelial cell         tongue\n",
       "1          6763613  epithelial cell         tongue\n",
       "2          6763614  epithelial cell         tongue\n",
       "3          6763615  epithelial cell         tongue\n",
       "4          6763616  epithelial cell         tongue\n",
       "...            ...              ...            ...\n",
       "45055     53548544     keratinocyte         tongue\n",
       "45056     53548545     keratinocyte         tongue\n",
       "45057     53548546       basal cell         tongue\n",
       "45058     53548547     keratinocyte         tongue\n",
       "45059     53548548     keratinocyte         tongue\n",
       "\n",
       "[45060 rows x 3 columns]"
      ]
     },
     "execution_count": 37,
     "metadata": {},
     "output_type": "execute_result"
    }
   ],
   "source": [
    "# Get cell metadata, only cell types and SOMA IDs\n",
    "obs = query.obs(column_names = [\"soma_joinid\", \"cell_type\"]).concat().to_pandas()\n",
    "obs"
   ]
  },
  {
   "cell_type": "code",
   "execution_count": 38,
   "metadata": {
    "colab": {
     "base_uri": "https://localhost:8080/"
    },
    "id": "P3pFkHhuN2LH",
    "outputId": "7aee061f-4198-4507-a9d0-fa5998d5588c"
   },
   "outputs": [
    {
     "data": {
      "text/html": [
       "<div>\n",
       "<style scoped>\n",
       "    .dataframe tbody tr th:only-of-type {\n",
       "        vertical-align: middle;\n",
       "    }\n",
       "\n",
       "    .dataframe tbody tr th {\n",
       "        vertical-align: top;\n",
       "    }\n",
       "\n",
       "    .dataframe thead th {\n",
       "        text-align: right;\n",
       "    }\n",
       "</style>\n",
       "<table border=\"1\" class=\"dataframe\">\n",
       "  <thead>\n",
       "    <tr style=\"text-align: right;\">\n",
       "      <th></th>\n",
       "      <th>soma_joinid</th>\n",
       "      <th>feature_id</th>\n",
       "      <th>feature_name</th>\n",
       "      <th>feature_length</th>\n",
       "      <th>nnz</th>\n",
       "      <th>n_measured_obs</th>\n",
       "    </tr>\n",
       "  </thead>\n",
       "  <tbody>\n",
       "    <tr>\n",
       "      <th>0</th>\n",
       "      <td>299</td>\n",
       "      <td>ENSG00000011465</td>\n",
       "      <td>DCN</td>\n",
       "      <td>12941</td>\n",
       "      <td>7905731</td>\n",
       "      <td>75319655</td>\n",
       "    </tr>\n",
       "    <tr>\n",
       "      <th>1</th>\n",
       "      <td>12852</td>\n",
       "      <td>ENSG00000171401</td>\n",
       "      <td>KRT13</td>\n",
       "      <td>2913</td>\n",
       "      <td>712612</td>\n",
       "      <td>62927690</td>\n",
       "    </tr>\n",
       "    <tr>\n",
       "      <th>2</th>\n",
       "      <td>28763</td>\n",
       "      <td>ENSG00000261371</td>\n",
       "      <td>PECAM1</td>\n",
       "      <td>7741</td>\n",
       "      <td>7739030</td>\n",
       "      <td>64633082</td>\n",
       "    </tr>\n",
       "  </tbody>\n",
       "</table>\n",
       "</div>"
      ],
      "text/plain": [
       "   soma_joinid       feature_id feature_name  feature_length      nnz  \\\n",
       "0          299  ENSG00000011465          DCN           12941  7905731   \n",
       "1        12852  ENSG00000171401        KRT13            2913   712612   \n",
       "2        28763  ENSG00000261371       PECAM1            7741  7739030   \n",
       "\n",
       "   n_measured_obs  \n",
       "0        75319655  \n",
       "1        62927690  \n",
       "2        64633082  "
      ]
     },
     "execution_count": 38,
     "metadata": {},
     "output_type": "execute_result"
    }
   ],
   "source": [
    "# Get gene metadata\n",
    "var = query.var().concat().to_pandas()\n",
    "var"
   ]
  },
  {
   "cell_type": "markdown",
   "metadata": {
    "id": "P0UpBBhIU_KN"
   },
   "source": [
    "Now let's take a look at expression matrix. There's a method `X()` that works similarly to reading a SOMA `SparseNDArray`, it retunrs a reader that can be then used to create matrix iterators.\n",
    "\n",
    "Importantly `X()` will only return the rows and columns corresponding to cells and genes in the query, respectively."
   ]
  },
  {
   "cell_type": "code",
   "execution_count": 39,
   "metadata": {
    "colab": {
     "base_uri": "https://localhost:8080/"
    },
    "id": "88VcwJYAT_fH",
    "outputId": "f83acc99-b3d6-43b5-ee67-8970ec74a74d"
   },
   "outputs": [
    {
     "data": {
      "text/plain": [
       "pyarrow.Table\n",
       "soma_dim_0: int64\n",
       "soma_dim_1: int64\n",
       "soma_data: float\n",
       "----\n",
       "soma_dim_0: [[6763612,6763613,6763614,6763615,6763616,...,53548430,53548466,53548497,53548507,53548548]]\n",
       "soma_dim_1: [[299,299,299,299,299,...,28763,28763,28763,28763,28763]]\n",
       "soma_data: [[8,6,1,6,3,...,16,1,2,1,1]]"
      ]
     },
     "execution_count": 39,
     "metadata": {},
     "output_type": "execute_result"
    }
   ],
   "source": [
    "# Get reader, results, and concatenate them.\n",
    "# We need to specify the layer.\n",
    "X = query.X(layer_name = \"raw\").tables().concat()\n",
    "X"
   ]
  },
  {
   "cell_type": "markdown",
   "metadata": {
    "id": "_FA7knuIhIeH"
   },
   "source": [
    "Same as before, we can transform this matrix to other formats:"
   ]
  },
  {
   "cell_type": "code",
   "execution_count": 40,
   "metadata": {
    "colab": {
     "base_uri": "https://localhost:8080/"
    },
    "id": "RGt18fFXhHFB",
    "outputId": "3aca46ef-e519-47c9-8d9a-3d085afa3cc1"
   },
   "outputs": [
    {
     "data": {
      "text/plain": [
       "<53548549x28764 sparse matrix of type '<class 'numpy.float32'>'\n",
       "\twith 63579 stored elements in COOrdinate format>"
      ]
     },
     "execution_count": 40,
     "metadata": {},
     "output_type": "execute_result"
    }
   ],
   "source": [
    "# SciPy formats\n",
    "scipy_coo = scipy.sparse.coo_matrix((X[\"soma_data\"], (X[\"soma_dim_0\"], X[\"soma_dim_1\"])))\n",
    "scipy_coo"
   ]
  },
  {
   "cell_type": "markdown",
   "metadata": {
    "id": "RmKQusbrhHzo"
   },
   "source": [
    "**🚨 NOTE:** The shape of this matrix is 52,668,282 rows by 27,554 columns.\n",
    "\n",
    "However we know that there are 45K cells and 3 genes in our query. The reason for this discrepancy is that we are using the SOMA IDs as the row and column indices.\n",
    "\n",
    "We can re-index these values to strip away all other cells and genes not included in our query result. Our team is about to release a method that makes this process a one-liner, for now we'll have to do the following:"
   ]
  },
  {
   "cell_type": "code",
   "execution_count": 41,
   "metadata": {
    "id": "Yxp8MhWTcYF4"
   },
   "outputs": [],
   "source": [
    "# Reset the cell indeces to go from 0 to N (number of cells in the query)\n",
    "obs_index = query.indexer.by_obs(X[\"soma_dim_0\"])\n",
    "\n",
    "# Reset the gene indeces to go from 0 to N (number of genes in the query)\n",
    "var_index = query.indexer.by_var(X[\"soma_dim_1\"])\n",
    "\n",
    "# Get cell and gene soma IDs of the query\n",
    "obs_ids = query.obs_joinids().to_numpy()[:numpy.max(obs_index) + 1]\n",
    "var_ids = query.var_joinids().to_numpy()[:numpy.max(var_index) + 1]\n",
    "\n",
    "# Make scipy.coo matrix\n",
    "x_coo = scipy.sparse.coo_matrix((X[\"soma_data\"].to_numpy(), (obs_index, var_index)))"
   ]
  },
  {
   "cell_type": "code",
   "execution_count": 42,
   "metadata": {
    "colab": {
     "base_uri": "https://localhost:8080/"
    },
    "id": "NwFh1GmBb5AU",
    "outputId": "f5800f79-a164-4fa5-9e82-9d7af05db1c0"
   },
   "outputs": [
    {
     "data": {
      "text/plain": [
       "<45060x3 sparse matrix of type '<class 'numpy.float32'>'\n",
       "\twith 63579 stored elements in COOrdinate format>"
      ]
     },
     "execution_count": 42,
     "metadata": {},
     "output_type": "execute_result"
    }
   ],
   "source": [
    "x_coo"
   ]
  },
  {
   "cell_type": "code",
   "execution_count": 43,
   "metadata": {
    "id": "v7UEH4y3dTDt"
   },
   "outputs": [],
   "source": [
    "# Get cell and gene soma IDs of the query\n",
    "obs_ids = query.obs_joinids().to_numpy()[:numpy.max(obs_index) + 1]\n",
    "var_ids = query.var_joinids().to_numpy()[:numpy.max(var_index) + 1]\n",
    "\n",
    "# Set obs/var index as the SOMA IDs\n",
    "obs = obs.set_index(\"soma_joinid\")\n",
    "var = var.set_index(\"soma_joinid\")"
   ]
  },
  {
   "cell_type": "code",
   "execution_count": 44,
   "metadata": {
    "colab": {
     "base_uri": "https://localhost:8080/",
     "height": 455
    },
    "id": "uieYFay4c4TV",
    "outputId": "e4eb9369-740c-439b-cf92-fafc5bc1175d"
   },
   "outputs": [
    {
     "data": {
      "text/html": [
       "<div>\n",
       "<style scoped>\n",
       "    .dataframe tbody tr th:only-of-type {\n",
       "        vertical-align: middle;\n",
       "    }\n",
       "\n",
       "    .dataframe tbody tr th {\n",
       "        vertical-align: top;\n",
       "    }\n",
       "\n",
       "    .dataframe thead th {\n",
       "        text-align: right;\n",
       "    }\n",
       "</style>\n",
       "<table border=\"1\" class=\"dataframe\">\n",
       "  <thead>\n",
       "    <tr style=\"text-align: right;\">\n",
       "      <th></th>\n",
       "      <th>cell_type</th>\n",
       "      <th>tissue_general</th>\n",
       "    </tr>\n",
       "    <tr>\n",
       "      <th>soma_joinid</th>\n",
       "      <th></th>\n",
       "      <th></th>\n",
       "    </tr>\n",
       "  </thead>\n",
       "  <tbody>\n",
       "    <tr>\n",
       "      <th>6763612</th>\n",
       "      <td>epithelial cell</td>\n",
       "      <td>tongue</td>\n",
       "    </tr>\n",
       "    <tr>\n",
       "      <th>6763613</th>\n",
       "      <td>epithelial cell</td>\n",
       "      <td>tongue</td>\n",
       "    </tr>\n",
       "    <tr>\n",
       "      <th>6763614</th>\n",
       "      <td>epithelial cell</td>\n",
       "      <td>tongue</td>\n",
       "    </tr>\n",
       "    <tr>\n",
       "      <th>6763615</th>\n",
       "      <td>epithelial cell</td>\n",
       "      <td>tongue</td>\n",
       "    </tr>\n",
       "    <tr>\n",
       "      <th>6763616</th>\n",
       "      <td>epithelial cell</td>\n",
       "      <td>tongue</td>\n",
       "    </tr>\n",
       "    <tr>\n",
       "      <th>...</th>\n",
       "      <td>...</td>\n",
       "      <td>...</td>\n",
       "    </tr>\n",
       "    <tr>\n",
       "      <th>53548544</th>\n",
       "      <td>keratinocyte</td>\n",
       "      <td>tongue</td>\n",
       "    </tr>\n",
       "    <tr>\n",
       "      <th>53548545</th>\n",
       "      <td>keratinocyte</td>\n",
       "      <td>tongue</td>\n",
       "    </tr>\n",
       "    <tr>\n",
       "      <th>53548546</th>\n",
       "      <td>basal cell</td>\n",
       "      <td>tongue</td>\n",
       "    </tr>\n",
       "    <tr>\n",
       "      <th>53548547</th>\n",
       "      <td>keratinocyte</td>\n",
       "      <td>tongue</td>\n",
       "    </tr>\n",
       "    <tr>\n",
       "      <th>53548548</th>\n",
       "      <td>keratinocyte</td>\n",
       "      <td>tongue</td>\n",
       "    </tr>\n",
       "  </tbody>\n",
       "</table>\n",
       "<p>45060 rows × 2 columns</p>\n",
       "</div>"
      ],
      "text/plain": [
       "                   cell_type tissue_general\n",
       "soma_joinid                                \n",
       "6763612      epithelial cell         tongue\n",
       "6763613      epithelial cell         tongue\n",
       "6763614      epithelial cell         tongue\n",
       "6763615      epithelial cell         tongue\n",
       "6763616      epithelial cell         tongue\n",
       "...                      ...            ...\n",
       "53548544        keratinocyte         tongue\n",
       "53548545        keratinocyte         tongue\n",
       "53548546          basal cell         tongue\n",
       "53548547        keratinocyte         tongue\n",
       "53548548        keratinocyte         tongue\n",
       "\n",
       "[45060 rows x 2 columns]"
      ]
     },
     "execution_count": 44,
     "metadata": {},
     "output_type": "execute_result"
    }
   ],
   "source": [
    "obs.loc[obs_ids,]"
   ]
  },
  {
   "cell_type": "code",
   "execution_count": 45,
   "metadata": {
    "colab": {
     "base_uri": "https://localhost:8080/",
     "height": 174
    },
    "id": "PKR2f8qIdfnj",
    "outputId": "9bb4fcd3-6758-4f13-ac74-314a560286b7"
   },
   "outputs": [
    {
     "data": {
      "text/html": [
       "<div>\n",
       "<style scoped>\n",
       "    .dataframe tbody tr th:only-of-type {\n",
       "        vertical-align: middle;\n",
       "    }\n",
       "\n",
       "    .dataframe tbody tr th {\n",
       "        vertical-align: top;\n",
       "    }\n",
       "\n",
       "    .dataframe thead th {\n",
       "        text-align: right;\n",
       "    }\n",
       "</style>\n",
       "<table border=\"1\" class=\"dataframe\">\n",
       "  <thead>\n",
       "    <tr style=\"text-align: right;\">\n",
       "      <th></th>\n",
       "      <th>feature_id</th>\n",
       "      <th>feature_name</th>\n",
       "      <th>feature_length</th>\n",
       "      <th>nnz</th>\n",
       "      <th>n_measured_obs</th>\n",
       "    </tr>\n",
       "    <tr>\n",
       "      <th>soma_joinid</th>\n",
       "      <th></th>\n",
       "      <th></th>\n",
       "      <th></th>\n",
       "      <th></th>\n",
       "      <th></th>\n",
       "    </tr>\n",
       "  </thead>\n",
       "  <tbody>\n",
       "    <tr>\n",
       "      <th>299</th>\n",
       "      <td>ENSG00000011465</td>\n",
       "      <td>DCN</td>\n",
       "      <td>12941</td>\n",
       "      <td>7905731</td>\n",
       "      <td>75319655</td>\n",
       "    </tr>\n",
       "    <tr>\n",
       "      <th>12852</th>\n",
       "      <td>ENSG00000171401</td>\n",
       "      <td>KRT13</td>\n",
       "      <td>2913</td>\n",
       "      <td>712612</td>\n",
       "      <td>62927690</td>\n",
       "    </tr>\n",
       "    <tr>\n",
       "      <th>28763</th>\n",
       "      <td>ENSG00000261371</td>\n",
       "      <td>PECAM1</td>\n",
       "      <td>7741</td>\n",
       "      <td>7739030</td>\n",
       "      <td>64633082</td>\n",
       "    </tr>\n",
       "  </tbody>\n",
       "</table>\n",
       "</div>"
      ],
      "text/plain": [
       "                  feature_id feature_name  feature_length      nnz  \\\n",
       "soma_joinid                                                          \n",
       "299          ENSG00000011465          DCN           12941  7905731   \n",
       "12852        ENSG00000171401        KRT13            2913   712612   \n",
       "28763        ENSG00000261371       PECAM1            7741  7739030   \n",
       "\n",
       "             n_measured_obs  \n",
       "soma_joinid                  \n",
       "299                75319655  \n",
       "12852              62927690  \n",
       "28763              64633082  "
      ]
     },
     "execution_count": 45,
     "metadata": {},
     "output_type": "execute_result"
    }
   ],
   "source": [
    "var.loc[var_ids,]"
   ]
  },
  {
   "cell_type": "markdown",
   "metadata": {
    "id": "rE2GGC0jeYpT"
   },
   "source": [
    "**🚨 NOTE:** Just like a file, a query should be closed."
   ]
  },
  {
   "cell_type": "code",
   "execution_count": 46,
   "metadata": {
    "id": "KNLsToVAeWsq"
   },
   "outputs": [],
   "source": [
    "query.close()"
   ]
  },
  {
   "cell_type": "markdown",
   "metadata": {
    "id": "FA-7L5zfeNC4"
   },
   "source": [
    "### Efficient compute capabilities of Census\n",
    "\n",
    "Census has some methods that makes use of SOMA streaming capabilities (iterators) to make it possible to apply  common calculations on million of cells, using a common laptop."
   ]
  },
  {
   "cell_type": "markdown",
   "metadata": {
    "id": "ValUjof9mBKf"
   },
   "source": [
    "\n",
    "#### Calculating average and variance across genes or cells\n",
    "\n",
    "The Census method `mean_variance` enables calculation of average values across rows (cells) or genes (columns) of the X matrix in the context of an `ExperimentAxisQuery` which we learned how to use in the last section.\n",
    "\n",
    "Let's see how this works. First we create an `ExperimentAxisQuery` [link text](https://)"
   ]
  },
  {
   "cell_type": "code",
   "execution_count": 47,
   "metadata": {
    "id": "cNTDeF0ac7af"
   },
   "outputs": [],
   "source": [
    "# Set filters\n",
    "cell_filter = (\n",
    "  \"is_primary_data == True \"\n",
    "  \"and tissue_general == 'lung' \"\n",
    "  \"and cell_type == 'epithelial cell' \"\n",
    "  \"and disease == 'small cell lung carcinoma'\"\n",
    " )\n",
    "\n",
    "gene_filter = \"feature_name in ['KRAS', 'AQP4']\"\n",
    "\n",
    "# Create query\n",
    "query = census[\"census_data\"][\"homo_sapiens\"].axis_query(\n",
    "  measurement_name=\"RNA\",\n",
    "  obs_query=tiledbsoma.AxisQuery(value_filter=cell_filter),\n",
    "  var_query=tiledbsoma.AxisQuery(value_filter=gene_filter)\n",
    ")"
   ]
  },
  {
   "cell_type": "code",
   "execution_count": 48,
   "metadata": {
    "colab": {
     "base_uri": "https://localhost:8080/"
    },
    "id": "aveXjqxYiPZx",
    "outputId": "fa16ea60-7900-48ea-d4a2-05b6e45798ea"
   },
   "outputs": [
    {
     "data": {
      "text/plain": [
       "(25988, 2)"
      ]
     },
     "execution_count": 48,
     "metadata": {},
     "output_type": "execute_result"
    }
   ],
   "source": [
    "query.n_obs, query.n_vars"
   ]
  },
  {
   "cell_type": "markdown",
   "metadata": {
    "id": "kAMK2ea_icNT"
   },
   "source": [
    "Now we can use the Census `mean_variance()`. In this example we calculate mean and variance across cells.\n"
   ]
  },
  {
   "cell_type": "code",
   "execution_count": 49,
   "metadata": {
    "colab": {
     "base_uri": "https://localhost:8080/",
     "height": 143
    },
    "id": "0aIhHUkxiVth",
    "outputId": "8085e2b0-08dc-4559-9fed-eab5c88e707f"
   },
   "outputs": [
    {
     "data": {
      "text/html": [
       "<div>\n",
       "<style scoped>\n",
       "    .dataframe tbody tr th:only-of-type {\n",
       "        vertical-align: middle;\n",
       "    }\n",
       "\n",
       "    .dataframe tbody tr th {\n",
       "        vertical-align: top;\n",
       "    }\n",
       "\n",
       "    .dataframe thead th {\n",
       "        text-align: right;\n",
       "    }\n",
       "</style>\n",
       "<table border=\"1\" class=\"dataframe\">\n",
       "  <thead>\n",
       "    <tr style=\"text-align: right;\">\n",
       "      <th></th>\n",
       "      <th>mean</th>\n",
       "      <th>variance</th>\n",
       "    </tr>\n",
       "    <tr>\n",
       "      <th>soma_joinid</th>\n",
       "      <th></th>\n",
       "      <th></th>\n",
       "    </tr>\n",
       "  </thead>\n",
       "  <tbody>\n",
       "    <tr>\n",
       "      <th>6706</th>\n",
       "      <td>18.114668</td>\n",
       "      <td>829.320056</td>\n",
       "    </tr>\n",
       "    <tr>\n",
       "      <th>12982</th>\n",
       "      <td>0.018932</td>\n",
       "      <td>0.099153</td>\n",
       "    </tr>\n",
       "  </tbody>\n",
       "</table>\n",
       "</div>"
      ],
      "text/plain": [
       "                  mean    variance\n",
       "soma_joinid                       \n",
       "6706         18.114668  829.320056\n",
       "12982         0.018932    0.099153"
      ]
     },
     "execution_count": 49,
     "metadata": {},
     "output_type": "execute_result"
    }
   ],
   "source": [
    "from cellxgene_census.experimental.pp import mean_variance\n",
    "\n",
    "mean_variance_df = mean_variance(\n",
    "    query,\n",
    "    axis=0,\n",
    "    calculate_mean=True,\n",
    "    calculate_variance=True,\n",
    "    #nnz_only = True,\n",
    ")\n",
    "mean_variance_df"
   ]
  },
  {
   "cell_type": "code",
   "execution_count": 50,
   "metadata": {
    "colab": {
     "base_uri": "https://localhost:8080/",
     "height": 112
    },
    "id": "vAhhx0K0ixa4",
    "outputId": "2890b349-d946-4ecd-f713-9c6f6cd444f6"
   },
   "outputs": [
    {
     "data": {
      "text/html": [
       "<div>\n",
       "<style scoped>\n",
       "    .dataframe tbody tr th:only-of-type {\n",
       "        vertical-align: middle;\n",
       "    }\n",
       "\n",
       "    .dataframe tbody tr th {\n",
       "        vertical-align: top;\n",
       "    }\n",
       "\n",
       "    .dataframe thead th {\n",
       "        text-align: right;\n",
       "    }\n",
       "</style>\n",
       "<table border=\"1\" class=\"dataframe\">\n",
       "  <thead>\n",
       "    <tr style=\"text-align: right;\">\n",
       "      <th></th>\n",
       "      <th>soma_joinid</th>\n",
       "      <th>feature_id</th>\n",
       "      <th>feature_name</th>\n",
       "      <th>feature_length</th>\n",
       "      <th>nnz</th>\n",
       "      <th>n_measured_obs</th>\n",
       "    </tr>\n",
       "  </thead>\n",
       "  <tbody>\n",
       "    <tr>\n",
       "      <th>0</th>\n",
       "      <td>6706</td>\n",
       "      <td>ENSG00000133703</td>\n",
       "      <td>KRAS</td>\n",
       "      <td>9230</td>\n",
       "      <td>21891125</td>\n",
       "      <td>76922693</td>\n",
       "    </tr>\n",
       "    <tr>\n",
       "      <th>1</th>\n",
       "      <td>12982</td>\n",
       "      <td>ENSG00000171885</td>\n",
       "      <td>AQP4</td>\n",
       "      <td>5943</td>\n",
       "      <td>3274017</td>\n",
       "      <td>70337111</td>\n",
       "    </tr>\n",
       "  </tbody>\n",
       "</table>\n",
       "</div>"
      ],
      "text/plain": [
       "   soma_joinid       feature_id feature_name  feature_length       nnz  \\\n",
       "0         6706  ENSG00000133703         KRAS            9230  21891125   \n",
       "1        12982  ENSG00000171885         AQP4            5943   3274017   \n",
       "\n",
       "   n_measured_obs  \n",
       "0        76922693  \n",
       "1        70337111  "
      ]
     },
     "execution_count": 50,
     "metadata": {},
     "output_type": "execute_result"
    }
   ],
   "source": [
    "query.var().concat().to_pandas()"
   ]
  },
  {
   "cell_type": "markdown",
   "metadata": {
    "id": "BirKqYyVl3Na"
   },
   "source": [
    "There are a few knobs we can tune in this method:\n",
    "\n",
    "- `layer` the layer from X to use, defaults to `\"raw\"`.\n",
    "- `axis` perform calculations across rows (`0`) or columns (`1`).\n",
    "- `calculate_mean` whether to calculate mean.\n",
    "- `calculate_variance` whether to calculate variance.\n",
    "- `nnz_only` whether to do calculations only on non-zero values.\n"
   ]
  },
  {
   "cell_type": "markdown",
   "metadata": {
    "id": "atRqFunSnQMf"
   },
   "source": [
    "**🚨 NOTE:** Just like a file, a query should be closed."
   ]
  },
  {
   "cell_type": "code",
   "execution_count": 51,
   "metadata": {
    "id": "iOieSYiNnQMg"
   },
   "outputs": [],
   "source": [
    "query.close()"
   ]
  },
  {
   "cell_type": "markdown",
   "metadata": {
    "id": "fupyzSA5lsW8"
   },
   "source": [
    "#### Getting highly variable genes\n",
    "\n",
    "Similarly to calculating gene expression mean and variance, we can efficiently find the highest variable genes (memory-efficiently, across millions of cells) using `highly_variable_genes()`.\n",
    "\n",
    "And this method also works with an `ExperimentAxisQuery`."
   ]
  },
  {
   "cell_type": "code",
   "execution_count": 52,
   "metadata": {
    "id": "LRLCEIdFleOE"
   },
   "outputs": [],
   "source": [
    "cell_filter = (\n",
    "  \"is_primary_data == True \"\n",
    "  \"and tissue_general == 'lung' \"\n",
    "  \"and cell_type == 'T cell' \"\n",
    "  \"and disease == 'small cell lung carcinoma'\"\n",
    " )\n",
    "\n",
    "# Create query\n",
    "query = census[\"census_data\"][\"homo_sapiens\"].axis_query(\n",
    "  measurement_name=\"RNA\",\n",
    "  obs_query=tiledbsoma.AxisQuery(value_filter=cell_filter),\n",
    ")"
   ]
  },
  {
   "cell_type": "code",
   "execution_count": 53,
   "metadata": {
    "colab": {
     "base_uri": "https://localhost:8080/"
    },
    "id": "xEQAPZkOnDT9",
    "outputId": "3a0741fd-d94d-4d96-f97f-abe42224e362"
   },
   "outputs": [
    {
     "data": {
      "text/plain": [
       "3898"
      ]
     },
     "execution_count": 53,
     "metadata": {},
     "output_type": "execute_result"
    }
   ],
   "source": [
    "query.n_obs"
   ]
  },
  {
   "cell_type": "code",
   "execution_count": 54,
   "metadata": {
    "colab": {
     "base_uri": "https://localhost:8080/",
     "height": 455
    },
    "id": "MwWytuvvnTpf",
    "outputId": "ad4789e1-9637-4fbb-b98d-b0b7f8896a19",
    "scrolled": true
   },
   "outputs": [
    {
     "data": {
      "text/html": [
       "<div>\n",
       "<style scoped>\n",
       "    .dataframe tbody tr th:only-of-type {\n",
       "        vertical-align: middle;\n",
       "    }\n",
       "\n",
       "    .dataframe tbody tr th {\n",
       "        vertical-align: top;\n",
       "    }\n",
       "\n",
       "    .dataframe thead th {\n",
       "        text-align: right;\n",
       "    }\n",
       "</style>\n",
       "<table border=\"1\" class=\"dataframe\">\n",
       "  <thead>\n",
       "    <tr style=\"text-align: right;\">\n",
       "      <th></th>\n",
       "      <th>means</th>\n",
       "      <th>variances</th>\n",
       "      <th>highly_variable_rank</th>\n",
       "      <th>variances_norm</th>\n",
       "      <th>highly_variable</th>\n",
       "    </tr>\n",
       "    <tr>\n",
       "      <th>soma_joinid</th>\n",
       "      <th></th>\n",
       "      <th></th>\n",
       "      <th></th>\n",
       "      <th></th>\n",
       "      <th></th>\n",
       "    </tr>\n",
       "  </thead>\n",
       "  <tbody>\n",
       "    <tr>\n",
       "      <th>179</th>\n",
       "      <td>0.015136</td>\n",
       "      <td>0.057508</td>\n",
       "      <td>162.0</td>\n",
       "      <td>2.909841</td>\n",
       "      <td>True</td>\n",
       "    </tr>\n",
       "    <tr>\n",
       "      <th>295</th>\n",
       "      <td>0.084146</td>\n",
       "      <td>0.350629</td>\n",
       "      <td>152.0</td>\n",
       "      <td>2.969717</td>\n",
       "      <td>True</td>\n",
       "    </tr>\n",
       "    <tr>\n",
       "      <th>391</th>\n",
       "      <td>5.670600</td>\n",
       "      <td>180.631524</td>\n",
       "      <td>192.0</td>\n",
       "      <td>2.758504</td>\n",
       "      <td>True</td>\n",
       "    </tr>\n",
       "    <tr>\n",
       "      <th>483</th>\n",
       "      <td>0.184197</td>\n",
       "      <td>0.956055</td>\n",
       "      <td>114.0</td>\n",
       "      <td>3.242163</td>\n",
       "      <td>True</td>\n",
       "    </tr>\n",
       "    <tr>\n",
       "      <th>525</th>\n",
       "      <td>0.071832</td>\n",
       "      <td>0.379237</td>\n",
       "      <td>82.0</td>\n",
       "      <td>3.834492</td>\n",
       "      <td>True</td>\n",
       "    </tr>\n",
       "    <tr>\n",
       "      <th>...</th>\n",
       "      <td>...</td>\n",
       "      <td>...</td>\n",
       "      <td>...</td>\n",
       "      <td>...</td>\n",
       "      <td>...</td>\n",
       "    </tr>\n",
       "    <tr>\n",
       "      <th>32040</th>\n",
       "      <td>1.384043</td>\n",
       "      <td>53.327710</td>\n",
       "      <td>8.0</td>\n",
       "      <td>8.311249</td>\n",
       "      <td>True</td>\n",
       "    </tr>\n",
       "    <tr>\n",
       "      <th>32045</th>\n",
       "      <td>0.133145</td>\n",
       "      <td>1.294303</td>\n",
       "      <td>67.0</td>\n",
       "      <td>4.149883</td>\n",
       "      <td>True</td>\n",
       "    </tr>\n",
       "    <tr>\n",
       "      <th>32258</th>\n",
       "      <td>0.041816</td>\n",
       "      <td>0.152472</td>\n",
       "      <td>198.0</td>\n",
       "      <td>2.699364</td>\n",
       "      <td>True</td>\n",
       "    </tr>\n",
       "    <tr>\n",
       "      <th>32293</th>\n",
       "      <td>0.842996</td>\n",
       "      <td>36.706675</td>\n",
       "      <td>3.0</td>\n",
       "      <td>9.840940</td>\n",
       "      <td>True</td>\n",
       "    </tr>\n",
       "    <tr>\n",
       "      <th>32713</th>\n",
       "      <td>0.319651</td>\n",
       "      <td>1.664284</td>\n",
       "      <td>191.0</td>\n",
       "      <td>2.761724</td>\n",
       "      <td>True</td>\n",
       "    </tr>\n",
       "  </tbody>\n",
       "</table>\n",
       "<p>200 rows × 5 columns</p>\n",
       "</div>"
      ],
      "text/plain": [
       "                means   variances  highly_variable_rank  variances_norm  \\\n",
       "soma_joinid                                                               \n",
       "179          0.015136    0.057508                 162.0        2.909841   \n",
       "295          0.084146    0.350629                 152.0        2.969717   \n",
       "391          5.670600  180.631524                 192.0        2.758504   \n",
       "483          0.184197    0.956055                 114.0        3.242163   \n",
       "525          0.071832    0.379237                  82.0        3.834492   \n",
       "...               ...         ...                   ...             ...   \n",
       "32040        1.384043   53.327710                   8.0        8.311249   \n",
       "32045        0.133145    1.294303                  67.0        4.149883   \n",
       "32258        0.041816    0.152472                 198.0        2.699364   \n",
       "32293        0.842996   36.706675                   3.0        9.840940   \n",
       "32713        0.319651    1.664284                 191.0        2.761724   \n",
       "\n",
       "             highly_variable  \n",
       "soma_joinid                   \n",
       "179                     True  \n",
       "295                     True  \n",
       "391                     True  \n",
       "483                     True  \n",
       "525                     True  \n",
       "...                      ...  \n",
       "32040                   True  \n",
       "32045                   True  \n",
       "32258                   True  \n",
       "32293                   True  \n",
       "32713                   True  \n",
       "\n",
       "[200 rows x 5 columns]"
      ]
     },
     "execution_count": 54,
     "metadata": {},
     "output_type": "execute_result"
    }
   ],
   "source": [
    "from cellxgene_census.experimental.pp import highly_variable_genes\n",
    "\n",
    "hvg_df = highly_variable_genes(\n",
    "    query,\n",
    "    n_top_genes = 200,\n",
    "    #batch_key = [\"dataset_id\"]\n",
    ")\n",
    "hvg_df.query(\"highly_variable == True\")"
   ]
  },
  {
   "cell_type": "code",
   "execution_count": 55,
   "metadata": {
    "colab": {
     "base_uri": "https://localhost:8080/",
     "height": 423
    },
    "id": "HBgtxAmUo9zO",
    "outputId": "e90113a5-b190-4a5c-bb0a-1583dd97125e"
   },
   "outputs": [
    {
     "data": {
      "text/html": [
       "<div>\n",
       "<style scoped>\n",
       "    .dataframe tbody tr th:only-of-type {\n",
       "        vertical-align: middle;\n",
       "    }\n",
       "\n",
       "    .dataframe tbody tr th {\n",
       "        vertical-align: top;\n",
       "    }\n",
       "\n",
       "    .dataframe thead th {\n",
       "        text-align: right;\n",
       "    }\n",
       "</style>\n",
       "<table border=\"1\" class=\"dataframe\">\n",
       "  <thead>\n",
       "    <tr style=\"text-align: right;\">\n",
       "      <th></th>\n",
       "      <th>soma_joinid</th>\n",
       "      <th>feature_id</th>\n",
       "      <th>feature_name</th>\n",
       "      <th>feature_length</th>\n",
       "      <th>nnz</th>\n",
       "      <th>n_measured_obs</th>\n",
       "    </tr>\n",
       "  </thead>\n",
       "  <tbody>\n",
       "    <tr>\n",
       "      <th>0</th>\n",
       "      <td>0</td>\n",
       "      <td>ENSG00000000003</td>\n",
       "      <td>TSPAN6</td>\n",
       "      <td>4530</td>\n",
       "      <td>4811135</td>\n",
       "      <td>77128603</td>\n",
       "    </tr>\n",
       "    <tr>\n",
       "      <th>1</th>\n",
       "      <td>1</td>\n",
       "      <td>ENSG00000000005</td>\n",
       "      <td>TNMD</td>\n",
       "      <td>1476</td>\n",
       "      <td>269136</td>\n",
       "      <td>64017621</td>\n",
       "    </tr>\n",
       "    <tr>\n",
       "      <th>2</th>\n",
       "      <td>2</td>\n",
       "      <td>ENSG00000000419</td>\n",
       "      <td>DPM1</td>\n",
       "      <td>9276</td>\n",
       "      <td>18420588</td>\n",
       "      <td>77502438</td>\n",
       "    </tr>\n",
       "    <tr>\n",
       "      <th>3</th>\n",
       "      <td>3</td>\n",
       "      <td>ENSG00000000457</td>\n",
       "      <td>SCYL3</td>\n",
       "      <td>6883</td>\n",
       "      <td>9268173</td>\n",
       "      <td>76952827</td>\n",
       "    </tr>\n",
       "    <tr>\n",
       "      <th>4</th>\n",
       "      <td>4</td>\n",
       "      <td>ENSG00000000460</td>\n",
       "      <td>C1orf112</td>\n",
       "      <td>5970</td>\n",
       "      <td>6484239</td>\n",
       "      <td>76979490</td>\n",
       "    </tr>\n",
       "    <tr>\n",
       "      <th>...</th>\n",
       "      <td>...</td>\n",
       "      <td>...</td>\n",
       "      <td>...</td>\n",
       "      <td>...</td>\n",
       "      <td>...</td>\n",
       "      <td>...</td>\n",
       "    </tr>\n",
       "    <tr>\n",
       "      <th>60532</th>\n",
       "      <td>60532</td>\n",
       "      <td>ENSG00000288718</td>\n",
       "      <td>ENSG00000288718.1</td>\n",
       "      <td>1070</td>\n",
       "      <td>4</td>\n",
       "      <td>1248980</td>\n",
       "    </tr>\n",
       "    <tr>\n",
       "      <th>60533</th>\n",
       "      <td>60533</td>\n",
       "      <td>ENSG00000288719</td>\n",
       "      <td>ENSG00000288719.1</td>\n",
       "      <td>4252</td>\n",
       "      <td>2826</td>\n",
       "      <td>1248980</td>\n",
       "    </tr>\n",
       "    <tr>\n",
       "      <th>60534</th>\n",
       "      <td>60534</td>\n",
       "      <td>ENSG00000288724</td>\n",
       "      <td>ENSG00000288724.1</td>\n",
       "      <td>625</td>\n",
       "      <td>36</td>\n",
       "      <td>1248980</td>\n",
       "    </tr>\n",
       "    <tr>\n",
       "      <th>60535</th>\n",
       "      <td>60535</td>\n",
       "      <td>ENSG00000290735</td>\n",
       "      <td>ENSG00000290735.1</td>\n",
       "      <td>4103</td>\n",
       "      <td>128</td>\n",
       "      <td>49359</td>\n",
       "    </tr>\n",
       "    <tr>\n",
       "      <th>60536</th>\n",
       "      <td>60536</td>\n",
       "      <td>ENSG00000289810</td>\n",
       "      <td>ENSG00000289810.1</td>\n",
       "      <td>1205</td>\n",
       "      <td>82</td>\n",
       "      <td>48478</td>\n",
       "    </tr>\n",
       "  </tbody>\n",
       "</table>\n",
       "<p>60537 rows × 6 columns</p>\n",
       "</div>"
      ],
      "text/plain": [
       "       soma_joinid       feature_id       feature_name  feature_length  \\\n",
       "0                0  ENSG00000000003             TSPAN6            4530   \n",
       "1                1  ENSG00000000005               TNMD            1476   \n",
       "2                2  ENSG00000000419               DPM1            9276   \n",
       "3                3  ENSG00000000457              SCYL3            6883   \n",
       "4                4  ENSG00000000460           C1orf112            5970   \n",
       "...            ...              ...                ...             ...   \n",
       "60532        60532  ENSG00000288718  ENSG00000288718.1            1070   \n",
       "60533        60533  ENSG00000288719  ENSG00000288719.1            4252   \n",
       "60534        60534  ENSG00000288724  ENSG00000288724.1             625   \n",
       "60535        60535  ENSG00000290735  ENSG00000290735.1            4103   \n",
       "60536        60536  ENSG00000289810  ENSG00000289810.1            1205   \n",
       "\n",
       "            nnz  n_measured_obs  \n",
       "0       4811135        77128603  \n",
       "1        269136        64017621  \n",
       "2      18420588        77502438  \n",
       "3       9268173        76952827  \n",
       "4       6484239        76979490  \n",
       "...         ...             ...  \n",
       "60532         4         1248980  \n",
       "60533      2826         1248980  \n",
       "60534        36         1248980  \n",
       "60535       128           49359  \n",
       "60536        82           48478  \n",
       "\n",
       "[60537 rows x 6 columns]"
      ]
     },
     "execution_count": 55,
     "metadata": {},
     "output_type": "execute_result"
    }
   ],
   "source": [
    "query.var().concat().to_pandas()"
   ]
  },
  {
   "cell_type": "markdown",
   "metadata": {
    "id": "PAbezknrpSec"
   },
   "source": [
    "**🚨 NOTE:** Just like a file, a query should be closed."
   ]
  },
  {
   "cell_type": "code",
   "execution_count": 56,
   "metadata": {
    "id": "U9DUezXLpSed"
   },
   "outputs": [],
   "source": [
    "query.close()"
   ]
  },
  {
   "cell_type": "markdown",
   "metadata": {
    "id": "kYaZq7xzpW0p"
   },
   "source": [
    "### Scalable modelling with PyTorch and Census\n",
    "\n",
    "Census provides an `ExperimentDataPipe`. It is an implementation of [PyTorch's DataPipe interface](https://pytorch.org/data/main/torchdata.datapipes.iter.html), which defines a common mechanism for wrapping and accessing training data from any underlying source."
   ]
  },
  {
   "cell_type": "markdown",
   "metadata": {
    "id": "jFNrMOzQscI_"
   },
   "source": [
    "\n",
    "#### Creating an `ExperimentDataPipe`\n",
    "\n",
    "The `ExperimentDataPipe` class encapsulates the details of querying and retrieving Census data from a SOMA `Experiment` and returning it to the caller as PyTorch Tensors.\n",
    "\n",
    "Let's create an `ExperimentDataPipe`:"
   ]
  },
  {
   "cell_type": "code",
   "execution_count": 57,
   "metadata": {
    "id": "OzQFgYD8otgM"
   },
   "outputs": [
    {
     "name": "stderr",
     "output_type": "stream",
     "text": [
      "/home/ubuntu/.pyenv/versions/scverse-ml-workshop-2024-3.9.19/lib/python3.9/site-packages/torchdata/datapipes/__init__.py:18: UserWarning: \n",
      "################################################################################\n",
      "WARNING!\n",
      "The 'datapipes', 'dataloader2' modules are deprecated and will be removed in a\n",
      "future torchdata release! Please see https://github.com/pytorch/data/issues/1196\n",
      "to learn more and leave feedback.\n",
      "################################################################################\n",
      "\n",
      "  deprecation_warning()\n"
     ]
    }
   ],
   "source": [
    "import cellxgene_census.experimental.ml as census_ml\n",
    "\n",
    "experiment = census[\"census_data\"][\"homo_sapiens\"]\n",
    "\n",
    "experiment_datapipe = census_ml.ExperimentDataPipe(\n",
    "    experiment,\n",
    "    measurement_name=\"RNA\",\n",
    "    X_name=\"raw\",\n",
    "    obs_query=tiledbsoma.AxisQuery(value_filter=\"tissue_general == 'tongue' and is_primary_data == True\"),\n",
    "    obs_column_names=[\"cell_type\"],\n",
    "    batch_size=128,\n",
    "    # shuffle=True,\n",
    "    # soma_chunk_size=64,\n",
    "    # shuffle_chunk_count=2000,\n",
    ")"
   ]
  },
  {
   "cell_type": "markdown",
   "metadata": {
    "id": "H6yMt-6xqhzP"
   },
   "source": [
    "As you can see this looks very similar to creating an `ExperimentAxisQuery`. There are a few new parameters:\n",
    "\n",
    "- `batch_size` to specify the number of obs rows (cells) in each returned PyTorch tensor.\n",
    "- `shuffle`, `soma_chunk_size`, `shuffle_chunk_count`:\n",
    "  - Randomize the order of the returned rows by fetching `shuffle_chunk_count` chunks of size `soma_chunk_size`, shuffling the result, and iterating through it with stride `batch_size`.\n",
    "  - This improves model-training performance, see [First stable iteration of Census (SOMA) PyTorch loaders](https://chanzuckerberg.github.io/cellxgene-census/articles/2024/20240709-pytorch.html#calibrated-shuffling-of-observations-cells) for more info."
   ]
  },
  {
   "cell_type": "code",
   "execution_count": 58,
   "metadata": {
    "colab": {
     "base_uri": "https://localhost:8080/"
    },
    "id": "1DvD_bPir_Lb",
    "outputId": "aeb22c18-6eda-42bc-d1fa-3183b4c553c7"
   },
   "outputs": [
    {
     "data": {
      "text/plain": [
       "ExperimentDataPipe"
      ]
     },
     "execution_count": 58,
     "metadata": {},
     "output_type": "execute_result"
    }
   ],
   "source": [
    "experiment_datapipe"
   ]
  },
  {
   "cell_type": "code",
   "execution_count": 59,
   "metadata": {
    "colab": {
     "base_uri": "https://localhost:8080/"
    },
    "id": "U92EfjRxsDfX",
    "outputId": "924c16db-3fa2-4b00-cfa5-18a6579ff192"
   },
   "outputs": [
    {
     "data": {
      "text/plain": [
       "(15020, 60537)"
      ]
     },
     "execution_count": 59,
     "metadata": {},
     "output_type": "execute_result"
    }
   ],
   "source": [
    "experiment_datapipe.shape"
   ]
  },
  {
   "cell_type": "markdown",
   "metadata": {
    "id": "vuFLgipcr-Yu"
   },
   "source": [
    "\n",
    "**🚨 NOTE:** Once you create an `ExperimentDataPipe` you can apply any PyTorch operations and modelling\n",
    "\n",
    "#### Split the dataset\n",
    "\n",
    "You may split the overall dataset into the typical training, validation, and test sets by using the PyTorch [RandomSplitter](https://pytorch.org/data/main/generated/torchdata.datapipes.iter.RandomSplitter.html#torchdata.datapipes.iter.RandomSplitter) `DataPipe`. Using PyTorch's functional form for chaining `DataPipe`s, this is done as follows:"
   ]
  },
  {
   "cell_type": "code",
   "execution_count": 60,
   "metadata": {
    "id": "kYhAxNidrne-"
   },
   "outputs": [],
   "source": [
    "train_datapipe, test_datapipe = experiment_datapipe.random_split(weights={\"train\": 0.8, \"test\": 0.2}, seed=1)"
   ]
  },
  {
   "cell_type": "markdown",
   "metadata": {
    "id": "ra0t22Xmsuy-"
   },
   "source": [
    "#### Create the DataLoader\n",
    "With the full set of DataPipe operations chained together, we can now instantiate a PyTorch [DataLoader](https://pytorch.org/docs/stable/data.html#torch.utils.data.DataLoader) on the training data."
   ]
  },
  {
   "cell_type": "code",
   "execution_count": 61,
   "metadata": {
    "id": "Ogh5YuZ5sfAT"
   },
   "outputs": [],
   "source": [
    "experiment_dataloader = census_ml.experiment_dataloader(train_datapipe)"
   ]
  },
  {
   "cell_type": "markdown",
   "metadata": {
    "id": "mxsSBGrNshyb"
   },
   "source": [
    "#### Define the model (Logistic Regression)\n",
    "With the training data retrieval code now in place, we can move on to defining a simple logistic regression model, using PyTorch's `torch.nn.Linear` class:"
   ]
  },
  {
   "cell_type": "code",
   "execution_count": 62,
   "metadata": {
    "id": "_Xt1lG-HtBEw"
   },
   "outputs": [],
   "source": [
    "import torch\n",
    "\n",
    "class LogisticRegression(torch.nn.Module):\n",
    "    def __init__(self, input_dim, output_dim):\n",
    "        super(LogisticRegression, self).__init__()\n",
    "        self.linear = torch.nn.Linear(input_dim, output_dim)\n",
    "\n",
    "    def forward(self, x):\n",
    "        outputs = torch.sigmoid(self.linear(x))\n",
    "        return outputs"
   ]
  },
  {
   "cell_type": "markdown",
   "metadata": {
    "id": "qoT7kQjUtK0Y"
   },
   "source": [
    "Next, we define a function to train the model for a single epoch:"
   ]
  },
  {
   "cell_type": "code",
   "execution_count": 63,
   "metadata": {
    "id": "mYyKC737tIQo"
   },
   "outputs": [],
   "source": [
    "def train_epoch(model, train_dataloader, loss_fn, optimizer, device):\n",
    "    model.train()\n",
    "    train_loss = 0\n",
    "    train_correct = 0\n",
    "    train_total = 0\n",
    "\n",
    "    for batch in train_dataloader:\n",
    "        optimizer.zero_grad()\n",
    "        X_batch, y_batch = batch\n",
    "\n",
    "        X_batch = X_batch.float().to(device)\n",
    "\n",
    "        # Perform prediction\n",
    "        outputs = model(X_batch)\n",
    "\n",
    "        # Determine the predicted label\n",
    "        probabilities = torch.nn.functional.softmax(outputs, 1)\n",
    "        predictions = torch.argmax(probabilities, axis=1)\n",
    "\n",
    "        # Compute the loss and perform back propagation\n",
    "\n",
    "        y_batch = y_batch.flatten()\n",
    "        y_batch = y_batch.to(device)\n",
    "\n",
    "        train_correct += (predictions == y_batch).sum().item()\n",
    "        train_total += len(predictions)\n",
    "\n",
    "        loss = loss_fn(outputs, y_batch.long())\n",
    "        train_loss += loss.item()\n",
    "        loss.backward()\n",
    "        optimizer.step()\n",
    "\n",
    "    train_loss /= train_total\n",
    "    train_accuracy = train_correct / train_total\n",
    "    return train_loss, train_accuracy"
   ]
  },
  {
   "cell_type": "markdown",
   "metadata": {
    "id": "Vdmq5pvWtaAX"
   },
   "source": [
    "#### Train the model\n",
    "\n",
    "Finally, we are ready to train the model. Here we instantiate the model, a loss function, and an optimization method and then iterate through the desired number of training epochs. Note how the `train_dataloader` is passed into `train_epoch`, where for each epoch it will provide a new iterator through the training dataset.\n",
    "\n"
   ]
  },
  {
   "cell_type": "code",
   "execution_count": 64,
   "metadata": {
    "id": "peP_5BiotkBS"
   },
   "outputs": [
    {
     "name": "stdout",
     "output_type": "stream",
     "text": [
      "Epoch 1: Train Loss: 0.0160760 Accuracy 0.1902\n",
      "Epoch 2: Train Loss: 0.0148238 Accuracy 0.3603\n",
      "Epoch 3: Train Loss: 0.0142791 Accuracy 0.5729\n",
      "Epoch 4: Train Loss: 0.0139893 Accuracy 0.6436\n",
      "Epoch 5: Train Loss: 0.0138150 Accuracy 0.6891\n"
     ]
    }
   ],
   "source": [
    "device = torch.device(\"cuda\") if torch.cuda.is_available() else torch.device(\"cpu\")\n",
    "\n",
    "# The size of the input dimension is the number of genes\n",
    "input_dim = experiment_datapipe.shape[1]\n",
    "\n",
    "# The size of the output dimension is the number of distinct cell_type values\n",
    "cell_type_encoder = experiment_datapipe.obs_encoders[\"cell_type\"]\n",
    "output_dim = len(cell_type_encoder.classes_)\n",
    "\n",
    "model = LogisticRegression(input_dim, output_dim).to(device)\n",
    "loss_fn = torch.nn.CrossEntropyLoss()\n",
    "optimizer = torch.optim.Adam(model.parameters(), lr=1e-05)\n",
    "\n",
    "n_epochs = 5\n",
    "for epoch in range(n_epochs):\n",
    "    train_loss, train_accuracy = train_epoch(model, experiment_dataloader, loss_fn, optimizer, device)\n",
    "    print(f\"Epoch {epoch + 1}: Train Loss: {train_loss:.7f} Accuracy {train_accuracy:.4f}\")"
   ]
  },
  {
   "cell_type": "markdown",
   "metadata": {
    "id": "-FG0BOxqt4a8"
   },
   "source": [
    "#### Make predictions with the model\n",
    "\n",
    "To make predictions with the model, we first create a new `DataLoader` using the `test_datapipe`, which provides the “test” split of the original dataset. For this example, we will only make predictions on a single batch of data from the test split.\n",
    "\n"
   ]
  },
  {
   "cell_type": "code",
   "execution_count": 65,
   "metadata": {
    "id": "8g19z1KfuDzB"
   },
   "outputs": [],
   "source": [
    "experiment_dataloader = census_ml.experiment_dataloader(test_datapipe)\n",
    "X_batch, y_batch = next(iter(experiment_dataloader))"
   ]
  },
  {
   "cell_type": "markdown",
   "metadata": {
    "id": "vjAlx4jAuGty"
   },
   "source": [
    "Next, we invoke the model on the X_batch input data and extract the predictions:"
   ]
  },
  {
   "cell_type": "code",
   "execution_count": 66,
   "metadata": {
    "colab": {
     "base_uri": "https://localhost:8080/",
     "height": 121
    },
    "id": "Di9cdXQduK7_",
    "outputId": "5cd153b1-43a6-4fb1-f5ae-46bab668c44a"
   },
   "outputs": [
    {
     "data": {
      "text/plain": [
       "tensor([ 1,  1,  1,  1,  7,  1,  1,  1,  7,  7,  7,  7,  1,  5,  7,  6,  1,  7,\n",
       "         1,  7,  1,  1,  1,  1,  1,  7,  1,  1,  7,  2,  1,  1,  1,  1,  1,  1,\n",
       "         1,  8,  7,  8,  1,  8,  7,  1,  8,  7,  1,  1,  1,  7,  8,  1,  7,  1,\n",
       "        11,  8,  1,  1,  7,  1,  1,  1,  1,  7,  1,  7,  1,  1,  1,  1,  1,  8,\n",
       "         7, 11,  8,  1,  7,  8,  1,  1,  1,  1,  1,  1,  8,  1,  8,  1,  1,  1,\n",
       "         1,  7,  1,  1,  1,  7,  1,  1,  6,  1,  7, 11,  1,  1,  1,  1,  5,  1,\n",
       "         8,  1,  5,  7,  1,  1,  1,  1,  7,  1,  1,  1,  1,  8,  7,  1,  1,  7,\n",
       "         1,  1])"
      ]
     },
     "metadata": {},
     "output_type": "display_data"
    }
   ],
   "source": [
    "model.eval()\n",
    "\n",
    "model.to(device)\n",
    "outputs = model(X_batch.to(device))\n",
    "\n",
    "probabilities = torch.nn.functional.softmax(outputs, 1)\n",
    "predictions = torch.argmax(probabilities, axis=1)\n",
    "\n",
    "display(predictions)"
   ]
  },
  {
   "cell_type": "markdown",
   "metadata": {
    "id": "DXTD8WoDuN_9"
   },
   "source": [
    "The predictions are returned as the encoded values of `cell_type` label. To recover the original cell type labels as strings, we decode using the encoders from `experiment_datapipe.obs_encoders`"
   ]
  },
  {
   "cell_type": "code",
   "execution_count": 67,
   "metadata": {
    "colab": {
     "base_uri": "https://localhost:8080/",
     "height": 423
    },
    "id": "dHxjUT-huXls",
    "outputId": "80ecacfa-1863-4df5-a632-d2a5802701e1"
   },
   "outputs": [
    {
     "data": {
      "text/plain": [
       "array(['basal cell', 'basal cell', 'basal cell', 'basal cell',\n",
       "       'keratinocyte', 'basal cell', 'basal cell', 'basal cell',\n",
       "       'keratinocyte', 'keratinocyte', 'keratinocyte', 'keratinocyte',\n",
       "       'basal cell', 'epithelial cell', 'keratinocyte', 'fibroblast',\n",
       "       'basal cell', 'keratinocyte', 'basal cell', 'keratinocyte',\n",
       "       'basal cell', 'basal cell', 'basal cell', 'basal cell',\n",
       "       'basal cell', 'keratinocyte', 'basal cell', 'basal cell',\n",
       "       'keratinocyte', 'capillary endothelial cell', 'basal cell',\n",
       "       'basal cell', 'basal cell', 'basal cell', 'basal cell',\n",
       "       'basal cell', 'basal cell', 'leukocyte', 'keratinocyte',\n",
       "       'leukocyte', 'basal cell', 'leukocyte', 'keratinocyte',\n",
       "       'basal cell', 'leukocyte', 'keratinocyte', 'basal cell',\n",
       "       'basal cell', 'basal cell', 'keratinocyte', 'leukocyte',\n",
       "       'basal cell', 'keratinocyte', 'basal cell',\n",
       "       'vein endothelial cell', 'leukocyte', 'basal cell', 'basal cell',\n",
       "       'keratinocyte', 'basal cell', 'basal cell', 'basal cell',\n",
       "       'basal cell', 'keratinocyte', 'basal cell', 'keratinocyte',\n",
       "       'basal cell', 'basal cell', 'basal cell', 'basal cell',\n",
       "       'basal cell', 'leukocyte', 'keratinocyte', 'vein endothelial cell',\n",
       "       'leukocyte', 'basal cell', 'keratinocyte', 'leukocyte',\n",
       "       'basal cell', 'basal cell', 'basal cell', 'basal cell',\n",
       "       'basal cell', 'basal cell', 'leukocyte', 'basal cell', 'leukocyte',\n",
       "       'basal cell', 'basal cell', 'basal cell', 'basal cell',\n",
       "       'keratinocyte', 'basal cell', 'basal cell', 'basal cell',\n",
       "       'keratinocyte', 'basal cell', 'basal cell', 'fibroblast',\n",
       "       'basal cell', 'keratinocyte', 'vein endothelial cell',\n",
       "       'basal cell', 'basal cell', 'basal cell', 'basal cell',\n",
       "       'epithelial cell', 'basal cell', 'leukocyte', 'basal cell',\n",
       "       'epithelial cell', 'keratinocyte', 'basal cell', 'basal cell',\n",
       "       'basal cell', 'basal cell', 'keratinocyte', 'basal cell',\n",
       "       'basal cell', 'basal cell', 'basal cell', 'leukocyte',\n",
       "       'keratinocyte', 'basal cell', 'basal cell', 'keratinocyte',\n",
       "       'basal cell', 'basal cell'], dtype=object)"
      ]
     },
     "metadata": {},
     "output_type": "display_data"
    }
   ],
   "source": [
    "cell_type_encoder = experiment_datapipe.obs_encoders[\"cell_type\"]\n",
    "\n",
    "predicted_cell_types = cell_type_encoder.inverse_transform(predictions.cpu())\n",
    "\n",
    "display(predicted_cell_types)"
   ]
  },
  {
   "cell_type": "code",
   "execution_count": 68,
   "metadata": {},
   "outputs": [
    {
     "data": {
      "text/html": [
       "<div>\n",
       "<style scoped>\n",
       "    .dataframe tbody tr th:only-of-type {\n",
       "        vertical-align: middle;\n",
       "    }\n",
       "\n",
       "    .dataframe tbody tr th {\n",
       "        vertical-align: top;\n",
       "    }\n",
       "\n",
       "    .dataframe thead th {\n",
       "        text-align: right;\n",
       "    }\n",
       "</style>\n",
       "<table border=\"1\" class=\"dataframe\">\n",
       "  <thead>\n",
       "    <tr style=\"text-align: right;\">\n",
       "      <th></th>\n",
       "      <th>actual cell type</th>\n",
       "      <th>predicted cell type</th>\n",
       "    </tr>\n",
       "  </thead>\n",
       "  <tbody>\n",
       "    <tr>\n",
       "      <th>0</th>\n",
       "      <td>epithelial cell</td>\n",
       "      <td>basal cell</td>\n",
       "    </tr>\n",
       "    <tr>\n",
       "      <th>1</th>\n",
       "      <td>epithelial cell</td>\n",
       "      <td>basal cell</td>\n",
       "    </tr>\n",
       "    <tr>\n",
       "      <th>2</th>\n",
       "      <td>basal cell</td>\n",
       "      <td>basal cell</td>\n",
       "    </tr>\n",
       "    <tr>\n",
       "      <th>3</th>\n",
       "      <td>epithelial cell</td>\n",
       "      <td>basal cell</td>\n",
       "    </tr>\n",
       "    <tr>\n",
       "      <th>4</th>\n",
       "      <td>keratinocyte</td>\n",
       "      <td>keratinocyte</td>\n",
       "    </tr>\n",
       "    <tr>\n",
       "      <th>...</th>\n",
       "      <td>...</td>\n",
       "      <td>...</td>\n",
       "    </tr>\n",
       "    <tr>\n",
       "      <th>123</th>\n",
       "      <td>basal cell</td>\n",
       "      <td>basal cell</td>\n",
       "    </tr>\n",
       "    <tr>\n",
       "      <th>124</th>\n",
       "      <td>basal cell</td>\n",
       "      <td>basal cell</td>\n",
       "    </tr>\n",
       "    <tr>\n",
       "      <th>125</th>\n",
       "      <td>keratinocyte</td>\n",
       "      <td>keratinocyte</td>\n",
       "    </tr>\n",
       "    <tr>\n",
       "      <th>126</th>\n",
       "      <td>epithelial cell</td>\n",
       "      <td>basal cell</td>\n",
       "    </tr>\n",
       "    <tr>\n",
       "      <th>127</th>\n",
       "      <td>basal cell</td>\n",
       "      <td>basal cell</td>\n",
       "    </tr>\n",
       "  </tbody>\n",
       "</table>\n",
       "<p>128 rows × 2 columns</p>\n",
       "</div>"
      ],
      "text/plain": [
       "    actual cell type predicted cell type\n",
       "0    epithelial cell          basal cell\n",
       "1    epithelial cell          basal cell\n",
       "2         basal cell          basal cell\n",
       "3    epithelial cell          basal cell\n",
       "4       keratinocyte        keratinocyte\n",
       "..               ...                 ...\n",
       "123       basal cell          basal cell\n",
       "124       basal cell          basal cell\n",
       "125     keratinocyte        keratinocyte\n",
       "126  epithelial cell          basal cell\n",
       "127       basal cell          basal cell\n",
       "\n",
       "[128 rows x 2 columns]"
      ]
     },
     "metadata": {},
     "output_type": "display_data"
    }
   ],
   "source": [
    "import pandas as pd\n",
    "\n",
    "display(\n",
    "    pd.DataFrame(\n",
    "        {\n",
    "            \"actual cell type\": cell_type_encoder.inverse_transform(y_batch.ravel().numpy()),\n",
    "            \"predicted cell type\": predicted_cell_types,\n",
    "        }\n",
    "    )\n",
    ")"
   ]
  }
 ],
 "metadata": {
  "colab": {
   "provenance": [],
   "toc_visible": true
  },
  "kernelspec": {
   "display_name": "Python 3 (ipykernel)",
   "language": "python",
   "name": "python3"
  },
  "language_info": {
   "codemirror_mode": {
    "name": "ipython",
    "version": 3
   },
   "file_extension": ".py",
   "mimetype": "text/x-python",
   "name": "python",
   "nbconvert_exporter": "python",
   "pygments_lexer": "ipython3",
   "version": "3.9.19"
  }
 },
 "nbformat": 4,
 "nbformat_minor": 4
}
