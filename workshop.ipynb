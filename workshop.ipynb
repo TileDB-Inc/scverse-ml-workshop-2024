{
 "cells": [
  {
   "cell_type": "markdown",
   "id": "f151c953-e921-4b9c-86bf-e97d4122e40a",
   "metadata": {
    "id": "pzxiMjjkjzPN"
   },
   "source": [
    "# [Training models on atlas-scale single-cell datasets] – [scverse Conference 2024]\n",
    "\n",
    "[Training models on atlas-scale single-cell datasets]: https://cfp.scverse.org/2024/talk/GQHNYE/\n",
    "[scverse Conference 2024]: https://scverse.org/conference2024"
   ]
  },
  {
   "cell_type": "markdown",
   "id": "b73128e6-6f93-4920-b770-9de2b8266a10",
   "metadata": {
    "id": "fxGSU7epkxsh"
   },
   "source": [
    "### TileDB-SOMA / Census Hello World\n",
    "\n",
    "Load the necessary libraries (sample requirements file [here][requirements-nb.txt]):\n",
    "\n",
    "[requirements-nb.txt]: https://github.com/TileDB-Inc/scverse-ml-workshop-2024/blob/main/requirements-nb.txt"
   ]
  },
  {
   "cell_type": "code",
   "execution_count": 1,
   "id": "c9f1f7be-935f-4e8e-b86a-5c97013719a1",
   "metadata": {
    "id": "oqXUoKWXjjXd"
   },
   "outputs": [
    {
     "name": "stderr",
     "output_type": "stream",
     "text": [
      "/home/ubuntu/.pyenv/versions/scverse-ml-workshop-2024-3.9.19/lib/python3.9/site-packages/tiledb/cloud/config.py:96: UserWarning: You must first login before you can run commands. Please run tiledb.cloud.login.\n",
      "  warnings.warn(\n"
     ]
    }
   ],
   "source": [
    "import cellxgene_census\n",
    "import tiledbsoma\n",
    "import scipy\n",
    "import numpy\n",
    "import scanpy as sc\n",
    "import pandas"
   ]
  },
  {
   "cell_type": "markdown",
   "id": "f11421e5-c7c3-468c-b265-69e8ed93527a",
   "metadata": {
    "id": "ahd1v8DWllux"
   },
   "source": [
    "#### Finding Census versions available\n",
    "\n",
    "Let's first take a look at the data releases available in S3. There are two types of releases:\n",
    "- **Long-term supported (LTS) data releases** published every six months to be avalialbe for up to 5 years.\n",
    "- **Weekly releases** to be available for up to 6 weeks."
   ]
  },
  {
   "cell_type": "markdown",
   "id": "8baf9dd5-23d0-4e9f-9ae2-fd30dca70ea1",
   "metadata": {
    "id": "ahd1v8DWllux"
   },
   "source": [
    "To see a list of all available releases and their version aliases, we can do the following"
   ]
  },
  {
   "cell_type": "code",
   "execution_count": 2,
   "id": "b2a516a0-a86f-4263-9c34-9324f8fd34ce",
   "metadata": {
    "colab": {
     "base_uri": "https://localhost:8080/"
    },
    "id": "LFImTFw1opde",
    "outputId": "904d987c-246f-4134-8c66-88fa1eb9306c"
   },
   "outputs": [
    {
     "data": {
      "text/plain": [
       "OrderedDict([('stable',\n",
       "              {'release_date': None,\n",
       "               'release_build': '2024-07-01',\n",
       "               'soma': {'uri': 's3://cellxgene-census-public-us-west-2/cell-census/2024-07-01/soma/',\n",
       "                'relative_uri': '/cell-census/2024-07-01/soma/',\n",
       "                's3_region': 'us-west-2'},\n",
       "               'h5ads': {'uri': 's3://cellxgene-census-public-us-west-2/cell-census/2024-07-01/h5ads/',\n",
       "                'relative_uri': '/cell-census/2024-07-01/h5ads/',\n",
       "                's3_region': 'us-west-2'},\n",
       "               'flags': {'lts': True}}),\n",
       "             ('latest',\n",
       "              {'release_date': None,\n",
       "               'release_build': '2024-09-02',\n",
       "               'soma': {'uri': 's3://cellxgene-census-public-us-west-2/cell-census/2024-09-02/soma/',\n",
       "                'relative_uri': '/cell-census/2024-09-02/soma/',\n",
       "                's3_region': 'us-west-2'},\n",
       "               'h5ads': {'uri': 's3://cellxgene-census-public-us-west-2/cell-census/2024-09-02/h5ads/',\n",
       "                'relative_uri': '/cell-census/2024-09-02/h5ads/',\n",
       "                's3_region': 'us-west-2'}}),\n",
       "             ('2024-09-02',\n",
       "              {'release_date': None,\n",
       "               'release_build': '2024-09-02',\n",
       "               'soma': {'uri': 's3://cellxgene-census-public-us-west-2/cell-census/2024-09-02/soma/',\n",
       "                'relative_uri': '/cell-census/2024-09-02/soma/',\n",
       "                's3_region': 'us-west-2'},\n",
       "               'h5ads': {'uri': 's3://cellxgene-census-public-us-west-2/cell-census/2024-09-02/h5ads/',\n",
       "                'relative_uri': '/cell-census/2024-09-02/h5ads/',\n",
       "                's3_region': 'us-west-2'}}),\n",
       "             ('2024-08-26',\n",
       "              {'release_date': None,\n",
       "               'release_build': '2024-08-26',\n",
       "               'soma': {'uri': 's3://cellxgene-census-public-us-west-2/cell-census/2024-08-26/soma/',\n",
       "                'relative_uri': '/cell-census/2024-08-26/soma/',\n",
       "                's3_region': 'us-west-2'},\n",
       "               'h5ads': {'uri': 's3://cellxgene-census-public-us-west-2/cell-census/2024-08-26/h5ads/',\n",
       "                'relative_uri': '/cell-census/2024-08-26/h5ads/',\n",
       "                's3_region': 'us-west-2'}}),\n",
       "             ('2024-08-19',\n",
       "              {'release_date': None,\n",
       "               'release_build': '2024-08-19',\n",
       "               'soma': {'uri': 's3://cellxgene-census-public-us-west-2/cell-census/2024-08-19/soma/',\n",
       "                'relative_uri': '/cell-census/2024-08-19/soma/',\n",
       "                's3_region': 'us-west-2'},\n",
       "               'h5ads': {'uri': 's3://cellxgene-census-public-us-west-2/cell-census/2024-08-19/h5ads/',\n",
       "                'relative_uri': '/cell-census/2024-08-19/h5ads/',\n",
       "                's3_region': 'us-west-2'}}),\n",
       "             ('2024-08-12',\n",
       "              {'release_date': None,\n",
       "               'release_build': '2024-08-12',\n",
       "               'soma': {'uri': 's3://cellxgene-census-public-us-west-2/cell-census/2024-08-12/soma/',\n",
       "                'relative_uri': '/cell-census/2024-08-12/soma/',\n",
       "                's3_region': 'us-west-2'},\n",
       "               'h5ads': {'uri': 's3://cellxgene-census-public-us-west-2/cell-census/2024-08-12/h5ads/',\n",
       "                'relative_uri': '/cell-census/2024-08-12/h5ads/',\n",
       "                's3_region': 'us-west-2'}}),\n",
       "             ('2024-08-05',\n",
       "              {'release_date': None,\n",
       "               'release_build': '2024-08-05',\n",
       "               'soma': {'uri': 's3://cellxgene-census-public-us-west-2/cell-census/2024-08-05/soma/',\n",
       "                'relative_uri': '/cell-census/2024-08-05/soma/',\n",
       "                's3_region': 'us-west-2'},\n",
       "               'h5ads': {'uri': 's3://cellxgene-census-public-us-west-2/cell-census/2024-08-05/h5ads/',\n",
       "                'relative_uri': '/cell-census/2024-08-05/h5ads/',\n",
       "                's3_region': 'us-west-2'}}),\n",
       "             ('2024-07-01',\n",
       "              {'release_date': None,\n",
       "               'release_build': '2024-07-01',\n",
       "               'soma': {'uri': 's3://cellxgene-census-public-us-west-2/cell-census/2024-07-01/soma/',\n",
       "                'relative_uri': '/cell-census/2024-07-01/soma/',\n",
       "                's3_region': 'us-west-2'},\n",
       "               'h5ads': {'uri': 's3://cellxgene-census-public-us-west-2/cell-census/2024-07-01/h5ads/',\n",
       "                'relative_uri': '/cell-census/2024-07-01/h5ads/',\n",
       "                's3_region': 'us-west-2'},\n",
       "               'flags': {'lts': True}}),\n",
       "             ('2024-05-20',\n",
       "              {'release_date': None,\n",
       "               'release_build': '2024-05-20',\n",
       "               'soma': {'uri': 's3://cellxgene-census-public-us-west-2/cell-census/2024-05-20/soma/',\n",
       "                'relative_uri': '/cell-census/2024-05-20/soma/',\n",
       "                's3_region': 'us-west-2'},\n",
       "               'h5ads': {'uri': 's3://cellxgene-census-public-us-west-2/cell-census/2024-05-20/h5ads/',\n",
       "                'relative_uri': '/cell-census/2024-05-20/h5ads/',\n",
       "                's3_region': 'us-west-2'}}),\n",
       "             ('2023-12-15',\n",
       "              {'release_date': None,\n",
       "               'release_build': '2023-12-15',\n",
       "               'soma': {'uri': 's3://cellxgene-census-public-us-west-2/cell-census/2023-12-15/soma/',\n",
       "                'relative_uri': '/cell-census/2023-12-15/soma/',\n",
       "                's3_region': 'us-west-2'},\n",
       "               'h5ads': {'uri': 's3://cellxgene-census-public-us-west-2/cell-census/2023-12-15/h5ads/',\n",
       "                'relative_uri': '/cell-census/2023-12-15/h5ads/',\n",
       "                's3_region': 'us-west-2'},\n",
       "               'flags': {'lts': True}}),\n",
       "             ('2023-07-25',\n",
       "              {'release_date': None,\n",
       "               'release_build': '2023-07-25',\n",
       "               'soma': {'uri': 's3://cellxgene-census-public-us-west-2/cell-census/2023-07-25/soma/',\n",
       "                'relative_uri': '/cell-census/2023-07-25/soma/',\n",
       "                's3_region': 'us-west-2'},\n",
       "               'h5ads': {'uri': 's3://cellxgene-census-public-us-west-2/cell-census/2023-07-25/h5ads/',\n",
       "                'relative_uri': '/cell-census/2023-07-25/h5ads/',\n",
       "                's3_region': 'us-west-2'},\n",
       "               'flags': {'lts': True}}),\n",
       "             ('2023-05-15',\n",
       "              {'release_date': None,\n",
       "               'release_build': '2023-05-15',\n",
       "               'soma': {'uri': 's3://cellxgene-census-public-us-west-2/cell-census/2023-05-15/soma/',\n",
       "                'relative_uri': '/cell-census/2023-05-15/soma/',\n",
       "                's3_region': 'us-west-2'},\n",
       "               'h5ads': {'uri': 's3://cellxgene-census-public-us-west-2/cell-census/2023-05-15/h5ads/',\n",
       "                'relative_uri': '/cell-census/2023-05-15/h5ads/',\n",
       "                's3_region': 'us-west-2'},\n",
       "               'flags': {'lts': True}})])"
      ]
     },
     "execution_count": 2,
     "metadata": {},
     "output_type": "execute_result"
    }
   ],
   "source": [
    "cellxgene_census.get_census_version_directory()"
   ]
  },
  {
   "cell_type": "code",
   "execution_count": 3,
   "id": "b4a99d79-8d19-436c-a653-68697a9fdca6",
   "metadata": {
    "colab": {
     "base_uri": "https://localhost:8080/"
    },
    "id": "OT-oy0h9o3tX",
    "outputId": "cd018e0d-21cc-4296-af7d-4dc27122ddcf"
   },
   "outputs": [
    {
     "data": {
      "text/plain": [
       "OrderedDict([('stable',\n",
       "              {'release_date': None,\n",
       "               'release_build': '2024-07-01',\n",
       "               'soma': {'uri': 's3://cellxgene-census-public-us-west-2/cell-census/2024-07-01/soma/',\n",
       "                'relative_uri': '/cell-census/2024-07-01/soma/',\n",
       "                's3_region': 'us-west-2'},\n",
       "               'h5ads': {'uri': 's3://cellxgene-census-public-us-west-2/cell-census/2024-07-01/h5ads/',\n",
       "                'relative_uri': '/cell-census/2024-07-01/h5ads/',\n",
       "                's3_region': 'us-west-2'},\n",
       "               'flags': {'lts': True}}),\n",
       "             ('2024-07-01',\n",
       "              {'release_date': None,\n",
       "               'release_build': '2024-07-01',\n",
       "               'soma': {'uri': 's3://cellxgene-census-public-us-west-2/cell-census/2024-07-01/soma/',\n",
       "                'relative_uri': '/cell-census/2024-07-01/soma/',\n",
       "                's3_region': 'us-west-2'},\n",
       "               'h5ads': {'uri': 's3://cellxgene-census-public-us-west-2/cell-census/2024-07-01/h5ads/',\n",
       "                'relative_uri': '/cell-census/2024-07-01/h5ads/',\n",
       "                's3_region': 'us-west-2'},\n",
       "               'flags': {'lts': True}}),\n",
       "             ('2023-12-15',\n",
       "              {'release_date': None,\n",
       "               'release_build': '2023-12-15',\n",
       "               'soma': {'uri': 's3://cellxgene-census-public-us-west-2/cell-census/2023-12-15/soma/',\n",
       "                'relative_uri': '/cell-census/2023-12-15/soma/',\n",
       "                's3_region': 'us-west-2'},\n",
       "               'h5ads': {'uri': 's3://cellxgene-census-public-us-west-2/cell-census/2023-12-15/h5ads/',\n",
       "                'relative_uri': '/cell-census/2023-12-15/h5ads/',\n",
       "                's3_region': 'us-west-2'},\n",
       "               'flags': {'lts': True}}),\n",
       "             ('2023-07-25',\n",
       "              {'release_date': None,\n",
       "               'release_build': '2023-07-25',\n",
       "               'soma': {'uri': 's3://cellxgene-census-public-us-west-2/cell-census/2023-07-25/soma/',\n",
       "                'relative_uri': '/cell-census/2023-07-25/soma/',\n",
       "                's3_region': 'us-west-2'},\n",
       "               'h5ads': {'uri': 's3://cellxgene-census-public-us-west-2/cell-census/2023-07-25/h5ads/',\n",
       "                'relative_uri': '/cell-census/2023-07-25/h5ads/',\n",
       "                's3_region': 'us-west-2'},\n",
       "               'flags': {'lts': True}}),\n",
       "             ('2023-05-15',\n",
       "              {'release_date': None,\n",
       "               'release_build': '2023-05-15',\n",
       "               'soma': {'uri': 's3://cellxgene-census-public-us-west-2/cell-census/2023-05-15/soma/',\n",
       "                'relative_uri': '/cell-census/2023-05-15/soma/',\n",
       "                's3_region': 'us-west-2'},\n",
       "               'h5ads': {'uri': 's3://cellxgene-census-public-us-west-2/cell-census/2023-05-15/h5ads/',\n",
       "                'relative_uri': '/cell-census/2023-05-15/h5ads/',\n",
       "                's3_region': 'us-west-2'},\n",
       "               'flags': {'lts': True}})])"
      ]
     },
     "execution_count": 3,
     "metadata": {},
     "output_type": "execute_result"
    }
   ],
   "source": [
    "cellxgene_census.get_census_version_directory(lts=True)"
   ]
  },
  {
   "cell_type": "markdown",
   "id": "5af65f07-1afc-4586-8044-1eb8fbe3f40d",
   "metadata": {
    "id": "cklactWoB2e2"
   },
   "source": [
    "#### Opening a Census version\n",
    "\n",
    "Now we can get a handle to the Census object hosted in S3. Remember that we can specify the data release to use."
   ]
  },
  {
   "cell_type": "code",
   "execution_count": 4,
   "id": "1e25f006-f2ac-4b36-b03a-703b81cdbb5c",
   "metadata": {},
   "outputs": [],
   "source": [
    "# Default: 1GB\n",
    "# Google colab runs well with 1MB\n",
    "# TileDB-Cloud can run default, but recommended for workshop is 10MB\n",
    "config = {\n",
    "    \"vfs.s3.region\": \"us-west-2\",\n",
    "    \"vfs.s3.no_sign_request\": \"true\",\n",
    "    \"py.init_buffer_bytes\": 0.001 * 1024**3, #1MB\n",
    "    \"soma.init_buffer_bytes\": 0.001 * 1024**3, #1MB\n",
    "}\n",
    "\n",
    "ctx = tiledbsoma.options.SOMATileDBContext(tiledb_config=config)\n",
    "ctx = ctx.replace(tiledb_config=config)"
   ]
  },
  {
   "cell_type": "code",
   "execution_count": 5,
   "id": "c21e8465-cff4-4e83-9f88-b6873117bb74",
   "metadata": {
    "id": "P4Jq5ovIorcf"
   },
   "outputs": [],
   "source": [
    "# For the latest LTS use \"stable\", other options are \"latest\" for the latest\n",
    "# weekly, or specific version\n",
    "\n",
    "version = \"latest\"\n",
    "\n",
    "# equivalent\n",
    "# version = \"2024-09-02\"\n",
    "\n",
    "census = cellxgene_census.open_soma(census_version=version, context=ctx)"
   ]
  },
  {
   "cell_type": "markdown",
   "id": "a824b3db-6d50-45ac-847b-33a0cc93024a",
   "metadata": {
    "id": "y3tGaPQrEyRL"
   },
   "source": [
    "#### Inspecting the Census object\n",
    "\n",
    "These are the types of SOMA objects used by Census:\n",
    "\n",
    "- `SparseNDArray` is the same as DenseNDArray but sparse, and supports point indexing (disjoint index access).\n",
    "- `DataFrame` is a multi-column table with user-defined columns names and value types, with support for point indexing.\n",
    "- `Collection` is a persistent container of named SOMA objects, similar to a dictionary.\n",
    "- `Experiment` is a class that represents a single-cell experiment. It always contains two objects:\n",
    "   - `obs`: a `DataFrame` with primary annotations on the observation axis.\n",
    "   - `ms`: a `Collection` of measurements, each composed of `X` matrices and axis annotation matrices or data frames (e.g. `var`, `varm`, `obsm`, etc)."
   ]
  },
  {
   "cell_type": "markdown",
   "id": "6bc0cf8e-3283-43f9-b105-cbd1a3bb8b6a",
   "metadata": {},
   "source": [
    "<img src=\"soma-data-model.png\" style=\"width: 70%; position: relative; left: 10%\" />"
   ]
  },
  {
   "cell_type": "markdown",
   "id": "da8cfd5c-968a-416a-86c5-2d6694e9aad5",
   "metadata": {
    "id": "y3tGaPQrEyRL"
   },
   "source": [
    "The parent Census object is a SOMA `Collection`:"
   ]
  },
  {
   "cell_type": "code",
   "execution_count": 6,
   "id": "97b52b6e-6b42-47c8-a055-5bf1df7050c8",
   "metadata": {
    "colab": {
     "base_uri": "https://localhost:8080/"
    },
    "id": "oDDcosbj_h9D",
    "outputId": "a50d4c1e-62b2-4fc3-fe37-e7d23eaa4849"
   },
   "outputs": [
    {
     "data": {
      "text/plain": [
       "<Collection 's3://cellxgene-census-public-us-west-2/cell-census/2024-09-02/soma/' (open for 'r') (2 items)\n",
       "    'census_info': 's3://cellxgene-census-public-us-west-2/cell-census/2024-09-02/soma/census_info' (unopened)\n",
       "    'census_data': 's3://cellxgene-census-public-us-west-2/cell-census/2024-09-02/soma/census_data' (unopened)>"
      ]
     },
     "execution_count": 6,
     "metadata": {},
     "output_type": "execute_result"
    }
   ],
   "source": [
    "census"
   ]
  },
  {
   "cell_type": "markdown",
   "id": "c5a35188-3a72-45a7-981b-fcc5abf1255a",
   "metadata": {
    "id": "ygGpjcpj_d56"
   },
   "source": [
    "You can access items of a collection with square brackets.\n",
    "\n",
    "- `\"census_data\"` has the Census single-cell data, will explore it in a momemnt.\n",
    "- `\"census_info\"` has high-level summary information about Census\n",
    "\n",
    "Inspecting `\"census_info\"`:"
   ]
  },
  {
   "cell_type": "code",
   "execution_count": 7,
   "id": "62179bb5-28ce-4e6b-9ced-594dbc8e5b91",
   "metadata": {
    "colab": {
     "base_uri": "https://localhost:8080/"
    },
    "id": "6zr_yAnH_ZJV",
    "outputId": "5906fd63-ffcf-47f2-ca14-929e3c932ab2"
   },
   "outputs": [
    {
     "data": {
      "text/plain": [
       "<Collection 's3://cellxgene-census-public-us-west-2/cell-census/2024-09-02/soma/census_info' (open for 'r') (4 items)\n",
       "    'datasets': 's3://cellxgene-census-public-us-west-2/cell-census/2024-09-02/soma/census_info/datasets' (unopened)\n",
       "    'summary_cell_counts': 's3://cellxgene-census-public-us-west-2/cell-census/2024-09-02/soma/census_info/summary_cell_counts' (unopened)\n",
       "    'summary': 's3://cellxgene-census-public-us-west-2/cell-census/2024-09-02/soma/census_info/summary' (unopened)\n",
       "    'organisms': 's3://cellxgene-census-public-us-west-2/cell-census/2024-09-02/soma/census_info/organisms' (unopened)>"
      ]
     },
     "execution_count": 7,
     "metadata": {},
     "output_type": "execute_result"
    }
   ],
   "source": [
    "census[\"census_info\"]"
   ]
  },
  {
   "cell_type": "markdown",
   "id": "d9bd193c-1e87-45fd-9a81-adf4836f9c46",
   "metadata": {
    "id": "CX61uvdLAdRv"
   },
   "source": [
    "There are four items in this collection:\n",
    "\n",
    "- `\"summary\"`: A data frame with high-level information of this Census, e.g. build date, total cell count, etc.\n",
    "- `\"summary_cell_counts\"`: A data frame with cell counts stratified by relevant cell metadata\n",
    "- `\"datasets\"`: A data frame with all datasets from CELLxGENE Discover used to create the Census.\n",
    "- `\"organisms\"`: A data frame documenting the species represented in the Census (human and mouse)"
   ]
  },
  {
   "cell_type": "markdown",
   "id": "0faabf38-c0db-4463-996d-b3c0714b1fef",
   "metadata": {
    "id": "i87SDNOpCvz3"
   },
   "source": [
    "Peeking at `\"census_data\"`:"
   ]
  },
  {
   "cell_type": "code",
   "execution_count": 8,
   "id": "aa95677e-5ec7-4ff9-804b-8d605faf3a69",
   "metadata": {
    "colab": {
     "base_uri": "https://localhost:8080/"
    },
    "id": "t_4gewQ9AT46",
    "outputId": "5bcb1bc5-6c2d-48e1-e4c0-51b7258f9466"
   },
   "outputs": [
    {
     "data": {
      "text/plain": [
       "<Collection 's3://cellxgene-census-public-us-west-2/cell-census/2024-09-02/soma/census_data' (open for 'r') (2 items)\n",
       "    'homo_sapiens': 's3://cellxgene-census-public-us-west-2/cell-census/2024-09-02/soma/census_data/homo_sapiens' (unopened)\n",
       "    'mus_musculus': 's3://cellxgene-census-public-us-west-2/cell-census/2024-09-02/soma/census_data/mus_musculus' (unopened)>"
      ]
     },
     "execution_count": 8,
     "metadata": {},
     "output_type": "execute_result"
    }
   ],
   "source": [
    "census[\"census_data\"]"
   ]
  },
  {
   "cell_type": "markdown",
   "id": "68269582-6703-40f7-b9f2-f7f0d8b7eebf",
   "metadata": {
    "id": "vrx1KwN4Bimu"
   },
   "source": [
    "These two are SOMA `Experiment` objects which are a specialized form of a `Collection`. Each of these store a data matrix (cells by genes), cell metadata, gene metadata, and other useful components."
   ]
  },
  {
   "cell_type": "markdown",
   "id": "fae64440-853b-4466-b53d-7d9bd5854fb3",
   "metadata": {
    "id": "mqOefkzOJkH2"
   },
   "source": [
    "### Reading Data Frames"
   ]
  },
  {
   "cell_type": "markdown",
   "id": "3d8b62d2-ef1e-4d45-8d4f-0ba13fa1c57c",
   "metadata": {
    "id": "amEMnNCjVtB6"
   },
   "source": [
    "\n",
    "#### Reading cell metadata\n",
    "\n",
    "As mentioned earlier, an `Experiment` always has an `obs` atrribute that can be accessed via `.obs`.\n",
    "\n",
    "Inspecting the human `Experiment`:"
   ]
  },
  {
   "cell_type": "code",
   "execution_count": 9,
   "id": "b9b89fdd-8ed2-41ae-9963-012480451d70",
   "metadata": {
    "colab": {
     "base_uri": "https://localhost:8080/"
    },
    "id": "zZXy-Bt3I28i",
    "outputId": "82a4694b-60b1-44c2-f4e9-14a3332db9a3"
   },
   "outputs": [
    {
     "data": {
      "text/plain": [
       "<Experiment 's3://cellxgene-census-public-us-west-2/cell-census/2024-09-02/soma/census_data/homo_sapiens' (open for 'r') (2 items)\n",
       "    'obs': 's3://cellxgene-census-public-us-west-2/cell-census/2024-09-02/soma/census_data/homo_sapiens/obs' (unopened)\n",
       "    'ms': 's3://cellxgene-census-public-us-west-2/cell-census/2024-09-02/soma/census_data/homo_sapiens/ms' (unopened)>"
      ]
     },
     "execution_count": 9,
     "metadata": {},
     "output_type": "execute_result"
    }
   ],
   "source": [
    "census[\"census_data\"][\"homo_sapiens\"]"
   ]
  },
  {
   "cell_type": "code",
   "execution_count": 10,
   "id": "75d379b6-1d5a-42da-af40-24540dcbe44e",
   "metadata": {
    "colab": {
     "base_uri": "https://localhost:8080/"
    },
    "id": "8kNlAnIGKB3r",
    "outputId": "6dc6ca62-2e9a-42e1-f9ae-3ee51a9db176"
   },
   "outputs": [
    {
     "data": {
      "text/plain": [
       "<DataFrame 's3://cellxgene-census-public-us-west-2/cell-census/2024-09-02/soma/census_data/homo_sapiens/obs' (open for 'r')>"
      ]
     },
     "execution_count": 10,
     "metadata": {},
     "output_type": "execute_result"
    }
   ],
   "source": [
    "census[\"census_data\"][\"homo_sapiens\"].obs"
   ]
  },
  {
   "cell_type": "markdown",
   "id": "eb3425af-7cea-4265-b425-aa7f2e2debc8",
   "metadata": {
    "id": "fi2sDGuIMEP_"
   },
   "source": [
    "A data frame's `keys()` method lists its columns; `obs.keys()` shows metadata available for each cell:"
   ]
  },
  {
   "cell_type": "code",
   "execution_count": 11,
   "id": "ed69964f-3562-45f2-890e-64593c645ccf",
   "metadata": {
    "colab": {
     "base_uri": "https://localhost:8080/"
    },
    "id": "X1CQfbGmMDcf",
    "outputId": "11be0a5e-a79c-4fc2-d3d8-be16aa796163"
   },
   "outputs": [
    {
     "data": {
      "text/plain": [
       "('soma_joinid',\n",
       " 'dataset_id',\n",
       " 'assay',\n",
       " 'assay_ontology_term_id',\n",
       " 'cell_type',\n",
       " 'cell_type_ontology_term_id',\n",
       " 'development_stage',\n",
       " 'development_stage_ontology_term_id',\n",
       " 'disease',\n",
       " 'disease_ontology_term_id',\n",
       " 'donor_id',\n",
       " 'is_primary_data',\n",
       " 'observation_joinid',\n",
       " 'self_reported_ethnicity',\n",
       " 'self_reported_ethnicity_ontology_term_id',\n",
       " 'sex',\n",
       " 'sex_ontology_term_id',\n",
       " 'suspension_type',\n",
       " 'tissue',\n",
       " 'tissue_ontology_term_id',\n",
       " 'tissue_type',\n",
       " 'tissue_general',\n",
       " 'tissue_general_ontology_term_id',\n",
       " 'raw_sum',\n",
       " 'nnz',\n",
       " 'raw_mean_nnz',\n",
       " 'raw_variance_nnz',\n",
       " 'n_measured_vars')"
      ]
     },
     "execution_count": 11,
     "metadata": {},
     "output_type": "execute_result"
    }
   ],
   "source": [
    "census[\"census_data\"][\"homo_sapiens\"].obs.keys()"
   ]
  },
  {
   "cell_type": "markdown",
   "id": "4dc4c0d6-3ad7-4020-b123-9e6bd113c337",
   "metadata": {
    "id": "UujuxKAW3LhM"
   },
   "source": [
    "Reading two columns of the data frame:"
   ]
  },
  {
   "cell_type": "code",
   "execution_count": 12,
   "id": "4baf415f-7d0b-4e0e-b7a0-0967ea94b407",
   "metadata": {
    "colab": {
     "base_uri": "https://localhost:8080/",
     "height": 423
    },
    "id": "WD8zL10AKFv3",
    "outputId": "c2b801b2-7065-43c8-8d8f-2102a6e8d935"
   },
   "outputs": [
    {
     "data": {
      "text/html": [
       "<div>\n",
       "<style scoped>\n",
       "    .dataframe tbody tr th:only-of-type {\n",
       "        vertical-align: middle;\n",
       "    }\n",
       "\n",
       "    .dataframe tbody tr th {\n",
       "        vertical-align: top;\n",
       "    }\n",
       "\n",
       "    .dataframe thead th {\n",
       "        text-align: right;\n",
       "    }\n",
       "</style>\n",
       "<table border=\"1\" class=\"dataframe\">\n",
       "  <thead>\n",
       "    <tr style=\"text-align: right;\">\n",
       "      <th></th>\n",
       "      <th>suspension_type</th>\n",
       "      <th>tissue_general</th>\n",
       "    </tr>\n",
       "  </thead>\n",
       "  <tbody>\n",
       "    <tr>\n",
       "      <th>0</th>\n",
       "      <td>cell</td>\n",
       "      <td>liver</td>\n",
       "    </tr>\n",
       "    <tr>\n",
       "      <th>1</th>\n",
       "      <td>cell</td>\n",
       "      <td>liver</td>\n",
       "    </tr>\n",
       "    <tr>\n",
       "      <th>2</th>\n",
       "      <td>cell</td>\n",
       "      <td>liver</td>\n",
       "    </tr>\n",
       "    <tr>\n",
       "      <th>3</th>\n",
       "      <td>cell</td>\n",
       "      <td>liver</td>\n",
       "    </tr>\n",
       "    <tr>\n",
       "      <th>4</th>\n",
       "      <td>cell</td>\n",
       "      <td>liver</td>\n",
       "    </tr>\n",
       "    <tr>\n",
       "      <th>...</th>\n",
       "      <td>...</td>\n",
       "      <td>...</td>\n",
       "    </tr>\n",
       "    <tr>\n",
       "      <th>77665794</th>\n",
       "      <td>nucleus</td>\n",
       "      <td>brain</td>\n",
       "    </tr>\n",
       "    <tr>\n",
       "      <th>77665795</th>\n",
       "      <td>nucleus</td>\n",
       "      <td>brain</td>\n",
       "    </tr>\n",
       "    <tr>\n",
       "      <th>77665796</th>\n",
       "      <td>nucleus</td>\n",
       "      <td>brain</td>\n",
       "    </tr>\n",
       "    <tr>\n",
       "      <th>77665797</th>\n",
       "      <td>nucleus</td>\n",
       "      <td>brain</td>\n",
       "    </tr>\n",
       "    <tr>\n",
       "      <th>77665798</th>\n",
       "      <td>nucleus</td>\n",
       "      <td>brain</td>\n",
       "    </tr>\n",
       "  </tbody>\n",
       "</table>\n",
       "<p>77665799 rows × 2 columns</p>\n",
       "</div>"
      ],
      "text/plain": [
       "         suspension_type tissue_general\n",
       "0                   cell          liver\n",
       "1                   cell          liver\n",
       "2                   cell          liver\n",
       "3                   cell          liver\n",
       "4                   cell          liver\n",
       "...                  ...            ...\n",
       "77665794         nucleus          brain\n",
       "77665795         nucleus          brain\n",
       "77665796         nucleus          brain\n",
       "77665797         nucleus          brain\n",
       "77665798         nucleus          brain\n",
       "\n",
       "[77665799 rows x 2 columns]"
      ]
     },
     "execution_count": 12,
     "metadata": {},
     "output_type": "execute_result"
    }
   ],
   "source": [
    "suspensions_tissues = (\n",
    "    census[\"census_data\"][\"homo_sapiens\"]\n",
    "    .obs\n",
    "    .read(column_names=[\n",
    "        \"suspension_type\",\n",
    "        \"tissue_general\",\n",
    "    ])            # iterator of Arrow chunks\n",
    "    .concat()     # single Arrow table (concatenated chunks)\n",
    "    .to_pandas()  # Pandas DataFrame\n",
    ")\n",
    "suspensions_tissues"
   ]
  },
  {
   "cell_type": "markdown",
   "id": "1f3e5273-87e1-486c-916a-8597f1a97526",
   "metadata": {
    "id": "I5YBE9lhBlPx"
   },
   "source": [
    "The line above retrieved the suspension type and tissue values for all human cells in Census. Let's dissect step-by-step to see what happened there:\n",
    "\n",
    "1. `.read(column_names = [\"suspension_type\", \"tissue_general\"])` - creates an iterator of Arrow tables that can be used for chunked-based data streaming.\n",
    "2. `.concat()` - retrieves all the results of the iterator and concatenates them into a single Arrow table.\n",
    "3. `.to_pandas()` - converts the Arrow table into a Pandas data frame.\n",
    "\n",
    "Let's do each step one more time and inspect the intermediate objects."
   ]
  },
  {
   "cell_type": "code",
   "execution_count": 13,
   "id": "5ee384a6-6572-4e44-b8e9-d5a762037218",
   "metadata": {
    "colab": {
     "base_uri": "https://localhost:8080/"
    },
    "id": "KWw45mP-Besz",
    "outputId": "cd38a4e9-fcf1-4bfd-92bc-4e0dfa0bcf93"
   },
   "outputs": [
    {
     "data": {
      "text/plain": [
       "<tiledbsoma._read_iters.TableReadIter at 0x793a446e3df0>"
      ]
     },
     "execution_count": 13,
     "metadata": {},
     "output_type": "execute_result"
    }
   ],
   "source": [
    "# Create iterator of Arrow tables\n",
    "iterator = census[\"census_data\"][\"homo_sapiens\"].obs.read(column_names=[\"suspension_type\", \"tissue_general\"])\n",
    "iterator"
   ]
  },
  {
   "cell_type": "code",
   "execution_count": 14,
   "id": "0b9316fe-cd8b-41e4-a3d7-52851a067c32",
   "metadata": {
    "colab": {
     "base_uri": "https://localhost:8080/"
    },
    "id": "BIiTYQ0USqTt",
    "outputId": "6692f7a5-e085-4829-e291-74bc51147e82"
   },
   "outputs": [
    {
     "data": {
      "text/plain": [
       "pyarrow.Table\n",
       "suspension_type: dictionary<values=string, indices=int8, ordered=0>\n",
       "tissue_general: dictionary<values=string, indices=int8, ordered=0>\n",
       "----\n",
       "suspension_type: [  -- dictionary:\n",
       "[\"cell\",\"nucleus\"]  -- indices:\n",
       "[0,0,0,0,0,...,0,0,0,0,0]]\n",
       "tissue_general: [  -- dictionary:\n",
       "[\"adipose tissue\",\"adrenal gland\",\"axilla\",\"bladder organ\",\"blood\",...,\"tongue\",\"ureter\",\"uterus\",\"vasculature\",\"yolk sac\"]  -- indices:\n",
       "[27,27,27,27,27,...,39,39,39,39,39]]"
      ]
     },
     "execution_count": 14,
     "metadata": {},
     "output_type": "execute_result"
    }
   ],
   "source": [
    "# We can get individual chunks\n",
    "table_chunk = next(iterator)\n",
    "table_chunk"
   ]
  },
  {
   "cell_type": "code",
   "execution_count": 15,
   "id": "4e0b02dc-b170-42db-b81d-ad0cc43114f1",
   "metadata": {
    "colab": {
     "base_uri": "https://localhost:8080/"
    },
    "id": "Yn48LNCPTVfN",
    "outputId": "cc4e3e02-8799-46f2-dfd4-d8b383df74d9"
   },
   "outputs": [
    {
     "data": {
      "text/html": [
       "<div>\n",
       "<style scoped>\n",
       "    .dataframe tbody tr th:only-of-type {\n",
       "        vertical-align: middle;\n",
       "    }\n",
       "\n",
       "    .dataframe tbody tr th {\n",
       "        vertical-align: top;\n",
       "    }\n",
       "\n",
       "    .dataframe thead th {\n",
       "        text-align: right;\n",
       "    }\n",
       "</style>\n",
       "<table border=\"1\" class=\"dataframe\">\n",
       "  <thead>\n",
       "    <tr style=\"text-align: right;\">\n",
       "      <th></th>\n",
       "      <th>suspension_type</th>\n",
       "      <th>tissue_general</th>\n",
       "    </tr>\n",
       "  </thead>\n",
       "  <tbody>\n",
       "    <tr>\n",
       "      <th>0</th>\n",
       "      <td>cell</td>\n",
       "      <td>liver</td>\n",
       "    </tr>\n",
       "    <tr>\n",
       "      <th>1</th>\n",
       "      <td>cell</td>\n",
       "      <td>liver</td>\n",
       "    </tr>\n",
       "    <tr>\n",
       "      <th>2</th>\n",
       "      <td>cell</td>\n",
       "      <td>liver</td>\n",
       "    </tr>\n",
       "    <tr>\n",
       "      <th>3</th>\n",
       "      <td>cell</td>\n",
       "      <td>liver</td>\n",
       "    </tr>\n",
       "    <tr>\n",
       "      <th>4</th>\n",
       "      <td>cell</td>\n",
       "      <td>liver</td>\n",
       "    </tr>\n",
       "    <tr>\n",
       "      <th>...</th>\n",
       "      <td>...</td>\n",
       "      <td>...</td>\n",
       "    </tr>\n",
       "    <tr>\n",
       "      <th>1073736</th>\n",
       "      <td>cell</td>\n",
       "      <td>pleural fluid</td>\n",
       "    </tr>\n",
       "    <tr>\n",
       "      <th>1073737</th>\n",
       "      <td>cell</td>\n",
       "      <td>pleural fluid</td>\n",
       "    </tr>\n",
       "    <tr>\n",
       "      <th>1073738</th>\n",
       "      <td>cell</td>\n",
       "      <td>pleural fluid</td>\n",
       "    </tr>\n",
       "    <tr>\n",
       "      <th>1073739</th>\n",
       "      <td>cell</td>\n",
       "      <td>pleural fluid</td>\n",
       "    </tr>\n",
       "    <tr>\n",
       "      <th>1073740</th>\n",
       "      <td>cell</td>\n",
       "      <td>pleural fluid</td>\n",
       "    </tr>\n",
       "  </tbody>\n",
       "</table>\n",
       "<p>1073741 rows × 2 columns</p>\n",
       "</div>"
      ],
      "text/plain": [
       "        suspension_type tissue_general\n",
       "0                  cell          liver\n",
       "1                  cell          liver\n",
       "2                  cell          liver\n",
       "3                  cell          liver\n",
       "4                  cell          liver\n",
       "...                 ...            ...\n",
       "1073736            cell  pleural fluid\n",
       "1073737            cell  pleural fluid\n",
       "1073738            cell  pleural fluid\n",
       "1073739            cell  pleural fluid\n",
       "1073740            cell  pleural fluid\n",
       "\n",
       "[1073741 rows x 2 columns]"
      ]
     },
     "execution_count": 15,
     "metadata": {},
     "output_type": "execute_result"
    }
   ],
   "source": [
    "table_chunk.to_pandas()"
   ]
  },
  {
   "cell_type": "code",
   "execution_count": 16,
   "id": "0887bf07-fe41-47ba-b270-9cbc6a81ac89",
   "metadata": {
    "colab": {
     "base_uri": "https://localhost:8080/"
    },
    "id": "5QhtRerLDduB",
    "outputId": "f6d350d2-9310-4a81-ee49-9dd6d478e8f7"
   },
   "outputs": [
    {
     "data": {
      "text/plain": [
       "suspension_type  tissue_general\n",
       "nucleus          brain             24047347\n",
       "cell             blood             11206540\n",
       "                 lung               6958083\n",
       "                 breast             5428863\n",
       "nucleus          eye                3600541\n",
       "                                     ...   \n",
       "cell             gallbladder           9769\n",
       "                 spinal cord           5916\n",
       "nucleus          skin of body          5327\n",
       "cell             scalp                 3029\n",
       "                 ureter                2390\n",
       "Length: 78, dtype: int64"
      ]
     },
     "execution_count": 16,
     "metadata": {},
     "output_type": "execute_result"
    }
   ],
   "source": [
    "# And you can perform pandas operations useful for your analysis\n",
    "suspensions_tissues.value_counts()"
   ]
  },
  {
   "cell_type": "markdown",
   "id": "097f7f0e-462e-47b3-be5a-8b787379a821",
   "metadata": {
    "id": "gPif5zy3L0NB"
   },
   "source": [
    "#### Summary info and dataset table\n",
    "\n",
    "The same reading operations can be applied to any SOMA data frame in Census. Let's take a look back at the items of `\"census_info\"`."
   ]
  },
  {
   "cell_type": "code",
   "execution_count": 17,
   "id": "0c0bedb2-42e1-4a2d-9775-241b15ec20cb",
   "metadata": {
    "colab": {
     "base_uri": "https://localhost:8080/"
    },
    "id": "LwN7a0v3L66V",
    "outputId": "82f82f6b-19d9-49f2-d71b-12bbac3c2963"
   },
   "outputs": [
    {
     "data": {
      "text/plain": [
       "<Collection 's3://cellxgene-census-public-us-west-2/cell-census/2024-09-02/soma/census_info' (open for 'r') (4 items)\n",
       "    'datasets': 's3://cellxgene-census-public-us-west-2/cell-census/2024-09-02/soma/census_info/datasets' (unopened)\n",
       "    'summary_cell_counts': 's3://cellxgene-census-public-us-west-2/cell-census/2024-09-02/soma/census_info/summary_cell_counts' (unopened)\n",
       "    'summary': 's3://cellxgene-census-public-us-west-2/cell-census/2024-09-02/soma/census_info/summary' (unopened)\n",
       "    'organisms': 's3://cellxgene-census-public-us-west-2/cell-census/2024-09-02/soma/census_info/organisms' (unopened)>"
      ]
     },
     "execution_count": 17,
     "metadata": {},
     "output_type": "execute_result"
    }
   ],
   "source": [
    "census[\"census_info\"]"
   ]
  },
  {
   "cell_type": "markdown",
   "id": "4b47286e-aade-4a64-b5eb-9fa5c3af146d",
   "metadata": {
    "id": "evjIzkJXMVIK"
   },
   "source": [
    "`\"summary\"` is a data frame with high-level information of this data release."
   ]
  },
  {
   "cell_type": "code",
   "execution_count": 18,
   "id": "28abdc57-8a5c-4ea3-a044-8e17a415291b",
   "metadata": {
    "colab": {
     "base_uri": "https://localhost:8080/"
    },
    "id": "ii_tRiOYLFt_",
    "outputId": "26c44b95-431e-4f1d-913a-925620e6495e"
   },
   "outputs": [
    {
     "data": {
      "text/plain": [
       "<DataFrame 's3://cellxgene-census-public-us-west-2/cell-census/2024-09-02/soma/census_info/summary' (open for 'r')>"
      ]
     },
     "execution_count": 18,
     "metadata": {},
     "output_type": "execute_result"
    }
   ],
   "source": [
    "census[\"census_info\"][\"summary\"]"
   ]
  },
  {
   "cell_type": "code",
   "execution_count": 19,
   "id": "4e51f2ee-81f9-4452-98f3-17e50b7bd2c6",
   "metadata": {
    "colab": {
     "base_uri": "https://localhost:8080/",
     "height": 268
    },
    "id": "gtH3rMBIMUWI",
    "outputId": "6d6cc401-4948-4ee3-f2b2-0262c33e56e9"
   },
   "outputs": [
    {
     "data": {
      "text/html": [
       "<div>\n",
       "<style scoped>\n",
       "    .dataframe tbody tr th:only-of-type {\n",
       "        vertical-align: middle;\n",
       "    }\n",
       "\n",
       "    .dataframe tbody tr th {\n",
       "        vertical-align: top;\n",
       "    }\n",
       "\n",
       "    .dataframe thead th {\n",
       "        text-align: right;\n",
       "    }\n",
       "</style>\n",
       "<table border=\"1\" class=\"dataframe\">\n",
       "  <thead>\n",
       "    <tr style=\"text-align: right;\">\n",
       "      <th></th>\n",
       "      <th>soma_joinid</th>\n",
       "      <th>label</th>\n",
       "      <th>value</th>\n",
       "    </tr>\n",
       "  </thead>\n",
       "  <tbody>\n",
       "    <tr>\n",
       "      <th>0</th>\n",
       "      <td>0</td>\n",
       "      <td>census_schema_version</td>\n",
       "      <td>2.1.0</td>\n",
       "    </tr>\n",
       "    <tr>\n",
       "      <th>1</th>\n",
       "      <td>1</td>\n",
       "      <td>census_build_date</td>\n",
       "      <td>2024-09-02</td>\n",
       "    </tr>\n",
       "    <tr>\n",
       "      <th>2</th>\n",
       "      <td>2</td>\n",
       "      <td>dataset_schema_version</td>\n",
       "      <td>5.1.0</td>\n",
       "    </tr>\n",
       "    <tr>\n",
       "      <th>3</th>\n",
       "      <td>3</td>\n",
       "      <td>total_cell_count</td>\n",
       "      <td>120108090</td>\n",
       "    </tr>\n",
       "    <tr>\n",
       "      <th>4</th>\n",
       "      <td>4</td>\n",
       "      <td>unique_cell_count</td>\n",
       "      <td>64161082</td>\n",
       "    </tr>\n",
       "    <tr>\n",
       "      <th>5</th>\n",
       "      <td>5</td>\n",
       "      <td>number_donors_homo_sapiens</td>\n",
       "      <td>19993</td>\n",
       "    </tr>\n",
       "    <tr>\n",
       "      <th>6</th>\n",
       "      <td>6</td>\n",
       "      <td>number_donors_mus_musculus</td>\n",
       "      <td>4698</td>\n",
       "    </tr>\n",
       "  </tbody>\n",
       "</table>\n",
       "</div>"
      ],
      "text/plain": [
       "   soma_joinid                       label       value\n",
       "0            0       census_schema_version       2.1.0\n",
       "1            1           census_build_date  2024-09-02\n",
       "2            2      dataset_schema_version       5.1.0\n",
       "3            3            total_cell_count   120108090\n",
       "4            4           unique_cell_count    64161082\n",
       "5            5  number_donors_homo_sapiens       19993\n",
       "6            6  number_donors_mus_musculus        4698"
      ]
     },
     "execution_count": 19,
     "metadata": {},
     "output_type": "execute_result"
    }
   ],
   "source": [
    "census[\"census_info\"][\"summary\"].read().concat().to_pandas()"
   ]
  },
  {
   "cell_type": "markdown",
   "id": "df84e817-90ae-46c8-a0cf-df3d2945cffd",
   "metadata": {
    "id": "jFf2vxR5Mkqw"
   },
   "source": [
    "And `\"datasets\"` is a data frame listing all of the datasets whose single-cell data is contained in this Census release.\n",
    "\n",
    "**🚨 NOTE:** the column `dataset_id` is also present in the cell metadata for joining"
   ]
  },
  {
   "cell_type": "code",
   "execution_count": 20,
   "id": "537b4af5-1d11-4923-89f7-cd8c2429290c",
   "metadata": {
    "colab": {
     "base_uri": "https://localhost:8080/",
     "height": 947
    },
    "id": "54lUHIYeMgwL",
    "outputId": "7209ceab-ea20-440a-d239-e2deb72054cb"
   },
   "outputs": [
    {
     "data": {
      "text/html": [
       "<div>\n",
       "<style scoped>\n",
       "    .dataframe tbody tr th:only-of-type {\n",
       "        vertical-align: middle;\n",
       "    }\n",
       "\n",
       "    .dataframe tbody tr th {\n",
       "        vertical-align: top;\n",
       "    }\n",
       "\n",
       "    .dataframe thead th {\n",
       "        text-align: right;\n",
       "    }\n",
       "</style>\n",
       "<table border=\"1\" class=\"dataframe\">\n",
       "  <thead>\n",
       "    <tr style=\"text-align: right;\">\n",
       "      <th></th>\n",
       "      <th>soma_joinid</th>\n",
       "      <th>citation</th>\n",
       "      <th>collection_id</th>\n",
       "      <th>collection_name</th>\n",
       "      <th>collection_doi</th>\n",
       "      <th>collection_doi_label</th>\n",
       "      <th>dataset_id</th>\n",
       "      <th>dataset_version_id</th>\n",
       "      <th>dataset_title</th>\n",
       "      <th>dataset_h5ad_path</th>\n",
       "      <th>dataset_total_cell_count</th>\n",
       "    </tr>\n",
       "  </thead>\n",
       "  <tbody>\n",
       "    <tr>\n",
       "      <th>0</th>\n",
       "      <td>0</td>\n",
       "      <td>Publication: https://doi.org/10.1002/hep4.1854...</td>\n",
       "      <td>44531dd9-1388-4416-a117-af0a99de2294</td>\n",
       "      <td>Single-Cell, Single-Nucleus, and Spatial RNA S...</td>\n",
       "      <td>10.1002/hep4.1854</td>\n",
       "      <td>Andrews et al. (2022) Hepatology Communications</td>\n",
       "      <td>0895c838-e550-48a3-a777-dbcd35d30272</td>\n",
       "      <td>aaab3abd-624a-442e-b62b-3f2edb10b45e</td>\n",
       "      <td>Healthy human liver: B cells</td>\n",
       "      <td>0895c838-e550-48a3-a777-dbcd35d30272.h5ad</td>\n",
       "      <td>146</td>\n",
       "    </tr>\n",
       "    <tr>\n",
       "      <th>1</th>\n",
       "      <td>1</td>\n",
       "      <td>Publication: https://doi.org/10.1126/sciimmuno...</td>\n",
       "      <td>3a2af25b-2338-4266-aad3-aa8d07473f50</td>\n",
       "      <td>Single-cell analysis of human B cell maturatio...</td>\n",
       "      <td>10.1126/sciimmunol.abe6291</td>\n",
       "      <td>King et al. (2021) Sci. Immunol.</td>\n",
       "      <td>00ff600e-6e2e-4d76-846f-0eec4f0ae417</td>\n",
       "      <td>50c1d621-995d-4386-9fcb-5c70fcdf8d66</td>\n",
       "      <td>Human tonsil nonlymphoid cells scRNA</td>\n",
       "      <td>00ff600e-6e2e-4d76-846f-0eec4f0ae417.h5ad</td>\n",
       "      <td>363</td>\n",
       "    </tr>\n",
       "    <tr>\n",
       "      <th>2</th>\n",
       "      <td>2</td>\n",
       "      <td>Publication: https://doi.org/10.1038/s41593-02...</td>\n",
       "      <td>180bff9c-c8a5-4539-b13b-ddbc00d643e6</td>\n",
       "      <td>Molecular characterization of selectively vuln...</td>\n",
       "      <td>10.1038/s41593-020-00764-7</td>\n",
       "      <td>Leng et al. (2021) Nat Neurosci</td>\n",
       "      <td>bdacc907-7c26-419f-8808-969eab3ca2e8</td>\n",
       "      <td>e95b54b1-8656-4fe8-9f53-6fdd97f397ba</td>\n",
       "      <td>Molecular characterization of selectively vuln...</td>\n",
       "      <td>bdacc907-7c26-419f-8808-969eab3ca2e8.h5ad</td>\n",
       "      <td>3799</td>\n",
       "    </tr>\n",
       "    <tr>\n",
       "      <th>3</th>\n",
       "      <td>3</td>\n",
       "      <td>Publication: https://doi.org/10.1038/s41467-02...</td>\n",
       "      <td>bf325905-5e8e-42e3-933d-9a9053e9af80</td>\n",
       "      <td>Single-cell Atlas of common variable immunodef...</td>\n",
       "      <td>10.1038/s41467-022-29450-x</td>\n",
       "      <td>Rodríguez-Ubreva et al. (2022) Nat Commun</td>\n",
       "      <td>a5d95a42-0137-496f-8a60-101e17f263c8</td>\n",
       "      <td>d6e742c5-f6e5-42f4-8064-622783542f6b</td>\n",
       "      <td>Steady-state B cells - scRNA-seq</td>\n",
       "      <td>a5d95a42-0137-496f-8a60-101e17f263c8.h5ad</td>\n",
       "      <td>1324</td>\n",
       "    </tr>\n",
       "    <tr>\n",
       "      <th>4</th>\n",
       "      <td>4</td>\n",
       "      <td>Publication: https://doi.org/10.1038/s41590-02...</td>\n",
       "      <td>93eebe82-d8c3-41bc-a906-63b5b5f24a9d</td>\n",
       "      <td>Single-cell proteo-genomic reference maps of t...</td>\n",
       "      <td>10.1038/s41590-021-01059-0</td>\n",
       "      <td>Triana et al. (2021) Nat Immunol</td>\n",
       "      <td>d3566d6a-a455-4a15-980f-45eb29114cab</td>\n",
       "      <td>61f15353-e598-43b5-bb5a-80ac44a0cf0b</td>\n",
       "      <td>blood and bone marrow from a healthy young donor</td>\n",
       "      <td>d3566d6a-a455-4a15-980f-45eb29114cab.h5ad</td>\n",
       "      <td>15502</td>\n",
       "    </tr>\n",
       "    <tr>\n",
       "      <th>...</th>\n",
       "      <td>...</td>\n",
       "      <td>...</td>\n",
       "      <td>...</td>\n",
       "      <td>...</td>\n",
       "      <td>...</td>\n",
       "      <td>...</td>\n",
       "      <td>...</td>\n",
       "      <td>...</td>\n",
       "      <td>...</td>\n",
       "      <td>...</td>\n",
       "      <td>...</td>\n",
       "    </tr>\n",
       "    <tr>\n",
       "      <th>895</th>\n",
       "      <td>895</td>\n",
       "      <td>Publication: https://doi.org/10.1038/s41586-02...</td>\n",
       "      <td>45d5d2c3-bc28-4814-aed6-0bb6f0e11c82</td>\n",
       "      <td>A single-cell transcriptional timelapse of mou...</td>\n",
       "      <td>10.1038/s41586-024-07069-w</td>\n",
       "      <td>Qiu et al. (2024) Nature</td>\n",
       "      <td>0bce33ed-455c-4e12-93f8-b7b04a2de4a1</td>\n",
       "      <td>fa49086f-0e18-4f4b-908d-beefdb00ac3e</td>\n",
       "      <td>Whole dataset: Normalized subset 2</td>\n",
       "      <td>0bce33ed-455c-4e12-93f8-b7b04a2de4a1.h5ad</td>\n",
       "      <td>2863559</td>\n",
       "    </tr>\n",
       "    <tr>\n",
       "      <th>896</th>\n",
       "      <td>896</td>\n",
       "      <td>Publication: https://doi.org/10.1101/2023.05.0...</td>\n",
       "      <td>1ca90a2d-2943-483d-b678-b809bf464c30</td>\n",
       "      <td>SEA-AD: Seattle Alzheimer’s Disease Brain Cell...</td>\n",
       "      <td>10.1101/2023.05.08.539485</td>\n",
       "      <td>Gabitto et al. (2023) bioRxiv</td>\n",
       "      <td>c2876b1b-06d8-4d96-a56b-5304f815b99a</td>\n",
       "      <td>291ce735-8d18-4a2f-a6bc-98f75f8d6bc0</td>\n",
       "      <td>Whole Taxonomy - MTG: Seattle Alzheimer's Dise...</td>\n",
       "      <td>c2876b1b-06d8-4d96-a56b-5304f815b99a.h5ad</td>\n",
       "      <td>1226855</td>\n",
       "    </tr>\n",
       "    <tr>\n",
       "      <th>897</th>\n",
       "      <td>897</td>\n",
       "      <td>Publication: https://doi.org/10.1101/2023.05.0...</td>\n",
       "      <td>1ca90a2d-2943-483d-b678-b809bf464c30</td>\n",
       "      <td>SEA-AD: Seattle Alzheimer’s Disease Brain Cell...</td>\n",
       "      <td>10.1101/2023.05.08.539485</td>\n",
       "      <td>Gabitto et al. (2023) bioRxiv</td>\n",
       "      <td>6f7fd0f1-a2ed-4ff1-80d3-33dde731cbc3</td>\n",
       "      <td>e9bffe1d-9f07-4467-9230-c080b362e737</td>\n",
       "      <td>Whole Taxonomy - DLPFC: Seattle Alzheimer's Di...</td>\n",
       "      <td>6f7fd0f1-a2ed-4ff1-80d3-33dde731cbc3.h5ad</td>\n",
       "      <td>1309414</td>\n",
       "    </tr>\n",
       "    <tr>\n",
       "      <th>898</th>\n",
       "      <td>898</td>\n",
       "      <td>Publication: https://doi.org/10.1038/s41586-02...</td>\n",
       "      <td>45d5d2c3-bc28-4814-aed6-0bb6f0e11c82</td>\n",
       "      <td>A single-cell transcriptional timelapse of mou...</td>\n",
       "      <td>10.1038/s41586-024-07069-w</td>\n",
       "      <td>Qiu et al. (2024) Nature</td>\n",
       "      <td>dcfa2614-7ca7-4d82-814c-350626eccb26</td>\n",
       "      <td>b8cfe635-1cf6-4a6d-8bc0-5059477b9a8c</td>\n",
       "      <td>Major cell cluster: Mesoderm</td>\n",
       "      <td>dcfa2614-7ca7-4d82-814c-350626eccb26.h5ad</td>\n",
       "      <td>3267338</td>\n",
       "    </tr>\n",
       "    <tr>\n",
       "      <th>899</th>\n",
       "      <td>899</td>\n",
       "      <td>Publication: https://doi.org/10.1038/s41586-02...</td>\n",
       "      <td>45d5d2c3-bc28-4814-aed6-0bb6f0e11c82</td>\n",
       "      <td>A single-cell transcriptional timelapse of mou...</td>\n",
       "      <td>10.1038/s41586-024-07069-w</td>\n",
       "      <td>Qiu et al. (2024) Nature</td>\n",
       "      <td>dcfd4feb-18a3-4b30-81d7-1b0c544a8ab3</td>\n",
       "      <td>2d4c483c-0495-4747-8ab5-c21a955852f8</td>\n",
       "      <td>Whole dataset: Raw counts only</td>\n",
       "      <td>dcfd4feb-18a3-4b30-81d7-1b0c544a8ab3.h5ad</td>\n",
       "      <td>11441407</td>\n",
       "    </tr>\n",
       "  </tbody>\n",
       "</table>\n",
       "<p>900 rows × 11 columns</p>\n",
       "</div>"
      ],
      "text/plain": [
       "     soma_joinid                                           citation  \\\n",
       "0              0  Publication: https://doi.org/10.1002/hep4.1854...   \n",
       "1              1  Publication: https://doi.org/10.1126/sciimmuno...   \n",
       "2              2  Publication: https://doi.org/10.1038/s41593-02...   \n",
       "3              3  Publication: https://doi.org/10.1038/s41467-02...   \n",
       "4              4  Publication: https://doi.org/10.1038/s41590-02...   \n",
       "..           ...                                                ...   \n",
       "895          895  Publication: https://doi.org/10.1038/s41586-02...   \n",
       "896          896  Publication: https://doi.org/10.1101/2023.05.0...   \n",
       "897          897  Publication: https://doi.org/10.1101/2023.05.0...   \n",
       "898          898  Publication: https://doi.org/10.1038/s41586-02...   \n",
       "899          899  Publication: https://doi.org/10.1038/s41586-02...   \n",
       "\n",
       "                            collection_id  \\\n",
       "0    44531dd9-1388-4416-a117-af0a99de2294   \n",
       "1    3a2af25b-2338-4266-aad3-aa8d07473f50   \n",
       "2    180bff9c-c8a5-4539-b13b-ddbc00d643e6   \n",
       "3    bf325905-5e8e-42e3-933d-9a9053e9af80   \n",
       "4    93eebe82-d8c3-41bc-a906-63b5b5f24a9d   \n",
       "..                                    ...   \n",
       "895  45d5d2c3-bc28-4814-aed6-0bb6f0e11c82   \n",
       "896  1ca90a2d-2943-483d-b678-b809bf464c30   \n",
       "897  1ca90a2d-2943-483d-b678-b809bf464c30   \n",
       "898  45d5d2c3-bc28-4814-aed6-0bb6f0e11c82   \n",
       "899  45d5d2c3-bc28-4814-aed6-0bb6f0e11c82   \n",
       "\n",
       "                                       collection_name  \\\n",
       "0    Single-Cell, Single-Nucleus, and Spatial RNA S...   \n",
       "1    Single-cell analysis of human B cell maturatio...   \n",
       "2    Molecular characterization of selectively vuln...   \n",
       "3    Single-cell Atlas of common variable immunodef...   \n",
       "4    Single-cell proteo-genomic reference maps of t...   \n",
       "..                                                 ...   \n",
       "895  A single-cell transcriptional timelapse of mou...   \n",
       "896  SEA-AD: Seattle Alzheimer’s Disease Brain Cell...   \n",
       "897  SEA-AD: Seattle Alzheimer’s Disease Brain Cell...   \n",
       "898  A single-cell transcriptional timelapse of mou...   \n",
       "899  A single-cell transcriptional timelapse of mou...   \n",
       "\n",
       "                 collection_doi  \\\n",
       "0             10.1002/hep4.1854   \n",
       "1    10.1126/sciimmunol.abe6291   \n",
       "2    10.1038/s41593-020-00764-7   \n",
       "3    10.1038/s41467-022-29450-x   \n",
       "4    10.1038/s41590-021-01059-0   \n",
       "..                          ...   \n",
       "895  10.1038/s41586-024-07069-w   \n",
       "896   10.1101/2023.05.08.539485   \n",
       "897   10.1101/2023.05.08.539485   \n",
       "898  10.1038/s41586-024-07069-w   \n",
       "899  10.1038/s41586-024-07069-w   \n",
       "\n",
       "                                collection_doi_label  \\\n",
       "0    Andrews et al. (2022) Hepatology Communications   \n",
       "1                   King et al. (2021) Sci. Immunol.   \n",
       "2                    Leng et al. (2021) Nat Neurosci   \n",
       "3          Rodríguez-Ubreva et al. (2022) Nat Commun   \n",
       "4                   Triana et al. (2021) Nat Immunol   \n",
       "..                                               ...   \n",
       "895                         Qiu et al. (2024) Nature   \n",
       "896                    Gabitto et al. (2023) bioRxiv   \n",
       "897                    Gabitto et al. (2023) bioRxiv   \n",
       "898                         Qiu et al. (2024) Nature   \n",
       "899                         Qiu et al. (2024) Nature   \n",
       "\n",
       "                               dataset_id  \\\n",
       "0    0895c838-e550-48a3-a777-dbcd35d30272   \n",
       "1    00ff600e-6e2e-4d76-846f-0eec4f0ae417   \n",
       "2    bdacc907-7c26-419f-8808-969eab3ca2e8   \n",
       "3    a5d95a42-0137-496f-8a60-101e17f263c8   \n",
       "4    d3566d6a-a455-4a15-980f-45eb29114cab   \n",
       "..                                    ...   \n",
       "895  0bce33ed-455c-4e12-93f8-b7b04a2de4a1   \n",
       "896  c2876b1b-06d8-4d96-a56b-5304f815b99a   \n",
       "897  6f7fd0f1-a2ed-4ff1-80d3-33dde731cbc3   \n",
       "898  dcfa2614-7ca7-4d82-814c-350626eccb26   \n",
       "899  dcfd4feb-18a3-4b30-81d7-1b0c544a8ab3   \n",
       "\n",
       "                       dataset_version_id  \\\n",
       "0    aaab3abd-624a-442e-b62b-3f2edb10b45e   \n",
       "1    50c1d621-995d-4386-9fcb-5c70fcdf8d66   \n",
       "2    e95b54b1-8656-4fe8-9f53-6fdd97f397ba   \n",
       "3    d6e742c5-f6e5-42f4-8064-622783542f6b   \n",
       "4    61f15353-e598-43b5-bb5a-80ac44a0cf0b   \n",
       "..                                    ...   \n",
       "895  fa49086f-0e18-4f4b-908d-beefdb00ac3e   \n",
       "896  291ce735-8d18-4a2f-a6bc-98f75f8d6bc0   \n",
       "897  e9bffe1d-9f07-4467-9230-c080b362e737   \n",
       "898  b8cfe635-1cf6-4a6d-8bc0-5059477b9a8c   \n",
       "899  2d4c483c-0495-4747-8ab5-c21a955852f8   \n",
       "\n",
       "                                         dataset_title  \\\n",
       "0                         Healthy human liver: B cells   \n",
       "1                 Human tonsil nonlymphoid cells scRNA   \n",
       "2    Molecular characterization of selectively vuln...   \n",
       "3                     Steady-state B cells - scRNA-seq   \n",
       "4     blood and bone marrow from a healthy young donor   \n",
       "..                                                 ...   \n",
       "895                 Whole dataset: Normalized subset 2   \n",
       "896  Whole Taxonomy - MTG: Seattle Alzheimer's Dise...   \n",
       "897  Whole Taxonomy - DLPFC: Seattle Alzheimer's Di...   \n",
       "898                       Major cell cluster: Mesoderm   \n",
       "899                     Whole dataset: Raw counts only   \n",
       "\n",
       "                             dataset_h5ad_path  dataset_total_cell_count  \n",
       "0    0895c838-e550-48a3-a777-dbcd35d30272.h5ad                       146  \n",
       "1    00ff600e-6e2e-4d76-846f-0eec4f0ae417.h5ad                       363  \n",
       "2    bdacc907-7c26-419f-8808-969eab3ca2e8.h5ad                      3799  \n",
       "3    a5d95a42-0137-496f-8a60-101e17f263c8.h5ad                      1324  \n",
       "4    d3566d6a-a455-4a15-980f-45eb29114cab.h5ad                     15502  \n",
       "..                                         ...                       ...  \n",
       "895  0bce33ed-455c-4e12-93f8-b7b04a2de4a1.h5ad                   2863559  \n",
       "896  c2876b1b-06d8-4d96-a56b-5304f815b99a.h5ad                   1226855  \n",
       "897  6f7fd0f1-a2ed-4ff1-80d3-33dde731cbc3.h5ad                   1309414  \n",
       "898  dcfa2614-7ca7-4d82-814c-350626eccb26.h5ad                   3267338  \n",
       "899  dcfd4feb-18a3-4b30-81d7-1b0c544a8ab3.h5ad                  11441407  \n",
       "\n",
       "[900 rows x 11 columns]"
      ]
     },
     "execution_count": 20,
     "metadata": {},
     "output_type": "execute_result"
    }
   ],
   "source": [
    "census[\"census_info\"][\"datasets\"].read().concat().to_pandas()"
   ]
  },
  {
   "cell_type": "markdown",
   "id": "00a8df1b-0336-4875-ae6c-9767ee4cde5d",
   "metadata": {
    "id": "ihxvtyH4Vz2B"
   },
   "source": [
    "#### Reading gene metadata\n",
    "\n",
    "Reading gene metadata is similar to reading cell metadata. However, gene data frames are located inside SOMA Measurements. This allows for multi-modal data within an `Experiment`: the same observation (cell) can have a different set of features for each type of measurement (e.g. genes, proteins).\n",
    "\n",
    "To read the gene metadata:"
   ]
  },
  {
   "cell_type": "code",
   "execution_count": 21,
   "id": "013d1e5d-0ba1-4ee5-b3c8-9fed9dc95eb1",
   "metadata": {
    "colab": {
     "base_uri": "https://localhost:8080/",
     "height": 423
    },
    "id": "wsskajc-VAtD",
    "outputId": "ca82e9ee-5a03-446f-a3c5-b91baec7055d"
   },
   "outputs": [
    {
     "data": {
      "text/html": [
       "<div>\n",
       "<style scoped>\n",
       "    .dataframe tbody tr th:only-of-type {\n",
       "        vertical-align: middle;\n",
       "    }\n",
       "\n",
       "    .dataframe tbody tr th {\n",
       "        vertical-align: top;\n",
       "    }\n",
       "\n",
       "    .dataframe thead th {\n",
       "        text-align: right;\n",
       "    }\n",
       "</style>\n",
       "<table border=\"1\" class=\"dataframe\">\n",
       "  <thead>\n",
       "    <tr style=\"text-align: right;\">\n",
       "      <th></th>\n",
       "      <th>soma_joinid</th>\n",
       "      <th>feature_id</th>\n",
       "      <th>feature_name</th>\n",
       "      <th>feature_length</th>\n",
       "      <th>nnz</th>\n",
       "      <th>n_measured_obs</th>\n",
       "    </tr>\n",
       "  </thead>\n",
       "  <tbody>\n",
       "    <tr>\n",
       "      <th>0</th>\n",
       "      <td>0</td>\n",
       "      <td>ENSG00000000003</td>\n",
       "      <td>TSPAN6</td>\n",
       "      <td>4530</td>\n",
       "      <td>4811135</td>\n",
       "      <td>77128603</td>\n",
       "    </tr>\n",
       "    <tr>\n",
       "      <th>1</th>\n",
       "      <td>1</td>\n",
       "      <td>ENSG00000000005</td>\n",
       "      <td>TNMD</td>\n",
       "      <td>1476</td>\n",
       "      <td>269136</td>\n",
       "      <td>64017621</td>\n",
       "    </tr>\n",
       "    <tr>\n",
       "      <th>2</th>\n",
       "      <td>2</td>\n",
       "      <td>ENSG00000000419</td>\n",
       "      <td>DPM1</td>\n",
       "      <td>9276</td>\n",
       "      <td>18420588</td>\n",
       "      <td>77502438</td>\n",
       "    </tr>\n",
       "    <tr>\n",
       "      <th>3</th>\n",
       "      <td>3</td>\n",
       "      <td>ENSG00000000457</td>\n",
       "      <td>SCYL3</td>\n",
       "      <td>6883</td>\n",
       "      <td>9268173</td>\n",
       "      <td>76952827</td>\n",
       "    </tr>\n",
       "    <tr>\n",
       "      <th>4</th>\n",
       "      <td>4</td>\n",
       "      <td>ENSG00000000460</td>\n",
       "      <td>C1orf112</td>\n",
       "      <td>5970</td>\n",
       "      <td>6484239</td>\n",
       "      <td>76979490</td>\n",
       "    </tr>\n",
       "    <tr>\n",
       "      <th>...</th>\n",
       "      <td>...</td>\n",
       "      <td>...</td>\n",
       "      <td>...</td>\n",
       "      <td>...</td>\n",
       "      <td>...</td>\n",
       "      <td>...</td>\n",
       "    </tr>\n",
       "    <tr>\n",
       "      <th>60532</th>\n",
       "      <td>60532</td>\n",
       "      <td>ENSG00000288718</td>\n",
       "      <td>ENSG00000288718.1</td>\n",
       "      <td>1070</td>\n",
       "      <td>4</td>\n",
       "      <td>1248980</td>\n",
       "    </tr>\n",
       "    <tr>\n",
       "      <th>60533</th>\n",
       "      <td>60533</td>\n",
       "      <td>ENSG00000288719</td>\n",
       "      <td>ENSG00000288719.1</td>\n",
       "      <td>4252</td>\n",
       "      <td>2826</td>\n",
       "      <td>1248980</td>\n",
       "    </tr>\n",
       "    <tr>\n",
       "      <th>60534</th>\n",
       "      <td>60534</td>\n",
       "      <td>ENSG00000288724</td>\n",
       "      <td>ENSG00000288724.1</td>\n",
       "      <td>625</td>\n",
       "      <td>36</td>\n",
       "      <td>1248980</td>\n",
       "    </tr>\n",
       "    <tr>\n",
       "      <th>60535</th>\n",
       "      <td>60535</td>\n",
       "      <td>ENSG00000290735</td>\n",
       "      <td>ENSG00000290735.1</td>\n",
       "      <td>4103</td>\n",
       "      <td>128</td>\n",
       "      <td>49359</td>\n",
       "    </tr>\n",
       "    <tr>\n",
       "      <th>60536</th>\n",
       "      <td>60536</td>\n",
       "      <td>ENSG00000289810</td>\n",
       "      <td>ENSG00000289810.1</td>\n",
       "      <td>1205</td>\n",
       "      <td>82</td>\n",
       "      <td>48478</td>\n",
       "    </tr>\n",
       "  </tbody>\n",
       "</table>\n",
       "<p>60537 rows × 6 columns</p>\n",
       "</div>"
      ],
      "text/plain": [
       "       soma_joinid       feature_id       feature_name  feature_length  \\\n",
       "0                0  ENSG00000000003             TSPAN6            4530   \n",
       "1                1  ENSG00000000005               TNMD            1476   \n",
       "2                2  ENSG00000000419               DPM1            9276   \n",
       "3                3  ENSG00000000457              SCYL3            6883   \n",
       "4                4  ENSG00000000460           C1orf112            5970   \n",
       "...            ...              ...                ...             ...   \n",
       "60532        60532  ENSG00000288718  ENSG00000288718.1            1070   \n",
       "60533        60533  ENSG00000288719  ENSG00000288719.1            4252   \n",
       "60534        60534  ENSG00000288724  ENSG00000288724.1             625   \n",
       "60535        60535  ENSG00000290735  ENSG00000290735.1            4103   \n",
       "60536        60536  ENSG00000289810  ENSG00000289810.1            1205   \n",
       "\n",
       "            nnz  n_measured_obs  \n",
       "0       4811135        77128603  \n",
       "1        269136        64017621  \n",
       "2      18420588        77502438  \n",
       "3       9268173        76952827  \n",
       "4       6484239        76979490  \n",
       "...         ...             ...  \n",
       "60532         4         1248980  \n",
       "60533      2826         1248980  \n",
       "60534        36         1248980  \n",
       "60535       128           49359  \n",
       "60536        82           48478  \n",
       "\n",
       "[60537 rows x 6 columns]"
      ]
     },
     "execution_count": 21,
     "metadata": {},
     "output_type": "execute_result"
    }
   ],
   "source": [
    "# Build iterator\n",
    "iterator = census[\"census_data\"][\"homo_sapiens\"].ms[\"RNA\"].var.read()\n",
    "\n",
    "# Grab first chunk\n",
    "table_chunk=next(iterator)\n",
    "\n",
    "# Convert to pandas\n",
    "table_chunk.to_pandas()"
   ]
  },
  {
   "cell_type": "markdown",
   "id": "646881a1-8725-4844-a70c-f540cbf66e93",
   "metadata": {
    "id": "M_0EEQmnNh_6"
   },
   "source": [
    "#### Reading a Data Frame with row filters\n",
    "\n",
    "SOMA makes it easy and efficient to only select a subset of rows based on a query filter. This helps when you want to grab data or metadata only for a specific set of cells or genes based on the columns available in these data frames.\n",
    "\n",
    "For example, to fetch all *primary cells*[^1] you can add the following:\n",
    "\n",
    "[^1]: **🚨 NOTE:** cells annotated as `is_primary_data = True` are those marked as the original contribution; some cells are represented more than once in the Census, due to their inclusion in multiple datasets."
   ]
  },
  {
   "cell_type": "code",
   "execution_count": 22,
   "id": "37f6c232-b015-47a3-9a13-ddbdd273fef2",
   "metadata": {
    "colab": {
     "base_uri": "https://localhost:8080/",
     "height": 964
    },
    "id": "2UuuVnlgNnGg",
    "outputId": "a63eabcb-5221-4fa9-d970-896fa9e519d4"
   },
   "outputs": [
    {
     "data": {
      "text/html": [
       "<div>\n",
       "<style scoped>\n",
       "    .dataframe tbody tr th:only-of-type {\n",
       "        vertical-align: middle;\n",
       "    }\n",
       "\n",
       "    .dataframe tbody tr th {\n",
       "        vertical-align: top;\n",
       "    }\n",
       "\n",
       "    .dataframe thead th {\n",
       "        text-align: right;\n",
       "    }\n",
       "</style>\n",
       "<table border=\"1\" class=\"dataframe\">\n",
       "  <thead>\n",
       "    <tr style=\"text-align: right;\">\n",
       "      <th></th>\n",
       "      <th>soma_joinid</th>\n",
       "      <th>dataset_id</th>\n",
       "      <th>assay</th>\n",
       "      <th>assay_ontology_term_id</th>\n",
       "      <th>cell_type</th>\n",
       "      <th>cell_type_ontology_term_id</th>\n",
       "      <th>development_stage</th>\n",
       "      <th>development_stage_ontology_term_id</th>\n",
       "      <th>disease</th>\n",
       "      <th>disease_ontology_term_id</th>\n",
       "      <th>...</th>\n",
       "      <th>tissue</th>\n",
       "      <th>tissue_ontology_term_id</th>\n",
       "      <th>tissue_type</th>\n",
       "      <th>tissue_general</th>\n",
       "      <th>tissue_general_ontology_term_id</th>\n",
       "      <th>raw_sum</th>\n",
       "      <th>nnz</th>\n",
       "      <th>raw_mean_nnz</th>\n",
       "      <th>raw_variance_nnz</th>\n",
       "      <th>n_measured_vars</th>\n",
       "    </tr>\n",
       "  </thead>\n",
       "  <tbody>\n",
       "    <tr>\n",
       "      <th>0</th>\n",
       "      <td>4308</td>\n",
       "      <td>a5d95a42-0137-496f-8a60-101e17f263c8</td>\n",
       "      <td>Smart-seq2</td>\n",
       "      <td>EFO:0008931</td>\n",
       "      <td>naive B cell</td>\n",
       "      <td>CL:0000788</td>\n",
       "      <td>26-year-old human stage</td>\n",
       "      <td>HsapDv:0000120</td>\n",
       "      <td>normal</td>\n",
       "      <td>PATO:0000461</td>\n",
       "      <td>...</td>\n",
       "      <td>blood</td>\n",
       "      <td>UBERON:0000178</td>\n",
       "      <td>tissue</td>\n",
       "      <td>blood</td>\n",
       "      <td>UBERON:0000178</td>\n",
       "      <td>17691.0</td>\n",
       "      <td>1199</td>\n",
       "      <td>14.754796</td>\n",
       "      <td>624.620960</td>\n",
       "      <td>19149</td>\n",
       "    </tr>\n",
       "    <tr>\n",
       "      <th>1</th>\n",
       "      <td>4309</td>\n",
       "      <td>a5d95a42-0137-496f-8a60-101e17f263c8</td>\n",
       "      <td>Smart-seq2</td>\n",
       "      <td>EFO:0008931</td>\n",
       "      <td>naive B cell</td>\n",
       "      <td>CL:0000788</td>\n",
       "      <td>26-year-old human stage</td>\n",
       "      <td>HsapDv:0000120</td>\n",
       "      <td>normal</td>\n",
       "      <td>PATO:0000461</td>\n",
       "      <td>...</td>\n",
       "      <td>blood</td>\n",
       "      <td>UBERON:0000178</td>\n",
       "      <td>tissue</td>\n",
       "      <td>blood</td>\n",
       "      <td>UBERON:0000178</td>\n",
       "      <td>13612.0</td>\n",
       "      <td>841</td>\n",
       "      <td>16.185493</td>\n",
       "      <td>1394.944123</td>\n",
       "      <td>19149</td>\n",
       "    </tr>\n",
       "    <tr>\n",
       "      <th>2</th>\n",
       "      <td>4310</td>\n",
       "      <td>a5d95a42-0137-496f-8a60-101e17f263c8</td>\n",
       "      <td>Smart-seq2</td>\n",
       "      <td>EFO:0008931</td>\n",
       "      <td>naive B cell</td>\n",
       "      <td>CL:0000788</td>\n",
       "      <td>26-year-old human stage</td>\n",
       "      <td>HsapDv:0000120</td>\n",
       "      <td>normal</td>\n",
       "      <td>PATO:0000461</td>\n",
       "      <td>...</td>\n",
       "      <td>blood</td>\n",
       "      <td>UBERON:0000178</td>\n",
       "      <td>tissue</td>\n",
       "      <td>blood</td>\n",
       "      <td>UBERON:0000178</td>\n",
       "      <td>126774.0</td>\n",
       "      <td>1683</td>\n",
       "      <td>75.326203</td>\n",
       "      <td>42215.146798</td>\n",
       "      <td>19149</td>\n",
       "    </tr>\n",
       "    <tr>\n",
       "      <th>3</th>\n",
       "      <td>4311</td>\n",
       "      <td>a5d95a42-0137-496f-8a60-101e17f263c8</td>\n",
       "      <td>Smart-seq2</td>\n",
       "      <td>EFO:0008931</td>\n",
       "      <td>naive B cell</td>\n",
       "      <td>CL:0000788</td>\n",
       "      <td>26-year-old human stage</td>\n",
       "      <td>HsapDv:0000120</td>\n",
       "      <td>normal</td>\n",
       "      <td>PATO:0000461</td>\n",
       "      <td>...</td>\n",
       "      <td>blood</td>\n",
       "      <td>UBERON:0000178</td>\n",
       "      <td>tissue</td>\n",
       "      <td>blood</td>\n",
       "      <td>UBERON:0000178</td>\n",
       "      <td>14370.0</td>\n",
       "      <td>371</td>\n",
       "      <td>38.733154</td>\n",
       "      <td>4639.990763</td>\n",
       "      <td>19149</td>\n",
       "    </tr>\n",
       "    <tr>\n",
       "      <th>4</th>\n",
       "      <td>4312</td>\n",
       "      <td>a5d95a42-0137-496f-8a60-101e17f263c8</td>\n",
       "      <td>Smart-seq2</td>\n",
       "      <td>EFO:0008931</td>\n",
       "      <td>naive B cell</td>\n",
       "      <td>CL:0000788</td>\n",
       "      <td>26-year-old human stage</td>\n",
       "      <td>HsapDv:0000120</td>\n",
       "      <td>normal</td>\n",
       "      <td>PATO:0000461</td>\n",
       "      <td>...</td>\n",
       "      <td>blood</td>\n",
       "      <td>UBERON:0000178</td>\n",
       "      <td>tissue</td>\n",
       "      <td>blood</td>\n",
       "      <td>UBERON:0000178</td>\n",
       "      <td>13738.0</td>\n",
       "      <td>507</td>\n",
       "      <td>27.096647</td>\n",
       "      <td>3874.079574</td>\n",
       "      <td>19149</td>\n",
       "    </tr>\n",
       "    <tr>\n",
       "      <th>...</th>\n",
       "      <td>...</td>\n",
       "      <td>...</td>\n",
       "      <td>...</td>\n",
       "      <td>...</td>\n",
       "      <td>...</td>\n",
       "      <td>...</td>\n",
       "      <td>...</td>\n",
       "      <td>...</td>\n",
       "      <td>...</td>\n",
       "      <td>...</td>\n",
       "      <td>...</td>\n",
       "      <td>...</td>\n",
       "      <td>...</td>\n",
       "      <td>...</td>\n",
       "      <td>...</td>\n",
       "      <td>...</td>\n",
       "      <td>...</td>\n",
       "      <td>...</td>\n",
       "      <td>...</td>\n",
       "      <td>...</td>\n",
       "      <td>...</td>\n",
       "    </tr>\n",
       "    <tr>\n",
       "      <th>107369</th>\n",
       "      <td>286422</td>\n",
       "      <td>dc30c3ec-46d6-4cd8-8ec1-b544a3d0f503</td>\n",
       "      <td>10x 3' v2</td>\n",
       "      <td>EFO:0009899</td>\n",
       "      <td>neuron</td>\n",
       "      <td>CL:0000540</td>\n",
       "      <td>44-year-old human stage</td>\n",
       "      <td>HsapDv:0000138</td>\n",
       "      <td>multiple sclerosis</td>\n",
       "      <td>MONDO:0005301</td>\n",
       "      <td>...</td>\n",
       "      <td>brain</td>\n",
       "      <td>UBERON:0000955</td>\n",
       "      <td>tissue</td>\n",
       "      <td>brain</td>\n",
       "      <td>UBERON:0000955</td>\n",
       "      <td>2105.0</td>\n",
       "      <td>1357</td>\n",
       "      <td>1.551216</td>\n",
       "      <td>4.489447</td>\n",
       "      <td>20383</td>\n",
       "    </tr>\n",
       "    <tr>\n",
       "      <th>107370</th>\n",
       "      <td>286423</td>\n",
       "      <td>dc30c3ec-46d6-4cd8-8ec1-b544a3d0f503</td>\n",
       "      <td>10x 3' v2</td>\n",
       "      <td>EFO:0009899</td>\n",
       "      <td>neuron</td>\n",
       "      <td>CL:0000540</td>\n",
       "      <td>44-year-old human stage</td>\n",
       "      <td>HsapDv:0000138</td>\n",
       "      <td>multiple sclerosis</td>\n",
       "      <td>MONDO:0005301</td>\n",
       "      <td>...</td>\n",
       "      <td>brain</td>\n",
       "      <td>UBERON:0000955</td>\n",
       "      <td>tissue</td>\n",
       "      <td>brain</td>\n",
       "      <td>UBERON:0000955</td>\n",
       "      <td>1791.0</td>\n",
       "      <td>1168</td>\n",
       "      <td>1.533390</td>\n",
       "      <td>2.197684</td>\n",
       "      <td>20383</td>\n",
       "    </tr>\n",
       "    <tr>\n",
       "      <th>107371</th>\n",
       "      <td>286424</td>\n",
       "      <td>dc30c3ec-46d6-4cd8-8ec1-b544a3d0f503</td>\n",
       "      <td>10x 3' v2</td>\n",
       "      <td>EFO:0009899</td>\n",
       "      <td>neuron</td>\n",
       "      <td>CL:0000540</td>\n",
       "      <td>44-year-old human stage</td>\n",
       "      <td>HsapDv:0000138</td>\n",
       "      <td>multiple sclerosis</td>\n",
       "      <td>MONDO:0005301</td>\n",
       "      <td>...</td>\n",
       "      <td>brain</td>\n",
       "      <td>UBERON:0000955</td>\n",
       "      <td>tissue</td>\n",
       "      <td>brain</td>\n",
       "      <td>UBERON:0000955</td>\n",
       "      <td>4989.0</td>\n",
       "      <td>2761</td>\n",
       "      <td>1.806954</td>\n",
       "      <td>4.679024</td>\n",
       "      <td>20383</td>\n",
       "    </tr>\n",
       "    <tr>\n",
       "      <th>107372</th>\n",
       "      <td>286425</td>\n",
       "      <td>dc30c3ec-46d6-4cd8-8ec1-b544a3d0f503</td>\n",
       "      <td>10x 3' v2</td>\n",
       "      <td>EFO:0009899</td>\n",
       "      <td>neuron</td>\n",
       "      <td>CL:0000540</td>\n",
       "      <td>44-year-old human stage</td>\n",
       "      <td>HsapDv:0000138</td>\n",
       "      <td>multiple sclerosis</td>\n",
       "      <td>MONDO:0005301</td>\n",
       "      <td>...</td>\n",
       "      <td>brain</td>\n",
       "      <td>UBERON:0000955</td>\n",
       "      <td>tissue</td>\n",
       "      <td>brain</td>\n",
       "      <td>UBERON:0000955</td>\n",
       "      <td>5201.0</td>\n",
       "      <td>2811</td>\n",
       "      <td>1.850231</td>\n",
       "      <td>4.767241</td>\n",
       "      <td>20383</td>\n",
       "    </tr>\n",
       "    <tr>\n",
       "      <th>107373</th>\n",
       "      <td>286426</td>\n",
       "      <td>dc30c3ec-46d6-4cd8-8ec1-b544a3d0f503</td>\n",
       "      <td>10x 3' v2</td>\n",
       "      <td>EFO:0009899</td>\n",
       "      <td>neuron</td>\n",
       "      <td>CL:0000540</td>\n",
       "      <td>44-year-old human stage</td>\n",
       "      <td>HsapDv:0000138</td>\n",
       "      <td>multiple sclerosis</td>\n",
       "      <td>MONDO:0005301</td>\n",
       "      <td>...</td>\n",
       "      <td>brain</td>\n",
       "      <td>UBERON:0000955</td>\n",
       "      <td>tissue</td>\n",
       "      <td>brain</td>\n",
       "      <td>UBERON:0000955</td>\n",
       "      <td>5850.0</td>\n",
       "      <td>3008</td>\n",
       "      <td>1.944814</td>\n",
       "      <td>8.650096</td>\n",
       "      <td>20383</td>\n",
       "    </tr>\n",
       "  </tbody>\n",
       "</table>\n",
       "<p>107374 rows × 28 columns</p>\n",
       "</div>"
      ],
      "text/plain": [
       "        soma_joinid                            dataset_id       assay  \\\n",
       "0              4308  a5d95a42-0137-496f-8a60-101e17f263c8  Smart-seq2   \n",
       "1              4309  a5d95a42-0137-496f-8a60-101e17f263c8  Smart-seq2   \n",
       "2              4310  a5d95a42-0137-496f-8a60-101e17f263c8  Smart-seq2   \n",
       "3              4311  a5d95a42-0137-496f-8a60-101e17f263c8  Smart-seq2   \n",
       "4              4312  a5d95a42-0137-496f-8a60-101e17f263c8  Smart-seq2   \n",
       "...             ...                                   ...         ...   \n",
       "107369       286422  dc30c3ec-46d6-4cd8-8ec1-b544a3d0f503   10x 3' v2   \n",
       "107370       286423  dc30c3ec-46d6-4cd8-8ec1-b544a3d0f503   10x 3' v2   \n",
       "107371       286424  dc30c3ec-46d6-4cd8-8ec1-b544a3d0f503   10x 3' v2   \n",
       "107372       286425  dc30c3ec-46d6-4cd8-8ec1-b544a3d0f503   10x 3' v2   \n",
       "107373       286426  dc30c3ec-46d6-4cd8-8ec1-b544a3d0f503   10x 3' v2   \n",
       "\n",
       "       assay_ontology_term_id     cell_type cell_type_ontology_term_id  \\\n",
       "0                 EFO:0008931  naive B cell                 CL:0000788   \n",
       "1                 EFO:0008931  naive B cell                 CL:0000788   \n",
       "2                 EFO:0008931  naive B cell                 CL:0000788   \n",
       "3                 EFO:0008931  naive B cell                 CL:0000788   \n",
       "4                 EFO:0008931  naive B cell                 CL:0000788   \n",
       "...                       ...           ...                        ...   \n",
       "107369            EFO:0009899        neuron                 CL:0000540   \n",
       "107370            EFO:0009899        neuron                 CL:0000540   \n",
       "107371            EFO:0009899        neuron                 CL:0000540   \n",
       "107372            EFO:0009899        neuron                 CL:0000540   \n",
       "107373            EFO:0009899        neuron                 CL:0000540   \n",
       "\n",
       "              development_stage development_stage_ontology_term_id  \\\n",
       "0       26-year-old human stage                     HsapDv:0000120   \n",
       "1       26-year-old human stage                     HsapDv:0000120   \n",
       "2       26-year-old human stage                     HsapDv:0000120   \n",
       "3       26-year-old human stage                     HsapDv:0000120   \n",
       "4       26-year-old human stage                     HsapDv:0000120   \n",
       "...                         ...                                ...   \n",
       "107369  44-year-old human stage                     HsapDv:0000138   \n",
       "107370  44-year-old human stage                     HsapDv:0000138   \n",
       "107371  44-year-old human stage                     HsapDv:0000138   \n",
       "107372  44-year-old human stage                     HsapDv:0000138   \n",
       "107373  44-year-old human stage                     HsapDv:0000138   \n",
       "\n",
       "                   disease disease_ontology_term_id  ... tissue  \\\n",
       "0                   normal             PATO:0000461  ...  blood   \n",
       "1                   normal             PATO:0000461  ...  blood   \n",
       "2                   normal             PATO:0000461  ...  blood   \n",
       "3                   normal             PATO:0000461  ...  blood   \n",
       "4                   normal             PATO:0000461  ...  blood   \n",
       "...                    ...                      ...  ...    ...   \n",
       "107369  multiple sclerosis            MONDO:0005301  ...  brain   \n",
       "107370  multiple sclerosis            MONDO:0005301  ...  brain   \n",
       "107371  multiple sclerosis            MONDO:0005301  ...  brain   \n",
       "107372  multiple sclerosis            MONDO:0005301  ...  brain   \n",
       "107373  multiple sclerosis            MONDO:0005301  ...  brain   \n",
       "\n",
       "        tissue_ontology_term_id tissue_type tissue_general  \\\n",
       "0                UBERON:0000178      tissue          blood   \n",
       "1                UBERON:0000178      tissue          blood   \n",
       "2                UBERON:0000178      tissue          blood   \n",
       "3                UBERON:0000178      tissue          blood   \n",
       "4                UBERON:0000178      tissue          blood   \n",
       "...                         ...         ...            ...   \n",
       "107369           UBERON:0000955      tissue          brain   \n",
       "107370           UBERON:0000955      tissue          brain   \n",
       "107371           UBERON:0000955      tissue          brain   \n",
       "107372           UBERON:0000955      tissue          brain   \n",
       "107373           UBERON:0000955      tissue          brain   \n",
       "\n",
       "       tissue_general_ontology_term_id   raw_sum   nnz raw_mean_nnz  \\\n",
       "0                       UBERON:0000178   17691.0  1199    14.754796   \n",
       "1                       UBERON:0000178   13612.0   841    16.185493   \n",
       "2                       UBERON:0000178  126774.0  1683    75.326203   \n",
       "3                       UBERON:0000178   14370.0   371    38.733154   \n",
       "4                       UBERON:0000178   13738.0   507    27.096647   \n",
       "...                                ...       ...   ...          ...   \n",
       "107369                  UBERON:0000955    2105.0  1357     1.551216   \n",
       "107370                  UBERON:0000955    1791.0  1168     1.533390   \n",
       "107371                  UBERON:0000955    4989.0  2761     1.806954   \n",
       "107372                  UBERON:0000955    5201.0  2811     1.850231   \n",
       "107373                  UBERON:0000955    5850.0  3008     1.944814   \n",
       "\n",
       "       raw_variance_nnz n_measured_vars  \n",
       "0            624.620960           19149  \n",
       "1           1394.944123           19149  \n",
       "2          42215.146798           19149  \n",
       "3           4639.990763           19149  \n",
       "4           3874.079574           19149  \n",
       "...                 ...             ...  \n",
       "107369         4.489447           20383  \n",
       "107370         2.197684           20383  \n",
       "107371         4.679024           20383  \n",
       "107372         4.767241           20383  \n",
       "107373         8.650096           20383  \n",
       "\n",
       "[107374 rows x 28 columns]"
      ]
     },
     "execution_count": 22,
     "metadata": {},
     "output_type": "execute_result"
    }
   ],
   "source": [
    "# Build iterator with a query filter\n",
    "iterator = census[\"census_data\"][\"homo_sapiens\"].obs.read(value_filter = \"is_primary_data == True\")\n",
    "\n",
    "# Grab first chunk\n",
    "table_chunk=next(iterator)\n",
    "\n",
    "# Convert to pandas\n",
    "table_chunk.to_pandas()"
   ]
  },
  {
   "cell_type": "markdown",
   "id": "530a33fb-fc8e-407b-823d-2c2c547f887f",
   "metadata": {
    "id": "e6-UJc_RT7do"
   },
   "source": [
    "The `value_filter` works similalrly to [Pandas' `query` interface](https://pandas.pydata.org/docs/reference/api/pandas.DataFrame.query.html): it takes a string, which is evaluated as a predicate function, selecting rows that meet the criteria.\n",
    "\n",
    "More complex queries can combine multiple operators. For example, this fetches all epithelial cells from lung that are primary representations:"
   ]
  },
  {
   "cell_type": "code",
   "execution_count": 23,
   "id": "4d1804bb-6aca-40f4-8fc3-f7103b19745b",
   "metadata": {
    "colab": {
     "base_uri": "https://localhost:8080/",
     "height": 423
    },
    "id": "DPnPc5wkT0kL",
    "outputId": "dc29d6c7-9213-4c01-f12b-0c3495ee8a38"
   },
   "outputs": [
    {
     "data": {
      "text/html": [
       "<div>\n",
       "<style scoped>\n",
       "    .dataframe tbody tr th:only-of-type {\n",
       "        vertical-align: middle;\n",
       "    }\n",
       "\n",
       "    .dataframe tbody tr th {\n",
       "        vertical-align: top;\n",
       "    }\n",
       "\n",
       "    .dataframe thead th {\n",
       "        text-align: right;\n",
       "    }\n",
       "</style>\n",
       "<table border=\"1\" class=\"dataframe\">\n",
       "  <thead>\n",
       "    <tr style=\"text-align: right;\">\n",
       "      <th></th>\n",
       "      <th>assay</th>\n",
       "      <th>is_primary_data</th>\n",
       "      <th>cell_type</th>\n",
       "      <th>tissue_general</th>\n",
       "    </tr>\n",
       "  </thead>\n",
       "  <tbody>\n",
       "    <tr>\n",
       "      <th>0</th>\n",
       "      <td>Smart-seq2</td>\n",
       "      <td>True</td>\n",
       "      <td>epithelial cell</td>\n",
       "      <td>lung</td>\n",
       "    </tr>\n",
       "    <tr>\n",
       "      <th>1</th>\n",
       "      <td>Smart-seq2</td>\n",
       "      <td>True</td>\n",
       "      <td>epithelial cell</td>\n",
       "      <td>lung</td>\n",
       "    </tr>\n",
       "    <tr>\n",
       "      <th>2</th>\n",
       "      <td>Smart-seq2</td>\n",
       "      <td>True</td>\n",
       "      <td>epithelial cell</td>\n",
       "      <td>lung</td>\n",
       "    </tr>\n",
       "    <tr>\n",
       "      <th>3</th>\n",
       "      <td>Smart-seq2</td>\n",
       "      <td>True</td>\n",
       "      <td>epithelial cell</td>\n",
       "      <td>lung</td>\n",
       "    </tr>\n",
       "    <tr>\n",
       "      <th>4</th>\n",
       "      <td>Smart-seq2</td>\n",
       "      <td>True</td>\n",
       "      <td>epithelial cell</td>\n",
       "      <td>lung</td>\n",
       "    </tr>\n",
       "    <tr>\n",
       "      <th>...</th>\n",
       "      <td>...</td>\n",
       "      <td>...</td>\n",
       "      <td>...</td>\n",
       "      <td>...</td>\n",
       "    </tr>\n",
       "    <tr>\n",
       "      <th>59361</th>\n",
       "      <td>10x 5' v2</td>\n",
       "      <td>True</td>\n",
       "      <td>epithelial cell</td>\n",
       "      <td>lung</td>\n",
       "    </tr>\n",
       "    <tr>\n",
       "      <th>59362</th>\n",
       "      <td>10x 5' v2</td>\n",
       "      <td>True</td>\n",
       "      <td>epithelial cell</td>\n",
       "      <td>lung</td>\n",
       "    </tr>\n",
       "    <tr>\n",
       "      <th>59363</th>\n",
       "      <td>10x 5' v2</td>\n",
       "      <td>True</td>\n",
       "      <td>epithelial cell</td>\n",
       "      <td>lung</td>\n",
       "    </tr>\n",
       "    <tr>\n",
       "      <th>59364</th>\n",
       "      <td>10x 5' v2</td>\n",
       "      <td>True</td>\n",
       "      <td>epithelial cell</td>\n",
       "      <td>lung</td>\n",
       "    </tr>\n",
       "    <tr>\n",
       "      <th>59365</th>\n",
       "      <td>10x 5' v2</td>\n",
       "      <td>True</td>\n",
       "      <td>epithelial cell</td>\n",
       "      <td>lung</td>\n",
       "    </tr>\n",
       "  </tbody>\n",
       "</table>\n",
       "<p>59366 rows × 4 columns</p>\n",
       "</div>"
      ],
      "text/plain": [
       "            assay  is_primary_data        cell_type tissue_general\n",
       "0      Smart-seq2             True  epithelial cell           lung\n",
       "1      Smart-seq2             True  epithelial cell           lung\n",
       "2      Smart-seq2             True  epithelial cell           lung\n",
       "3      Smart-seq2             True  epithelial cell           lung\n",
       "4      Smart-seq2             True  epithelial cell           lung\n",
       "...           ...              ...              ...            ...\n",
       "59361   10x 5' v2             True  epithelial cell           lung\n",
       "59362   10x 5' v2             True  epithelial cell           lung\n",
       "59363   10x 5' v2             True  epithelial cell           lung\n",
       "59364   10x 5' v2             True  epithelial cell           lung\n",
       "59365   10x 5' v2             True  epithelial cell           lung\n",
       "\n",
       "[59366 rows x 4 columns]"
      ]
     },
     "execution_count": 23,
     "metadata": {},
     "output_type": "execute_result"
    }
   ],
   "source": [
    "filter = \"is_primary_data == True and cell_type == 'epithelial cell' and tissue_general == 'lung'\"\n",
    "columns = [\"assay\"]\n",
    "\n",
    "# Build iterator\n",
    "iterator = census[\"census_data\"][\"homo_sapiens\"].obs.read(\n",
    "    value_filter = filter,\n",
    "    column_names = columns,\n",
    ")\n",
    "\n",
    "# Grab first chunk\n",
    "table_chunk=next(iterator)\n",
    "\n",
    "# Convert to pandas\n",
    "table_chunk.to_pandas()"
   ]
  },
  {
   "cell_type": "markdown",
   "id": "5ae9e782-3bc4-4d36-ba87-939dad2b71c6",
   "metadata": {
    "id": "aBo0cnZ1Y2pg"
   },
   "source": [
    "#### Reading a Data Frame with coordinates\n",
    "\n",
    "Finally, you can also read a data frame via coordinates. This is useful when testing code with a small set of data."
   ]
  },
  {
   "cell_type": "code",
   "execution_count": 24,
   "id": "b71e5dc4-a062-4819-9b60-3a15c1daef7a",
   "metadata": {
    "colab": {
     "base_uri": "https://localhost:8080/",
     "height": 599
    },
    "id": "lSW63IWMZXyK",
    "outputId": "38cf90ae-d774-4cd8-fdf0-4fd24bdd48c3"
   },
   "outputs": [
    {
     "data": {
      "text/html": [
       "<div>\n",
       "<style scoped>\n",
       "    .dataframe tbody tr th:only-of-type {\n",
       "        vertical-align: middle;\n",
       "    }\n",
       "\n",
       "    .dataframe tbody tr th {\n",
       "        vertical-align: top;\n",
       "    }\n",
       "\n",
       "    .dataframe thead th {\n",
       "        text-align: right;\n",
       "    }\n",
       "</style>\n",
       "<table border=\"1\" class=\"dataframe\">\n",
       "  <thead>\n",
       "    <tr style=\"text-align: right;\">\n",
       "      <th></th>\n",
       "      <th>soma_joinid</th>\n",
       "      <th>dataset_id</th>\n",
       "      <th>assay</th>\n",
       "      <th>assay_ontology_term_id</th>\n",
       "      <th>cell_type</th>\n",
       "      <th>cell_type_ontology_term_id</th>\n",
       "      <th>development_stage</th>\n",
       "      <th>development_stage_ontology_term_id</th>\n",
       "      <th>disease</th>\n",
       "      <th>disease_ontology_term_id</th>\n",
       "      <th>...</th>\n",
       "      <th>tissue</th>\n",
       "      <th>tissue_ontology_term_id</th>\n",
       "      <th>tissue_type</th>\n",
       "      <th>tissue_general</th>\n",
       "      <th>tissue_general_ontology_term_id</th>\n",
       "      <th>raw_sum</th>\n",
       "      <th>nnz</th>\n",
       "      <th>raw_mean_nnz</th>\n",
       "      <th>raw_variance_nnz</th>\n",
       "      <th>n_measured_vars</th>\n",
       "    </tr>\n",
       "  </thead>\n",
       "  <tbody>\n",
       "    <tr>\n",
       "      <th>0</th>\n",
       "      <td>0</td>\n",
       "      <td>0895c838-e550-48a3-a777-dbcd35d30272</td>\n",
       "      <td>10x 3' v2</td>\n",
       "      <td>EFO:0009899</td>\n",
       "      <td>plasma cell</td>\n",
       "      <td>CL:0000786</td>\n",
       "      <td>human adult stage</td>\n",
       "      <td>HsapDv:0000087</td>\n",
       "      <td>normal</td>\n",
       "      <td>PATO:0000461</td>\n",
       "      <td>...</td>\n",
       "      <td>caudate lobe of liver</td>\n",
       "      <td>UBERON:0001117</td>\n",
       "      <td>tissue</td>\n",
       "      <td>liver</td>\n",
       "      <td>UBERON:0002107</td>\n",
       "      <td>1742.0</td>\n",
       "      <td>221</td>\n",
       "      <td>7.882353</td>\n",
       "      <td>6661.549733</td>\n",
       "      <td>13696</td>\n",
       "    </tr>\n",
       "    <tr>\n",
       "      <th>1</th>\n",
       "      <td>1</td>\n",
       "      <td>0895c838-e550-48a3-a777-dbcd35d30272</td>\n",
       "      <td>10x 3' v2</td>\n",
       "      <td>EFO:0009899</td>\n",
       "      <td>mature B cell</td>\n",
       "      <td>CL:0000785</td>\n",
       "      <td>human adult stage</td>\n",
       "      <td>HsapDv:0000087</td>\n",
       "      <td>normal</td>\n",
       "      <td>PATO:0000461</td>\n",
       "      <td>...</td>\n",
       "      <td>caudate lobe of liver</td>\n",
       "      <td>UBERON:0001117</td>\n",
       "      <td>tissue</td>\n",
       "      <td>liver</td>\n",
       "      <td>UBERON:0002107</td>\n",
       "      <td>278.0</td>\n",
       "      <td>143</td>\n",
       "      <td>1.944056</td>\n",
       "      <td>3.616567</td>\n",
       "      <td>13696</td>\n",
       "    </tr>\n",
       "    <tr>\n",
       "      <th>2</th>\n",
       "      <td>2</td>\n",
       "      <td>0895c838-e550-48a3-a777-dbcd35d30272</td>\n",
       "      <td>10x 3' v2</td>\n",
       "      <td>EFO:0009899</td>\n",
       "      <td>plasma cell</td>\n",
       "      <td>CL:0000786</td>\n",
       "      <td>human adult stage</td>\n",
       "      <td>HsapDv:0000087</td>\n",
       "      <td>normal</td>\n",
       "      <td>PATO:0000461</td>\n",
       "      <td>...</td>\n",
       "      <td>caudate lobe of liver</td>\n",
       "      <td>UBERON:0001117</td>\n",
       "      <td>tissue</td>\n",
       "      <td>liver</td>\n",
       "      <td>UBERON:0002107</td>\n",
       "      <td>3723.0</td>\n",
       "      <td>709</td>\n",
       "      <td>5.251058</td>\n",
       "      <td>2959.510327</td>\n",
       "      <td>13696</td>\n",
       "    </tr>\n",
       "    <tr>\n",
       "      <th>3</th>\n",
       "      <td>3</td>\n",
       "      <td>0895c838-e550-48a3-a777-dbcd35d30272</td>\n",
       "      <td>10x 3' v2</td>\n",
       "      <td>EFO:0009899</td>\n",
       "      <td>mature B cell</td>\n",
       "      <td>CL:0000785</td>\n",
       "      <td>human adult stage</td>\n",
       "      <td>HsapDv:0000087</td>\n",
       "      <td>normal</td>\n",
       "      <td>PATO:0000461</td>\n",
       "      <td>...</td>\n",
       "      <td>caudate lobe of liver</td>\n",
       "      <td>UBERON:0001117</td>\n",
       "      <td>tissue</td>\n",
       "      <td>liver</td>\n",
       "      <td>UBERON:0002107</td>\n",
       "      <td>351.0</td>\n",
       "      <td>179</td>\n",
       "      <td>1.960894</td>\n",
       "      <td>8.487226</td>\n",
       "      <td>13696</td>\n",
       "    </tr>\n",
       "    <tr>\n",
       "      <th>4</th>\n",
       "      <td>4</td>\n",
       "      <td>0895c838-e550-48a3-a777-dbcd35d30272</td>\n",
       "      <td>10x 3' v2</td>\n",
       "      <td>EFO:0009899</td>\n",
       "      <td>mature B cell</td>\n",
       "      <td>CL:0000785</td>\n",
       "      <td>human adult stage</td>\n",
       "      <td>HsapDv:0000087</td>\n",
       "      <td>normal</td>\n",
       "      <td>PATO:0000461</td>\n",
       "      <td>...</td>\n",
       "      <td>caudate lobe of liver</td>\n",
       "      <td>UBERON:0001117</td>\n",
       "      <td>tissue</td>\n",
       "      <td>liver</td>\n",
       "      <td>UBERON:0002107</td>\n",
       "      <td>605.0</td>\n",
       "      <td>275</td>\n",
       "      <td>2.200000</td>\n",
       "      <td>18.978102</td>\n",
       "      <td>13696</td>\n",
       "    </tr>\n",
       "    <tr>\n",
       "      <th>5</th>\n",
       "      <td>5</td>\n",
       "      <td>0895c838-e550-48a3-a777-dbcd35d30272</td>\n",
       "      <td>10x 3' v2</td>\n",
       "      <td>EFO:0009899</td>\n",
       "      <td>mature B cell</td>\n",
       "      <td>CL:0000785</td>\n",
       "      <td>human adult stage</td>\n",
       "      <td>HsapDv:0000087</td>\n",
       "      <td>normal</td>\n",
       "      <td>PATO:0000461</td>\n",
       "      <td>...</td>\n",
       "      <td>caudate lobe of liver</td>\n",
       "      <td>UBERON:0001117</td>\n",
       "      <td>tissue</td>\n",
       "      <td>liver</td>\n",
       "      <td>UBERON:0002107</td>\n",
       "      <td>338.0</td>\n",
       "      <td>164</td>\n",
       "      <td>2.060976</td>\n",
       "      <td>11.444112</td>\n",
       "      <td>13696</td>\n",
       "    </tr>\n",
       "  </tbody>\n",
       "</table>\n",
       "<p>6 rows × 28 columns</p>\n",
       "</div>"
      ],
      "text/plain": [
       "   soma_joinid                            dataset_id      assay  \\\n",
       "0            0  0895c838-e550-48a3-a777-dbcd35d30272  10x 3' v2   \n",
       "1            1  0895c838-e550-48a3-a777-dbcd35d30272  10x 3' v2   \n",
       "2            2  0895c838-e550-48a3-a777-dbcd35d30272  10x 3' v2   \n",
       "3            3  0895c838-e550-48a3-a777-dbcd35d30272  10x 3' v2   \n",
       "4            4  0895c838-e550-48a3-a777-dbcd35d30272  10x 3' v2   \n",
       "5            5  0895c838-e550-48a3-a777-dbcd35d30272  10x 3' v2   \n",
       "\n",
       "  assay_ontology_term_id      cell_type cell_type_ontology_term_id  \\\n",
       "0            EFO:0009899    plasma cell                 CL:0000786   \n",
       "1            EFO:0009899  mature B cell                 CL:0000785   \n",
       "2            EFO:0009899    plasma cell                 CL:0000786   \n",
       "3            EFO:0009899  mature B cell                 CL:0000785   \n",
       "4            EFO:0009899  mature B cell                 CL:0000785   \n",
       "5            EFO:0009899  mature B cell                 CL:0000785   \n",
       "\n",
       "   development_stage development_stage_ontology_term_id disease  \\\n",
       "0  human adult stage                     HsapDv:0000087  normal   \n",
       "1  human adult stage                     HsapDv:0000087  normal   \n",
       "2  human adult stage                     HsapDv:0000087  normal   \n",
       "3  human adult stage                     HsapDv:0000087  normal   \n",
       "4  human adult stage                     HsapDv:0000087  normal   \n",
       "5  human adult stage                     HsapDv:0000087  normal   \n",
       "\n",
       "  disease_ontology_term_id  ...                 tissue  \\\n",
       "0             PATO:0000461  ...  caudate lobe of liver   \n",
       "1             PATO:0000461  ...  caudate lobe of liver   \n",
       "2             PATO:0000461  ...  caudate lobe of liver   \n",
       "3             PATO:0000461  ...  caudate lobe of liver   \n",
       "4             PATO:0000461  ...  caudate lobe of liver   \n",
       "5             PATO:0000461  ...  caudate lobe of liver   \n",
       "\n",
       "   tissue_ontology_term_id tissue_type tissue_general  \\\n",
       "0           UBERON:0001117      tissue          liver   \n",
       "1           UBERON:0001117      tissue          liver   \n",
       "2           UBERON:0001117      tissue          liver   \n",
       "3           UBERON:0001117      tissue          liver   \n",
       "4           UBERON:0001117      tissue          liver   \n",
       "5           UBERON:0001117      tissue          liver   \n",
       "\n",
       "  tissue_general_ontology_term_id raw_sum  nnz raw_mean_nnz raw_variance_nnz  \\\n",
       "0                  UBERON:0002107  1742.0  221     7.882353      6661.549733   \n",
       "1                  UBERON:0002107   278.0  143     1.944056         3.616567   \n",
       "2                  UBERON:0002107  3723.0  709     5.251058      2959.510327   \n",
       "3                  UBERON:0002107   351.0  179     1.960894         8.487226   \n",
       "4                  UBERON:0002107   605.0  275     2.200000        18.978102   \n",
       "5                  UBERON:0002107   338.0  164     2.060976        11.444112   \n",
       "\n",
       "  n_measured_vars  \n",
       "0           13696  \n",
       "1           13696  \n",
       "2           13696  \n",
       "3           13696  \n",
       "4           13696  \n",
       "5           13696  \n",
       "\n",
       "[6 rows x 28 columns]"
      ]
     },
     "execution_count": 24,
     "metadata": {},
     "output_type": "execute_result"
    }
   ],
   "source": [
    " census[\"census_data\"][\"homo_sapiens\"].obs.read(coords=([0,1,2,3,4,5],)).concat().to_pandas()"
   ]
  },
  {
   "cell_type": "markdown",
   "id": "d5255ba6-6574-4059-9c4d-1e4c3fb8e522",
   "metadata": {
    "id": "A3um9EnZa1_N"
   },
   "source": [
    "### Reading expression data\n",
    "\n",
    "Single-cell expression data is stored as a SOMA `SparseNDArray`. This is a sparse representation of the data that enables efficient storage and access for data with a high number of missing values.\n",
    "\n",
    "Currently Census has two expression layers:\n",
    "\n",
    "- Raw counts.\n",
    "- Normalized counts by library size.\n",
    "\n",
    "For human, these are located in the \\\"RNA\\\" `Measurement`:\n",
    "\n",
    "- `[\"census_data\"][\"homo_sapiens\"].ms[\"RNA\"].X[\"raw\"]`\n",
    "- `[\"census_data\"][\"homo_sapiens\"].ms[\"RNA\"].X[\"normalized\"]`\n",
    "\n",
    "Reading these data works similarly to reading data frames. The main difference is that there are different types of iterators available. In this workshop we'll focus on Arrow table iterators.\n"
   ]
  },
  {
   "cell_type": "code",
   "execution_count": 25,
   "id": "0dfca8ff-0165-4b6f-90e6-fbae0fd28908",
   "metadata": {
    "colab": {
     "base_uri": "https://localhost:8080/",
     "height": 423
    },
    "id": "CgFG-RPwZfJ1",
    "outputId": "ad6e187f-bd68-42fe-c38e-2e3e1d7ab068"
   },
   "outputs": [
    {
     "data": {
      "text/html": [
       "<div>\n",
       "<style scoped>\n",
       "    .dataframe tbody tr th:only-of-type {\n",
       "        vertical-align: middle;\n",
       "    }\n",
       "\n",
       "    .dataframe tbody tr th {\n",
       "        vertical-align: top;\n",
       "    }\n",
       "\n",
       "    .dataframe thead th {\n",
       "        text-align: right;\n",
       "    }\n",
       "</style>\n",
       "<table border=\"1\" class=\"dataframe\">\n",
       "  <thead>\n",
       "    <tr style=\"text-align: right;\">\n",
       "      <th></th>\n",
       "      <th>soma_dim_0</th>\n",
       "      <th>soma_dim_1</th>\n",
       "      <th>soma_data</th>\n",
       "    </tr>\n",
       "  </thead>\n",
       "  <tbody>\n",
       "    <tr>\n",
       "      <th>0</th>\n",
       "      <td>0</td>\n",
       "      <td>176</td>\n",
       "      <td>1.0</td>\n",
       "    </tr>\n",
       "    <tr>\n",
       "      <th>1</th>\n",
       "      <td>0</td>\n",
       "      <td>229</td>\n",
       "      <td>1.0</td>\n",
       "    </tr>\n",
       "    <tr>\n",
       "      <th>2</th>\n",
       "      <td>0</td>\n",
       "      <td>249</td>\n",
       "      <td>1.0</td>\n",
       "    </tr>\n",
       "    <tr>\n",
       "      <th>3</th>\n",
       "      <td>0</td>\n",
       "      <td>409</td>\n",
       "      <td>1.0</td>\n",
       "    </tr>\n",
       "    <tr>\n",
       "      <th>4</th>\n",
       "      <td>0</td>\n",
       "      <td>451</td>\n",
       "      <td>1.0</td>\n",
       "    </tr>\n",
       "    <tr>\n",
       "      <th>...</th>\n",
       "      <td>...</td>\n",
       "      <td>...</td>\n",
       "      <td>...</td>\n",
       "    </tr>\n",
       "    <tr>\n",
       "      <th>134212</th>\n",
       "      <td>1146</td>\n",
       "      <td>91</td>\n",
       "      <td>1.0</td>\n",
       "    </tr>\n",
       "    <tr>\n",
       "      <th>134213</th>\n",
       "      <td>1146</td>\n",
       "      <td>99</td>\n",
       "      <td>1.0</td>\n",
       "    </tr>\n",
       "    <tr>\n",
       "      <th>134214</th>\n",
       "      <td>1146</td>\n",
       "      <td>104</td>\n",
       "      <td>1.0</td>\n",
       "    </tr>\n",
       "    <tr>\n",
       "      <th>134215</th>\n",
       "      <td>1146</td>\n",
       "      <td>106</td>\n",
       "      <td>1.0</td>\n",
       "    </tr>\n",
       "    <tr>\n",
       "      <th>134216</th>\n",
       "      <td>1146</td>\n",
       "      <td>108</td>\n",
       "      <td>1.0</td>\n",
       "    </tr>\n",
       "  </tbody>\n",
       "</table>\n",
       "<p>134217 rows × 3 columns</p>\n",
       "</div>"
      ],
      "text/plain": [
       "        soma_dim_0  soma_dim_1  soma_data\n",
       "0                0         176        1.0\n",
       "1                0         229        1.0\n",
       "2                0         249        1.0\n",
       "3                0         409        1.0\n",
       "4                0         451        1.0\n",
       "...            ...         ...        ...\n",
       "134212        1146          91        1.0\n",
       "134213        1146          99        1.0\n",
       "134214        1146         104        1.0\n",
       "134215        1146         106        1.0\n",
       "134216        1146         108        1.0\n",
       "\n",
       "[134217 rows x 3 columns]"
      ]
     },
     "execution_count": 25,
     "metadata": {},
     "output_type": "execute_result"
    }
   ],
   "source": [
    "# Creater a reader\n",
    "reader = census[\"census_data\"][\"homo_sapiens\"].ms[\"RNA\"].X[\"raw\"].read()\n",
    "\n",
    "# Build an iterator of Arrow tables\n",
    "iterator = reader.tables()\n",
    "\n",
    "# Grab first chunk\n",
    "table_chunk = next(iterator)\n",
    "\n",
    "# Convert to pandas\n",
    "table_chunk.to_pandas()"
   ]
  },
  {
   "cell_type": "markdown",
   "id": "9d9f82d9-534a-4ee7-8b1d-0a8f9046bb49",
   "metadata": {
    "id": "kbZM_1ckc-SS"
   },
   "source": [
    "This produces an expression matrix in COO sparse format:\n",
    "\n",
    "- `soma_dim_0` - the ID for the cell.\n",
    "- `soma_dim_1` - the ID for the gene.  \n",
    "- `soma_data` - the expression value.\n",
    "\n",
    "This can be transformed to other useful representations:"
   ]
  },
  {
   "cell_type": "code",
   "execution_count": 26,
   "id": "582b6170-b2b1-4980-8d3b-293ebb8e5a6c",
   "metadata": {
    "colab": {
     "base_uri": "https://localhost:8080/"
    },
    "id": "AXLBxsurcYYV",
    "outputId": "1a33acf4-ea37-4a2f-cf23-9448c8f2e595"
   },
   "outputs": [
    {
     "data": {
      "text/plain": [
       "<1147x2048 sparse matrix of type '<class 'numpy.float32'>'\n",
       "\twith 134217 stored elements in COOrdinate format>"
      ]
     },
     "execution_count": 26,
     "metadata": {},
     "output_type": "execute_result"
    }
   ],
   "source": [
    "# SciPy formats\n",
    "scipy_coo = scipy.sparse.coo_matrix((table_chunk[\"soma_data\"], (table_chunk[\"soma_dim_0\"], table_chunk[\"soma_dim_1\"])))\n",
    "scipy_coo"
   ]
  },
  {
   "cell_type": "code",
   "execution_count": 27,
   "id": "6c8c7515-27ef-4e1f-8096-7cde53f83be3",
   "metadata": {
    "colab": {
     "base_uri": "https://localhost:8080/"
    },
    "id": "sVzKYxEldu8R",
    "outputId": "d5076122-3084-4cf5-801e-ac05a4b97a81"
   },
   "outputs": [
    {
     "data": {
      "text/plain": [
       "array([[0., 0., 0., ..., 0., 0., 0.],\n",
       "       [0., 0., 0., ..., 0., 0., 0.],\n",
       "       [0., 0., 0., ..., 0., 0., 0.],\n",
       "       ...,\n",
       "       [0., 0., 0., ..., 0., 0., 0.],\n",
       "       [0., 0., 0., ..., 0., 0., 0.],\n",
       "       [0., 0., 0., ..., 0., 0., 0.]], dtype=float32)"
      ]
     },
     "execution_count": 27,
     "metadata": {},
     "output_type": "execute_result"
    }
   ],
   "source": [
    "# Numpy formats\n",
    "scipy_coo.toarray()"
   ]
  },
  {
   "cell_type": "markdown",
   "id": "ad0aabc3-d154-412a-a445-f8782942c5c0",
   "metadata": {
    "id": "uRfFYNXpefY_"
   },
   "source": [
    "**🚨 NOTE:** Reading the expression matrix in isolation is usually not very useful without cell and gene metadata. We'll cover that in the next section"
   ]
  },
  {
   "cell_type": "markdown",
   "id": "bc43f67c-0641-4861-9c21-f657accbf5e7",
   "metadata": {
    "id": "g50HINMxfJzi"
   },
   "source": [
    "### Atomic reading of expression data AND metadata\n",
    "\n",
    "SOMA provides a convenient interface to query single-cell data in a metadata-aware fashion using `ExperimentAxisQuery`.\n",
    "\n",
    "We covered in a previous section the concept of an SOMA `Experiment`, as a class that represents a single-cell experiment. It always contains two objects:\n",
    "   - `obs`: a `DataFrame` with primary annotations on the observation axis.\n",
    "   - `ms`: a `Collection` of measurements, each composed of `X` matrices and axis annotation matrices or data frames (e.g. `var`, `varm`, `obsm`, etc).\n",
    "\n",
    "**🚨 NOTE:** An `ExperimentAxisQuery` enables users to query and slice an `Experiment` single-cell data and metadata using coordinates or value filters on the axes, similar to how a SOMA `DataFrame` is queried."
   ]
  },
  {
   "cell_type": "markdown",
   "id": "065312c3-a506-4271-82e2-7a4bc6c3dc94",
   "metadata": {
    "id": "xTq0XxuwLxVy"
   },
   "source": [
    "#### Creating an `ExperimentAxisQuery`\n",
    "\n",
    "To create an `ExperimentAxisQuery` you can call the method `.axis_query()` of a SOMA `Experiment`."
   ]
  },
  {
   "cell_type": "code",
   "execution_count": 28,
   "id": "7e3dd4f6-3f09-4a70-bccc-ed424dc0bd4b",
   "metadata": {
    "id": "kbca9zAVeaDB"
   },
   "outputs": [
    {
     "data": {
      "text/plain": [
       "<somacore.query.query.ExperimentAxisQuery at 0x7939396e7c40>"
      ]
     },
     "execution_count": 28,
     "metadata": {},
     "output_type": "execute_result"
    }
   ],
   "source": [
    "from tiledbsoma import AxisQuery\n",
    "\n",
    "cell_filter = \"tissue_general == 'tongue'\"\n",
    "gene_filter = \"feature_name in ['PECAM1', 'DCN', 'KRT13']\"\n",
    "\n",
    "query = census[\"census_data\"][\"homo_sapiens\"].axis_query(\n",
    "    measurement_name = \"RNA\",\n",
    "    obs_query = AxisQuery(value_filter = cell_filter),\n",
    "    var_query = AxisQuery(value_filter = gene_filter),\n",
    ")\n",
    "\n",
    "query"
   ]
  },
  {
   "cell_type": "markdown",
   "id": "e8a03817-4c51-4ad6-a1db-b9ca98c330b1",
   "metadata": {
    "id": "spSrAvCriZ3E"
   },
   "source": [
    "#### Inspecting the query results\n",
    "\n",
    "`ExperimentAxisQuery` exposes a variety of methods for fetching data or useful information about your query:"
   ]
  },
  {
   "cell_type": "code",
   "execution_count": 29,
   "id": "8eddf618-c1c1-455e-b75c-517976b6e33f",
   "metadata": {
    "colab": {
     "base_uri": "https://localhost:8080/"
    },
    "id": "t6GTjX0Qhn1v",
    "outputId": "36a7277d-672a-4587-e2b3-05333d3f27b5"
   },
   "outputs": [
    {
     "data": {
      "text/plain": [
       "(45060, 3)"
      ]
     },
     "execution_count": 29,
     "metadata": {},
     "output_type": "execute_result"
    }
   ],
   "source": [
    "# Number of (cells, genes) in query\n",
    "query.n_obs, query.n_vars"
   ]
  },
  {
   "cell_type": "code",
   "execution_count": 30,
   "id": "5822b606-69be-4af5-8435-4aa40ac93fac",
   "metadata": {
    "colab": {
     "base_uri": "https://localhost:8080/",
     "height": 423
    },
    "id": "U57OfzXAis4j",
    "outputId": "1ad149be-e132-4125-c033-6cd5632fe642"
   },
   "outputs": [
    {
     "data": {
      "text/html": [
       "<div>\n",
       "<style scoped>\n",
       "    .dataframe tbody tr th:only-of-type {\n",
       "        vertical-align: middle;\n",
       "    }\n",
       "\n",
       "    .dataframe tbody tr th {\n",
       "        vertical-align: top;\n",
       "    }\n",
       "\n",
       "    .dataframe thead th {\n",
       "        text-align: right;\n",
       "    }\n",
       "</style>\n",
       "<table border=\"1\" class=\"dataframe\">\n",
       "  <thead>\n",
       "    <tr style=\"text-align: right;\">\n",
       "      <th></th>\n",
       "      <th>cell_type</th>\n",
       "      <th>tissue_general</th>\n",
       "    </tr>\n",
       "  </thead>\n",
       "  <tbody>\n",
       "    <tr>\n",
       "      <th>0</th>\n",
       "      <td>epithelial cell</td>\n",
       "      <td>tongue</td>\n",
       "    </tr>\n",
       "    <tr>\n",
       "      <th>1</th>\n",
       "      <td>epithelial cell</td>\n",
       "      <td>tongue</td>\n",
       "    </tr>\n",
       "    <tr>\n",
       "      <th>2</th>\n",
       "      <td>epithelial cell</td>\n",
       "      <td>tongue</td>\n",
       "    </tr>\n",
       "    <tr>\n",
       "      <th>3</th>\n",
       "      <td>epithelial cell</td>\n",
       "      <td>tongue</td>\n",
       "    </tr>\n",
       "    <tr>\n",
       "      <th>4</th>\n",
       "      <td>epithelial cell</td>\n",
       "      <td>tongue</td>\n",
       "    </tr>\n",
       "    <tr>\n",
       "      <th>...</th>\n",
       "      <td>...</td>\n",
       "      <td>...</td>\n",
       "    </tr>\n",
       "    <tr>\n",
       "      <th>45055</th>\n",
       "      <td>keratinocyte</td>\n",
       "      <td>tongue</td>\n",
       "    </tr>\n",
       "    <tr>\n",
       "      <th>45056</th>\n",
       "      <td>keratinocyte</td>\n",
       "      <td>tongue</td>\n",
       "    </tr>\n",
       "    <tr>\n",
       "      <th>45057</th>\n",
       "      <td>basal cell</td>\n",
       "      <td>tongue</td>\n",
       "    </tr>\n",
       "    <tr>\n",
       "      <th>45058</th>\n",
       "      <td>keratinocyte</td>\n",
       "      <td>tongue</td>\n",
       "    </tr>\n",
       "    <tr>\n",
       "      <th>45059</th>\n",
       "      <td>keratinocyte</td>\n",
       "      <td>tongue</td>\n",
       "    </tr>\n",
       "  </tbody>\n",
       "</table>\n",
       "<p>45060 rows × 2 columns</p>\n",
       "</div>"
      ],
      "text/plain": [
       "             cell_type tissue_general\n",
       "0      epithelial cell         tongue\n",
       "1      epithelial cell         tongue\n",
       "2      epithelial cell         tongue\n",
       "3      epithelial cell         tongue\n",
       "4      epithelial cell         tongue\n",
       "...                ...            ...\n",
       "45055     keratinocyte         tongue\n",
       "45056     keratinocyte         tongue\n",
       "45057       basal cell         tongue\n",
       "45058     keratinocyte         tongue\n",
       "45059     keratinocyte         tongue\n",
       "\n",
       "[45060 rows x 2 columns]"
      ]
     },
     "execution_count": 30,
     "metadata": {},
     "output_type": "execute_result"
    }
   ],
   "source": [
    "# Fetch cell metadata\n",
    "query.obs(column_names = [\"cell_type\", \"tissue_general\"]).concat().to_pandas()"
   ]
  },
  {
   "cell_type": "code",
   "execution_count": 31,
   "id": "199fc4b8-83d1-4104-8c41-868150c2bf89",
   "metadata": {
    "colab": {
     "base_uri": "https://localhost:8080/",
     "height": 143
    },
    "id": "c-CnS7uRi-5n",
    "outputId": "be5ea7c9-3672-4d1b-f97f-dfa22391c65a"
   },
   "outputs": [
    {
     "data": {
      "text/html": [
       "<div>\n",
       "<style scoped>\n",
       "    .dataframe tbody tr th:only-of-type {\n",
       "        vertical-align: middle;\n",
       "    }\n",
       "\n",
       "    .dataframe tbody tr th {\n",
       "        vertical-align: top;\n",
       "    }\n",
       "\n",
       "    .dataframe thead th {\n",
       "        text-align: right;\n",
       "    }\n",
       "</style>\n",
       "<table border=\"1\" class=\"dataframe\">\n",
       "  <thead>\n",
       "    <tr style=\"text-align: right;\">\n",
       "      <th></th>\n",
       "      <th>soma_joinid</th>\n",
       "      <th>feature_id</th>\n",
       "      <th>feature_name</th>\n",
       "      <th>feature_length</th>\n",
       "      <th>nnz</th>\n",
       "      <th>n_measured_obs</th>\n",
       "    </tr>\n",
       "  </thead>\n",
       "  <tbody>\n",
       "    <tr>\n",
       "      <th>0</th>\n",
       "      <td>299</td>\n",
       "      <td>ENSG00000011465</td>\n",
       "      <td>DCN</td>\n",
       "      <td>12941</td>\n",
       "      <td>7905731</td>\n",
       "      <td>75319655</td>\n",
       "    </tr>\n",
       "    <tr>\n",
       "      <th>1</th>\n",
       "      <td>12852</td>\n",
       "      <td>ENSG00000171401</td>\n",
       "      <td>KRT13</td>\n",
       "      <td>2913</td>\n",
       "      <td>712612</td>\n",
       "      <td>62927690</td>\n",
       "    </tr>\n",
       "    <tr>\n",
       "      <th>2</th>\n",
       "      <td>28763</td>\n",
       "      <td>ENSG00000261371</td>\n",
       "      <td>PECAM1</td>\n",
       "      <td>7741</td>\n",
       "      <td>7739030</td>\n",
       "      <td>64633082</td>\n",
       "    </tr>\n",
       "  </tbody>\n",
       "</table>\n",
       "</div>"
      ],
      "text/plain": [
       "   soma_joinid       feature_id feature_name  feature_length      nnz  \\\n",
       "0          299  ENSG00000011465          DCN           12941  7905731   \n",
       "1        12852  ENSG00000171401        KRT13            2913   712612   \n",
       "2        28763  ENSG00000261371       PECAM1            7741  7739030   \n",
       "\n",
       "   n_measured_obs  \n",
       "0        75319655  \n",
       "1        62927690  \n",
       "2        64633082  "
      ]
     },
     "execution_count": 31,
     "metadata": {},
     "output_type": "execute_result"
    }
   ],
   "source": [
    "# Fetch gene metadata\n",
    "query.var().concat().to_pandas()"
   ]
  },
  {
   "cell_type": "markdown",
   "id": "bf1987dd-f4b2-4bdd-9ab9-4c3653a0ee65",
   "metadata": {
    "id": "EkuPFp8nKyEN"
   },
   "source": [
    "#### Exporting query results to `AnnData`\n",
    "\n",
    "`ExperimentAxisQuery` can export a query to an `AnnData` object, for downstream use with e.g. [Scanpy](https://scanpy.readthedocs.io/):"
   ]
  },
  {
   "cell_type": "code",
   "execution_count": 32,
   "id": "23621cc7-67a3-43bf-b759-58498b622086",
   "metadata": {
    "colab": {
     "base_uri": "https://localhost:8080/"
    },
    "id": "keoLddtDjPgG",
    "outputId": "95843be1-5350-4cf4-9bc3-09bb7551d095"
   },
   "outputs": [
    {
     "data": {
      "text/plain": [
       "AnnData object with n_obs × n_vars = 45060 × 3\n",
       "    obs: 'soma_joinid', 'dataset_id', 'assay', 'assay_ontology_term_id', 'cell_type', 'cell_type_ontology_term_id', 'development_stage', 'development_stage_ontology_term_id', 'disease', 'disease_ontology_term_id', 'donor_id', 'is_primary_data', 'observation_joinid', 'self_reported_ethnicity', 'self_reported_ethnicity_ontology_term_id', 'sex', 'sex_ontology_term_id', 'suspension_type', 'tissue', 'tissue_ontology_term_id', 'tissue_type', 'tissue_general', 'tissue_general_ontology_term_id', 'raw_sum', 'nnz', 'raw_mean_nnz', 'raw_variance_nnz', 'n_measured_vars'\n",
       "    var: 'soma_joinid', 'feature_id', 'feature_name', 'feature_length', 'nnz', 'n_measured_obs'"
      ]
     },
     "execution_count": 32,
     "metadata": {},
     "output_type": "execute_result"
    }
   ],
   "source": [
    "# Convert to AnnData\n",
    "adata = query.to_anndata(X_name=\"normalized\")\n",
    "adata"
   ]
  },
  {
   "cell_type": "code",
   "execution_count": 33,
   "id": "22bd8fe0-9f8f-43bf-a6a3-cd6e7d4eb3ba",
   "metadata": {
    "colab": {
     "base_uri": "https://localhost:8080/",
     "height": 549
    },
    "id": "asa2mjikAlnq",
    "outputId": "5c896be9-bd16-4748-ffaf-3afb4af61f88"
   },
   "outputs": [
    {
     "name": "stderr",
     "output_type": "stream",
     "text": [
      "/home/ubuntu/.pyenv/versions/scverse-ml-workshop-2024-3.9.19/lib/python3.9/site-packages/scanpy/preprocessing/_simple.py:373: UserWarning: Received a view of an AnnData. Making a copy.\n",
      "  view_to_actual(adata)\n",
      "/home/ubuntu/.pyenv/versions/scverse-ml-workshop-2024-3.9.19/lib/python3.9/site-packages/scanpy/plotting/_dotplot.py:749: UserWarning: No data for colormapping provided via 'c'. Parameters 'cmap', 'norm' will be ignored\n",
      "  dot_ax.scatter(x, y, **kwds)\n"
     ]
    },
    {
     "data": {
      "image/png": "[encoded data removed]",
      "text/plain": [
       "<Figure size 261x520 with 4 Axes>"
      ]
     },
     "metadata": {},
     "output_type": "display_data"
    }
   ],
   "source": [
    "# Example: make an expression dot plot\n",
    "adata.var_names = adata.var[\"feature_name\"]\n",
    "adata.X = adata.X * 10000\n",
    "adata = adata[(adata.X.sum(1) > 0), :]  # Remove cells that don't express any of the selected genes\n",
    "sc.pp.log1p(adata)\n",
    "sc.pl.dotplot(adata, adata.var[\"feature_name\"], groupby='cell_type');"
   ]
  },
  {
   "cell_type": "markdown",
   "id": "d7c6ed1e-6182-426d-a84c-cb38b5fd618c",
   "metadata": {
    "id": "tt6n4rLGfiNK"
   },
   "source": [
    "**🚨 NOTE:** The Census package provides a convinient way to get an AnnData object without creating an Experiment Query:\n",
    "\n",
    "```python\n",
    "adata = cellxgene_census.get_anndata(\n",
    "  census = census,\n",
    "  organism = organism,\n",
    "  var_value_filter = gene_filter,\n",
    "  obs_value_filter = cell_filter,\n",
    "  column_names = cell_columns,\n",
    ")\n",
    "```\n"
   ]
  },
  {
   "cell_type": "markdown",
   "id": "7438d847-379b-4d29-8548-ae0f81da7f93",
   "metadata": {
    "id": "rs3tMO9iN7Fj"
   },
   "source": [
    "#### Fetching expression data and metadata\n",
    "\n",
    "`ExperimentAxisQuery` supports obtaining an expression matrix along with corresponding cell and gene metadata.\n",
    "\n",
    "`to_anndata()` (shown in the previous section) uses many of these methods under the hood.\n",
    "\n",
    "Let's take a closer look. First, we can fetch cell and gene metadata:"
   ]
  },
  {
   "cell_type": "code",
   "execution_count": 34,
   "id": "0beece4a-4fb0-4545-88b6-ef2b29c15ed7",
   "metadata": {
    "colab": {
     "base_uri": "https://localhost:8080/",
     "height": 423
    },
    "id": "iJQdtQ1yJBPe",
    "outputId": "3f2311e1-dc10-4e62-8f8b-1070261371ca"
   },
   "outputs": [
    {
     "data": {
      "text/html": [
       "<div>\n",
       "<style scoped>\n",
       "    .dataframe tbody tr th:only-of-type {\n",
       "        vertical-align: middle;\n",
       "    }\n",
       "\n",
       "    .dataframe tbody tr th {\n",
       "        vertical-align: top;\n",
       "    }\n",
       "\n",
       "    .dataframe thead th {\n",
       "        text-align: right;\n",
       "    }\n",
       "</style>\n",
       "<table border=\"1\" class=\"dataframe\">\n",
       "  <thead>\n",
       "    <tr style=\"text-align: right;\">\n",
       "      <th></th>\n",
       "      <th>soma_joinid</th>\n",
       "      <th>cell_type</th>\n",
       "      <th>tissue_general</th>\n",
       "    </tr>\n",
       "  </thead>\n",
       "  <tbody>\n",
       "    <tr>\n",
       "      <th>0</th>\n",
       "      <td>6763612</td>\n",
       "      <td>epithelial cell</td>\n",
       "      <td>tongue</td>\n",
       "    </tr>\n",
       "    <tr>\n",
       "      <th>1</th>\n",
       "      <td>6763613</td>\n",
       "      <td>epithelial cell</td>\n",
       "      <td>tongue</td>\n",
       "    </tr>\n",
       "    <tr>\n",
       "      <th>2</th>\n",
       "      <td>6763614</td>\n",
       "      <td>epithelial cell</td>\n",
       "      <td>tongue</td>\n",
       "    </tr>\n",
       "    <tr>\n",
       "      <th>3</th>\n",
       "      <td>6763615</td>\n",
       "      <td>epithelial cell</td>\n",
       "      <td>tongue</td>\n",
       "    </tr>\n",
       "    <tr>\n",
       "      <th>4</th>\n",
       "      <td>6763616</td>\n",
       "      <td>epithelial cell</td>\n",
       "      <td>tongue</td>\n",
       "    </tr>\n",
       "    <tr>\n",
       "      <th>...</th>\n",
       "      <td>...</td>\n",
       "      <td>...</td>\n",
       "      <td>...</td>\n",
       "    </tr>\n",
       "    <tr>\n",
       "      <th>45055</th>\n",
       "      <td>53548544</td>\n",
       "      <td>keratinocyte</td>\n",
       "      <td>tongue</td>\n",
       "    </tr>\n",
       "    <tr>\n",
       "      <th>45056</th>\n",
       "      <td>53548545</td>\n",
       "      <td>keratinocyte</td>\n",
       "      <td>tongue</td>\n",
       "    </tr>\n",
       "    <tr>\n",
       "      <th>45057</th>\n",
       "      <td>53548546</td>\n",
       "      <td>basal cell</td>\n",
       "      <td>tongue</td>\n",
       "    </tr>\n",
       "    <tr>\n",
       "      <th>45058</th>\n",
       "      <td>53548547</td>\n",
       "      <td>keratinocyte</td>\n",
       "      <td>tongue</td>\n",
       "    </tr>\n",
       "    <tr>\n",
       "      <th>45059</th>\n",
       "      <td>53548548</td>\n",
       "      <td>keratinocyte</td>\n",
       "      <td>tongue</td>\n",
       "    </tr>\n",
       "  </tbody>\n",
       "</table>\n",
       "<p>45060 rows × 3 columns</p>\n",
       "</div>"
      ],
      "text/plain": [
       "       soma_joinid        cell_type tissue_general\n",
       "0          6763612  epithelial cell         tongue\n",
       "1          6763613  epithelial cell         tongue\n",
       "2          6763614  epithelial cell         tongue\n",
       "3          6763615  epithelial cell         tongue\n",
       "4          6763616  epithelial cell         tongue\n",
       "...            ...              ...            ...\n",
       "45055     53548544     keratinocyte         tongue\n",
       "45056     53548545     keratinocyte         tongue\n",
       "45057     53548546       basal cell         tongue\n",
       "45058     53548547     keratinocyte         tongue\n",
       "45059     53548548     keratinocyte         tongue\n",
       "\n",
       "[45060 rows x 3 columns]"
      ]
     },
     "execution_count": 34,
     "metadata": {},
     "output_type": "execute_result"
    }
   ],
   "source": [
    "# Get cell metadata, only cell types and SOMA IDs\n",
    "obs = query.obs(column_names = [\"soma_joinid\", \"cell_type\"]).concat().to_pandas()\n",
    "obs"
   ]
  },
  {
   "cell_type": "code",
   "execution_count": 35,
   "id": "36205489-7ff7-4944-9003-3564946c3a94",
   "metadata": {
    "colab": {
     "base_uri": "https://localhost:8080/"
    },
    "id": "P3pFkHhuN2LH",
    "outputId": "7aee061f-4198-4507-a9d0-fa5998d5588c"
   },
   "outputs": [
    {
     "data": {
      "text/html": [
       "<div>\n",
       "<style scoped>\n",
       "    .dataframe tbody tr th:only-of-type {\n",
       "        vertical-align: middle;\n",
       "    }\n",
       "\n",
       "    .dataframe tbody tr th {\n",
       "        vertical-align: top;\n",
       "    }\n",
       "\n",
       "    .dataframe thead th {\n",
       "        text-align: right;\n",
       "    }\n",
       "</style>\n",
       "<table border=\"1\" class=\"dataframe\">\n",
       "  <thead>\n",
       "    <tr style=\"text-align: right;\">\n",
       "      <th></th>\n",
       "      <th>soma_joinid</th>\n",
       "      <th>feature_id</th>\n",
       "      <th>feature_name</th>\n",
       "      <th>feature_length</th>\n",
       "      <th>nnz</th>\n",
       "      <th>n_measured_obs</th>\n",
       "    </tr>\n",
       "  </thead>\n",
       "  <tbody>\n",
       "    <tr>\n",
       "      <th>0</th>\n",
       "      <td>299</td>\n",
       "      <td>ENSG00000011465</td>\n",
       "      <td>DCN</td>\n",
       "      <td>12941</td>\n",
       "      <td>7905731</td>\n",
       "      <td>75319655</td>\n",
       "    </tr>\n",
       "    <tr>\n",
       "      <th>1</th>\n",
       "      <td>12852</td>\n",
       "      <td>ENSG00000171401</td>\n",
       "      <td>KRT13</td>\n",
       "      <td>2913</td>\n",
       "      <td>712612</td>\n",
       "      <td>62927690</td>\n",
       "    </tr>\n",
       "    <tr>\n",
       "      <th>2</th>\n",
       "      <td>28763</td>\n",
       "      <td>ENSG00000261371</td>\n",
       "      <td>PECAM1</td>\n",
       "      <td>7741</td>\n",
       "      <td>7739030</td>\n",
       "      <td>64633082</td>\n",
       "    </tr>\n",
       "  </tbody>\n",
       "</table>\n",
       "</div>"
      ],
      "text/plain": [
       "   soma_joinid       feature_id feature_name  feature_length      nnz  \\\n",
       "0          299  ENSG00000011465          DCN           12941  7905731   \n",
       "1        12852  ENSG00000171401        KRT13            2913   712612   \n",
       "2        28763  ENSG00000261371       PECAM1            7741  7739030   \n",
       "\n",
       "   n_measured_obs  \n",
       "0        75319655  \n",
       "1        62927690  \n",
       "2        64633082  "
      ]
     },
     "execution_count": 35,
     "metadata": {},
     "output_type": "execute_result"
    }
   ],
   "source": [
    "# Get gene metadata\n",
    "var = query.var().concat().to_pandas()\n",
    "var"
   ]
  },
  {
   "cell_type": "markdown",
   "id": "6f0c880a-547d-4569-9964-a6da596b0e12",
   "metadata": {
    "id": "P0UpBBhIU_KN"
   },
   "source": [
    "Now let's take a look at expression matrix. There's a method `X()` that works similarly to reading a SOMA `SparseNDArray`, it retunrs a reader that can be then used to create matrix iterators.\n",
    "\n",
    "Importantly, `X()` will return only the rows and columns corresponding to cells and genes (resp.) in the query:"
   ]
  },
  {
   "cell_type": "code",
   "execution_count": 36,
   "id": "f28a4c52-bd90-4c89-9d00-f6d33dc3b0ea",
   "metadata": {
    "colab": {
     "base_uri": "https://localhost:8080/"
    },
    "id": "88VcwJYAT_fH",
    "outputId": "f83acc99-b3d6-43b5-ee67-8970ec74a74d"
   },
   "outputs": [
    {
     "data": {
      "text/plain": [
       "pyarrow.Table\n",
       "soma_dim_0: int64\n",
       "soma_dim_1: int64\n",
       "soma_data: float\n",
       "----\n",
       "soma_dim_0: [[6763612,6763613,6763614,6763615,6763616,...,53548430,53548466,53548497,53548507,53548548]]\n",
       "soma_dim_1: [[299,299,299,299,299,...,28763,28763,28763,28763,28763]]\n",
       "soma_data: [[8,6,1,6,3,...,16,1,2,1,1]]"
      ]
     },
     "execution_count": 36,
     "metadata": {},
     "output_type": "execute_result"
    }
   ],
   "source": [
    "# Get reader, results, and concatenate them.\n",
    "# We need to specify the layer.\n",
    "X = query.X(layer_name = \"raw\").tables().concat()\n",
    "X"
   ]
  },
  {
   "cell_type": "markdown",
   "id": "897c1363-a9fd-4c71-8d24-dd3af1a77cb6",
   "metadata": {
    "id": "_FA7knuIhIeH"
   },
   "source": [
    "As before, we can transform this matrix to other formats:"
   ]
  },
  {
   "cell_type": "code",
   "execution_count": 37,
   "id": "17763357-ca76-4ddf-8441-5ecc32d77161",
   "metadata": {
    "colab": {
     "base_uri": "https://localhost:8080/"
    },
    "id": "RGt18fFXhHFB",
    "outputId": "3aca46ef-e519-47c9-8d9a-3d085afa3cc1"
   },
   "outputs": [
    {
     "data": {
      "text/plain": [
       "<53548549x28764 sparse matrix of type '<class 'numpy.float32'>'\n",
       "\twith 63579 stored elements in COOrdinate format>"
      ]
     },
     "execution_count": 37,
     "metadata": {},
     "output_type": "execute_result"
    }
   ],
   "source": [
    "# SciPy formats\n",
    "scipy_coo = scipy.sparse.coo_matrix((X[\"soma_data\"], (X[\"soma_dim_0\"], X[\"soma_dim_1\"])))\n",
    "scipy_coo"
   ]
  },
  {
   "cell_type": "markdown",
   "id": "ef261fce-bf0d-4cc4-b0da-2f399b2fecf4",
   "metadata": {
    "id": "RmKQusbrhHzo"
   },
   "source": [
    "**🚨 NOTE:** The shape of this matrix is 52,668,282 rows by 27,554 columns.\n",
    "\n",
    "However we know that there are 45K cells and 3 genes in our query. The reason for this discrepancy is that we are using the SOMA IDs as the row and column indices.\n",
    "\n",
    "We can re-index these values to strip away all other cells and genes not included in our query result. Our team is about to release a method that makes this process a one-liner, for now we'll have to do the following:"
   ]
  },
  {
   "cell_type": "code",
   "execution_count": 38,
   "id": "1c8e3b7b-7686-46be-9d1a-4e001f09fcc5",
   "metadata": {
    "id": "Yxp8MhWTcYF4"
   },
   "outputs": [],
   "source": [
    "# Reset the cell indeces to go from 0 to N (number of cells in the query)\n",
    "obs_index = query.indexer.by_obs(X[\"soma_dim_0\"])\n",
    "\n",
    "# Reset the gene indeces to go from 0 to N (number of genes in the query)\n",
    "var_index = query.indexer.by_var(X[\"soma_dim_1\"])\n",
    "\n",
    "# Get cell and gene soma IDs of the query\n",
    "obs_ids = query.obs_joinids().to_numpy()[:numpy.max(obs_index) + 1]\n",
    "var_ids = query.var_joinids().to_numpy()[:numpy.max(var_index) + 1]\n",
    "\n",
    "# Make scipy.coo matrix\n",
    "x_coo = scipy.sparse.coo_matrix((X[\"soma_data\"].to_numpy(), (obs_index, var_index)))"
   ]
  },
  {
   "cell_type": "code",
   "execution_count": 39,
   "id": "738bf87c-d492-40d7-b46c-8e64a596e5f3",
   "metadata": {
    "colab": {
     "base_uri": "https://localhost:8080/"
    },
    "id": "NwFh1GmBb5AU",
    "outputId": "f5800f79-a164-4fa5-9e82-9d7af05db1c0"
   },
   "outputs": [
    {
     "data": {
      "text/plain": [
       "<45060x3 sparse matrix of type '<class 'numpy.float32'>'\n",
       "\twith 63579 stored elements in COOrdinate format>"
      ]
     },
     "execution_count": 39,
     "metadata": {},
     "output_type": "execute_result"
    }
   ],
   "source": [
    "x_coo"
   ]
  },
  {
   "cell_type": "code",
   "execution_count": 40,
   "id": "bfdeae97-a77c-4db0-b31a-77e17181dbaf",
   "metadata": {
    "id": "v7UEH4y3dTDt"
   },
   "outputs": [],
   "source": [
    "# Get cell and gene soma IDs of the query\n",
    "obs_ids = query.obs_joinids().to_numpy()[:numpy.max(obs_index) + 1]\n",
    "var_ids = query.var_joinids().to_numpy()[:numpy.max(var_index) + 1]\n",
    "\n",
    "# Set obs/var index as the SOMA IDs\n",
    "obs = obs.set_index(\"soma_joinid\")\n",
    "var = var.set_index(\"soma_joinid\")"
   ]
  },
  {
   "cell_type": "code",
   "execution_count": 41,
   "id": "2121dd2d-4d08-4272-89a8-73a022cf189a",
   "metadata": {
    "colab": {
     "base_uri": "https://localhost:8080/",
     "height": 455
    },
    "id": "uieYFay4c4TV",
    "outputId": "e4eb9369-740c-439b-cf92-fafc5bc1175d"
   },
   "outputs": [
    {
     "data": {
      "text/html": [
       "<div>\n",
       "<style scoped>\n",
       "    .dataframe tbody tr th:only-of-type {\n",
       "        vertical-align: middle;\n",
       "    }\n",
       "\n",
       "    .dataframe tbody tr th {\n",
       "        vertical-align: top;\n",
       "    }\n",
       "\n",
       "    .dataframe thead th {\n",
       "        text-align: right;\n",
       "    }\n",
       "</style>\n",
       "<table border=\"1\" class=\"dataframe\">\n",
       "  <thead>\n",
       "    <tr style=\"text-align: right;\">\n",
       "      <th></th>\n",
       "      <th>cell_type</th>\n",
       "      <th>tissue_general</th>\n",
       "    </tr>\n",
       "    <tr>\n",
       "      <th>soma_joinid</th>\n",
       "      <th></th>\n",
       "      <th></th>\n",
       "    </tr>\n",
       "  </thead>\n",
       "  <tbody>\n",
       "    <tr>\n",
       "      <th>6763612</th>\n",
       "      <td>epithelial cell</td>\n",
       "      <td>tongue</td>\n",
       "    </tr>\n",
       "    <tr>\n",
       "      <th>6763613</th>\n",
       "      <td>epithelial cell</td>\n",
       "      <td>tongue</td>\n",
       "    </tr>\n",
       "    <tr>\n",
       "      <th>6763614</th>\n",
       "      <td>epithelial cell</td>\n",
       "      <td>tongue</td>\n",
       "    </tr>\n",
       "    <tr>\n",
       "      <th>6763615</th>\n",
       "      <td>epithelial cell</td>\n",
       "      <td>tongue</td>\n",
       "    </tr>\n",
       "    <tr>\n",
       "      <th>6763616</th>\n",
       "      <td>epithelial cell</td>\n",
       "      <td>tongue</td>\n",
       "    </tr>\n",
       "    <tr>\n",
       "      <th>...</th>\n",
       "      <td>...</td>\n",
       "      <td>...</td>\n",
       "    </tr>\n",
       "    <tr>\n",
       "      <th>53548544</th>\n",
       "      <td>keratinocyte</td>\n",
       "      <td>tongue</td>\n",
       "    </tr>\n",
       "    <tr>\n",
       "      <th>53548545</th>\n",
       "      <td>keratinocyte</td>\n",
       "      <td>tongue</td>\n",
       "    </tr>\n",
       "    <tr>\n",
       "      <th>53548546</th>\n",
       "      <td>basal cell</td>\n",
       "      <td>tongue</td>\n",
       "    </tr>\n",
       "    <tr>\n",
       "      <th>53548547</th>\n",
       "      <td>keratinocyte</td>\n",
       "      <td>tongue</td>\n",
       "    </tr>\n",
       "    <tr>\n",
       "      <th>53548548</th>\n",
       "      <td>keratinocyte</td>\n",
       "      <td>tongue</td>\n",
       "    </tr>\n",
       "  </tbody>\n",
       "</table>\n",
       "<p>45060 rows × 2 columns</p>\n",
       "</div>"
      ],
      "text/plain": [
       "                   cell_type tissue_general\n",
       "soma_joinid                                \n",
       "6763612      epithelial cell         tongue\n",
       "6763613      epithelial cell         tongue\n",
       "6763614      epithelial cell         tongue\n",
       "6763615      epithelial cell         tongue\n",
       "6763616      epithelial cell         tongue\n",
       "...                      ...            ...\n",
       "53548544        keratinocyte         tongue\n",
       "53548545        keratinocyte         tongue\n",
       "53548546          basal cell         tongue\n",
       "53548547        keratinocyte         tongue\n",
       "53548548        keratinocyte         tongue\n",
       "\n",
       "[45060 rows x 2 columns]"
      ]
     },
     "execution_count": 41,
     "metadata": {},
     "output_type": "execute_result"
    }
   ],
   "source": [
    "obs.loc[obs_ids,]"
   ]
  },
  {
   "cell_type": "code",
   "execution_count": 42,
   "id": "e4fbec89-c58a-4a35-8f24-a3dae602ca7f",
   "metadata": {
    "colab": {
     "base_uri": "https://localhost:8080/",
     "height": 174
    },
    "id": "PKR2f8qIdfnj",
    "outputId": "9bb4fcd3-6758-4f13-ac74-314a560286b7"
   },
   "outputs": [
    {
     "data": {
      "text/html": [
       "<div>\n",
       "<style scoped>\n",
       "    .dataframe tbody tr th:only-of-type {\n",
       "        vertical-align: middle;\n",
       "    }\n",
       "\n",
       "    .dataframe tbody tr th {\n",
       "        vertical-align: top;\n",
       "    }\n",
       "\n",
       "    .dataframe thead th {\n",
       "        text-align: right;\n",
       "    }\n",
       "</style>\n",
       "<table border=\"1\" class=\"dataframe\">\n",
       "  <thead>\n",
       "    <tr style=\"text-align: right;\">\n",
       "      <th></th>\n",
       "      <th>feature_id</th>\n",
       "      <th>feature_name</th>\n",
       "      <th>feature_length</th>\n",
       "      <th>nnz</th>\n",
       "      <th>n_measured_obs</th>\n",
       "    </tr>\n",
       "    <tr>\n",
       "      <th>soma_joinid</th>\n",
       "      <th></th>\n",
       "      <th></th>\n",
       "      <th></th>\n",
       "      <th></th>\n",
       "      <th></th>\n",
       "    </tr>\n",
       "  </thead>\n",
       "  <tbody>\n",
       "    <tr>\n",
       "      <th>299</th>\n",
       "      <td>ENSG00000011465</td>\n",
       "      <td>DCN</td>\n",
       "      <td>12941</td>\n",
       "      <td>7905731</td>\n",
       "      <td>75319655</td>\n",
       "    </tr>\n",
       "    <tr>\n",
       "      <th>12852</th>\n",
       "      <td>ENSG00000171401</td>\n",
       "      <td>KRT13</td>\n",
       "      <td>2913</td>\n",
       "      <td>712612</td>\n",
       "      <td>62927690</td>\n",
       "    </tr>\n",
       "    <tr>\n",
       "      <th>28763</th>\n",
       "      <td>ENSG00000261371</td>\n",
       "      <td>PECAM1</td>\n",
       "      <td>7741</td>\n",
       "      <td>7739030</td>\n",
       "      <td>64633082</td>\n",
       "    </tr>\n",
       "  </tbody>\n",
       "</table>\n",
       "</div>"
      ],
      "text/plain": [
       "                  feature_id feature_name  feature_length      nnz  \\\n",
       "soma_joinid                                                          \n",
       "299          ENSG00000011465          DCN           12941  7905731   \n",
       "12852        ENSG00000171401        KRT13            2913   712612   \n",
       "28763        ENSG00000261371       PECAM1            7741  7739030   \n",
       "\n",
       "             n_measured_obs  \n",
       "soma_joinid                  \n",
       "299                75319655  \n",
       "12852              62927690  \n",
       "28763              64633082  "
      ]
     },
     "execution_count": 42,
     "metadata": {},
     "output_type": "execute_result"
    }
   ],
   "source": [
    "var.loc[var_ids,]"
   ]
  },
  {
   "cell_type": "markdown",
   "id": "ab3e0f0c-c913-4a27-8a77-b8893d3f24c2",
   "metadata": {
    "id": "rE2GGC0jeYpT"
   },
   "source": [
    "**🚨 NOTE:** Just like a file, a query should be closed."
   ]
  },
  {
   "cell_type": "code",
   "execution_count": 43,
   "id": "a7692dcd-b07e-4ec4-ae7e-26601607f708",
   "metadata": {
    "id": "KNLsToVAeWsq"
   },
   "outputs": [],
   "source": [
    "query.close()"
   ]
  },
  {
   "cell_type": "markdown",
   "id": "36382e92-62da-4d38-aa17-1a851da1e95f",
   "metadata": {
    "id": "FA-7L5zfeNC4"
   },
   "source": [
    "### Efficient compute capabilities of Census\n",
    "\n",
    "Census includes methods that make use of SOMA streaming capabilities (iterators) to apply common calculations – on million of cells – using a common laptop."
   ]
  },
  {
   "cell_type": "markdown",
   "id": "3189b3a1-1233-4bff-9e01-66b04153ae0c",
   "metadata": {
    "id": "ValUjof9mBKf"
   },
   "source": [
    "\n",
    "#### Calculating average and variance across genes or cells\n",
    "\n",
    "The Census method `mean_variance` enables calculation of average values across rows (cells) or columns (genes) of the `X` matrix  of an `ExperimentAxisQuery`.\n",
    "\n",
    "First create an `ExperimentAxisQuery`:"
   ]
  },
  {
   "cell_type": "code",
   "execution_count": 44,
   "id": "1ac1e960-fbcd-4b7c-8072-cfa17a0fd967",
   "metadata": {
    "id": "cNTDeF0ac7af"
   },
   "outputs": [],
   "source": [
    "# Set filters\n",
    "cell_filter = (\n",
    "  \"is_primary_data == True \"\n",
    "  \"and tissue_general == 'lung' \"\n",
    "  \"and cell_type == 'epithelial cell' \"\n",
    "  \"and disease == 'small cell lung carcinoma'\"\n",
    " )\n",
    "\n",
    "gene_filter = \"feature_name in ['KRAS', 'AQP4']\"\n",
    "\n",
    "# Create query\n",
    "query = census[\"census_data\"][\"homo_sapiens\"].axis_query(\n",
    "  measurement_name=\"RNA\",\n",
    "  obs_query=tiledbsoma.AxisQuery(value_filter=cell_filter),\n",
    "  var_query=tiledbsoma.AxisQuery(value_filter=gene_filter)\n",
    ")"
   ]
  },
  {
   "cell_type": "code",
   "execution_count": 45,
   "id": "7bda9c92-9bbf-4a95-88c5-93d74c9e664f",
   "metadata": {
    "colab": {
     "base_uri": "https://localhost:8080/"
    },
    "id": "aveXjqxYiPZx",
    "outputId": "fa16ea60-7900-48ea-d4a2-05b6e45798ea"
   },
   "outputs": [
    {
     "data": {
      "text/plain": [
       "(25988, 2)"
      ]
     },
     "execution_count": 45,
     "metadata": {},
     "output_type": "execute_result"
    }
   ],
   "source": [
    "query.n_obs, query.n_vars"
   ]
  },
  {
   "cell_type": "markdown",
   "id": "3116785d-fbf0-45d7-a41e-2e8702300a5a",
   "metadata": {
    "id": "kAMK2ea_icNT"
   },
   "source": [
    "Now we can use the Census `mean_variance()` to calculate mean and variance across cells:"
   ]
  },
  {
   "cell_type": "code",
   "execution_count": 46,
   "id": "119e7e79-9d3f-4b1c-bde7-92cde3e5d851",
   "metadata": {
    "colab": {
     "base_uri": "https://localhost:8080/",
     "height": 143
    },
    "id": "0aIhHUkxiVth",
    "outputId": "8085e2b0-08dc-4559-9fed-eab5c88e707f"
   },
   "outputs": [
    {
     "data": {
      "text/html": [
       "<div>\n",
       "<style scoped>\n",
       "    .dataframe tbody tr th:only-of-type {\n",
       "        vertical-align: middle;\n",
       "    }\n",
       "\n",
       "    .dataframe tbody tr th {\n",
       "        vertical-align: top;\n",
       "    }\n",
       "\n",
       "    .dataframe thead th {\n",
       "        text-align: right;\n",
       "    }\n",
       "</style>\n",
       "<table border=\"1\" class=\"dataframe\">\n",
       "  <thead>\n",
       "    <tr style=\"text-align: right;\">\n",
       "      <th></th>\n",
       "      <th>mean</th>\n",
       "      <th>variance</th>\n",
       "    </tr>\n",
       "    <tr>\n",
       "      <th>soma_joinid</th>\n",
       "      <th></th>\n",
       "      <th></th>\n",
       "    </tr>\n",
       "  </thead>\n",
       "  <tbody>\n",
       "    <tr>\n",
       "      <th>6706</th>\n",
       "      <td>18.114668</td>\n",
       "      <td>829.320056</td>\n",
       "    </tr>\n",
       "    <tr>\n",
       "      <th>12982</th>\n",
       "      <td>0.018932</td>\n",
       "      <td>0.099153</td>\n",
       "    </tr>\n",
       "  </tbody>\n",
       "</table>\n",
       "</div>"
      ],
      "text/plain": [
       "                  mean    variance\n",
       "soma_joinid                       \n",
       "6706         18.114668  829.320056\n",
       "12982         0.018932    0.099153"
      ]
     },
     "execution_count": 46,
     "metadata": {},
     "output_type": "execute_result"
    }
   ],
   "source": [
    "from cellxgene_census.experimental.pp import mean_variance\n",
    "\n",
    "mean_variance_df = mean_variance(\n",
    "    query,\n",
    "    axis=0,\n",
    "    calculate_mean=True,\n",
    "    calculate_variance=True,\n",
    "    #nnz_only = True,\n",
    ")\n",
    "mean_variance_df"
   ]
  },
  {
   "cell_type": "code",
   "execution_count": 47,
   "id": "66b243b4-b251-4f2d-a08b-4fe2a1e8b297",
   "metadata": {
    "colab": {
     "base_uri": "https://localhost:8080/",
     "height": 112
    },
    "id": "vAhhx0K0ixa4",
    "outputId": "2890b349-d946-4ecd-f713-9c6f6cd444f6"
   },
   "outputs": [
    {
     "data": {
      "text/html": [
       "<div>\n",
       "<style scoped>\n",
       "    .dataframe tbody tr th:only-of-type {\n",
       "        vertical-align: middle;\n",
       "    }\n",
       "\n",
       "    .dataframe tbody tr th {\n",
       "        vertical-align: top;\n",
       "    }\n",
       "\n",
       "    .dataframe thead th {\n",
       "        text-align: right;\n",
       "    }\n",
       "</style>\n",
       "<table border=\"1\" class=\"dataframe\">\n",
       "  <thead>\n",
       "    <tr style=\"text-align: right;\">\n",
       "      <th></th>\n",
       "      <th>soma_joinid</th>\n",
       "      <th>feature_id</th>\n",
       "      <th>feature_name</th>\n",
       "      <th>feature_length</th>\n",
       "      <th>nnz</th>\n",
       "      <th>n_measured_obs</th>\n",
       "    </tr>\n",
       "  </thead>\n",
       "  <tbody>\n",
       "    <tr>\n",
       "      <th>0</th>\n",
       "      <td>6706</td>\n",
       "      <td>ENSG00000133703</td>\n",
       "      <td>KRAS</td>\n",
       "      <td>9230</td>\n",
       "      <td>21891125</td>\n",
       "      <td>76922693</td>\n",
       "    </tr>\n",
       "    <tr>\n",
       "      <th>1</th>\n",
       "      <td>12982</td>\n",
       "      <td>ENSG00000171885</td>\n",
       "      <td>AQP4</td>\n",
       "      <td>5943</td>\n",
       "      <td>3274017</td>\n",
       "      <td>70337111</td>\n",
       "    </tr>\n",
       "  </tbody>\n",
       "</table>\n",
       "</div>"
      ],
      "text/plain": [
       "   soma_joinid       feature_id feature_name  feature_length       nnz  \\\n",
       "0         6706  ENSG00000133703         KRAS            9230  21891125   \n",
       "1        12982  ENSG00000171885         AQP4            5943   3274017   \n",
       "\n",
       "   n_measured_obs  \n",
       "0        76922693  \n",
       "1        70337111  "
      ]
     },
     "execution_count": 47,
     "metadata": {},
     "output_type": "execute_result"
    }
   ],
   "source": [
    "query.var().concat().to_pandas()"
   ]
  },
  {
   "cell_type": "markdown",
   "id": "b2adc112-809f-4902-98bc-03fa42dfdda4",
   "metadata": {
    "id": "BirKqYyVl3Na"
   },
   "source": [
    "There are a few knobs we can tune in this method:\n",
    "\n",
    "- `layer` the layer from X to use, defaults to `\"raw\"`.\n",
    "- `axis` perform calculations across rows (`0`) or columns (`1`).\n",
    "- `calculate_mean` whether to calculate mean.\n",
    "- `calculate_variance` whether to calculate variance.\n",
    "- `nnz_only` whether to do calculations only on non-zero values.\n"
   ]
  },
  {
   "cell_type": "markdown",
   "id": "f68d4c17-db14-4407-8012-5666ae8a5741",
   "metadata": {
    "id": "atRqFunSnQMf"
   },
   "source": [
    "**🚨 NOTE:** Just like a file, a query should be closed."
   ]
  },
  {
   "cell_type": "code",
   "execution_count": 48,
   "id": "bcb57f09-4ab9-4494-aa1b-c1e11df1c1e2",
   "metadata": {
    "id": "iOieSYiNnQMg"
   },
   "outputs": [],
   "source": [
    "query.close()"
   ]
  },
  {
   "cell_type": "markdown",
   "id": "5efa4280-69af-43d3-807f-0ef48247d0ee",
   "metadata": {
    "id": "fupyzSA5lsW8"
   },
   "source": [
    "#### Getting highly variable genes\n",
    "\n",
    "Similarly to calculating gene expression mean and variance, we can efficiently find the highest variable genes (memory-efficiently, across millions of cells) using `highly_variable_genes()`.\n",
    "\n",
    "This method also works with an `ExperimentAxisQuery`:"
   ]
  },
  {
   "cell_type": "code",
   "execution_count": 49,
   "id": "fbff8cb3-4854-418a-9af1-ae28a2dcc00f",
   "metadata": {
    "id": "LRLCEIdFleOE"
   },
   "outputs": [],
   "source": [
    "cell_filter = (\n",
    "  \"is_primary_data == True \"\n",
    "  \"and tissue_general == 'lung' \"\n",
    "  \"and cell_type == 'T cell' \"\n",
    "  \"and disease == 'small cell lung carcinoma'\"\n",
    " )\n",
    "\n",
    "# Create query\n",
    "query = census[\"census_data\"][\"homo_sapiens\"].axis_query(\n",
    "  measurement_name=\"RNA\",\n",
    "  obs_query=tiledbsoma.AxisQuery(value_filter=cell_filter),\n",
    ")"
   ]
  },
  {
   "cell_type": "code",
   "execution_count": 50,
   "id": "b78a75ea-cbd1-4cbe-828e-5f210eb54236",
   "metadata": {
    "colab": {
     "base_uri": "https://localhost:8080/"
    },
    "id": "xEQAPZkOnDT9",
    "outputId": "3a0741fd-d94d-4d96-f97f-abe42224e362"
   },
   "outputs": [
    {
     "data": {
      "text/plain": [
       "3898"
      ]
     },
     "execution_count": 50,
     "metadata": {},
     "output_type": "execute_result"
    }
   ],
   "source": [
    "query.n_obs"
   ]
  },
  {
   "cell_type": "code",
   "execution_count": 51,
   "id": "b857dc63-6087-4abc-bd27-3e2bc412998d",
   "metadata": {
    "colab": {
     "base_uri": "https://localhost:8080/",
     "height": 455
    },
    "id": "MwWytuvvnTpf",
    "outputId": "ad4789e1-9637-4fbb-b98d-b0b7f8896a19",
    "scrolled": true
   },
   "outputs": [
    {
     "data": {
      "text/html": [
       "<div>\n",
       "<style scoped>\n",
       "    .dataframe tbody tr th:only-of-type {\n",
       "        vertical-align: middle;\n",
       "    }\n",
       "\n",
       "    .dataframe tbody tr th {\n",
       "        vertical-align: top;\n",
       "    }\n",
       "\n",
       "    .dataframe thead th {\n",
       "        text-align: right;\n",
       "    }\n",
       "</style>\n",
       "<table border=\"1\" class=\"dataframe\">\n",
       "  <thead>\n",
       "    <tr style=\"text-align: right;\">\n",
       "      <th></th>\n",
       "      <th>means</th>\n",
       "      <th>variances</th>\n",
       "      <th>highly_variable_rank</th>\n",
       "      <th>variances_norm</th>\n",
       "      <th>highly_variable</th>\n",
       "    </tr>\n",
       "    <tr>\n",
       "      <th>soma_joinid</th>\n",
       "      <th></th>\n",
       "      <th></th>\n",
       "      <th></th>\n",
       "      <th></th>\n",
       "      <th></th>\n",
       "    </tr>\n",
       "  </thead>\n",
       "  <tbody>\n",
       "    <tr>\n",
       "      <th>179</th>\n",
       "      <td>0.015136</td>\n",
       "      <td>0.057508</td>\n",
       "      <td>162.0</td>\n",
       "      <td>2.909841</td>\n",
       "      <td>True</td>\n",
       "    </tr>\n",
       "    <tr>\n",
       "      <th>295</th>\n",
       "      <td>0.084146</td>\n",
       "      <td>0.350629</td>\n",
       "      <td>152.0</td>\n",
       "      <td>2.969717</td>\n",
       "      <td>True</td>\n",
       "    </tr>\n",
       "    <tr>\n",
       "      <th>391</th>\n",
       "      <td>5.670600</td>\n",
       "      <td>180.631524</td>\n",
       "      <td>192.0</td>\n",
       "      <td>2.758504</td>\n",
       "      <td>True</td>\n",
       "    </tr>\n",
       "    <tr>\n",
       "      <th>483</th>\n",
       "      <td>0.184197</td>\n",
       "      <td>0.956055</td>\n",
       "      <td>114.0</td>\n",
       "      <td>3.242163</td>\n",
       "      <td>True</td>\n",
       "    </tr>\n",
       "    <tr>\n",
       "      <th>525</th>\n",
       "      <td>0.071832</td>\n",
       "      <td>0.379237</td>\n",
       "      <td>82.0</td>\n",
       "      <td>3.834492</td>\n",
       "      <td>True</td>\n",
       "    </tr>\n",
       "    <tr>\n",
       "      <th>...</th>\n",
       "      <td>...</td>\n",
       "      <td>...</td>\n",
       "      <td>...</td>\n",
       "      <td>...</td>\n",
       "      <td>...</td>\n",
       "    </tr>\n",
       "    <tr>\n",
       "      <th>32040</th>\n",
       "      <td>1.384043</td>\n",
       "      <td>53.327710</td>\n",
       "      <td>8.0</td>\n",
       "      <td>8.311249</td>\n",
       "      <td>True</td>\n",
       "    </tr>\n",
       "    <tr>\n",
       "      <th>32045</th>\n",
       "      <td>0.133145</td>\n",
       "      <td>1.294303</td>\n",
       "      <td>67.0</td>\n",
       "      <td>4.149883</td>\n",
       "      <td>True</td>\n",
       "    </tr>\n",
       "    <tr>\n",
       "      <th>32258</th>\n",
       "      <td>0.041816</td>\n",
       "      <td>0.152472</td>\n",
       "      <td>198.0</td>\n",
       "      <td>2.699364</td>\n",
       "      <td>True</td>\n",
       "    </tr>\n",
       "    <tr>\n",
       "      <th>32293</th>\n",
       "      <td>0.842996</td>\n",
       "      <td>36.706675</td>\n",
       "      <td>3.0</td>\n",
       "      <td>9.840940</td>\n",
       "      <td>True</td>\n",
       "    </tr>\n",
       "    <tr>\n",
       "      <th>32713</th>\n",
       "      <td>0.319651</td>\n",
       "      <td>1.664284</td>\n",
       "      <td>191.0</td>\n",
       "      <td>2.761724</td>\n",
       "      <td>True</td>\n",
       "    </tr>\n",
       "  </tbody>\n",
       "</table>\n",
       "<p>200 rows × 5 columns</p>\n",
       "</div>"
      ],
      "text/plain": [
       "                means   variances  highly_variable_rank  variances_norm  \\\n",
       "soma_joinid                                                               \n",
       "179          0.015136    0.057508                 162.0        2.909841   \n",
       "295          0.084146    0.350629                 152.0        2.969717   \n",
       "391          5.670600  180.631524                 192.0        2.758504   \n",
       "483          0.184197    0.956055                 114.0        3.242163   \n",
       "525          0.071832    0.379237                  82.0        3.834492   \n",
       "...               ...         ...                   ...             ...   \n",
       "32040        1.384043   53.327710                   8.0        8.311249   \n",
       "32045        0.133145    1.294303                  67.0        4.149883   \n",
       "32258        0.041816    0.152472                 198.0        2.699364   \n",
       "32293        0.842996   36.706675                   3.0        9.840940   \n",
       "32713        0.319651    1.664284                 191.0        2.761724   \n",
       "\n",
       "             highly_variable  \n",
       "soma_joinid                   \n",
       "179                     True  \n",
       "295                     True  \n",
       "391                     True  \n",
       "483                     True  \n",
       "525                     True  \n",
       "...                      ...  \n",
       "32040                   True  \n",
       "32045                   True  \n",
       "32258                   True  \n",
       "32293                   True  \n",
       "32713                   True  \n",
       "\n",
       "[200 rows x 5 columns]"
      ]
     },
     "execution_count": 51,
     "metadata": {},
     "output_type": "execute_result"
    }
   ],
   "source": [
    "from cellxgene_census.experimental.pp import highly_variable_genes\n",
    "\n",
    "hvg_df = highly_variable_genes(\n",
    "    query,\n",
    "    n_top_genes = 200,\n",
    "    #batch_key = [\"dataset_id\"]\n",
    ")\n",
    "hvg_df.query(\"highly_variable == True\")"
   ]
  },
  {
   "cell_type": "code",
   "execution_count": 52,
   "id": "e52d6f31-0a30-49e8-adcb-eb8c459b22d0",
   "metadata": {
    "colab": {
     "base_uri": "https://localhost:8080/",
     "height": 423
    },
    "id": "HBgtxAmUo9zO",
    "outputId": "e90113a5-b190-4a5c-bb0a-1583dd97125e"
   },
   "outputs": [
    {
     "data": {
      "text/html": [
       "<div>\n",
       "<style scoped>\n",
       "    .dataframe tbody tr th:only-of-type {\n",
       "        vertical-align: middle;\n",
       "    }\n",
       "\n",
       "    .dataframe tbody tr th {\n",
       "        vertical-align: top;\n",
       "    }\n",
       "\n",
       "    .dataframe thead th {\n",
       "        text-align: right;\n",
       "    }\n",
       "</style>\n",
       "<table border=\"1\" class=\"dataframe\">\n",
       "  <thead>\n",
       "    <tr style=\"text-align: right;\">\n",
       "      <th></th>\n",
       "      <th>soma_joinid</th>\n",
       "      <th>feature_id</th>\n",
       "      <th>feature_name</th>\n",
       "      <th>feature_length</th>\n",
       "      <th>nnz</th>\n",
       "      <th>n_measured_obs</th>\n",
       "    </tr>\n",
       "  </thead>\n",
       "  <tbody>\n",
       "    <tr>\n",
       "      <th>0</th>\n",
       "      <td>0</td>\n",
       "      <td>ENSG00000000003</td>\n",
       "      <td>TSPAN6</td>\n",
       "      <td>4530</td>\n",
       "      <td>4811135</td>\n",
       "      <td>77128603</td>\n",
       "    </tr>\n",
       "    <tr>\n",
       "      <th>1</th>\n",
       "      <td>1</td>\n",
       "      <td>ENSG00000000005</td>\n",
       "      <td>TNMD</td>\n",
       "      <td>1476</td>\n",
       "      <td>269136</td>\n",
       "      <td>64017621</td>\n",
       "    </tr>\n",
       "    <tr>\n",
       "      <th>2</th>\n",
       "      <td>2</td>\n",
       "      <td>ENSG00000000419</td>\n",
       "      <td>DPM1</td>\n",
       "      <td>9276</td>\n",
       "      <td>18420588</td>\n",
       "      <td>77502438</td>\n",
       "    </tr>\n",
       "    <tr>\n",
       "      <th>3</th>\n",
       "      <td>3</td>\n",
       "      <td>ENSG00000000457</td>\n",
       "      <td>SCYL3</td>\n",
       "      <td>6883</td>\n",
       "      <td>9268173</td>\n",
       "      <td>76952827</td>\n",
       "    </tr>\n",
       "    <tr>\n",
       "      <th>4</th>\n",
       "      <td>4</td>\n",
       "      <td>ENSG00000000460</td>\n",
       "      <td>C1orf112</td>\n",
       "      <td>5970</td>\n",
       "      <td>6484239</td>\n",
       "      <td>76979490</td>\n",
       "    </tr>\n",
       "    <tr>\n",
       "      <th>...</th>\n",
       "      <td>...</td>\n",
       "      <td>...</td>\n",
       "      <td>...</td>\n",
       "      <td>...</td>\n",
       "      <td>...</td>\n",
       "      <td>...</td>\n",
       "    </tr>\n",
       "    <tr>\n",
       "      <th>60532</th>\n",
       "      <td>60532</td>\n",
       "      <td>ENSG00000288718</td>\n",
       "      <td>ENSG00000288718.1</td>\n",
       "      <td>1070</td>\n",
       "      <td>4</td>\n",
       "      <td>1248980</td>\n",
       "    </tr>\n",
       "    <tr>\n",
       "      <th>60533</th>\n",
       "      <td>60533</td>\n",
       "      <td>ENSG00000288719</td>\n",
       "      <td>ENSG00000288719.1</td>\n",
       "      <td>4252</td>\n",
       "      <td>2826</td>\n",
       "      <td>1248980</td>\n",
       "    </tr>\n",
       "    <tr>\n",
       "      <th>60534</th>\n",
       "      <td>60534</td>\n",
       "      <td>ENSG00000288724</td>\n",
       "      <td>ENSG00000288724.1</td>\n",
       "      <td>625</td>\n",
       "      <td>36</td>\n",
       "      <td>1248980</td>\n",
       "    </tr>\n",
       "    <tr>\n",
       "      <th>60535</th>\n",
       "      <td>60535</td>\n",
       "      <td>ENSG00000290735</td>\n",
       "      <td>ENSG00000290735.1</td>\n",
       "      <td>4103</td>\n",
       "      <td>128</td>\n",
       "      <td>49359</td>\n",
       "    </tr>\n",
       "    <tr>\n",
       "      <th>60536</th>\n",
       "      <td>60536</td>\n",
       "      <td>ENSG00000289810</td>\n",
       "      <td>ENSG00000289810.1</td>\n",
       "      <td>1205</td>\n",
       "      <td>82</td>\n",
       "      <td>48478</td>\n",
       "    </tr>\n",
       "  </tbody>\n",
       "</table>\n",
       "<p>60537 rows × 6 columns</p>\n",
       "</div>"
      ],
      "text/plain": [
       "       soma_joinid       feature_id       feature_name  feature_length  \\\n",
       "0                0  ENSG00000000003             TSPAN6            4530   \n",
       "1                1  ENSG00000000005               TNMD            1476   \n",
       "2                2  ENSG00000000419               DPM1            9276   \n",
       "3                3  ENSG00000000457              SCYL3            6883   \n",
       "4                4  ENSG00000000460           C1orf112            5970   \n",
       "...            ...              ...                ...             ...   \n",
       "60532        60532  ENSG00000288718  ENSG00000288718.1            1070   \n",
       "60533        60533  ENSG00000288719  ENSG00000288719.1            4252   \n",
       "60534        60534  ENSG00000288724  ENSG00000288724.1             625   \n",
       "60535        60535  ENSG00000290735  ENSG00000290735.1            4103   \n",
       "60536        60536  ENSG00000289810  ENSG00000289810.1            1205   \n",
       "\n",
       "            nnz  n_measured_obs  \n",
       "0       4811135        77128603  \n",
       "1        269136        64017621  \n",
       "2      18420588        77502438  \n",
       "3       9268173        76952827  \n",
       "4       6484239        76979490  \n",
       "...         ...             ...  \n",
       "60532         4         1248980  \n",
       "60533      2826         1248980  \n",
       "60534        36         1248980  \n",
       "60535       128           49359  \n",
       "60536        82           48478  \n",
       "\n",
       "[60537 rows x 6 columns]"
      ]
     },
     "execution_count": 52,
     "metadata": {},
     "output_type": "execute_result"
    }
   ],
   "source": [
    "query.var().concat().to_pandas()"
   ]
  },
  {
   "cell_type": "markdown",
   "id": "304e31a8-800a-4fc3-9478-b7a4ee4842b8",
   "metadata": {
    "id": "PAbezknrpSec"
   },
   "source": [
    "**🚨 NOTE:** Just like a file, a query should be closed."
   ]
  },
  {
   "cell_type": "code",
   "execution_count": 53,
   "id": "918581bc-93e2-4150-b60d-52c32f61dedb",
   "metadata": {
    "id": "U9DUezXLpSed"
   },
   "outputs": [],
   "source": [
    "query.close()"
   ]
  },
  {
   "attachments": {},
   "cell_type": "markdown",
   "id": "9c8899e7",
   "metadata": {},
   "source": [
    "# Training a PyTorch Model\n",
    "\n",
    "Now that we understand the basics of querying the Census, we'll use the Census `experimental.ml.ExperimentDataPipe` class to train a simple logistic regression PyTorch model. This is intended only to demonstrate the use of the `ExperimentDataPipe`, and not as an example of how to train a biologically useful model.\n",
    "\n",
    "**Contents**\n",
    "\n",
    "* [Open the Census](#Open-the-Census)\n",
    "* [Create a DataLoader](#Create-a-DataLoader)\n",
    "* [Define the model](#Define-the-model)\n",
    "* [Train the model](#Train-the-model)\n",
    "* [Make predictions with the model](#Make-predictions-with-the-model)\n"
   ]
  },
  {
   "attachments": {},
   "cell_type": "markdown",
   "id": "580b29f2",
   "metadata": {},
   "source": [
    "## Create an ExperimentDataPipe\n",
    "\n",
    "To train a model in PyTorch using the `census` object, instantiate an `ExperimentDataPipe`:"
   ]
  },
  {
   "cell_type": "code",
   "execution_count": 54,
   "id": "54896e6f",
   "metadata": {
    "ExecuteTime": {
     "end_time": "2023-10-09T18:20:22.278894Z",
     "start_time": "2023-10-09T18:20:21.830683Z"
    }
   },
   "outputs": [
    {
     "name": "stderr",
     "output_type": "stream",
     "text": [
      "/home/ubuntu/.pyenv/versions/scverse-ml-workshop-2024-3.9.19/lib/python3.9/site-packages/torchdata/datapipes/__init__.py:18: UserWarning: \n",
      "################################################################################\n",
      "WARNING!\n",
      "The 'datapipes', 'dataloader2' modules are deprecated and will be removed in a\n",
      "future torchdata release! Please see https://github.com/pytorch/data/issues/1196\n",
      "to learn more and leave feedback.\n",
      "################################################################################\n",
      "\n",
      "  deprecation_warning()\n"
     ]
    }
   ],
   "source": [
    "import cellxgene_census.experimental.ml as census_ml\n",
    "\n",
    "experiment = census[\"census_data\"][\"homo_sapiens\"]\n",
    "\n",
    "experiment_datapipe = census_ml.ExperimentDataPipe(\n",
    "    experiment,\n",
    "    measurement_name=\"RNA\",\n",
    "    X_name=\"raw\",\n",
    "    obs_query=AxisQuery(value_filter=\"tissue_general == 'tongue' and is_primary_data == True\"),\n",
    "    obs_column_names=[\"cell_type\"],\n",
    "    batch_size=128,\n",
    "    # shuffle=True,\n",
    "    # soma_chunk_size=64,\n",
    "    # shuffle_chunk_count=2_000,\n",
    ")"
   ]
  },
  {
   "attachments": {},
   "cell_type": "markdown",
   "id": "bc4906cb-77b2-4ee2-8203-3992c747958b",
   "metadata": {},
   "source": [
    "This is similar to creating an `ExperimentAxisQuery`, with a few new parameters:\n",
    "\n",
    "- `batch_size` to specify the number of obs rows (cells) in each returned PyTorch tensor.\n",
    "- `shuffle`, `soma_chunk_size`, `shuffle_chunk_count`:\n",
    "  - Randomize the order of the returned rows by fetching `shuffle_chunk_count` chunks of size `soma_chunk_size`, shuffling the result, and iterating through it with stride `batch_size`.\n",
    "  - This improves model-training performance, see [First stable iteration of Census (SOMA) PyTorch loaders](https://chanzuckerberg.github.io/cellxgene-census/articles/2024/20240709-pytorch.html#calibrated-shuffling-of-observations-cells) for more info.\n",
    "\n",
    "`ExperimentDataPipe` implements PyTorch's [DataPipe interface](https://pytorch.org/data/main/torchdata.datapipes.iter.html), allowing Census data to be queried and returned as a sequence of \"batches\" (PyTorch tensors). Importantly, it retrieves data **lazily** from the Census, per batch, avoiding loading the entire training dataset into memory at once."
   ]
  },
  {
   "attachments": {},
   "cell_type": "markdown",
   "id": "84ac17d2",
   "metadata": {},
   "source": [
    "Inspecting the shape of the full dataset (without fully loading it):"
   ]
  },
  {
   "cell_type": "code",
   "execution_count": 55,
   "id": "70a2ddbe",
   "metadata": {
    "ExecuteTime": {
     "end_time": "2023-10-09T18:20:32.049618Z",
     "start_time": "2023-10-09T18:20:22.821101Z"
    }
   },
   "outputs": [
    {
     "data": {
      "text/plain": [
       "(15020, 60537)"
      ]
     },
     "execution_count": 55,
     "metadata": {},
     "output_type": "execute_result"
    }
   ],
   "source": [
    "experiment_datapipe.shape"
   ]
  },
  {
   "attachments": {},
   "cell_type": "markdown",
   "id": "5251109a",
   "metadata": {},
   "source": [
    "## Split the dataset\n",
    "\n",
    "You may split the overall dataset into the typical training, validation, and test sets using the PyTorch [RandomSplitter](https://pytorch.org/data/main/generated/torchdata.datapipes.iter.RandomSplitter.html#torchdata.datapipes.iter.RandomSplitter) `DataPipe`:"
   ]
  },
  {
   "cell_type": "code",
   "execution_count": 56,
   "id": "133f594f",
   "metadata": {
    "ExecuteTime": {
     "end_time": "2023-10-09T18:20:32.052795Z",
     "start_time": "2023-10-09T18:20:32.051289Z"
    }
   },
   "outputs": [],
   "source": [
    "train_datapipe, test_datapipe = experiment_datapipe.random_split(weights={\"train\": 0.8, \"test\": 0.2}, seed=1)"
   ]
  },
  {
   "attachments": {},
   "cell_type": "markdown",
   "id": "a825bccf",
   "metadata": {},
   "source": [
    "## Create the DataLoader\n",
    "\n",
    "With the full set of DataPipe operations chained together, we can now instantiate a PyTorch [DataLoader](https://pytorch.org/docs/stable/data.html#torch.utils.data.DataLoader) on the training data. "
   ]
  },
  {
   "cell_type": "code",
   "execution_count": 57,
   "id": "39d30df2",
   "metadata": {
    "ExecuteTime": {
     "end_time": "2023-10-09T18:20:32.056886Z",
     "start_time": "2023-10-09T18:20:32.052898Z"
    }
   },
   "outputs": [],
   "source": [
    "experiment_dataloader = census_ml.experiment_dataloader(train_datapipe)"
   ]
  },
  {
   "attachments": {},
   "cell_type": "markdown",
   "id": "8a3cbe3f",
   "metadata": {},
   "source": [
    "Alternately, you can instantiate a `DataLoader` object directly via its constructor. However, many of the parameters are not usable with iterable-style DataPipes, which is the case for `ExperimentDataPipe`. In particular, the `shuffle`, `batch_size`, `sampler`, `batch_sampler`, `collate_fn` parameters should not be specified. Using `experiment_dataloader` helps enforce correct usage."
   ]
  },
  {
   "attachments": {},
   "cell_type": "markdown",
   "id": "fb9e93b6",
   "metadata": {},
   "source": [
    "## Define the model\n",
    "\n",
    "With the training data retrieval code now in place, we can define a simple logistic regression model, using `torch.nn.Linear`:"
   ]
  },
  {
   "cell_type": "code",
   "execution_count": 58,
   "id": "6b792b4b",
   "metadata": {
    "ExecuteTime": {
     "end_time": "2023-10-09T18:20:32.060262Z",
     "start_time": "2023-10-09T18:20:32.058875Z"
    }
   },
   "outputs": [],
   "source": [
    "import torch\n",
    "\n",
    "class LogisticRegression(torch.nn.Module):\n",
    "    def __init__(self, input_dim, output_dim):\n",
    "        super(LogisticRegression, self).__init__()  # noqa: UP008\n",
    "        self.linear = torch.nn.Linear(input_dim, output_dim)\n",
    "\n",
    "    def forward(self, x):\n",
    "        outputs = torch.sigmoid(self.linear(x))\n",
    "        return outputs"
   ]
  },
  {
   "attachments": {},
   "cell_type": "markdown",
   "id": "0e1752ef",
   "metadata": {},
   "source": [
    "Next, define a function to train the model for a single epoch:"
   ]
  },
  {
   "cell_type": "code",
   "execution_count": 59,
   "id": "b744cd21",
   "metadata": {
    "ExecuteTime": {
     "end_time": "2023-10-09T18:20:32.310829Z",
     "start_time": "2023-10-09T18:20:32.307661Z"
    }
   },
   "outputs": [],
   "source": [
    "def train_epoch(model, train_dataloader, loss_fn, optimizer, device):\n",
    "    model.train()\n",
    "    train_loss = 0\n",
    "    train_correct = 0\n",
    "    train_total = 0\n",
    "\n",
    "    for batch in train_dataloader:\n",
    "        optimizer.zero_grad()\n",
    "        X_batch, y_batch = batch\n",
    "\n",
    "        X_batch = X_batch.float().to(device)\n",
    "\n",
    "        # Perform prediction\n",
    "        outputs = model(X_batch)\n",
    "\n",
    "        # Determine the predicted label\n",
    "        probabilities = torch.nn.functional.softmax(outputs, 1)\n",
    "        predictions = torch.argmax(probabilities, axis=1)\n",
    "\n",
    "        # Compute the loss and perform back propagation\n",
    "\n",
    "        y_batch = y_batch.flatten()\n",
    "        y_batch = y_batch.to(device)\n",
    "\n",
    "        train_correct += (predictions == y_batch).sum().item()\n",
    "        train_total += len(predictions)\n",
    "\n",
    "        loss = loss_fn(outputs, y_batch.long())\n",
    "        train_loss += loss.item()\n",
    "        loss.backward()\n",
    "        optimizer.step()\n",
    "\n",
    "    train_loss /= train_total\n",
    "    train_accuracy = train_correct / train_total\n",
    "    return train_loss, train_accuracy"
   ]
  },
  {
   "attachments": {},
   "cell_type": "markdown",
   "id": "a0a9fd7e",
   "metadata": {},
   "source": [
    "Note the line, `X_batch, y_batch = batch`. Since the `train_dataloader` was configured with `batch_size=128`, these variables will hold tensors of rank 2. The `X_batch` tensor will appear, for example, as:\n",
    "\n",
    "```\n",
    "tensor([[0., 0., 0.,  ..., 1., 0., 0.],\n",
    "        [0., 0., 2.,  ..., 0., 3., 0.],\n",
    "        [0., 0., 0.,  ..., 0., 0., 0.],\n",
    "        ...,\n",
    "        [0., 0., 0.,  ..., 0., 0., 0.],\n",
    "        [0., 1., 0.,  ..., 0., 0., 0.],\n",
    "        [0., 0., 0.,  ..., 0., 0., 8.]])\n",
    "      \n",
    "```\n",
    "\n",
    "For `batch_size=1`, the tensors will be of rank 1. The `X_batch` tensor will appear, for example, as:\n",
    "\n",
    "```\n",
    "tensor([0., 0., 0.,  ..., 1., 0., 0.])\n",
    "```\n",
    "    \n",
    "For `y_batch`, this will contain the user-specified `obs` `cell_type` training labels. By default, these are encoded using a LabelEncoder and it will be a matrix where each column represents the encoded values of each column specified in `obs_column_names` when creating the datapipe (in this case, only the cell type). It will look like this:\n",
    "\n",
    "```\n",
    "tensor([1, 1, 3, ..., 2, 1, 4])\n",
    "\n",
    "```\n",
    "Note that cell type values are integer-encoded values, which can be decoded using `experiment_datapipe.obs_encoders` (more on this below).\n"
   ]
  },
  {
   "attachments": {},
   "cell_type": "markdown",
   "id": "79f8b731",
   "metadata": {},
   "source": [
    "## Train the model\n",
    "\n",
    "Finally, we are ready to train the model. Here we instantiate the model, a loss function, and an optimization method, then iterate through a number of training epochs. Note how `train_dataloader` is passed into `train_epoch`; for each epoch it will provide a new iterator through the training dataset."
   ]
  },
  {
   "cell_type": "code",
   "execution_count": 60,
   "id": "733ec2fb",
   "metadata": {
    "ExecuteTime": {
     "end_time": "2023-10-09T18:29:31.028253Z",
     "start_time": "2023-10-09T18:20:32.311816Z"
    }
   },
   "outputs": [
    {
     "name": "stdout",
     "output_type": "stream",
     "text": [
      "Epoch 1: Train Loss: 0.0157591 Accuracy 0.3782\n",
      "Epoch 2: Train Loss: 0.0146186 Accuracy 0.4827\n",
      "Epoch 3: Train Loss: 0.0142216 Accuracy 0.5121\n",
      "Epoch 4: Train Loss: 0.0139803 Accuracy 0.5569\n",
      "Epoch 5: Train Loss: 0.0138324 Accuracy 0.5896\n",
      "Epoch 6: Train Loss: 0.0137259 Accuracy 0.5982\n",
      "Epoch 7: Train Loss: 0.0136668 Accuracy 0.5954\n",
      "Epoch 8: Train Loss: 0.0135987 Accuracy 0.6054\n",
      "Epoch 9: Train Loss: 0.0135548 Accuracy 0.6129\n",
      "Epoch 10: Train Loss: 0.0135209 Accuracy 0.6213\n"
     ]
    }
   ],
   "source": [
    "device = torch.device(\"cuda\") if torch.cuda.is_available() else torch.device(\"cpu\")\n",
    "\n",
    "# The size of the input dimension is the number of genes\n",
    "input_dim = experiment_datapipe.shape[1]\n",
    "\n",
    "# The size of the output dimension is the number of distinct cell_type values\n",
    "cell_type_encoder = experiment_datapipe.obs_encoders[\"cell_type\"]\n",
    "output_dim = len(cell_type_encoder.classes_)\n",
    "\n",
    "model = LogisticRegression(input_dim, output_dim).to(device)\n",
    "loss_fn = torch.nn.CrossEntropyLoss()\n",
    "optimizer = torch.optim.Adam(model.parameters(), lr=1e-05)\n",
    "\n",
    "n_epochs = 10\n",
    "for epoch in range(n_epochs):\n",
    "    train_loss, train_accuracy = train_epoch(model, experiment_dataloader, loss_fn, optimizer, device)\n",
    "    print(f\"Epoch {epoch + 1}: Train Loss: {train_loss:.7f} Accuracy {train_accuracy:.4f}\")"
   ]
  },
  {
   "attachments": {},
   "cell_type": "markdown",
   "id": "5e0ffb48",
   "metadata": {},
   "source": [
    "## Make predictions with the model\n",
    "\n",
    "To make predictions with the model, we first create a new `DataLoader` using the `test_datapipe`, which provides the \"test\" split of the original dataset. For this example, we will only make predictions on a single batch of data from the test split."
   ]
  },
  {
   "cell_type": "code",
   "execution_count": 61,
   "id": "d3e33edc",
   "metadata": {
    "ExecuteTime": {
     "end_time": "2023-10-09T18:29:59.425527Z",
     "start_time": "2023-10-09T18:29:31.705548Z"
    }
   },
   "outputs": [],
   "source": [
    "experiment_dataloader = census_ml.experiment_dataloader(test_datapipe)\n",
    "X_batch, y_batch = next(iter(experiment_dataloader))"
   ]
  },
  {
   "attachments": {},
   "cell_type": "markdown",
   "id": "19fabd54",
   "metadata": {},
   "source": [
    "Next, we invoke the model on the `X_batch` input data and extract the predictions:"
   ]
  },
  {
   "cell_type": "code",
   "execution_count": 62,
   "id": "00e12182",
   "metadata": {
    "ExecuteTime": {
     "end_time": "2023-10-09T18:29:59.438079Z",
     "start_time": "2023-10-09T18:29:59.429107Z"
    }
   },
   "outputs": [
    {
     "data": {
      "text/plain": [
       "tensor([ 1,  1,  1,  1,  1,  8,  8,  1,  2,  1, 11,  1,  1,  1,  1,  1,  1,  1,\n",
       "         1,  1,  1,  1,  1,  1,  1,  5,  1,  1,  1,  8,  1,  1,  1,  1,  1,  1,\n",
       "         1,  1,  1,  1,  8,  1,  1,  1,  5,  1,  1,  1,  8,  1,  1,  1,  1,  1,\n",
       "         1,  1,  1,  1,  2,  1, 11,  1,  1,  6,  8,  1, 11,  1,  1,  1,  8,  8,\n",
       "         1,  8,  1,  8,  1,  1,  1,  1,  1,  1,  1,  1,  1,  1,  1,  1,  8,  1,\n",
       "         8,  1,  1,  8,  1,  1,  8,  1,  1,  1,  1,  1,  8,  7,  1,  8,  1,  1,\n",
       "         8,  1,  1,  8,  1,  1,  1,  1,  6,  1,  5,  1,  1,  1,  1,  1,  1,  1,\n",
       "         1,  1])"
      ]
     },
     "metadata": {},
     "output_type": "display_data"
    }
   ],
   "source": [
    "model.eval()\n",
    "\n",
    "model.to(device)\n",
    "outputs = model(X_batch.to(device))\n",
    "\n",
    "probabilities = torch.nn.functional.softmax(outputs, 1)\n",
    "predictions = torch.argmax(probabilities, axis=1)\n",
    "\n",
    "display(predictions)"
   ]
  },
  {
   "attachments": {},
   "cell_type": "markdown",
   "id": "7cb88a5f",
   "metadata": {},
   "source": [
    "The predictions are returned as the encoded values of the `cell_type` label. To recover the original cell type labels as strings, we decode using the encoders from `experiment_datapipe.obs_encoders`.\n",
    "\n",
    "If the model inputs are not obtained via an `ExperimentDataPipe`, one could pickle the encoder at training time and save it along with the model. Then, at inference time it can be unpickled and used like:"
   ]
  },
  {
   "cell_type": "code",
   "execution_count": 63,
   "id": "1cfff865",
   "metadata": {
    "ExecuteTime": {
     "end_time": "2023-10-09T18:29:59.441907Z",
     "start_time": "2023-10-09T18:29:59.439561Z"
    }
   },
   "outputs": [
    {
     "data": {
      "text/plain": [
       "array(['basal cell', 'basal cell', 'basal cell', 'basal cell',\n",
       "       'basal cell', 'leukocyte', 'leukocyte', 'basal cell',\n",
       "       'capillary endothelial cell', 'basal cell',\n",
       "       'vein endothelial cell', 'basal cell', 'basal cell', 'basal cell',\n",
       "       'basal cell', 'basal cell', 'basal cell', 'basal cell',\n",
       "       'basal cell', 'basal cell', 'basal cell', 'basal cell',\n",
       "       'basal cell', 'basal cell', 'basal cell', 'epithelial cell',\n",
       "       'basal cell', 'basal cell', 'basal cell', 'leukocyte',\n",
       "       'basal cell', 'basal cell', 'basal cell', 'basal cell',\n",
       "       'basal cell', 'basal cell', 'basal cell', 'basal cell',\n",
       "       'basal cell', 'basal cell', 'leukocyte', 'basal cell',\n",
       "       'basal cell', 'basal cell', 'epithelial cell', 'basal cell',\n",
       "       'basal cell', 'basal cell', 'leukocyte', 'basal cell',\n",
       "       'basal cell', 'basal cell', 'basal cell', 'basal cell',\n",
       "       'basal cell', 'basal cell', 'basal cell', 'basal cell',\n",
       "       'capillary endothelial cell', 'basal cell',\n",
       "       'vein endothelial cell', 'basal cell', 'basal cell', 'fibroblast',\n",
       "       'leukocyte', 'basal cell', 'vein endothelial cell', 'basal cell',\n",
       "       'basal cell', 'basal cell', 'leukocyte', 'leukocyte', 'basal cell',\n",
       "       'leukocyte', 'basal cell', 'leukocyte', 'basal cell', 'basal cell',\n",
       "       'basal cell', 'basal cell', 'basal cell', 'basal cell',\n",
       "       'basal cell', 'basal cell', 'basal cell', 'basal cell',\n",
       "       'basal cell', 'basal cell', 'leukocyte', 'basal cell', 'leukocyte',\n",
       "       'basal cell', 'basal cell', 'leukocyte', 'basal cell',\n",
       "       'basal cell', 'leukocyte', 'basal cell', 'basal cell',\n",
       "       'basal cell', 'basal cell', 'basal cell', 'leukocyte',\n",
       "       'keratinocyte', 'basal cell', 'leukocyte', 'basal cell',\n",
       "       'basal cell', 'leukocyte', 'basal cell', 'basal cell', 'leukocyte',\n",
       "       'basal cell', 'basal cell', 'basal cell', 'basal cell',\n",
       "       'fibroblast', 'basal cell', 'epithelial cell', 'basal cell',\n",
       "       'basal cell', 'basal cell', 'basal cell', 'basal cell',\n",
       "       'basal cell', 'basal cell', 'basal cell', 'basal cell'],\n",
       "      dtype=object)"
      ]
     },
     "metadata": {},
     "output_type": "display_data"
    }
   ],
   "source": [
    "cell_type_encoder = experiment_datapipe.obs_encoders[\"cell_type\"]\n",
    "\n",
    "predicted_cell_types = cell_type_encoder.inverse_transform(predictions.cpu())\n",
    "\n",
    "display(predicted_cell_types)"
   ]
  },
  {
   "attachments": {},
   "cell_type": "markdown",
   "id": "16010d09",
   "metadata": {},
   "source": [
    "Examining the predictions using a Pandas DataFrame:"
   ]
  },
  {
   "cell_type": "code",
   "execution_count": 64,
   "id": "f4ac8087",
   "metadata": {
    "ExecuteTime": {
     "end_time": "2023-10-09T18:29:59.471320Z",
     "start_time": "2023-10-09T18:29:59.443175Z"
    },
    "scrolled": true
   },
   "outputs": [
    {
     "data": {
      "text/html": [
       "<div>\n",
       "<style scoped>\n",
       "    .dataframe tbody tr th:only-of-type {\n",
       "        vertical-align: middle;\n",
       "    }\n",
       "\n",
       "    .dataframe tbody tr th {\n",
       "        vertical-align: top;\n",
       "    }\n",
       "\n",
       "    .dataframe thead th {\n",
       "        text-align: right;\n",
       "    }\n",
       "</style>\n",
       "<table border=\"1\" class=\"dataframe\">\n",
       "  <thead>\n",
       "    <tr style=\"text-align: right;\">\n",
       "      <th></th>\n",
       "      <th>actual cell type</th>\n",
       "      <th>predicted cell type</th>\n",
       "    </tr>\n",
       "  </thead>\n",
       "  <tbody>\n",
       "    <tr>\n",
       "      <th>0</th>\n",
       "      <td>basal cell</td>\n",
       "      <td>basal cell</td>\n",
       "    </tr>\n",
       "    <tr>\n",
       "      <th>1</th>\n",
       "      <td>keratinocyte</td>\n",
       "      <td>basal cell</td>\n",
       "    </tr>\n",
       "    <tr>\n",
       "      <th>2</th>\n",
       "      <td>basal cell</td>\n",
       "      <td>basal cell</td>\n",
       "    </tr>\n",
       "    <tr>\n",
       "      <th>3</th>\n",
       "      <td>basal cell</td>\n",
       "      <td>basal cell</td>\n",
       "    </tr>\n",
       "    <tr>\n",
       "      <th>4</th>\n",
       "      <td>basal cell</td>\n",
       "      <td>basal cell</td>\n",
       "    </tr>\n",
       "    <tr>\n",
       "      <th>...</th>\n",
       "      <td>...</td>\n",
       "      <td>...</td>\n",
       "    </tr>\n",
       "    <tr>\n",
       "      <th>123</th>\n",
       "      <td>keratinocyte</td>\n",
       "      <td>basal cell</td>\n",
       "    </tr>\n",
       "    <tr>\n",
       "      <th>124</th>\n",
       "      <td>basal cell</td>\n",
       "      <td>basal cell</td>\n",
       "    </tr>\n",
       "    <tr>\n",
       "      <th>125</th>\n",
       "      <td>basal cell</td>\n",
       "      <td>basal cell</td>\n",
       "    </tr>\n",
       "    <tr>\n",
       "      <th>126</th>\n",
       "      <td>keratinocyte</td>\n",
       "      <td>basal cell</td>\n",
       "    </tr>\n",
       "    <tr>\n",
       "      <th>127</th>\n",
       "      <td>keratinocyte</td>\n",
       "      <td>basal cell</td>\n",
       "    </tr>\n",
       "  </tbody>\n",
       "</table>\n",
       "<p>128 rows × 2 columns</p>\n",
       "</div>"
      ],
      "text/plain": [
       "    actual cell type predicted cell type\n",
       "0         basal cell          basal cell\n",
       "1       keratinocyte          basal cell\n",
       "2         basal cell          basal cell\n",
       "3         basal cell          basal cell\n",
       "4         basal cell          basal cell\n",
       "..               ...                 ...\n",
       "123     keratinocyte          basal cell\n",
       "124       basal cell          basal cell\n",
       "125       basal cell          basal cell\n",
       "126     keratinocyte          basal cell\n",
       "127     keratinocyte          basal cell\n",
       "\n",
       "[128 rows x 2 columns]"
      ]
     },
     "execution_count": 64,
     "metadata": {},
     "output_type": "execute_result"
    }
   ],
   "source": [
    "import pandas as pd\n",
    "\n",
    "result = pd.DataFrame(\n",
    "    {\n",
    "        \"actual cell type\": cell_type_encoder.inverse_transform(y_batch.ravel().numpy()),\n",
    "        \"predicted cell type\": predicted_cell_types,\n",
    "    }\n",
    ")\n",
    "result"
   ]
  },
  {
   "cell_type": "code",
   "execution_count": 65,
   "id": "eb8b900b-0b39-47df-9e39-d99eab7af385",
   "metadata": {},
   "outputs": [
    {
     "data": {
      "text/html": [
       "<div>\n",
       "<style scoped>\n",
       "    .dataframe tbody tr th:only-of-type {\n",
       "        vertical-align: middle;\n",
       "    }\n",
       "\n",
       "    .dataframe tbody tr th {\n",
       "        vertical-align: top;\n",
       "    }\n",
       "\n",
       "    .dataframe thead th {\n",
       "        text-align: right;\n",
       "    }\n",
       "</style>\n",
       "<table border=\"1\" class=\"dataframe\">\n",
       "  <thead>\n",
       "    <tr style=\"text-align: right;\">\n",
       "      <th>actual cell type</th>\n",
       "      <th>basal cell</th>\n",
       "      <th>capillary endothelial cell</th>\n",
       "      <th>endothelial cell of artery</th>\n",
       "      <th>epithelial cell</th>\n",
       "      <th>keratinocyte</th>\n",
       "      <th>leukocyte</th>\n",
       "      <th>pericyte</th>\n",
       "      <th>vein endothelial cell</th>\n",
       "    </tr>\n",
       "    <tr>\n",
       "      <th>predicted cell type</th>\n",
       "      <th></th>\n",
       "      <th></th>\n",
       "      <th></th>\n",
       "      <th></th>\n",
       "      <th></th>\n",
       "      <th></th>\n",
       "      <th></th>\n",
       "      <th></th>\n",
       "    </tr>\n",
       "  </thead>\n",
       "  <tbody>\n",
       "    <tr>\n",
       "      <th>basal cell</th>\n",
       "      <td>48</td>\n",
       "      <td></td>\n",
       "      <td></td>\n",
       "      <td>15</td>\n",
       "      <td>35</td>\n",
       "      <td></td>\n",
       "      <td>1</td>\n",
       "      <td></td>\n",
       "    </tr>\n",
       "    <tr>\n",
       "      <th>capillary endothelial cell</th>\n",
       "      <td></td>\n",
       "      <td>2</td>\n",
       "      <td></td>\n",
       "      <td></td>\n",
       "      <td></td>\n",
       "      <td></td>\n",
       "      <td></td>\n",
       "      <td></td>\n",
       "    </tr>\n",
       "    <tr>\n",
       "      <th>epithelial cell</th>\n",
       "      <td></td>\n",
       "      <td></td>\n",
       "      <td></td>\n",
       "      <td>3</td>\n",
       "      <td></td>\n",
       "      <td></td>\n",
       "      <td></td>\n",
       "      <td></td>\n",
       "    </tr>\n",
       "    <tr>\n",
       "      <th>fibroblast</th>\n",
       "      <td></td>\n",
       "      <td></td>\n",
       "      <td></td>\n",
       "      <td></td>\n",
       "      <td></td>\n",
       "      <td></td>\n",
       "      <td>2</td>\n",
       "      <td></td>\n",
       "    </tr>\n",
       "    <tr>\n",
       "      <th>keratinocyte</th>\n",
       "      <td></td>\n",
       "      <td></td>\n",
       "      <td></td>\n",
       "      <td></td>\n",
       "      <td>1</td>\n",
       "      <td></td>\n",
       "      <td></td>\n",
       "      <td></td>\n",
       "    </tr>\n",
       "    <tr>\n",
       "      <th>leukocyte</th>\n",
       "      <td></td>\n",
       "      <td></td>\n",
       "      <td></td>\n",
       "      <td></td>\n",
       "      <td></td>\n",
       "      <td>18</td>\n",
       "      <td></td>\n",
       "      <td></td>\n",
       "    </tr>\n",
       "    <tr>\n",
       "      <th>vein endothelial cell</th>\n",
       "      <td></td>\n",
       "      <td></td>\n",
       "      <td>1</td>\n",
       "      <td></td>\n",
       "      <td></td>\n",
       "      <td></td>\n",
       "      <td></td>\n",
       "      <td>2</td>\n",
       "    </tr>\n",
       "  </tbody>\n",
       "</table>\n",
       "</div>"
      ],
      "text/plain": [
       "actual cell type           basal cell capillary endothelial cell  \\\n",
       "predicted cell type                                                \n",
       "basal cell                         48                              \n",
       "capillary endothelial cell                                     2   \n",
       "epithelial cell                                                    \n",
       "fibroblast                                                         \n",
       "keratinocyte                                                       \n",
       "leukocyte                                                          \n",
       "vein endothelial cell                                              \n",
       "\n",
       "actual cell type           endothelial cell of artery epithelial cell  \\\n",
       "predicted cell type                                                     \n",
       "basal cell                                                         15   \n",
       "capillary endothelial cell                                              \n",
       "epithelial cell                                                     3   \n",
       "fibroblast                                                              \n",
       "keratinocyte                                                            \n",
       "leukocyte                                                               \n",
       "vein endothelial cell                               1                   \n",
       "\n",
       "actual cell type           keratinocyte leukocyte pericyte  \\\n",
       "predicted cell type                                          \n",
       "basal cell                           35                  1   \n",
       "capillary endothelial cell                                   \n",
       "epithelial cell                                              \n",
       "fibroblast                                               2   \n",
       "keratinocyte                          1                      \n",
       "leukocyte                                      18            \n",
       "vein endothelial cell                                        \n",
       "\n",
       "actual cell type           vein endothelial cell  \n",
       "predicted cell type                               \n",
       "basal cell                                        \n",
       "capillary endothelial cell                        \n",
       "epithelial cell                                   \n",
       "fibroblast                                        \n",
       "keratinocyte                                      \n",
       "leukocyte                                         \n",
       "vein endothelial cell                          2  "
      ]
     },
     "execution_count": 65,
     "metadata": {},
     "output_type": "execute_result"
    }
   ],
   "source": [
    "pd.crosstab(\n",
    "    result['predicted cell type'],\n",
    "    result['actual cell type'],\n",
    ").replace(0, '')"
   ]
  },
  {
   "cell_type": "markdown",
   "id": "be7cd499-2ce4-4ca1-96a8-d1db7cd9e8fd",
   "metadata": {},
   "source": [
    "# Similarity Search (NEW!)"
   ]
  },
  {
   "cell_type": "markdown",
   "id": "fefec385-fccf-485b-8cc5-9fb2906aa834",
   "metadata": {},
   "source": [
    "### Find the most similar Census cells in any other data with embeddings vector search"
   ]
  },
  {
   "cell_type": "markdown",
   "id": "67caae45-0147-4ac7-942b-002a4705fba4",
   "metadata": {},
   "source": [
    "This section demonstrates the experimental API in the Python `cellxgene_census` package to search Census embeddings using [TileDB-Vector-Search](https://github.com/TileDB-Inc/TileDB-Vector-Search) indexes. We will generate [scVI embeddings](https://docs.scvi-tools.org/en/1.0.0/tutorials/notebooks/api_overview.html) for some test cells, search the Census scVI embeddings for nearest neighbors, and use them to predict cell type and tissue of the test cells.\n",
    "\n",
    "To reproduce this notebook, `pip install 'cellxgene_census[experimental]' scvi-tools` and obtain the [pbmc3k blood cells data](https://scanpy-tutorials.readthedocs.io/en/latest/pbmc3k.html) and scVI model:"
   ]
  },
  {
   "cell_type": "code",
   "execution_count": 66,
   "id": "b21171fa-ef77-40e7-b411-f09429e88eb2",
   "metadata": {},
   "outputs": [],
   "source": [
    "!mkdir -p data\n",
    "!wget --no-check-certificate -q -O data/pbmc3k_filtered_gene_bc_matrices.tar.gz http://cf.10xgenomics.com/samples/cell-exp/1.1.0/pbmc3k/pbmc3k_filtered_gene_bc_matrices.tar.gz\n",
    "!tar -xzf data/pbmc3k_filtered_gene_bc_matrices.tar.gz -C data/\n",
    "\n",
    "!mkdir -p scvi-human-2024-02-12\n",
    "!wget --no-check-certificate -q -O scvi-human-2024-02-12/model.pt https://cellxgene-contrib-public.s3.us-west-2.amazonaws.com/models/scvi/2024-02-12/homo_sapiens/model.pt"
   ]
  },
  {
   "cell_type": "markdown",
   "id": "fab2abcf-fe86-4070-9770-03508458a15e",
   "metadata": {},
   "source": [
    "Pin a few deps (cf. [mudata#77](https://github.com/scverse/mudata/issues/77), [census#1276](https://github.com/chanzuckerberg/cellxgene-census/pull/1276); these should only be necessary temporarily):"
   ]
  },
  {
   "cell_type": "code",
   "execution_count": 67,
   "id": "88a490be-c391-411f-88b2-34e981d7828f",
   "metadata": {
    "scrolled": true
   },
   "outputs": [
    {
     "name": "stdout",
     "output_type": "stream",
     "text": [
      "Collecting git+https://github.com/ryan-williams/cellxgene-census.git@1.16.0-py39#subdirectory=api/python/cellxgene_census\n",
      "  Cloning https://github.com/ryan-williams/cellxgene-census.git (to revision 1.16.0-py39) to /tmp/pip-req-build-lq7zcmo8\n",
      "  Running command git clone --filter=blob:none --quiet https://github.com/ryan-williams/cellxgene-census.git /tmp/pip-req-build-lq7zcmo8\n",
      "  Running command git checkout -b 1.16.0-py39 --track origin/1.16.0-py39\n",
      "  Switched to a new branch '1.16.0-py39'\n",
      "  Branch '1.16.0-py39' set up to track remote branch '1.16.0-py39' from 'origin'.\n",
      "  Resolved https://github.com/ryan-williams/cellxgene-census.git to commit a24f81da8087e545891bebc9345e65a8dfb1024d\n",
      "  Installing build dependencies ... \u001b[?25ldone\n",
      "\u001b[?25h  Getting requirements to build wheel ... \u001b[?25ldone\n",
      "\u001b[?25h  Preparing metadata (pyproject.toml) ... \u001b[?25ldone\n",
      "\u001b[?25hRequirement already satisfied: anndata==0.10.8 in /home/ubuntu/.pyenv/versions/3.9.19/envs/scverse-ml-workshop-2024-3.9.19/lib/python3.9/site-packages (0.10.8)\n",
      "Requirement already satisfied: flax==0.8.5 in /home/ubuntu/.pyenv/versions/3.9.19/envs/scverse-ml-workshop-2024-3.9.19/lib/python3.9/site-packages (0.8.5)\n",
      "Requirement already satisfied: tiledb-vector-search in /home/ubuntu/.pyenv/versions/3.9.19/envs/scverse-ml-workshop-2024-3.9.19/lib/python3.9/site-packages (0.7.0)\n",
      "Requirement already satisfied: array-api-compat!=1.5,>1.4 in /home/ubuntu/.pyenv/versions/3.9.19/envs/scverse-ml-workshop-2024-3.9.19/lib/python3.9/site-packages (from anndata==0.10.8) (1.8)\n",
      "Requirement already satisfied: exceptiongroup in /home/ubuntu/.pyenv/versions/3.9.19/envs/scverse-ml-workshop-2024-3.9.19/lib/python3.9/site-packages (from anndata==0.10.8) (1.2.2)\n",
      "Requirement already satisfied: h5py>=3.1 in /home/ubuntu/.pyenv/versions/3.9.19/envs/scverse-ml-workshop-2024-3.9.19/lib/python3.9/site-packages (from anndata==0.10.8) (3.11.0)\n",
      "Requirement already satisfied: natsort in /home/ubuntu/.pyenv/versions/3.9.19/envs/scverse-ml-workshop-2024-3.9.19/lib/python3.9/site-packages (from anndata==0.10.8) (8.4.0)\n",
      "Requirement already satisfied: numpy>=1.23 in /home/ubuntu/.pyenv/versions/3.9.19/envs/scverse-ml-workshop-2024-3.9.19/lib/python3.9/site-packages (from anndata==0.10.8) (1.26.4)\n",
      "Requirement already satisfied: packaging>=20.0 in /home/ubuntu/.pyenv/versions/3.9.19/envs/scverse-ml-workshop-2024-3.9.19/lib/python3.9/site-packages (from anndata==0.10.8) (24.1)\n",
      "Requirement already satisfied: pandas!=2.1.0rc0,!=2.1.2,>=1.4 in /home/ubuntu/.pyenv/versions/3.9.19/envs/scverse-ml-workshop-2024-3.9.19/lib/python3.9/site-packages (from anndata==0.10.8) (1.5.3)\n",
      "Requirement already satisfied: scipy>1.8 in /home/ubuntu/.pyenv/versions/3.9.19/envs/scverse-ml-workshop-2024-3.9.19/lib/python3.9/site-packages (from anndata==0.10.8) (1.13.1)\n",
      "Requirement already satisfied: jax>=0.4.27 in /home/ubuntu/.pyenv/versions/3.9.19/envs/scverse-ml-workshop-2024-3.9.19/lib/python3.9/site-packages (from flax==0.8.5) (0.4.30)\n",
      "Requirement already satisfied: msgpack in /home/ubuntu/.pyenv/versions/3.9.19/envs/scverse-ml-workshop-2024-3.9.19/lib/python3.9/site-packages (from flax==0.8.5) (1.1.0)\n",
      "Requirement already satisfied: optax in /home/ubuntu/.pyenv/versions/3.9.19/envs/scverse-ml-workshop-2024-3.9.19/lib/python3.9/site-packages (from flax==0.8.5) (0.2.3)\n",
      "Requirement already satisfied: orbax-checkpoint in /home/ubuntu/.pyenv/versions/3.9.19/envs/scverse-ml-workshop-2024-3.9.19/lib/python3.9/site-packages (from flax==0.8.5) (0.6.1)\n",
      "Requirement already satisfied: tensorstore in /home/ubuntu/.pyenv/versions/3.9.19/envs/scverse-ml-workshop-2024-3.9.19/lib/python3.9/site-packages (from flax==0.8.5) (0.1.65)\n",
      "Requirement already satisfied: rich>=11.1 in /home/ubuntu/.pyenv/versions/3.9.19/envs/scverse-ml-workshop-2024-3.9.19/lib/python3.9/site-packages (from flax==0.8.5) (13.8.1)\n",
      "Requirement already satisfied: typing-extensions>=4.2 in /home/ubuntu/.pyenv/versions/3.9.19/envs/scverse-ml-workshop-2024-3.9.19/lib/python3.9/site-packages (from flax==0.8.5) (4.12.2)\n",
      "Requirement already satisfied: PyYAML>=5.4.1 in /home/ubuntu/.pyenv/versions/3.9.19/envs/scverse-ml-workshop-2024-3.9.19/lib/python3.9/site-packages (from flax==0.8.5) (6.0.2)\n",
      "Requirement already satisfied: tiledb-cloud>=0.11 in /home/ubuntu/.pyenv/versions/3.9.19/envs/scverse-ml-workshop-2024-3.9.19/lib/python3.9/site-packages (from tiledb-vector-search) (0.12.23)\n",
      "Requirement already satisfied: tiledb>=0.30.2 in /home/ubuntu/.pyenv/versions/3.9.19/envs/scverse-ml-workshop-2024-3.9.19/lib/python3.9/site-packages (from tiledb-vector-search) (0.30.2)\n",
      "Requirement already satisfied: scikit-learn in /home/ubuntu/.pyenv/versions/3.9.19/envs/scverse-ml-workshop-2024-3.9.19/lib/python3.9/site-packages (from tiledb-vector-search) (1.5.1)\n",
      "Requirement already satisfied: tiledbsoma~=1.12.3 in /home/ubuntu/.pyenv/versions/3.9.19/envs/scverse-ml-workshop-2024-3.9.19/lib/python3.9/site-packages (from cellxgene-census==1.13.1.dev105+ga24f81d) (1.12.3)\n",
      "Requirement already satisfied: requests in /home/ubuntu/.pyenv/versions/3.9.19/envs/scverse-ml-workshop-2024-3.9.19/lib/python3.9/site-packages (from cellxgene-census==1.13.1.dev105+ga24f81d) (2.32.3)\n",
      "Requirement already satisfied: s3fs>=2021.06.1 in /home/ubuntu/.pyenv/versions/3.9.19/envs/scverse-ml-workshop-2024-3.9.19/lib/python3.9/site-packages (from cellxgene-census==1.13.1.dev105+ga24f81d) (2024.9.0)\n",
      "Requirement already satisfied: jaxlib<=0.4.30,>=0.4.27 in /home/ubuntu/.pyenv/versions/3.9.19/envs/scverse-ml-workshop-2024-3.9.19/lib/python3.9/site-packages (from jax>=0.4.27->flax==0.8.5) (0.4.30)\n",
      "Requirement already satisfied: ml-dtypes>=0.2.0 in /home/ubuntu/.pyenv/versions/3.9.19/envs/scverse-ml-workshop-2024-3.9.19/lib/python3.9/site-packages (from jax>=0.4.27->flax==0.8.5) (0.4.0)\n",
      "Requirement already satisfied: opt-einsum in /home/ubuntu/.pyenv/versions/3.9.19/envs/scverse-ml-workshop-2024-3.9.19/lib/python3.9/site-packages (from jax>=0.4.27->flax==0.8.5) (3.3.0)\n",
      "Requirement already satisfied: importlib-metadata>=4.6 in /home/ubuntu/.pyenv/versions/3.9.19/envs/scverse-ml-workshop-2024-3.9.19/lib/python3.9/site-packages (from jax>=0.4.27->flax==0.8.5) (8.4.0)\n",
      "Requirement already satisfied: python-dateutil>=2.8.1 in /home/ubuntu/.pyenv/versions/3.9.19/envs/scverse-ml-workshop-2024-3.9.19/lib/python3.9/site-packages (from pandas!=2.1.0rc0,!=2.1.2,>=1.4->anndata==0.10.8) (2.9.0.post0)\n",
      "Requirement already satisfied: pytz>=2020.1 in /home/ubuntu/.pyenv/versions/3.9.19/envs/scverse-ml-workshop-2024-3.9.19/lib/python3.9/site-packages (from pandas!=2.1.0rc0,!=2.1.2,>=1.4->anndata==0.10.8) (2024.1)\n",
      "Requirement already satisfied: markdown-it-py>=2.2.0 in /home/ubuntu/.pyenv/versions/3.9.19/envs/scverse-ml-workshop-2024-3.9.19/lib/python3.9/site-packages (from rich>=11.1->flax==0.8.5) (3.0.0)\n",
      "Requirement already satisfied: pygments<3.0.0,>=2.13.0 in /home/ubuntu/.pyenv/versions/3.9.19/envs/scverse-ml-workshop-2024-3.9.19/lib/python3.9/site-packages (from rich>=11.1->flax==0.8.5) (2.18.0)\n",
      "Requirement already satisfied: aiobotocore<3.0.0,>=2.5.4 in /home/ubuntu/.pyenv/versions/3.9.19/envs/scverse-ml-workshop-2024-3.9.19/lib/python3.9/site-packages (from s3fs>=2021.06.1->cellxgene-census==1.13.1.dev105+ga24f81d) (2.14.0)\n",
      "Requirement already satisfied: fsspec==2024.9.0.* in /home/ubuntu/.pyenv/versions/3.9.19/envs/scverse-ml-workshop-2024-3.9.19/lib/python3.9/site-packages (from s3fs>=2021.06.1->cellxgene-census==1.13.1.dev105+ga24f81d) (2024.9.0)\n",
      "Requirement already satisfied: aiohttp!=4.0.0a0,!=4.0.0a1 in /home/ubuntu/.pyenv/versions/3.9.19/envs/scverse-ml-workshop-2024-3.9.19/lib/python3.9/site-packages (from s3fs>=2021.06.1->cellxgene-census==1.13.1.dev105+ga24f81d) (3.10.5)\n",
      "Requirement already satisfied: attrs>=21.4.0 in /home/ubuntu/.pyenv/versions/3.9.19/envs/scverse-ml-workshop-2024-3.9.19/lib/python3.9/site-packages (from tiledb-cloud>=0.11->tiledb-vector-search) (24.2.0)\n",
      "Requirement already satisfied: certifi in /home/ubuntu/.pyenv/versions/3.9.19/envs/scverse-ml-workshop-2024-3.9.19/lib/python3.9/site-packages (from tiledb-cloud>=0.11->tiledb-vector-search) (2024.8.30)\n",
      "Requirement already satisfied: cloudpickle<3,>=1.4.1 in /home/ubuntu/.pyenv/versions/3.9.19/envs/scverse-ml-workshop-2024-3.9.19/lib/python3.9/site-packages (from tiledb-cloud>=0.11->tiledb-vector-search) (2.2.1)\n",
      "Requirement already satisfied: pyarrow>=3.0.0 in /home/ubuntu/.pyenv/versions/3.9.19/envs/scverse-ml-workshop-2024-3.9.19/lib/python3.9/site-packages (from tiledb-cloud>=0.11->tiledb-vector-search) (17.0.0)\n",
      "Requirement already satisfied: six>=1.10 in /home/ubuntu/.pyenv/versions/3.9.19/envs/scverse-ml-workshop-2024-3.9.19/lib/python3.9/site-packages (from tiledb-cloud>=0.11->tiledb-vector-search) (1.16.0)\n",
      "Requirement already satisfied: tblib~=1.7 in /home/ubuntu/.pyenv/versions/3.9.19/envs/scverse-ml-workshop-2024-3.9.19/lib/python3.9/site-packages (from tiledb-cloud>=0.11->tiledb-vector-search) (1.7.0)\n",
      "Requirement already satisfied: urllib3>=1.26 in /home/ubuntu/.pyenv/versions/3.9.19/envs/scverse-ml-workshop-2024-3.9.19/lib/python3.9/site-packages (from tiledb-cloud>=0.11->tiledb-vector-search) (1.26.20)\n",
      "Requirement already satisfied: numba>=0.58.0 in /home/ubuntu/.pyenv/versions/3.9.19/envs/scverse-ml-workshop-2024-3.9.19/lib/python3.9/site-packages (from tiledbsoma~=1.12.3->cellxgene-census==1.13.1.dev105+ga24f81d) (0.60.0)\n",
      "Requirement already satisfied: pyarrow-hotfix in /home/ubuntu/.pyenv/versions/3.9.19/envs/scverse-ml-workshop-2024-3.9.19/lib/python3.9/site-packages (from tiledbsoma~=1.12.3->cellxgene-census==1.13.1.dev105+ga24f81d) (0.6)\n",
      "Requirement already satisfied: scanpy>=1.9.2 in /home/ubuntu/.pyenv/versions/3.9.19/envs/scverse-ml-workshop-2024-3.9.19/lib/python3.9/site-packages (from tiledbsoma~=1.12.3->cellxgene-census==1.13.1.dev105+ga24f81d) (1.9.2)\n",
      "Requirement already satisfied: somacore==1.0.11 in /home/ubuntu/.pyenv/versions/3.9.19/envs/scverse-ml-workshop-2024-3.9.19/lib/python3.9/site-packages (from tiledbsoma~=1.12.3->cellxgene-census==1.13.1.dev105+ga24f81d) (1.0.11)\n",
      "Requirement already satisfied: absl-py>=0.7.1 in /home/ubuntu/.pyenv/versions/3.9.19/envs/scverse-ml-workshop-2024-3.9.19/lib/python3.9/site-packages (from optax->flax==0.8.5) (2.1.0)\n",
      "Requirement already satisfied: chex>=0.1.86 in /home/ubuntu/.pyenv/versions/3.9.19/envs/scverse-ml-workshop-2024-3.9.19/lib/python3.9/site-packages (from optax->flax==0.8.5) (0.1.86)\n",
      "Requirement already satisfied: etils[epy] in /home/ubuntu/.pyenv/versions/3.9.19/envs/scverse-ml-workshop-2024-3.9.19/lib/python3.9/site-packages (from optax->flax==0.8.5) (1.5.2)\n",
      "Requirement already satisfied: nest_asyncio in /home/ubuntu/.pyenv/versions/3.9.19/envs/scverse-ml-workshop-2024-3.9.19/lib/python3.9/site-packages (from orbax-checkpoint->flax==0.8.5) (1.6.0)\n",
      "Requirement already satisfied: protobuf in /home/ubuntu/.pyenv/versions/3.9.19/envs/scverse-ml-workshop-2024-3.9.19/lib/python3.9/site-packages (from orbax-checkpoint->flax==0.8.5) (5.28.0)\n",
      "Requirement already satisfied: humanize in /home/ubuntu/.pyenv/versions/3.9.19/envs/scverse-ml-workshop-2024-3.9.19/lib/python3.9/site-packages (from orbax-checkpoint->flax==0.8.5) (4.10.0)\n",
      "Requirement already satisfied: charset-normalizer<4,>=2 in /home/ubuntu/.pyenv/versions/3.9.19/envs/scverse-ml-workshop-2024-3.9.19/lib/python3.9/site-packages (from requests->cellxgene-census==1.13.1.dev105+ga24f81d) (3.3.2)\n",
      "Requirement already satisfied: idna<4,>=2.5 in /home/ubuntu/.pyenv/versions/3.9.19/envs/scverse-ml-workshop-2024-3.9.19/lib/python3.9/site-packages (from requests->cellxgene-census==1.13.1.dev105+ga24f81d) (3.8)\n",
      "Requirement already satisfied: joblib>=1.2.0 in /home/ubuntu/.pyenv/versions/3.9.19/envs/scverse-ml-workshop-2024-3.9.19/lib/python3.9/site-packages (from scikit-learn->tiledb-vector-search) (1.4.2)\n",
      "Requirement already satisfied: threadpoolctl>=3.1.0 in /home/ubuntu/.pyenv/versions/3.9.19/envs/scverse-ml-workshop-2024-3.9.19/lib/python3.9/site-packages (from scikit-learn->tiledb-vector-search) (3.5.0)\n",
      "Requirement already satisfied: botocore<1.35.8,>=1.35.0 in /home/ubuntu/.pyenv/versions/3.9.19/envs/scverse-ml-workshop-2024-3.9.19/lib/python3.9/site-packages (from aiobotocore<3.0.0,>=2.5.4->s3fs>=2021.06.1->cellxgene-census==1.13.1.dev105+ga24f81d) (1.35.7)\n",
      "Requirement already satisfied: wrapt<2.0.0,>=1.10.10 in /home/ubuntu/.pyenv/versions/3.9.19/envs/scverse-ml-workshop-2024-3.9.19/lib/python3.9/site-packages (from aiobotocore<3.0.0,>=2.5.4->s3fs>=2021.06.1->cellxgene-census==1.13.1.dev105+ga24f81d) (1.16.0)\n",
      "Requirement already satisfied: aioitertools<1.0.0,>=0.5.1 in /home/ubuntu/.pyenv/versions/3.9.19/envs/scverse-ml-workshop-2024-3.9.19/lib/python3.9/site-packages (from aiobotocore<3.0.0,>=2.5.4->s3fs>=2021.06.1->cellxgene-census==1.13.1.dev105+ga24f81d) (0.12.0)\n",
      "Requirement already satisfied: aiohappyeyeballs>=2.3.0 in /home/ubuntu/.pyenv/versions/3.9.19/envs/scverse-ml-workshop-2024-3.9.19/lib/python3.9/site-packages (from aiohttp!=4.0.0a0,!=4.0.0a1->s3fs>=2021.06.1->cellxgene-census==1.13.1.dev105+ga24f81d) (2.4.0)\n",
      "Requirement already satisfied: aiosignal>=1.1.2 in /home/ubuntu/.pyenv/versions/3.9.19/envs/scverse-ml-workshop-2024-3.9.19/lib/python3.9/site-packages (from aiohttp!=4.0.0a0,!=4.0.0a1->s3fs>=2021.06.1->cellxgene-census==1.13.1.dev105+ga24f81d) (1.3.1)\n",
      "Requirement already satisfied: frozenlist>=1.1.1 in /home/ubuntu/.pyenv/versions/3.9.19/envs/scverse-ml-workshop-2024-3.9.19/lib/python3.9/site-packages (from aiohttp!=4.0.0a0,!=4.0.0a1->s3fs>=2021.06.1->cellxgene-census==1.13.1.dev105+ga24f81d) (1.4.1)\n",
      "Requirement already satisfied: multidict<7.0,>=4.5 in /home/ubuntu/.pyenv/versions/3.9.19/envs/scverse-ml-workshop-2024-3.9.19/lib/python3.9/site-packages (from aiohttp!=4.0.0a0,!=4.0.0a1->s3fs>=2021.06.1->cellxgene-census==1.13.1.dev105+ga24f81d) (6.1.0)\n",
      "Requirement already satisfied: yarl<2.0,>=1.0 in /home/ubuntu/.pyenv/versions/3.9.19/envs/scverse-ml-workshop-2024-3.9.19/lib/python3.9/site-packages (from aiohttp!=4.0.0a0,!=4.0.0a1->s3fs>=2021.06.1->cellxgene-census==1.13.1.dev105+ga24f81d) (1.11.1)\n",
      "Requirement already satisfied: async-timeout<5.0,>=4.0 in /home/ubuntu/.pyenv/versions/3.9.19/envs/scverse-ml-workshop-2024-3.9.19/lib/python3.9/site-packages (from aiohttp!=4.0.0a0,!=4.0.0a1->s3fs>=2021.06.1->cellxgene-census==1.13.1.dev105+ga24f81d) (4.0.3)\n",
      "Requirement already satisfied: toolz>=0.9.0 in /home/ubuntu/.pyenv/versions/3.9.19/envs/scverse-ml-workshop-2024-3.9.19/lib/python3.9/site-packages (from chex>=0.1.86->optax->flax==0.8.5) (0.12.1)\n",
      "Requirement already satisfied: zipp>=0.5 in /home/ubuntu/.pyenv/versions/3.9.19/envs/scverse-ml-workshop-2024-3.9.19/lib/python3.9/site-packages (from importlib-metadata>=4.6->jax>=0.4.27->flax==0.8.5) (3.20.1)\n",
      "Requirement already satisfied: mdurl~=0.1 in /home/ubuntu/.pyenv/versions/3.9.19/envs/scverse-ml-workshop-2024-3.9.19/lib/python3.9/site-packages (from markdown-it-py>=2.2.0->rich>=11.1->flax==0.8.5) (0.1.2)\n",
      "Requirement already satisfied: llvmlite<0.44,>=0.43.0dev0 in /home/ubuntu/.pyenv/versions/3.9.19/envs/scverse-ml-workshop-2024-3.9.19/lib/python3.9/site-packages (from numba>=0.58.0->tiledbsoma~=1.12.3->cellxgene-census==1.13.1.dev105+ga24f81d) (0.43.0)\n",
      "Requirement already satisfied: matplotlib>=3.4 in /home/ubuntu/.pyenv/versions/3.9.19/envs/scverse-ml-workshop-2024-3.9.19/lib/python3.9/site-packages (from scanpy>=1.9.2->tiledbsoma~=1.12.3->cellxgene-census==1.13.1.dev105+ga24f81d) (3.9.2)\n",
      "Requirement already satisfied: seaborn in /home/ubuntu/.pyenv/versions/3.9.19/envs/scverse-ml-workshop-2024-3.9.19/lib/python3.9/site-packages (from scanpy>=1.9.2->tiledbsoma~=1.12.3->cellxgene-census==1.13.1.dev105+ga24f81d) (0.13.2)\n",
      "Requirement already satisfied: tqdm in /home/ubuntu/.pyenv/versions/3.9.19/envs/scverse-ml-workshop-2024-3.9.19/lib/python3.9/site-packages (from scanpy>=1.9.2->tiledbsoma~=1.12.3->cellxgene-census==1.13.1.dev105+ga24f81d) (4.66.5)\n",
      "Requirement already satisfied: statsmodels>=0.10.0rc2 in /home/ubuntu/.pyenv/versions/3.9.19/envs/scverse-ml-workshop-2024-3.9.19/lib/python3.9/site-packages (from scanpy>=1.9.2->tiledbsoma~=1.12.3->cellxgene-census==1.13.1.dev105+ga24f81d) (0.14.2)\n",
      "Requirement already satisfied: patsy in /home/ubuntu/.pyenv/versions/3.9.19/envs/scverse-ml-workshop-2024-3.9.19/lib/python3.9/site-packages (from scanpy>=1.9.2->tiledbsoma~=1.12.3->cellxgene-census==1.13.1.dev105+ga24f81d) (0.5.6)\n",
      "Requirement already satisfied: networkx>=2.3 in /home/ubuntu/.pyenv/versions/3.9.19/envs/scverse-ml-workshop-2024-3.9.19/lib/python3.9/site-packages (from scanpy>=1.9.2->tiledbsoma~=1.12.3->cellxgene-census==1.13.1.dev105+ga24f81d) (3.2.1)\n",
      "Requirement already satisfied: umap-learn>=0.3.10 in /home/ubuntu/.pyenv/versions/3.9.19/envs/scverse-ml-workshop-2024-3.9.19/lib/python3.9/site-packages (from scanpy>=1.9.2->tiledbsoma~=1.12.3->cellxgene-census==1.13.1.dev105+ga24f81d) (0.5.6)\n",
      "Requirement already satisfied: session-info in /home/ubuntu/.pyenv/versions/3.9.19/envs/scverse-ml-workshop-2024-3.9.19/lib/python3.9/site-packages (from scanpy>=1.9.2->tiledbsoma~=1.12.3->cellxgene-census==1.13.1.dev105+ga24f81d) (1.0.0)\n",
      "Requirement already satisfied: importlib_resources in /home/ubuntu/.pyenv/versions/3.9.19/envs/scverse-ml-workshop-2024-3.9.19/lib/python3.9/site-packages (from etils[epath,epy]->orbax-checkpoint->flax==0.8.5) (6.4.5)\n",
      "Requirement already satisfied: jmespath<2.0.0,>=0.7.1 in /home/ubuntu/.pyenv/versions/3.9.19/envs/scverse-ml-workshop-2024-3.9.19/lib/python3.9/site-packages (from botocore<1.35.8,>=1.35.0->aiobotocore<3.0.0,>=2.5.4->s3fs>=2021.06.1->cellxgene-census==1.13.1.dev105+ga24f81d) (1.0.1)\n",
      "Requirement already satisfied: contourpy>=1.0.1 in /home/ubuntu/.pyenv/versions/3.9.19/envs/scverse-ml-workshop-2024-3.9.19/lib/python3.9/site-packages (from matplotlib>=3.4->scanpy>=1.9.2->tiledbsoma~=1.12.3->cellxgene-census==1.13.1.dev105+ga24f81d) (1.3.0)\n",
      "Requirement already satisfied: cycler>=0.10 in /home/ubuntu/.pyenv/versions/3.9.19/envs/scverse-ml-workshop-2024-3.9.19/lib/python3.9/site-packages (from matplotlib>=3.4->scanpy>=1.9.2->tiledbsoma~=1.12.3->cellxgene-census==1.13.1.dev105+ga24f81d) (0.12.1)\n",
      "Requirement already satisfied: fonttools>=4.22.0 in /home/ubuntu/.pyenv/versions/3.9.19/envs/scverse-ml-workshop-2024-3.9.19/lib/python3.9/site-packages (from matplotlib>=3.4->scanpy>=1.9.2->tiledbsoma~=1.12.3->cellxgene-census==1.13.1.dev105+ga24f81d) (4.53.1)\n",
      "Requirement already satisfied: kiwisolver>=1.3.1 in /home/ubuntu/.pyenv/versions/3.9.19/envs/scverse-ml-workshop-2024-3.9.19/lib/python3.9/site-packages (from matplotlib>=3.4->scanpy>=1.9.2->tiledbsoma~=1.12.3->cellxgene-census==1.13.1.dev105+ga24f81d) (1.4.7)\n",
      "Requirement already satisfied: pillow>=8 in /home/ubuntu/.pyenv/versions/3.9.19/envs/scverse-ml-workshop-2024-3.9.19/lib/python3.9/site-packages (from matplotlib>=3.4->scanpy>=1.9.2->tiledbsoma~=1.12.3->cellxgene-census==1.13.1.dev105+ga24f81d) (10.4.0)\n",
      "Requirement already satisfied: pyparsing>=2.3.1 in /home/ubuntu/.pyenv/versions/3.9.19/envs/scverse-ml-workshop-2024-3.9.19/lib/python3.9/site-packages (from matplotlib>=3.4->scanpy>=1.9.2->tiledbsoma~=1.12.3->cellxgene-census==1.13.1.dev105+ga24f81d) (3.1.4)\n",
      "Requirement already satisfied: pynndescent>=0.5 in /home/ubuntu/.pyenv/versions/3.9.19/envs/scverse-ml-workshop-2024-3.9.19/lib/python3.9/site-packages (from umap-learn>=0.3.10->scanpy>=1.9.2->tiledbsoma~=1.12.3->cellxgene-census==1.13.1.dev105+ga24f81d) (0.5.13)\n",
      "Requirement already satisfied: stdlib-list in /home/ubuntu/.pyenv/versions/3.9.19/envs/scverse-ml-workshop-2024-3.9.19/lib/python3.9/site-packages (from session-info->scanpy>=1.9.2->tiledbsoma~=1.12.3->cellxgene-census==1.13.1.dev105+ga24f81d) (0.10.0)\n"
     ]
    }
   ],
   "source": [
    "!pip install anndata==0.10.8 flax==0.8.5 tiledb-vector-search 'git+https://github.com/ryan-williams/cellxgene-census.git@1.16.0-py39#subdirectory=api/python/cellxgene_census'"
   ]
  },
  {
   "cell_type": "markdown",
   "id": "f9ab246e-277a-45df-bba2-4bad612226af",
   "metadata": {},
   "source": [
    "### Contents\n",
    "\n",
    "1. Loading and embedding pbmc3k cells.\n",
    "\n",
    "2. Search for similar Census cells.\n",
    "\n",
    "3. Predicting cell metadata."
   ]
  },
  {
   "cell_type": "markdown",
   "id": "09651f79-f66d-415e-9214-5a7b245fe71c",
   "metadata": {},
   "source": [
    "⚠️ Note that the Census RNA data includes duplicate cells present across multiple datasets. Duplicate cells can be filtered in or out using the cell metadata variable `is_primary_data` which (cf. [Census schema](https://github.com/chanzuckerberg/cellxgene-census/blob/main/docs/cellxgene_census_schema.md#repeated-data))."
   ]
  },
  {
   "cell_type": "markdown",
   "id": "e1db2411-10b0-49dd-9fc6-68895fa2d83c",
   "metadata": {},
   "source": [
    "## Loading and embedding pbmc3k cells\n"
   ]
  },
  {
   "cell_type": "code",
   "execution_count": 68,
   "id": "c160970f-503a-4c83-93a0-27bb9929f52d",
   "metadata": {},
   "outputs": [],
   "source": [
    "import warnings\n",
    "\n",
    "warnings.filterwarnings(\"ignore\")\n",
    "\n",
    "import anndata\n",
    "import cellxgene_census\n",
    "import cellxgene_census.experimental\n",
    "import pandas as pd\n",
    "import scanpy as sc\n",
    "import scvi"
   ]
  },
  {
   "cell_type": "markdown",
   "id": "f9f6cbfb-6fd4-4a57-a8eb-73d3725b126c",
   "metadata": {},
   "source": [
    "Load the pmbc3k cell data into an AnnData:"
   ]
  },
  {
   "cell_type": "code",
   "execution_count": 69,
   "id": "a9f9536b-4dc1-4311-98f4-0439f822114b",
   "metadata": {},
   "outputs": [],
   "source": [
    "adata = sc.read_10x_mtx(\"data/filtered_gene_bc_matrices/hg19/\", var_names=\"gene_ids\")\n",
    "adata.var[\"ensembl_id\"] = adata.var.index\n",
    "adata.obs[\"n_counts\"] = adata.X.sum(axis=1)\n",
    "adata.obs[\"joinid\"] = list(range(adata.n_obs))\n",
    "adata.obs[\"batch\"] = \"unassigned\""
   ]
  },
  {
   "cell_type": "markdown",
   "id": "d6751330-e5d8-426e-8164-5f93bb285f49",
   "metadata": {},
   "source": [
    "Run them through the scVI forward pass and extract their latent representation (embedding):"
   ]
  },
  {
   "cell_type": "code",
   "execution_count": 70,
   "id": "2bfdaa23-47b9-46c6-b549-021caa1997f3",
   "metadata": {},
   "outputs": [
    {
     "name": "stdout",
     "output_type": "stream",
     "text": [
      "\u001b[34mINFO    \u001b[0m File scvi-human-\u001b[1;36m2024\u001b[0m-\u001b[1;36m02\u001b[0m-\u001b[1;36m12\u001b[0m/model.pt already downloaded                                                    \n",
      "\u001b[34mINFO    \u001b[0m Found \u001b[1;36m62.2\u001b[0m% reference vars in query data.                                                                 \n",
      "\u001b[34mINFO    \u001b[0m File scvi-human-\u001b[1;36m2024\u001b[0m-\u001b[1;36m02\u001b[0m-\u001b[1;36m12\u001b[0m/model.pt already downloaded                                                    \n"
     ]
    }
   ],
   "source": [
    "scvi.model.SCVI.prepare_query_anndata(adata, \"scvi-human-2024-02-12\")\n",
    "vae_q = scvi.model.SCVI.load_query_data(\n",
    "    adata,\n",
    "    \"scvi-human-2024-02-12\",\n",
    ")\n",
    "\n",
    "# This allows for a simple forward pass\n",
    "vae_q.is_trained = True\n",
    "latent = vae_q.get_latent_representation()\n",
    "adata.obsm[\"scvi\"] = latent"
   ]
  },
  {
   "cell_type": "markdown",
   "id": "44a8e518-9514-4011-b678-4eedde99120a",
   "metadata": {},
   "source": [
    "The scVI embedding vectors for each cell are now stored in the `scvi` obsm layer. Lastly, clean up the AnnData a little:"
   ]
  },
  {
   "cell_type": "code",
   "execution_count": 71,
   "id": "5375b0e9-16d0-425d-985b-48643a75c67b",
   "metadata": {},
   "outputs": [],
   "source": [
    "# filter out missing features\n",
    "adata = adata[:, adata.var[\"gene_symbols\"].notnull().values].copy()\n",
    "adata.var.set_index(\"gene_symbols\", inplace=True)\n",
    "# assign placeholder cell_type and tissue_general labels\n",
    "adata.var_names = adata.var[\"ensembl_id\"]\n",
    "adata.obs[\"cell_type\"] = \"Query - PBMC 10X\"\n",
    "adata.obs[\"tissue_general\"] = \"Query - PBMC 10X\""
   ]
  },
  {
   "cell_type": "code",
   "execution_count": 87,
   "id": "064a3104-3394-46e8-8e23-6a2129e57b31",
   "metadata": {},
   "outputs": [
    {
     "data": {
      "text/plain": [
       "AnnData object with n_obs × n_vars = 2700 × 4976\n",
       "    obs: 'n_counts', 'joinid', 'batch', '_scvi_batch', '_scvi_labels', 'cell_type', 'tissue_general', 'leiden'\n",
       "    var: 'ensembl_id'\n",
       "    uns: '_scvi_uuid', '_scvi_manager_uuid', 'neighbors', 'umap', 'leiden', 'leiden_colors'\n",
       "    obsm: 'scvi', 'X_umap'\n",
       "    obsp: 'distances', 'connectivities'"
      ]
     },
     "execution_count": 87,
     "metadata": {},
     "output_type": "execute_result"
    }
   ],
   "source": [
    "adata"
   ]
  },
  {
   "cell_type": "markdown",
   "id": "3fb86e9d-354b-4dd4-9be7-19212bb77319",
   "metadata": {},
   "source": [
    "And for visualization, compute leiden clusters on the scVI embeddings. These will come at handy later on."
   ]
  },
  {
   "cell_type": "code",
   "execution_count": 72,
   "id": "c20607f3-583b-4127-9c3b-7c8b1bc97648",
   "metadata": {},
   "outputs": [
    {
     "name": "stdout",
     "output_type": "stream",
     "text": [
      "Requirement already satisfied: leidenalg in /home/ubuntu/.pyenv/versions/3.9.19/envs/scverse-ml-workshop-2024-3.9.19/lib/python3.9/site-packages (0.10.2)\n",
      "Requirement already satisfied: igraph<0.12,>=0.10.0 in /home/ubuntu/.pyenv/versions/3.9.19/envs/scverse-ml-workshop-2024-3.9.19/lib/python3.9/site-packages (from leidenalg) (0.11.6)\n",
      "Requirement already satisfied: texttable>=1.6.2 in /home/ubuntu/.pyenv/versions/3.9.19/envs/scverse-ml-workshop-2024-3.9.19/lib/python3.9/site-packages (from igraph<0.12,>=0.10.0->leidenalg) (1.7.0)\n"
     ]
    }
   ],
   "source": [
    "!pip install leidenalg"
   ]
  },
  {
   "cell_type": "code",
   "execution_count": 73,
   "id": "08614511-16af-4b2c-964f-5a9ca9f1c3bf",
   "metadata": {},
   "outputs": [
    {
     "data": {
      "image/png": "[encoded data removed]",
      "text/plain": [
       "<Figure size 640x480 with 1 Axes>"
      ]
     },
     "metadata": {},
     "output_type": "display_data"
    }
   ],
   "source": [
    "sc.pp.neighbors(adata, n_neighbors=15, use_rep=\"scvi\")\n",
    "sc.tl.umap(adata)\n",
    "sc.tl.leiden(adata)\n",
    "sc.pl.umap(adata, color=\"leiden\")"
   ]
  },
  {
   "cell_type": "markdown",
   "id": "1f6e1b94-de1c-4b9b-8a5e-066c07c074f8",
   "metadata": {},
   "source": [
    "## Search for similar Census cells"
   ]
  },
  {
   "cell_type": "markdown",
   "id": "b7d62076-c207-437d-9412-45d5ed8de8b1",
   "metadata": {},
   "source": [
    "Use the CELLxGENE Census experimental API to search the vector index of scVI embeddings."
   ]
  },
  {
   "cell_type": "code",
   "execution_count": 74,
   "id": "1856774e-7444-4ff3-806c-a25d007b4a9e",
   "metadata": {},
   "outputs": [
    {
     "name": "stdout",
     "output_type": "stream",
     "text": [
      "CPU times: user 53.2 s, sys: 49.1 s, total: 1min 42s\n",
      "Wall time: 42.9 s\n"
     ]
    }
   ],
   "source": [
    "%%time\n",
    "CENSUS_VERSION = \"2023-12-15\"\n",
    "neighbors = cellxgene_census.experimental.find_nearest_obs(\n",
    "    \"scvi\", \"homo_sapiens\", CENSUS_VERSION, query=adata, k=30, memory_GiB=8, nprobe=20\n",
    ")"
   ]
  },
  {
   "cell_type": "markdown",
   "id": "464b5687-b6f2-4665-ac11-086ffee68eb8",
   "metadata": {},
   "source": [
    "This accessed the cell embeddings in the `scvi` obsm layer and searched the latent space for the k nearest neighbors (by Euclidean distance) among the Census cell embeddings, returning the distances and obs `soma_joinids` (k for each query cell)."
   ]
  },
  {
   "cell_type": "code",
   "execution_count": 75,
   "id": "dff86143-d377-4165-9c77-bd9982011221",
   "metadata": {},
   "outputs": [
    {
     "data": {
      "text/plain": [
       "NeighborObs(distances=array([[0.20243205, 0.24619216, 0.24626334, ..., 0.3577137 , 0.3577137 ,\n",
       "        0.35785258],\n",
       "       [0.39633575, 0.44447848, 0.44447848, ..., 0.6018929 , 0.6035785 ,\n",
       "        0.6044337 ],\n",
       "       [0.29579428, 0.30667663, 0.30825138, ..., 0.5521867 , 0.5552114 ,\n",
       "        0.5552114 ],\n",
       "       ...,\n",
       "       [0.13282368, 0.16312662, 0.17102806, ..., 0.34356815, 0.3443187 ,\n",
       "        0.34656504],\n",
       "       [0.19027643, 0.21736602, 0.22700338, ..., 0.3507206 , 0.35708085,\n",
       "        0.35889867],\n",
       "       [0.30894572, 0.30962518, 0.33180255, ..., 0.43980893, 0.44010845,\n",
       "        0.44128048]], dtype=float32), neighbor_ids=array([[44401673, 43906736, 43372133, ..., 51544031, 51427234, 51203542],\n",
       "       [49811746, 34746507, 33854211, ..., 54523264, 50217492, 54367325],\n",
       "       [45204189, 21218542, 48424603, ..., 48028212, 53333940, 45891611],\n",
       "       ...,\n",
       "       [45215753, 15715003, 45274933, ..., 45250148, 50295473, 54128750],\n",
       "       [45149373, 48391702, 49371377, ..., 45093626, 50244751, 50243731],\n",
       "       [48417568, 45184183, 48355249, ..., 46195802, 45304896, 46134865]],\n",
       "      dtype=uint64))"
      ]
     },
     "execution_count": 75,
     "metadata": {},
     "output_type": "execute_result"
    }
   ],
   "source": [
    "neighbors"
   ]
  },
  {
   "cell_type": "markdown",
   "id": "99fe1364-18fa-4ba1-b8f3-185099ba717a",
   "metadata": {},
   "source": [
    "To explore these results, fetch an AnnData with each query cell’s (single) nearest neighbor in scVI’s latent space, including their embedding vectors:"
   ]
  },
  {
   "cell_type": "code",
   "execution_count": 76,
   "id": "3fef5a8f-a55d-4d72-a0ad-28a21aa124ab",
   "metadata": {},
   "outputs": [],
   "source": [
    "with cellxgene_census.open_soma(census_version=CENSUS_VERSION) as census:\n",
    "    neighbors_adata = cellxgene_census.get_anndata(\n",
    "        census,\n",
    "        \"homo_sapiens\",\n",
    "        \"RNA\",\n",
    "        obs_coords=sorted(neighbors.neighbor_ids[:, 0].tolist()),\n",
    "        obs_embeddings=[\"scvi\"],\n",
    "        X_name=\"normalized\",\n",
    "        column_names={\"obs\": [\"soma_joinid\", \"tissue\", \"tissue_general\", \"cell_type\"]},\n",
    "    )\n",
    "neighbors_adata.var_names = neighbors_adata.var[\"feature_id\"]"
   ]
  },
  {
   "cell_type": "markdown",
   "id": "1749bcc0-9677-439b-8bf5-fb282dc3d8c0",
   "metadata": {},
   "source": [
    "Make a UMAP visualization of these nearest neighbors:"
   ]
  },
  {
   "cell_type": "code",
   "execution_count": 77,
   "id": "44eae995-c40e-4996-9e40-89f35d82a22e",
   "metadata": {},
   "outputs": [
    {
     "data": {
      "image/png": "[encoded data removed]",
      "text/plain": [
       "<Figure size 640x480 with 1 Axes>"
      ]
     },
     "metadata": {},
     "output_type": "display_data"
    }
   ],
   "source": [
    "sc.pp.neighbors(neighbors_adata, n_neighbors=15, use_rep=\"scvi\")\n",
    "sc.tl.umap(neighbors_adata)\n",
    "sc.pl.umap(neighbors_adata, color=\"tissue_general\")"
   ]
  },
  {
   "cell_type": "markdown",
   "id": "cab61a1e-9c52-4068-88b9-e01b64033cd0",
   "metadata": {},
   "source": [
    "As expected, the nearest neighbors are largely Census blood cells, with some distinct cell type clusters.\n",
    "\n",
    "Now display the pbmc3k query cells together with their Census nearest neighbors:"
   ]
  },
  {
   "cell_type": "code",
   "execution_count": 78,
   "id": "6b921f63-f586-4eb3-bcca-df505fc8e838",
   "metadata": {},
   "outputs": [
    {
     "data": {
      "image/png": "[encoded data removed]",
      "text/plain": [
       "<Figure size 640x480 with 1 Axes>"
      ]
     },
     "metadata": {},
     "output_type": "display_data"
    }
   ],
   "source": [
    "adata_concat = anndata.concat([adata, neighbors_adata])\n",
    "sc.pp.neighbors(adata_concat, n_neighbors=15, use_rep=\"scvi\")\n",
    "sc.tl.umap(adata_concat)\n",
    "sc.pl.umap(adata_concat, color=[\"tissue_general\"])"
   ]
  },
  {
   "cell_type": "markdown",
   "id": "2535477e-bb9e-4a02-8400-e1567ec4f6d9",
   "metadata": {},
   "source": [
    "The neighbor clusters appear to correspond to cell type heterogeneity also present in the query."
   ]
  },
  {
   "cell_type": "markdown",
   "id": "c8ee9279-0d4a-4f40-98c9-e9af46f3f980",
   "metadata": {},
   "source": [
    "## Predicting cell metadata"
   ]
  },
  {
   "cell_type": "markdown",
   "id": "193784fb-7cd1-4edb-8bd6-051d99d7514a",
   "metadata": {},
   "source": [
    "The experimental API also has a method to predict metadata attributes of the query cells, like `tissue_general` and `cell_type`, based on the Census nearest neighbors."
   ]
  },
  {
   "cell_type": "code",
   "execution_count": 83,
   "id": "20077fe3-1bc1-406a-b10e-f9fc6ef28146",
   "metadata": {},
   "outputs": [
    {
     "data": {
      "text/plain": [
       "(2700, 30)"
      ]
     },
     "execution_count": 83,
     "metadata": {},
     "output_type": "execute_result"
    }
   ],
   "source": [
    "neighbors.distances.shape"
   ]
  },
  {
   "cell_type": "code",
   "execution_count": 86,
   "id": "096c4dff-cae4-4b99-8663-18b948762c14",
   "metadata": {},
   "outputs": [
    {
     "data": {
      "text/plain": [
       "array([[44401673, 43906736, 43372133, ..., 51544031, 51427234, 51203542],\n",
       "       [49811746, 34746507, 33854211, ..., 54523264, 50217492, 54367325],\n",
       "       [45204189, 21218542, 48424603, ..., 48028212, 53333940, 45891611],\n",
       "       ...,\n",
       "       [45215753, 15715003, 45274933, ..., 45250148, 50295473, 54128750],\n",
       "       [45149373, 48391702, 49371377, ..., 45093626, 50244751, 50243731],\n",
       "       [48417568, 45184183, 48355249, ..., 46195802, 45304896, 46134865]],\n",
       "      dtype=uint64)"
      ]
     },
     "execution_count": 86,
     "metadata": {},
     "output_type": "execute_result"
    }
   ],
   "source": [
    "neighbors.neighbor_ids"
   ]
  },
  {
   "cell_type": "code",
   "execution_count": 80,
   "id": "bd6b37ac-df35-4b51-a011-f47bb0966e15",
   "metadata": {},
   "outputs": [
    {
     "ename": "ValueError",
     "evalue": "all index and data arrays must have the same length",
     "output_type": "error",
     "traceback": [
      "\u001b[0;31m---------------------------------------------------------------------------\u001b[0m",
      "\u001b[0;31mValueError\u001b[0m                                Traceback (most recent call last)",
      "Cell \u001b[0;32mIn[80], line 1\u001b[0m\n\u001b[0;32m----> 1\u001b[0m predictions \u001b[38;5;241m=\u001b[39m \u001b[43mcellxgene_census\u001b[49m\u001b[38;5;241;43m.\u001b[39;49m\u001b[43mexperimental\u001b[49m\u001b[38;5;241;43m.\u001b[39;49m\u001b[43mpredict_obs_metadata\u001b[49m\u001b[43m(\u001b[49m\n\u001b[1;32m      2\u001b[0m \u001b[43m    \u001b[49m\u001b[38;5;124;43m\"\u001b[39;49m\u001b[38;5;124;43mhomo_sapiens\u001b[39;49m\u001b[38;5;124;43m\"\u001b[39;49m\u001b[43m,\u001b[49m\u001b[43m \u001b[49m\u001b[43mCENSUS_VERSION\u001b[49m\u001b[43m,\u001b[49m\u001b[43m \u001b[49m\u001b[43mneighbors\u001b[49m\u001b[43m,\u001b[49m\u001b[43m \u001b[49m\u001b[43m[\u001b[49m\u001b[38;5;124;43m\"\u001b[39;49m\u001b[38;5;124;43mcell_type\u001b[39;49m\u001b[38;5;124;43m\"\u001b[39;49m\u001b[43m]\u001b[49m\n\u001b[1;32m      3\u001b[0m \u001b[43m)\u001b[49m\n\u001b[1;32m      4\u001b[0m predictions\n",
      "File \u001b[0;32m~/.pyenv/versions/scverse-ml-workshop-2024-3.9.19/lib/python3.9/site-packages/cellxgene_census/experimental/_embedding_search.py:163\u001b[0m, in \u001b[0;36mpredict_obs_metadata\u001b[0;34m(organism, census_version, neighbors, column_names, experiment)\u001b[0m\n\u001b[1;32m    161\u001b[0m out: \u001b[38;5;28mdict\u001b[39m[\u001b[38;5;28mstr\u001b[39m, pd\u001b[38;5;241m.\u001b[39mSeries[Any]] \u001b[38;5;241m=\u001b[39m {}\n\u001b[1;32m    162\u001b[0m indices \u001b[38;5;241m=\u001b[39m np\u001b[38;5;241m.\u001b[39mbroadcast_to(np\u001b[38;5;241m.\u001b[39marange(neighbors\u001b[38;5;241m.\u001b[39mneighbor_ids\u001b[38;5;241m.\u001b[39mshape[\u001b[38;5;241m0\u001b[39m]), (\u001b[38;5;241m10\u001b[39m, neighbors\u001b[38;5;241m.\u001b[39mneighbor_ids\u001b[38;5;241m.\u001b[39mshape[\u001b[38;5;241m0\u001b[39m]))\u001b[38;5;241m.\u001b[39mT\n\u001b[0;32m--> 163\u001b[0m g \u001b[38;5;241m=\u001b[39m \u001b[43msparse\u001b[49m\u001b[38;5;241;43m.\u001b[39;49m\u001b[43mcsr_matrix\u001b[49m\u001b[43m(\u001b[49m\n\u001b[1;32m    164\u001b[0m \u001b[43m    \u001b[49m\u001b[43m(\u001b[49m\n\u001b[1;32m    165\u001b[0m \u001b[43m        \u001b[49m\u001b[43mnp\u001b[49m\u001b[38;5;241;43m.\u001b[39;49m\u001b[43mbroadcast_to\u001b[49m\u001b[43m(\u001b[49m\u001b[38;5;241;43m1\u001b[39;49m\u001b[43m,\u001b[49m\u001b[43m \u001b[49m\u001b[43mneighbors\u001b[49m\u001b[38;5;241;43m.\u001b[39;49m\u001b[43mneighbor_ids\u001b[49m\u001b[38;5;241;43m.\u001b[39;49m\u001b[43mshape\u001b[49m\u001b[43m[\u001b[49m\u001b[38;5;241;43m0\u001b[39;49m\u001b[43m]\u001b[49m\u001b[43m \u001b[49m\u001b[38;5;241;43m*\u001b[39;49m\u001b[43m \u001b[49m\u001b[38;5;241;43m10\u001b[39;49m\u001b[43m)\u001b[49m\u001b[43m,\u001b[49m\n\u001b[1;32m    166\u001b[0m \u001b[43m        \u001b[49m\u001b[43m(\u001b[49m\n\u001b[1;32m    167\u001b[0m \u001b[43m            \u001b[49m\u001b[43mindices\u001b[49m\u001b[38;5;241;43m.\u001b[39;49m\u001b[43mflatten\u001b[49m\u001b[43m(\u001b[49m\u001b[43m)\u001b[49m\u001b[43m,\u001b[49m\n\u001b[1;32m    168\u001b[0m \u001b[43m            \u001b[49m\u001b[43mneighbors\u001b[49m\u001b[38;5;241;43m.\u001b[39;49m\u001b[43mneighbor_ids\u001b[49m\u001b[38;5;241;43m.\u001b[39;49m\u001b[43mastype\u001b[49m\u001b[43m(\u001b[49m\u001b[43mnp\u001b[49m\u001b[38;5;241;43m.\u001b[39;49m\u001b[43mint64\u001b[49m\u001b[43m)\u001b[49m\u001b[38;5;241;43m.\u001b[39;49m\u001b[43mflatten\u001b[49m\u001b[43m(\u001b[49m\u001b[43m)\u001b[49m\u001b[43m,\u001b[49m\n\u001b[1;32m    169\u001b[0m \u001b[43m        \u001b[49m\u001b[43m)\u001b[49m\u001b[43m,\u001b[49m\n\u001b[1;32m    170\u001b[0m \u001b[43m    \u001b[49m\u001b[43m)\u001b[49m\u001b[43m,\u001b[49m\n\u001b[1;32m    171\u001b[0m \u001b[43m    \u001b[49m\u001b[43mshape\u001b[49m\u001b[38;5;241;43m=\u001b[39;49m\u001b[43m(\u001b[49m\u001b[43mneighbors\u001b[49m\u001b[38;5;241;43m.\u001b[39;49m\u001b[43mneighbor_ids\u001b[49m\u001b[38;5;241;43m.\u001b[39;49m\u001b[43mshape\u001b[49m\u001b[43m[\u001b[49m\u001b[38;5;241;43m0\u001b[39;49m\u001b[43m]\u001b[49m\u001b[43m,\u001b[49m\u001b[43m \u001b[49m\u001b[43mmax_joinid\u001b[49m\u001b[43m \u001b[49m\u001b[38;5;241;43m+\u001b[39;49m\u001b[43m \u001b[49m\u001b[38;5;241;43m1\u001b[39;49m\u001b[43m)\u001b[49m\u001b[43m,\u001b[49m\n\u001b[1;32m    172\u001b[0m \u001b[43m\u001b[49m\u001b[43m)\u001b[49m\n\u001b[1;32m    173\u001b[0m \u001b[38;5;28;01mfor\u001b[39;00m col \u001b[38;5;129;01min\u001b[39;00m column_names:\n\u001b[1;32m    174\u001b[0m     col_categorical \u001b[38;5;241m=\u001b[39m neighbor_obs[col]\u001b[38;5;241m.\u001b[39mastype(\u001b[38;5;124m\"\u001b[39m\u001b[38;5;124mcategory\u001b[39m\u001b[38;5;124m\"\u001b[39m)\n",
      "File \u001b[0;32m~/.pyenv/versions/scverse-ml-workshop-2024-3.9.19/lib/python3.9/site-packages/scipy/sparse/_compressed.py:55\u001b[0m, in \u001b[0;36m_cs_matrix.__init__\u001b[0;34m(self, arg1, shape, dtype, copy)\u001b[0m\n\u001b[1;32m     52\u001b[0m \u001b[38;5;28;01melse\u001b[39;00m:\n\u001b[1;32m     53\u001b[0m     \u001b[38;5;28;01mif\u001b[39;00m \u001b[38;5;28mlen\u001b[39m(arg1) \u001b[38;5;241m==\u001b[39m \u001b[38;5;241m2\u001b[39m:\n\u001b[1;32m     54\u001b[0m         \u001b[38;5;66;03m# (data, ij) format\u001b[39;00m\n\u001b[0;32m---> 55\u001b[0m         coo \u001b[38;5;241m=\u001b[39m \u001b[38;5;28;43mself\u001b[39;49m\u001b[38;5;241;43m.\u001b[39;49m\u001b[43m_coo_container\u001b[49m\u001b[43m(\u001b[49m\u001b[43marg1\u001b[49m\u001b[43m,\u001b[49m\u001b[43m \u001b[49m\u001b[43mshape\u001b[49m\u001b[38;5;241;43m=\u001b[39;49m\u001b[43mshape\u001b[49m\u001b[43m,\u001b[49m\u001b[43m \u001b[49m\u001b[43mdtype\u001b[49m\u001b[38;5;241;43m=\u001b[39;49m\u001b[43mdtype\u001b[49m\u001b[43m)\u001b[49m\n\u001b[1;32m     56\u001b[0m         arrays \u001b[38;5;241m=\u001b[39m coo\u001b[38;5;241m.\u001b[39m_coo_to_compressed(\u001b[38;5;28mself\u001b[39m\u001b[38;5;241m.\u001b[39m_swap)\n\u001b[1;32m     57\u001b[0m         \u001b[38;5;28mself\u001b[39m\u001b[38;5;241m.\u001b[39mindptr, \u001b[38;5;28mself\u001b[39m\u001b[38;5;241m.\u001b[39mindices, \u001b[38;5;28mself\u001b[39m\u001b[38;5;241m.\u001b[39mdata, \u001b[38;5;28mself\u001b[39m\u001b[38;5;241m.\u001b[39m_shape \u001b[38;5;241m=\u001b[39m arrays\n",
      "File \u001b[0;32m~/.pyenv/versions/scverse-ml-workshop-2024-3.9.19/lib/python3.9/site-packages/scipy/sparse/_coo.py:99\u001b[0m, in \u001b[0;36m_coo_base.__init__\u001b[0;34m(self, arg1, shape, dtype, copy)\u001b[0m\n\u001b[1;32m     96\u001b[0m \u001b[38;5;28;01mif\u001b[39;00m dtype \u001b[38;5;129;01mis\u001b[39;00m \u001b[38;5;129;01mnot\u001b[39;00m \u001b[38;5;28;01mNone\u001b[39;00m:\n\u001b[1;32m     97\u001b[0m     \u001b[38;5;28mself\u001b[39m\u001b[38;5;241m.\u001b[39mdata \u001b[38;5;241m=\u001b[39m \u001b[38;5;28mself\u001b[39m\u001b[38;5;241m.\u001b[39mdata\u001b[38;5;241m.\u001b[39mastype(dtype, copy\u001b[38;5;241m=\u001b[39m\u001b[38;5;28;01mFalse\u001b[39;00m)\n\u001b[0;32m---> 99\u001b[0m \u001b[38;5;28;43mself\u001b[39;49m\u001b[38;5;241;43m.\u001b[39;49m\u001b[43m_check\u001b[49m\u001b[43m(\u001b[49m\u001b[43m)\u001b[49m\n",
      "File \u001b[0;32m~/.pyenv/versions/scverse-ml-workshop-2024-3.9.19/lib/python3.9/site-packages/scipy/sparse/_coo.py:202\u001b[0m, in \u001b[0;36m_coo_base._check\u001b[0;34m(self)\u001b[0m\n\u001b[1;32m    198\u001b[0m \u001b[38;5;28mself\u001b[39m\u001b[38;5;241m.\u001b[39mcoords \u001b[38;5;241m=\u001b[39m \u001b[38;5;28mtuple\u001b[39m(np\u001b[38;5;241m.\u001b[39masarray(idx, dtype\u001b[38;5;241m=\u001b[39midx_dtype)\n\u001b[1;32m    199\u001b[0m                      \u001b[38;5;28;01mfor\u001b[39;00m idx \u001b[38;5;129;01min\u001b[39;00m \u001b[38;5;28mself\u001b[39m\u001b[38;5;241m.\u001b[39mcoords)\n\u001b[1;32m    200\u001b[0m \u001b[38;5;28mself\u001b[39m\u001b[38;5;241m.\u001b[39mdata \u001b[38;5;241m=\u001b[39m to_native(\u001b[38;5;28mself\u001b[39m\u001b[38;5;241m.\u001b[39mdata)\n\u001b[0;32m--> 202\u001b[0m \u001b[38;5;28;01mif\u001b[39;00m \u001b[38;5;28;43mself\u001b[39;49m\u001b[38;5;241;43m.\u001b[39;49m\u001b[43mnnz\u001b[49m \u001b[38;5;241m>\u001b[39m \u001b[38;5;241m0\u001b[39m:\n\u001b[1;32m    203\u001b[0m     \u001b[38;5;28;01mfor\u001b[39;00m i, idx \u001b[38;5;129;01min\u001b[39;00m \u001b[38;5;28menumerate\u001b[39m(\u001b[38;5;28mself\u001b[39m\u001b[38;5;241m.\u001b[39mcoords):\n\u001b[1;32m    204\u001b[0m         \u001b[38;5;28;01mif\u001b[39;00m idx\u001b[38;5;241m.\u001b[39mmax() \u001b[38;5;241m>\u001b[39m\u001b[38;5;241m=\u001b[39m \u001b[38;5;28mself\u001b[39m\u001b[38;5;241m.\u001b[39mshape[i]:\n",
      "File \u001b[0;32m~/.pyenv/versions/scverse-ml-workshop-2024-3.9.19/lib/python3.9/site-packages/scipy/sparse/_base.py:302\u001b[0m, in \u001b[0;36m_spbase.nnz\u001b[0;34m(self)\u001b[0m\n\u001b[1;32m    294\u001b[0m \u001b[38;5;129m@property\u001b[39m\n\u001b[1;32m    295\u001b[0m \u001b[38;5;28;01mdef\u001b[39;00m \u001b[38;5;21mnnz\u001b[39m(\u001b[38;5;28mself\u001b[39m) \u001b[38;5;241m-\u001b[39m\u001b[38;5;241m>\u001b[39m \u001b[38;5;28mint\u001b[39m:\n\u001b[1;32m    296\u001b[0m \u001b[38;5;250m    \u001b[39m\u001b[38;5;124;03m\"\"\"Number of stored values, including explicit zeros.\u001b[39;00m\n\u001b[1;32m    297\u001b[0m \n\u001b[1;32m    298\u001b[0m \u001b[38;5;124;03m    See also\u001b[39;00m\n\u001b[1;32m    299\u001b[0m \u001b[38;5;124;03m    --------\u001b[39;00m\n\u001b[1;32m    300\u001b[0m \u001b[38;5;124;03m    count_nonzero : Number of non-zero entries\u001b[39;00m\n\u001b[1;32m    301\u001b[0m \u001b[38;5;124;03m    \"\"\"\u001b[39;00m\n\u001b[0;32m--> 302\u001b[0m     \u001b[38;5;28;01mreturn\u001b[39;00m \u001b[38;5;28;43mself\u001b[39;49m\u001b[38;5;241;43m.\u001b[39;49m\u001b[43m_getnnz\u001b[49m\u001b[43m(\u001b[49m\u001b[43m)\u001b[49m\n",
      "File \u001b[0;32m~/.pyenv/versions/scverse-ml-workshop-2024-3.9.19/lib/python3.9/site-packages/scipy/sparse/_coo.py:165\u001b[0m, in \u001b[0;36m_coo_base._getnnz\u001b[0;34m(self, axis)\u001b[0m\n\u001b[1;32m    163\u001b[0m nnz \u001b[38;5;241m=\u001b[39m \u001b[38;5;28mlen\u001b[39m(\u001b[38;5;28mself\u001b[39m\u001b[38;5;241m.\u001b[39mdata)\n\u001b[1;32m    164\u001b[0m \u001b[38;5;28;01mif\u001b[39;00m \u001b[38;5;28many\u001b[39m(\u001b[38;5;28mlen\u001b[39m(idx) \u001b[38;5;241m!=\u001b[39m nnz \u001b[38;5;28;01mfor\u001b[39;00m idx \u001b[38;5;129;01min\u001b[39;00m \u001b[38;5;28mself\u001b[39m\u001b[38;5;241m.\u001b[39mcoords):\n\u001b[0;32m--> 165\u001b[0m     \u001b[38;5;28;01mraise\u001b[39;00m \u001b[38;5;167;01mValueError\u001b[39;00m(\u001b[38;5;124m'\u001b[39m\u001b[38;5;124mall index and data arrays must have the \u001b[39m\u001b[38;5;124m'\u001b[39m\n\u001b[1;32m    166\u001b[0m                      \u001b[38;5;124m'\u001b[39m\u001b[38;5;124msame length\u001b[39m\u001b[38;5;124m'\u001b[39m)\n\u001b[1;32m    168\u001b[0m \u001b[38;5;28;01mif\u001b[39;00m \u001b[38;5;28mself\u001b[39m\u001b[38;5;241m.\u001b[39mdata\u001b[38;5;241m.\u001b[39mndim \u001b[38;5;241m!=\u001b[39m \u001b[38;5;241m1\u001b[39m \u001b[38;5;129;01mor\u001b[39;00m \u001b[38;5;28many\u001b[39m(idx\u001b[38;5;241m.\u001b[39mndim \u001b[38;5;241m!=\u001b[39m \u001b[38;5;241m1\u001b[39m \u001b[38;5;28;01mfor\u001b[39;00m idx \u001b[38;5;129;01min\u001b[39;00m \u001b[38;5;28mself\u001b[39m\u001b[38;5;241m.\u001b[39mcoords):\n\u001b[1;32m    169\u001b[0m     \u001b[38;5;28;01mraise\u001b[39;00m \u001b[38;5;167;01mValueError\u001b[39;00m(\u001b[38;5;124m'\u001b[39m\u001b[38;5;124mrow, column, and data arrays must be 1-D\u001b[39m\u001b[38;5;124m'\u001b[39m)\n",
      "\u001b[0;31mValueError\u001b[0m: all index and data arrays must have the same length"
     ]
    }
   ],
   "source": [
    "predictions = cellxgene_census.experimental.predict_obs_metadata(\n",
    "    \"homo_sapiens\", CENSUS_VERSION, neighbors, [\"cell_type\"]\n",
    ")\n",
    "predictions"
   ]
  },
  {
   "cell_type": "markdown",
   "id": "1722d673-880e-4a84-87e7-4d690be5cb8d",
   "metadata": {},
   "source": [
    "Unlike the above visualizations of single nearest neighbors, these predictions are informed by each query cell’s k=30 neighbors, with an attached confidence score."
   ]
  },
  {
   "cell_type": "markdown",
   "id": "76ea9c0b-5d8c-4b79-bb74-4992d1d1d08c",
   "metadata": {},
   "source": [
    "These predictions can be added to the original AnnData object for visualization."
   ]
  },
  {
   "cell_type": "code",
   "execution_count": null,
   "id": "b51c0bb8-12e4-4fbb-a9db-4f27db4640ad",
   "metadata": {},
   "outputs": [],
   "source": [
    "predictions.index = adata.obs.index\n",
    "predictions = predictions.rename(columns={\"cell_type\": \"predicted_cell_type\"})\n",
    "adata.obs = pd.concat([adata.obs, predictions], axis=1)"
   ]
  },
  {
   "cell_type": "code",
   "execution_count": null,
   "id": "3b14d373-c2cf-4f44-8fcc-d70737a4aa72",
   "metadata": {},
   "outputs": [],
   "source": [
    "sc.pl.umap(adata, color=\"predicted_cell_type\")"
   ]
  },
  {
   "cell_type": "markdown",
   "id": "2186030e-484e-46a3-a108-7bae376ef3be",
   "metadata": {},
   "source": [
    "Now the leiden clusters calculated at the beginning can be annotated by popular vote, whereby each cluster gets assigned the most common predicted cell type from the previous step."
   ]
  },
  {
   "cell_type": "code",
   "execution_count": null,
   "id": "7a5c1c91-8eba-48b2-9bfe-578cc707a0ee",
   "metadata": {},
   "outputs": [],
   "source": [
    "adata.obs[\"predicted_consolidated_cell_type\"] = \"\"\n",
    "for leiden_cluster in adata.obs[\"leiden\"].drop_duplicates():\n",
    "    most_popular_type = (\n",
    "        adata.obs.loc[adata.obs[\"leiden\"] == leiden_cluster,].value_counts(\"predicted_cell_type\").index[0]\n",
    "    )\n",
    "    adata.obs.loc[adata.obs[\"leiden\"] == leiden_cluster, \"predicted_consolidated_cell_type\"] = most_popular_type"
   ]
  },
  {
   "cell_type": "code",
   "execution_count": null,
   "id": "0c561f6e-4f36-450b-b6e7-5112073a51ca",
   "metadata": {},
   "outputs": [],
   "source": [
    "sc.pl.umap(adata, color=\"predicted_consolidated_cell_type\")"
   ]
  }
 ],
 "metadata": {
  "kernelspec": {
   "display_name": "Python 3 (ipykernel)",
   "language": "python",
   "name": "python3"
  },
  "language_info": {
   "codemirror_mode": {
    "name": "ipython",
    "version": 3
   },
   "file_extension": ".py",
   "mimetype": "text/x-python",
   "name": "python",
   "nbconvert_exporter": "python",
   "pygments_lexer": "ipython3",
   "version": "3.9.19"
  }
 },
 "nbformat": 4,
 "nbformat_minor": 5
}
